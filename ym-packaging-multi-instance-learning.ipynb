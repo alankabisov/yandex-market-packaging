{
 "cells": [
  {
   "cell_type": "markdown",
   "source": [
    "## Packaging algorithm for Yandex.Market Hackathon\n",
    "\n",
    "There is a Yandex.Market warehouse where orders are processed, packed, and sent for delivery. Packers (\"users\") take prepared goods from a list and pack them into suitable packaging - cardboard boxes, film, or bags.\n",
    "\n",
    "**Task**: to select the optimal packaging for each set of goods, so that the items can fit inside and the size of the box is not too large.\n",
    "\n",
    "Currently, there is a heuristic algorithm that selects packaging based on the total volume of all items in the order and their sizes. However, users often reject its suggestions and pack the goods in a different box or packaging.\n",
    "\n",
    "We need to find a way to improve this algorithm.\n",
    "\n",
    "**Solution:** In this work I will use [Multi Instance Learning](https://nilg.ai/202105/an-introduction-to-multiple-instance-learning/) approach which allows to solve our task as classical supervised machine learning problem."
   ],
   "metadata": {
    "collapsed": false
   }
  },
  {
   "cell_type": "code",
   "execution_count": 1,
   "metadata": {
    "collapsed": true,
    "ExecuteTime": {
     "end_time": "2023-10-11T14:09:09.946509Z",
     "start_time": "2023-10-11T14:09:08.876413Z"
    }
   },
   "outputs": [],
   "source": [
    "import pandas as pd\n",
    "import numpy as np\n",
    "\n",
    "from catboost import CatBoostClassifier\n",
    "\n",
    "from sklearn.metrics import classification_report\n",
    "from sklearn.preprocessing import LabelEncoder, OrdinalEncoder\n",
    "from skmultilearn.model_selection import iterative_train_test_split"
   ]
  },
  {
   "cell_type": "markdown",
   "source": [
    "## Loading and preprocessing the data"
   ],
   "metadata": {
    "collapsed": false
   }
  },
  {
   "cell_type": "markdown",
   "source": [
    "Items with their sizes"
   ],
   "metadata": {
    "collapsed": false
   }
  },
  {
   "cell_type": "code",
   "execution_count": 2,
   "outputs": [
    {
     "data": {
      "text/plain": "                                sku  width  height  depth\n0  8ba57dcdba9a58b0c4edd180bef6afc9   11.0    31.0   28.0\n1  d9af6ce6f9e303f4b1a8cb47cde21975   29.0    14.0   40.0\n2  8b91fd242bde88f0891380506d9c3caa   12.0    13.0   35.0\n3  e8af308a7659e34194770d1e3a48e144    3.0    13.0    8.0\n4  dc0e2542e122731217289b8e6d3bd3f8   96.0    18.0   56.0",
      "text/html": "<div>\n<style scoped>\n    .dataframe tbody tr th:only-of-type {\n        vertical-align: middle;\n    }\n\n    .dataframe tbody tr th {\n        vertical-align: top;\n    }\n\n    .dataframe thead th {\n        text-align: right;\n    }\n</style>\n<table border=\"1\" class=\"dataframe\">\n  <thead>\n    <tr style=\"text-align: right;\">\n      <th></th>\n      <th>sku</th>\n      <th>width</th>\n      <th>height</th>\n      <th>depth</th>\n    </tr>\n  </thead>\n  <tbody>\n    <tr>\n      <th>0</th>\n      <td>8ba57dcdba9a58b0c4edd180bef6afc9</td>\n      <td>11.0</td>\n      <td>31.0</td>\n      <td>28.0</td>\n    </tr>\n    <tr>\n      <th>1</th>\n      <td>d9af6ce6f9e303f4b1a8cb47cde21975</td>\n      <td>29.0</td>\n      <td>14.0</td>\n      <td>40.0</td>\n    </tr>\n    <tr>\n      <th>2</th>\n      <td>8b91fd242bde88f0891380506d9c3caa</td>\n      <td>12.0</td>\n      <td>13.0</td>\n      <td>35.0</td>\n    </tr>\n    <tr>\n      <th>3</th>\n      <td>e8af308a7659e34194770d1e3a48e144</td>\n      <td>3.0</td>\n      <td>13.0</td>\n      <td>8.0</td>\n    </tr>\n    <tr>\n      <th>4</th>\n      <td>dc0e2542e122731217289b8e6d3bd3f8</td>\n      <td>96.0</td>\n      <td>18.0</td>\n      <td>56.0</td>\n    </tr>\n  </tbody>\n</table>\n</div>"
     },
     "execution_count": 2,
     "metadata": {},
     "output_type": "execute_result"
    }
   ],
   "source": [
    "items = pd.read_csv('./data/sku.csv', index_col=0, low_memory=False)\n",
    "items.columns = ['sku', 'width', 'height', 'depth']\n",
    "items.head()"
   ],
   "metadata": {
    "collapsed": false,
    "ExecuteTime": {
     "end_time": "2023-10-11T14:09:14.691461Z",
     "start_time": "2023-10-11T14:09:09.005276Z"
    }
   }
  },
  {
   "cell_type": "code",
   "execution_count": 3,
   "outputs": [
    {
     "data": {
      "text/plain": "              width        height         depth\ncount  6.385961e+06  6.385961e+06  6.385961e+06\nmean   2.108468e+01  1.203353e+01  1.782524e+01\nstd    1.890676e+01  1.487745e+01  1.508838e+01\nmin    0.000000e+00  0.000000e+00  0.000000e+00\n25%    1.000000e+01  3.000000e+00  8.000000e+00\n50%    1.800000e+01  8.000000e+00  1.500000e+01\n75%    2.800000e+01  1.600000e+01  2.400000e+01\nmax    6.554000e+03  2.050000e+03  5.930000e+02",
      "text/html": "<div>\n<style scoped>\n    .dataframe tbody tr th:only-of-type {\n        vertical-align: middle;\n    }\n\n    .dataframe tbody tr th {\n        vertical-align: top;\n    }\n\n    .dataframe thead th {\n        text-align: right;\n    }\n</style>\n<table border=\"1\" class=\"dataframe\">\n  <thead>\n    <tr style=\"text-align: right;\">\n      <th></th>\n      <th>width</th>\n      <th>height</th>\n      <th>depth</th>\n    </tr>\n  </thead>\n  <tbody>\n    <tr>\n      <th>count</th>\n      <td>6.385961e+06</td>\n      <td>6.385961e+06</td>\n      <td>6.385961e+06</td>\n    </tr>\n    <tr>\n      <th>mean</th>\n      <td>2.108468e+01</td>\n      <td>1.203353e+01</td>\n      <td>1.782524e+01</td>\n    </tr>\n    <tr>\n      <th>std</th>\n      <td>1.890676e+01</td>\n      <td>1.487745e+01</td>\n      <td>1.508838e+01</td>\n    </tr>\n    <tr>\n      <th>min</th>\n      <td>0.000000e+00</td>\n      <td>0.000000e+00</td>\n      <td>0.000000e+00</td>\n    </tr>\n    <tr>\n      <th>25%</th>\n      <td>1.000000e+01</td>\n      <td>3.000000e+00</td>\n      <td>8.000000e+00</td>\n    </tr>\n    <tr>\n      <th>50%</th>\n      <td>1.800000e+01</td>\n      <td>8.000000e+00</td>\n      <td>1.500000e+01</td>\n    </tr>\n    <tr>\n      <th>75%</th>\n      <td>2.800000e+01</td>\n      <td>1.600000e+01</td>\n      <td>2.400000e+01</td>\n    </tr>\n    <tr>\n      <th>max</th>\n      <td>6.554000e+03</td>\n      <td>2.050000e+03</td>\n      <td>5.930000e+02</td>\n    </tr>\n  </tbody>\n</table>\n</div>"
     },
     "execution_count": 3,
     "metadata": {},
     "output_type": "execute_result"
    }
   ],
   "source": [
    "items.describe()"
   ],
   "metadata": {
    "collapsed": false,
    "ExecuteTime": {
     "end_time": "2023-10-11T14:09:15.461597Z",
     "start_time": "2023-10-11T14:09:14.686713Z"
    }
   }
  },
  {
   "cell_type": "code",
   "execution_count": 4,
   "outputs": [
    {
     "data": {
      "text/plain": "sku       6385961\nwidth        2250\nheight       1948\ndepth        1844\ndtype: int64"
     },
     "execution_count": 4,
     "metadata": {},
     "output_type": "execute_result"
    }
   ],
   "source": [
    "items.nunique()"
   ],
   "metadata": {
    "collapsed": false,
    "ExecuteTime": {
     "end_time": "2023-10-11T14:09:17.925089Z",
     "start_time": "2023-10-11T14:09:15.231556Z"
    }
   }
  },
  {
   "cell_type": "code",
   "execution_count": 5,
   "outputs": [],
   "source": [
    "SIZE_COLS = ['width', 'height', 'depth']"
   ],
   "metadata": {
    "collapsed": false,
    "ExecuteTime": {
     "end_time": "2023-10-11T14:09:17.925268Z",
     "start_time": "2023-10-11T14:09:17.910602Z"
    }
   }
  },
  {
   "cell_type": "markdown",
   "source": [
    "We need to have less unique values and split them into groups. But first let's convert them to nearest ceil integer"
   ],
   "metadata": {
    "collapsed": false
   }
  },
  {
   "cell_type": "code",
   "execution_count": 6,
   "outputs": [],
   "source": [
    "items[SIZE_COLS] = np.ceil(items[SIZE_COLS]).astype(int)"
   ],
   "metadata": {
    "collapsed": false,
    "ExecuteTime": {
     "end_time": "2023-10-11T14:09:18.088310Z",
     "start_time": "2023-10-11T14:09:17.920026Z"
    }
   }
  },
  {
   "cell_type": "code",
   "execution_count": 7,
   "outputs": [
    {
     "data": {
      "text/plain": "sku       6385961\nwidth         367\nheight        344\ndepth         319\ndtype: int64"
     },
     "execution_count": 7,
     "metadata": {},
     "output_type": "execute_result"
    }
   ],
   "source": [
    "items.nunique()"
   ],
   "metadata": {
    "collapsed": false,
    "ExecuteTime": {
     "end_time": "2023-10-11T14:09:20.598326Z",
     "start_time": "2023-10-11T14:09:18.193328Z"
    }
   }
  },
  {
   "cell_type": "markdown",
   "source": [
    "We can shrink them more, but for now let's leave it as it is."
   ],
   "metadata": {
    "collapsed": false
   }
  },
  {
   "cell_type": "markdown",
   "source": [
    "Orders which we need to convert to supervised learning problem using Multi Instance Learning Techniques"
   ],
   "metadata": {
    "collapsed": false
   }
  },
  {
   "cell_type": "code",
   "execution_count": 8,
   "outputs": [
    {
     "data": {
      "text/plain": "   Unnamed: 0  whs                          orderkey selected_cartontype  \\\n0           0    0  d48f3211c1ffccdc374f23139a9ab668             NONPACK   \n1           1    0  d48f3211c1ffccdc374f23139a9ab668             NONPACK   \n2           2    0  d48f3211c1ffccdc374f23139a9ab668             NONPACK   \n3           3    0  d48f3211c1ffccdc374f23139a9ab668             NONPACK   \n4           4    0  d48f3211c1ffccdc374f23139a9ab668             NONPACK   \n\n   box_num recommended_cartontype selected_carton  sel_calc_cube  \\\n0        1                    YML         NONPACK              0   \n1        1                    YML         NONPACK              0   \n2        1                    YML         NONPACK              0   \n3        1                    YML         NONPACK              0   \n4        1                    YML         NONPACK              0   \n\n  recommended_carton  pack_volume  rec_calc_cube  goods_wght  \\\n0                YML         2046         108000         0.1   \n1                YML         2046         108000         0.1   \n2                YML         2046         108000         0.1   \n3                YML         2046         108000         0.1   \n4                YML         2046         108000         0.1   \n\n                                sku                               who  \\\n0  af49bf330e2cf16e44f0be1bdfe337bd  b7325da1af89a46059164618eb03ae38   \n1  af49bf330e2cf16e44f0be1bdfe337bd  b7325da1af89a46059164618eb03ae38   \n2  af49bf330e2cf16e44f0be1bdfe337bd  b7325da1af89a46059164618eb03ae38   \n3  af49bf330e2cf16e44f0be1bdfe337bd  b7325da1af89a46059164618eb03ae38   \n4  af49bf330e2cf16e44f0be1bdfe337bd  b7325da1af89a46059164618eb03ae38   \n\n                         trackingid  \n0  6c304d5c2815ccd2ba5046c101294c24  \n1  6c304d5c2815ccd2ba5046c101294c24  \n2  6c304d5c2815ccd2ba5046c101294c24  \n3  6c304d5c2815ccd2ba5046c101294c24  \n4  6c304d5c2815ccd2ba5046c101294c24  ",
      "text/html": "<div>\n<style scoped>\n    .dataframe tbody tr th:only-of-type {\n        vertical-align: middle;\n    }\n\n    .dataframe tbody tr th {\n        vertical-align: top;\n    }\n\n    .dataframe thead th {\n        text-align: right;\n    }\n</style>\n<table border=\"1\" class=\"dataframe\">\n  <thead>\n    <tr style=\"text-align: right;\">\n      <th></th>\n      <th>Unnamed: 0</th>\n      <th>whs</th>\n      <th>orderkey</th>\n      <th>selected_cartontype</th>\n      <th>box_num</th>\n      <th>recommended_cartontype</th>\n      <th>selected_carton</th>\n      <th>sel_calc_cube</th>\n      <th>recommended_carton</th>\n      <th>pack_volume</th>\n      <th>rec_calc_cube</th>\n      <th>goods_wght</th>\n      <th>sku</th>\n      <th>who</th>\n      <th>trackingid</th>\n    </tr>\n  </thead>\n  <tbody>\n    <tr>\n      <th>0</th>\n      <td>0</td>\n      <td>0</td>\n      <td>d48f3211c1ffccdc374f23139a9ab668</td>\n      <td>NONPACK</td>\n      <td>1</td>\n      <td>YML</td>\n      <td>NONPACK</td>\n      <td>0</td>\n      <td>YML</td>\n      <td>2046</td>\n      <td>108000</td>\n      <td>0.1</td>\n      <td>af49bf330e2cf16e44f0be1bdfe337bd</td>\n      <td>b7325da1af89a46059164618eb03ae38</td>\n      <td>6c304d5c2815ccd2ba5046c101294c24</td>\n    </tr>\n    <tr>\n      <th>1</th>\n      <td>1</td>\n      <td>0</td>\n      <td>d48f3211c1ffccdc374f23139a9ab668</td>\n      <td>NONPACK</td>\n      <td>1</td>\n      <td>YML</td>\n      <td>NONPACK</td>\n      <td>0</td>\n      <td>YML</td>\n      <td>2046</td>\n      <td>108000</td>\n      <td>0.1</td>\n      <td>af49bf330e2cf16e44f0be1bdfe337bd</td>\n      <td>b7325da1af89a46059164618eb03ae38</td>\n      <td>6c304d5c2815ccd2ba5046c101294c24</td>\n    </tr>\n    <tr>\n      <th>2</th>\n      <td>2</td>\n      <td>0</td>\n      <td>d48f3211c1ffccdc374f23139a9ab668</td>\n      <td>NONPACK</td>\n      <td>1</td>\n      <td>YML</td>\n      <td>NONPACK</td>\n      <td>0</td>\n      <td>YML</td>\n      <td>2046</td>\n      <td>108000</td>\n      <td>0.1</td>\n      <td>af49bf330e2cf16e44f0be1bdfe337bd</td>\n      <td>b7325da1af89a46059164618eb03ae38</td>\n      <td>6c304d5c2815ccd2ba5046c101294c24</td>\n    </tr>\n    <tr>\n      <th>3</th>\n      <td>3</td>\n      <td>0</td>\n      <td>d48f3211c1ffccdc374f23139a9ab668</td>\n      <td>NONPACK</td>\n      <td>1</td>\n      <td>YML</td>\n      <td>NONPACK</td>\n      <td>0</td>\n      <td>YML</td>\n      <td>2046</td>\n      <td>108000</td>\n      <td>0.1</td>\n      <td>af49bf330e2cf16e44f0be1bdfe337bd</td>\n      <td>b7325da1af89a46059164618eb03ae38</td>\n      <td>6c304d5c2815ccd2ba5046c101294c24</td>\n    </tr>\n    <tr>\n      <th>4</th>\n      <td>4</td>\n      <td>0</td>\n      <td>d48f3211c1ffccdc374f23139a9ab668</td>\n      <td>NONPACK</td>\n      <td>1</td>\n      <td>YML</td>\n      <td>NONPACK</td>\n      <td>0</td>\n      <td>YML</td>\n      <td>2046</td>\n      <td>108000</td>\n      <td>0.1</td>\n      <td>af49bf330e2cf16e44f0be1bdfe337bd</td>\n      <td>b7325da1af89a46059164618eb03ae38</td>\n      <td>6c304d5c2815ccd2ba5046c101294c24</td>\n    </tr>\n  </tbody>\n</table>\n</div>"
     },
     "execution_count": 8,
     "metadata": {},
     "output_type": "execute_result"
    }
   ],
   "source": [
    "orders = pd.read_csv('./data/data.csv')\n",
    "orders.head()"
   ],
   "metadata": {
    "collapsed": false,
    "ExecuteTime": {
     "end_time": "2023-10-11T14:09:21.160095Z",
     "start_time": "2023-10-11T14:09:20.596687Z"
    }
   }
  },
  {
   "cell_type": "code",
   "execution_count": 9,
   "outputs": [],
   "source": [
    "# Column by which we will group/count orders (order or tracking id)\n",
    "ORDER_COLUMN = 'trackingid'\n",
    "TARGET_COLUMN = 'selected_cartontype'"
   ],
   "metadata": {
    "collapsed": false,
    "ExecuteTime": {
     "end_time": "2023-10-11T14:09:21.166010Z",
     "start_time": "2023-10-11T14:09:21.155856Z"
    }
   }
  },
  {
   "cell_type": "code",
   "execution_count": 10,
   "outputs": [
    {
     "data": {
      "text/plain": "selected_cartontype\nMYB        55937\nMYC        48837\nNONPACK    30497\nYMC        27149\nMYD        24663\nYMG        23610\nMYA        20401\nYMF        19256\nYMW        19173\nYMA        15795\nYME        12685\nSTRETCH    12465\nMYE         9719\nYML         3282\nMYF         1350\nYMX          802\nYMB            2\nName: count, dtype: int64"
     },
     "execution_count": 10,
     "metadata": {},
     "output_type": "execute_result"
    }
   ],
   "source": [
    "orders[TARGET_COLUMN].value_counts()"
   ],
   "metadata": {
    "collapsed": false,
    "ExecuteTime": {
     "end_time": "2023-10-11T14:09:21.166540Z",
     "start_time": "2023-10-11T14:09:21.156143Z"
    }
   }
  },
  {
   "cell_type": "code",
   "execution_count": 11,
   "outputs": [
    {
     "data": {
      "text/plain": "box_num\n1      296683\n2       15199\n3        4311\n4        1739\n5         981\n        ...  \n87          1\n86          1\n85          1\n84          1\n210         1\nName: count, Length: 235, dtype: int64"
     },
     "execution_count": 11,
     "metadata": {},
     "output_type": "execute_result"
    }
   ],
   "source": [
    "orders['box_num'].value_counts()"
   ],
   "metadata": {
    "collapsed": false,
    "ExecuteTime": {
     "end_time": "2023-10-11T14:09:21.166784Z",
     "start_time": "2023-10-11T14:09:21.156197Z"
    }
   }
  },
  {
   "cell_type": "markdown",
   "source": [
    "Need futher analysis and discussion. From preliminary exploration: even several boxes have the same carton type."
   ],
   "metadata": {
    "collapsed": false
   }
  },
  {
   "cell_type": "markdown",
   "source": [
    "Converting data to supervised learning problem"
   ],
   "metadata": {
    "collapsed": false
   }
  },
  {
   "cell_type": "code",
   "execution_count": 12,
   "outputs": [
    {
     "data": {
      "text/plain": "                              trackingid selected_cartontype  \\\n0       6c304d5c2815ccd2ba5046c101294c24             NONPACK   \n1       6c304d5c2815ccd2ba5046c101294c24             NONPACK   \n2       6c304d5c2815ccd2ba5046c101294c24             NONPACK   \n3       6c304d5c2815ccd2ba5046c101294c24             NONPACK   \n4       6c304d5c2815ccd2ba5046c101294c24             NONPACK   \n...                                  ...                 ...   \n325618  f94f078101752133502202383bc87743                 MYC   \n325619  f94f078101752133502202383bc87743                 MYC   \n325620  58054d533ef06746ffd8cf99fad4a8cb                 YMC   \n325621  1666b5c878be124f05fb9a1d95dd8a68                 MYB   \n325622  16b2ecff7b2d86ada75995e8d5dd0152             NONPACK   \n\n       recommended_cartontype  pack_volume  goods_wght  \\\n0                         YML         2046       0.100   \n1                         YML         2046       0.100   \n2                         YML         2046       0.100   \n3                         YML         2046       0.100   \n4                         YML         2046       0.100   \n...                       ...          ...         ...   \n325618                    YMC         2080       0.100   \n325619                    YMC         2080       0.100   \n325620                    YMC         3523       0.284   \n325621                    YMU          552       0.230   \n325622                NONPACK        38130       1.200   \n\n                                     sku  \n0       af49bf330e2cf16e44f0be1bdfe337bd  \n1       af49bf330e2cf16e44f0be1bdfe337bd  \n2       af49bf330e2cf16e44f0be1bdfe337bd  \n3       af49bf330e2cf16e44f0be1bdfe337bd  \n4       af49bf330e2cf16e44f0be1bdfe337bd  \n...                                  ...  \n325618  86dcc1a44eb2939fea4d2dd3604e1f9e  \n325619  86dcc1a44eb2939fea4d2dd3604e1f9e  \n325620  9db21acf9e6c1a66493c246c1461f989  \n325621  4aedb72c5662562524f6119918c7179b  \n325622  c674cb7255f1417a92e62f50b85aad5a  \n\n[325623 rows x 6 columns]",
      "text/html": "<div>\n<style scoped>\n    .dataframe tbody tr th:only-of-type {\n        vertical-align: middle;\n    }\n\n    .dataframe tbody tr th {\n        vertical-align: top;\n    }\n\n    .dataframe thead th {\n        text-align: right;\n    }\n</style>\n<table border=\"1\" class=\"dataframe\">\n  <thead>\n    <tr style=\"text-align: right;\">\n      <th></th>\n      <th>trackingid</th>\n      <th>selected_cartontype</th>\n      <th>recommended_cartontype</th>\n      <th>pack_volume</th>\n      <th>goods_wght</th>\n      <th>sku</th>\n    </tr>\n  </thead>\n  <tbody>\n    <tr>\n      <th>0</th>\n      <td>6c304d5c2815ccd2ba5046c101294c24</td>\n      <td>NONPACK</td>\n      <td>YML</td>\n      <td>2046</td>\n      <td>0.100</td>\n      <td>af49bf330e2cf16e44f0be1bdfe337bd</td>\n    </tr>\n    <tr>\n      <th>1</th>\n      <td>6c304d5c2815ccd2ba5046c101294c24</td>\n      <td>NONPACK</td>\n      <td>YML</td>\n      <td>2046</td>\n      <td>0.100</td>\n      <td>af49bf330e2cf16e44f0be1bdfe337bd</td>\n    </tr>\n    <tr>\n      <th>2</th>\n      <td>6c304d5c2815ccd2ba5046c101294c24</td>\n      <td>NONPACK</td>\n      <td>YML</td>\n      <td>2046</td>\n      <td>0.100</td>\n      <td>af49bf330e2cf16e44f0be1bdfe337bd</td>\n    </tr>\n    <tr>\n      <th>3</th>\n      <td>6c304d5c2815ccd2ba5046c101294c24</td>\n      <td>NONPACK</td>\n      <td>YML</td>\n      <td>2046</td>\n      <td>0.100</td>\n      <td>af49bf330e2cf16e44f0be1bdfe337bd</td>\n    </tr>\n    <tr>\n      <th>4</th>\n      <td>6c304d5c2815ccd2ba5046c101294c24</td>\n      <td>NONPACK</td>\n      <td>YML</td>\n      <td>2046</td>\n      <td>0.100</td>\n      <td>af49bf330e2cf16e44f0be1bdfe337bd</td>\n    </tr>\n    <tr>\n      <th>...</th>\n      <td>...</td>\n      <td>...</td>\n      <td>...</td>\n      <td>...</td>\n      <td>...</td>\n      <td>...</td>\n    </tr>\n    <tr>\n      <th>325618</th>\n      <td>f94f078101752133502202383bc87743</td>\n      <td>MYC</td>\n      <td>YMC</td>\n      <td>2080</td>\n      <td>0.100</td>\n      <td>86dcc1a44eb2939fea4d2dd3604e1f9e</td>\n    </tr>\n    <tr>\n      <th>325619</th>\n      <td>f94f078101752133502202383bc87743</td>\n      <td>MYC</td>\n      <td>YMC</td>\n      <td>2080</td>\n      <td>0.100</td>\n      <td>86dcc1a44eb2939fea4d2dd3604e1f9e</td>\n    </tr>\n    <tr>\n      <th>325620</th>\n      <td>58054d533ef06746ffd8cf99fad4a8cb</td>\n      <td>YMC</td>\n      <td>YMC</td>\n      <td>3523</td>\n      <td>0.284</td>\n      <td>9db21acf9e6c1a66493c246c1461f989</td>\n    </tr>\n    <tr>\n      <th>325621</th>\n      <td>1666b5c878be124f05fb9a1d95dd8a68</td>\n      <td>MYB</td>\n      <td>YMU</td>\n      <td>552</td>\n      <td>0.230</td>\n      <td>4aedb72c5662562524f6119918c7179b</td>\n    </tr>\n    <tr>\n      <th>325622</th>\n      <td>16b2ecff7b2d86ada75995e8d5dd0152</td>\n      <td>NONPACK</td>\n      <td>NONPACK</td>\n      <td>38130</td>\n      <td>1.200</td>\n      <td>c674cb7255f1417a92e62f50b85aad5a</td>\n    </tr>\n  </tbody>\n</table>\n<p>325623 rows × 6 columns</p>\n</div>"
     },
     "execution_count": 12,
     "metadata": {},
     "output_type": "execute_result"
    }
   ],
   "source": [
    "# Selecting the most valuable columns\n",
    "orders = orders[[ORDER_COLUMN, TARGET_COLUMN, 'recommended_cartontype', 'pack_volume', 'goods_wght', 'sku']]\n",
    "orders"
   ],
   "metadata": {
    "collapsed": false,
    "ExecuteTime": {
     "end_time": "2023-10-11T14:09:21.167400Z",
     "start_time": "2023-10-11T14:09:21.156239Z"
    }
   }
  },
  {
   "cell_type": "code",
   "execution_count": 13,
   "outputs": [
    {
     "data": {
      "text/plain": "                              trackingid selected_cartontype  \\\n0       6c304d5c2815ccd2ba5046c101294c24             NONPACK   \n1       6c304d5c2815ccd2ba5046c101294c24             NONPACK   \n2       6c304d5c2815ccd2ba5046c101294c24             NONPACK   \n3       6c304d5c2815ccd2ba5046c101294c24             NONPACK   \n4       6c304d5c2815ccd2ba5046c101294c24             NONPACK   \n...                                  ...                 ...   \n314825  05466bb9687134041a318a1578e9101e                 YMG   \n314826  e0a3958ffb898492600503c7e000d961                 YMW   \n314827  9c3c0b98d0b2de8b9fe27d7d0770162b                 MYE   \n314828  dc68860f37af41c7b3c12257a9e7eff1                 MYC   \n314829  fb38e0e582b9b2a6a3c7434820c9d829             NONPACK   \n\n       recommended_cartontype  pack_volume  goods_wght  \\\n0                         YML         2046       0.100   \n1                         YML         2046       0.100   \n2                         YML         2046       0.100   \n3                         YML         2046       0.100   \n4                         YML         2046       0.100   \n...                       ...          ...         ...   \n314825                    YMW         1944       0.550   \n314826                    YMW         6000       0.150   \n314827                    MYE         1400       0.160   \n314828                    YMC         2688       0.140   \n314829                NONPACK         1832       0.878   \n\n                                     sku  width  height  depth  \n0       af49bf330e2cf16e44f0be1bdfe337bd     11       6     31  \n1       af49bf330e2cf16e44f0be1bdfe337bd     11       6     31  \n2       af49bf330e2cf16e44f0be1bdfe337bd     11       6     31  \n3       af49bf330e2cf16e44f0be1bdfe337bd     11       6     31  \n4       af49bf330e2cf16e44f0be1bdfe337bd     11       6     31  \n...                                  ...    ...     ...    ...  \n314825  2a7f6883fadf6fa7a2306376e598b56c     18       6     18  \n314826  b7ab1a9260ebc1d53774714b24c02dd3     15      20     20  \n314827  ba0b176dc645058663de285b479163b3     50       1     28  \n314828  0940ce4ed3c65c5713a169bdf824dfcc     28       8     12  \n314829  74ec431f87644bfed9baca351fffcdee    231       1      8  \n\n[314830 rows x 9 columns]",
      "text/html": "<div>\n<style scoped>\n    .dataframe tbody tr th:only-of-type {\n        vertical-align: middle;\n    }\n\n    .dataframe tbody tr th {\n        vertical-align: top;\n    }\n\n    .dataframe thead th {\n        text-align: right;\n    }\n</style>\n<table border=\"1\" class=\"dataframe\">\n  <thead>\n    <tr style=\"text-align: right;\">\n      <th></th>\n      <th>trackingid</th>\n      <th>selected_cartontype</th>\n      <th>recommended_cartontype</th>\n      <th>pack_volume</th>\n      <th>goods_wght</th>\n      <th>sku</th>\n      <th>width</th>\n      <th>height</th>\n      <th>depth</th>\n    </tr>\n  </thead>\n  <tbody>\n    <tr>\n      <th>0</th>\n      <td>6c304d5c2815ccd2ba5046c101294c24</td>\n      <td>NONPACK</td>\n      <td>YML</td>\n      <td>2046</td>\n      <td>0.100</td>\n      <td>af49bf330e2cf16e44f0be1bdfe337bd</td>\n      <td>11</td>\n      <td>6</td>\n      <td>31</td>\n    </tr>\n    <tr>\n      <th>1</th>\n      <td>6c304d5c2815ccd2ba5046c101294c24</td>\n      <td>NONPACK</td>\n      <td>YML</td>\n      <td>2046</td>\n      <td>0.100</td>\n      <td>af49bf330e2cf16e44f0be1bdfe337bd</td>\n      <td>11</td>\n      <td>6</td>\n      <td>31</td>\n    </tr>\n    <tr>\n      <th>2</th>\n      <td>6c304d5c2815ccd2ba5046c101294c24</td>\n      <td>NONPACK</td>\n      <td>YML</td>\n      <td>2046</td>\n      <td>0.100</td>\n      <td>af49bf330e2cf16e44f0be1bdfe337bd</td>\n      <td>11</td>\n      <td>6</td>\n      <td>31</td>\n    </tr>\n    <tr>\n      <th>3</th>\n      <td>6c304d5c2815ccd2ba5046c101294c24</td>\n      <td>NONPACK</td>\n      <td>YML</td>\n      <td>2046</td>\n      <td>0.100</td>\n      <td>af49bf330e2cf16e44f0be1bdfe337bd</td>\n      <td>11</td>\n      <td>6</td>\n      <td>31</td>\n    </tr>\n    <tr>\n      <th>4</th>\n      <td>6c304d5c2815ccd2ba5046c101294c24</td>\n      <td>NONPACK</td>\n      <td>YML</td>\n      <td>2046</td>\n      <td>0.100</td>\n      <td>af49bf330e2cf16e44f0be1bdfe337bd</td>\n      <td>11</td>\n      <td>6</td>\n      <td>31</td>\n    </tr>\n    <tr>\n      <th>...</th>\n      <td>...</td>\n      <td>...</td>\n      <td>...</td>\n      <td>...</td>\n      <td>...</td>\n      <td>...</td>\n      <td>...</td>\n      <td>...</td>\n      <td>...</td>\n    </tr>\n    <tr>\n      <th>314825</th>\n      <td>05466bb9687134041a318a1578e9101e</td>\n      <td>YMG</td>\n      <td>YMW</td>\n      <td>1944</td>\n      <td>0.550</td>\n      <td>2a7f6883fadf6fa7a2306376e598b56c</td>\n      <td>18</td>\n      <td>6</td>\n      <td>18</td>\n    </tr>\n    <tr>\n      <th>314826</th>\n      <td>e0a3958ffb898492600503c7e000d961</td>\n      <td>YMW</td>\n      <td>YMW</td>\n      <td>6000</td>\n      <td>0.150</td>\n      <td>b7ab1a9260ebc1d53774714b24c02dd3</td>\n      <td>15</td>\n      <td>20</td>\n      <td>20</td>\n    </tr>\n    <tr>\n      <th>314827</th>\n      <td>9c3c0b98d0b2de8b9fe27d7d0770162b</td>\n      <td>MYE</td>\n      <td>MYE</td>\n      <td>1400</td>\n      <td>0.160</td>\n      <td>ba0b176dc645058663de285b479163b3</td>\n      <td>50</td>\n      <td>1</td>\n      <td>28</td>\n    </tr>\n    <tr>\n      <th>314828</th>\n      <td>dc68860f37af41c7b3c12257a9e7eff1</td>\n      <td>MYC</td>\n      <td>YMC</td>\n      <td>2688</td>\n      <td>0.140</td>\n      <td>0940ce4ed3c65c5713a169bdf824dfcc</td>\n      <td>28</td>\n      <td>8</td>\n      <td>12</td>\n    </tr>\n    <tr>\n      <th>314829</th>\n      <td>fb38e0e582b9b2a6a3c7434820c9d829</td>\n      <td>NONPACK</td>\n      <td>NONPACK</td>\n      <td>1832</td>\n      <td>0.878</td>\n      <td>74ec431f87644bfed9baca351fffcdee</td>\n      <td>231</td>\n      <td>1</td>\n      <td>8</td>\n    </tr>\n  </tbody>\n</table>\n<p>314830 rows × 9 columns</p>\n</div>"
     },
     "execution_count": 13,
     "metadata": {},
     "output_type": "execute_result"
    }
   ],
   "source": [
    "orders = orders.merge(items, on='sku', how='inner')\n",
    "orders"
   ],
   "metadata": {
    "collapsed": false,
    "ExecuteTime": {
     "end_time": "2023-10-11T14:09:24.066530Z",
     "start_time": "2023-10-11T14:09:21.156374Z"
    }
   }
  },
  {
   "cell_type": "markdown",
   "source": [
    "Adding sku cargotypes"
   ],
   "metadata": {
    "collapsed": false
   }
  },
  {
   "cell_type": "code",
   "execution_count": 14,
   "outputs": [],
   "source": [
    "item_cargotypes = pd.read_csv('./data/sku_cargotypes.csv')"
   ],
   "metadata": {
    "collapsed": false,
    "ExecuteTime": {
     "end_time": "2023-10-11T14:09:30.726762Z",
     "start_time": "2023-10-11T14:09:24.055244Z"
    }
   }
  },
  {
   "cell_type": "code",
   "execution_count": 15,
   "outputs": [
    {
     "data": {
      "text/plain": "                                sku  cargotype\n0  4862bf0e760a593b13f3f2fcf822e533        290\n1  4862bf0e760a593b13f3f2fcf822e533        901\n2  50d3c4fc66ad423b7feaadff2d682ee0        290\n3  50d3c4fc66ad423b7feaadff2d682ee0        901\n4  24ce9dba9f301ada55f60e25ee1498d2        290",
      "text/html": "<div>\n<style scoped>\n    .dataframe tbody tr th:only-of-type {\n        vertical-align: middle;\n    }\n\n    .dataframe tbody tr th {\n        vertical-align: top;\n    }\n\n    .dataframe thead th {\n        text-align: right;\n    }\n</style>\n<table border=\"1\" class=\"dataframe\">\n  <thead>\n    <tr style=\"text-align: right;\">\n      <th></th>\n      <th>sku</th>\n      <th>cargotype</th>\n    </tr>\n  </thead>\n  <tbody>\n    <tr>\n      <th>0</th>\n      <td>4862bf0e760a593b13f3f2fcf822e533</td>\n      <td>290</td>\n    </tr>\n    <tr>\n      <th>1</th>\n      <td>4862bf0e760a593b13f3f2fcf822e533</td>\n      <td>901</td>\n    </tr>\n    <tr>\n      <th>2</th>\n      <td>50d3c4fc66ad423b7feaadff2d682ee0</td>\n      <td>290</td>\n    </tr>\n    <tr>\n      <th>3</th>\n      <td>50d3c4fc66ad423b7feaadff2d682ee0</td>\n      <td>901</td>\n    </tr>\n    <tr>\n      <th>4</th>\n      <td>24ce9dba9f301ada55f60e25ee1498d2</td>\n      <td>290</td>\n    </tr>\n  </tbody>\n</table>\n</div>"
     },
     "execution_count": 15,
     "metadata": {},
     "output_type": "execute_result"
    }
   ],
   "source": [
    "item_cargotypes = item_cargotypes[['sku', 'cargotype']]\n",
    "item_cargotypes.head()"
   ],
   "metadata": {
    "collapsed": false,
    "ExecuteTime": {
     "end_time": "2023-10-11T14:09:30.965324Z",
     "start_time": "2023-10-11T14:09:30.727772Z"
    }
   }
  },
  {
   "cell_type": "code",
   "execution_count": 16,
   "outputs": [
    {
     "data": {
      "text/plain": "                               trackingid selected_cartontype  \\\n0        6c304d5c2815ccd2ba5046c101294c24             NONPACK   \n1        6c304d5c2815ccd2ba5046c101294c24             NONPACK   \n2        6c304d5c2815ccd2ba5046c101294c24             NONPACK   \n3        6c304d5c2815ccd2ba5046c101294c24             NONPACK   \n4        6c304d5c2815ccd2ba5046c101294c24             NONPACK   \n...                                   ...                 ...   \n1456741  dc68860f37af41c7b3c12257a9e7eff1                 MYC   \n1456742  fb38e0e582b9b2a6a3c7434820c9d829             NONPACK   \n1456743  fb38e0e582b9b2a6a3c7434820c9d829             NONPACK   \n1456744  fb38e0e582b9b2a6a3c7434820c9d829             NONPACK   \n1456745  fb38e0e582b9b2a6a3c7434820c9d829             NONPACK   \n\n        recommended_cartontype  pack_volume  goods_wght  \\\n0                          YML         2046       0.100   \n1                          YML         2046       0.100   \n2                          YML         2046       0.100   \n3                          YML         2046       0.100   \n4                          YML         2046       0.100   \n...                        ...          ...         ...   \n1456741                    YMC         2688       0.140   \n1456742                NONPACK         1832       0.878   \n1456743                NONPACK         1832       0.878   \n1456744                NONPACK         1832       0.878   \n1456745                NONPACK         1832       0.878   \n\n                                      sku  width  height  depth  cargotype  \n0        af49bf330e2cf16e44f0be1bdfe337bd     11       6     31      290.0  \n1        af49bf330e2cf16e44f0be1bdfe337bd     11       6     31      600.0  \n2        af49bf330e2cf16e44f0be1bdfe337bd     11       6     31      610.0  \n3        af49bf330e2cf16e44f0be1bdfe337bd     11       6     31      950.0  \n4        af49bf330e2cf16e44f0be1bdfe337bd     11       6     31      970.0  \n...                                   ...    ...     ...    ...        ...  \n1456741  0940ce4ed3c65c5713a169bdf824dfcc     28       8     12      980.0  \n1456742  74ec431f87644bfed9baca351fffcdee    231       1      8      292.0  \n1456743  74ec431f87644bfed9baca351fffcdee    231       1      8      300.0  \n1456744  74ec431f87644bfed9baca351fffcdee    231       1      8      301.0  \n1456745  74ec431f87644bfed9baca351fffcdee    231       1      8      305.0  \n\n[1456746 rows x 10 columns]",
      "text/html": "<div>\n<style scoped>\n    .dataframe tbody tr th:only-of-type {\n        vertical-align: middle;\n    }\n\n    .dataframe tbody tr th {\n        vertical-align: top;\n    }\n\n    .dataframe thead th {\n        text-align: right;\n    }\n</style>\n<table border=\"1\" class=\"dataframe\">\n  <thead>\n    <tr style=\"text-align: right;\">\n      <th></th>\n      <th>trackingid</th>\n      <th>selected_cartontype</th>\n      <th>recommended_cartontype</th>\n      <th>pack_volume</th>\n      <th>goods_wght</th>\n      <th>sku</th>\n      <th>width</th>\n      <th>height</th>\n      <th>depth</th>\n      <th>cargotype</th>\n    </tr>\n  </thead>\n  <tbody>\n    <tr>\n      <th>0</th>\n      <td>6c304d5c2815ccd2ba5046c101294c24</td>\n      <td>NONPACK</td>\n      <td>YML</td>\n      <td>2046</td>\n      <td>0.100</td>\n      <td>af49bf330e2cf16e44f0be1bdfe337bd</td>\n      <td>11</td>\n      <td>6</td>\n      <td>31</td>\n      <td>290.0</td>\n    </tr>\n    <tr>\n      <th>1</th>\n      <td>6c304d5c2815ccd2ba5046c101294c24</td>\n      <td>NONPACK</td>\n      <td>YML</td>\n      <td>2046</td>\n      <td>0.100</td>\n      <td>af49bf330e2cf16e44f0be1bdfe337bd</td>\n      <td>11</td>\n      <td>6</td>\n      <td>31</td>\n      <td>600.0</td>\n    </tr>\n    <tr>\n      <th>2</th>\n      <td>6c304d5c2815ccd2ba5046c101294c24</td>\n      <td>NONPACK</td>\n      <td>YML</td>\n      <td>2046</td>\n      <td>0.100</td>\n      <td>af49bf330e2cf16e44f0be1bdfe337bd</td>\n      <td>11</td>\n      <td>6</td>\n      <td>31</td>\n      <td>610.0</td>\n    </tr>\n    <tr>\n      <th>3</th>\n      <td>6c304d5c2815ccd2ba5046c101294c24</td>\n      <td>NONPACK</td>\n      <td>YML</td>\n      <td>2046</td>\n      <td>0.100</td>\n      <td>af49bf330e2cf16e44f0be1bdfe337bd</td>\n      <td>11</td>\n      <td>6</td>\n      <td>31</td>\n      <td>950.0</td>\n    </tr>\n    <tr>\n      <th>4</th>\n      <td>6c304d5c2815ccd2ba5046c101294c24</td>\n      <td>NONPACK</td>\n      <td>YML</td>\n      <td>2046</td>\n      <td>0.100</td>\n      <td>af49bf330e2cf16e44f0be1bdfe337bd</td>\n      <td>11</td>\n      <td>6</td>\n      <td>31</td>\n      <td>970.0</td>\n    </tr>\n    <tr>\n      <th>...</th>\n      <td>...</td>\n      <td>...</td>\n      <td>...</td>\n      <td>...</td>\n      <td>...</td>\n      <td>...</td>\n      <td>...</td>\n      <td>...</td>\n      <td>...</td>\n      <td>...</td>\n    </tr>\n    <tr>\n      <th>1456741</th>\n      <td>dc68860f37af41c7b3c12257a9e7eff1</td>\n      <td>MYC</td>\n      <td>YMC</td>\n      <td>2688</td>\n      <td>0.140</td>\n      <td>0940ce4ed3c65c5713a169bdf824dfcc</td>\n      <td>28</td>\n      <td>8</td>\n      <td>12</td>\n      <td>980.0</td>\n    </tr>\n    <tr>\n      <th>1456742</th>\n      <td>fb38e0e582b9b2a6a3c7434820c9d829</td>\n      <td>NONPACK</td>\n      <td>NONPACK</td>\n      <td>1832</td>\n      <td>0.878</td>\n      <td>74ec431f87644bfed9baca351fffcdee</td>\n      <td>231</td>\n      <td>1</td>\n      <td>8</td>\n      <td>292.0</td>\n    </tr>\n    <tr>\n      <th>1456743</th>\n      <td>fb38e0e582b9b2a6a3c7434820c9d829</td>\n      <td>NONPACK</td>\n      <td>NONPACK</td>\n      <td>1832</td>\n      <td>0.878</td>\n      <td>74ec431f87644bfed9baca351fffcdee</td>\n      <td>231</td>\n      <td>1</td>\n      <td>8</td>\n      <td>300.0</td>\n    </tr>\n    <tr>\n      <th>1456744</th>\n      <td>fb38e0e582b9b2a6a3c7434820c9d829</td>\n      <td>NONPACK</td>\n      <td>NONPACK</td>\n      <td>1832</td>\n      <td>0.878</td>\n      <td>74ec431f87644bfed9baca351fffcdee</td>\n      <td>231</td>\n      <td>1</td>\n      <td>8</td>\n      <td>301.0</td>\n    </tr>\n    <tr>\n      <th>1456745</th>\n      <td>fb38e0e582b9b2a6a3c7434820c9d829</td>\n      <td>NONPACK</td>\n      <td>NONPACK</td>\n      <td>1832</td>\n      <td>0.878</td>\n      <td>74ec431f87644bfed9baca351fffcdee</td>\n      <td>231</td>\n      <td>1</td>\n      <td>8</td>\n      <td>305.0</td>\n    </tr>\n  </tbody>\n</table>\n<p>1456746 rows × 10 columns</p>\n</div>"
     },
     "execution_count": 16,
     "metadata": {},
     "output_type": "execute_result"
    }
   ],
   "source": [
    "orders = orders.merge(item_cargotypes, on='sku', how='left')\n",
    "orders"
   ],
   "metadata": {
    "collapsed": false,
    "ExecuteTime": {
     "end_time": "2023-10-11T14:09:35.051745Z",
     "start_time": "2023-10-11T14:09:30.990267Z"
    }
   }
  },
  {
   "cell_type": "code",
   "execution_count": 17,
   "outputs": [],
   "source": [
    "orders['cargotype'] = orders['cargotype'].fillna(-1)"
   ],
   "metadata": {
    "collapsed": false,
    "ExecuteTime": {
     "end_time": "2023-10-11T14:09:35.060649Z",
     "start_time": "2023-10-11T14:09:35.046104Z"
    }
   }
  },
  {
   "cell_type": "code",
   "execution_count": 18,
   "outputs": [],
   "source": [
    "orders['width'] = 'w' + orders['width'].astype(str)\n",
    "orders['height'] = 'h' + orders['height'].astype(str)\n",
    "orders['depth'] = 'd' + orders['depth'].astype(str)\n",
    "orders['cargotype'] = 'ct' + orders['cargotype'].astype(str)"
   ],
   "metadata": {
    "collapsed": false,
    "ExecuteTime": {
     "end_time": "2023-10-11T14:09:37.055830Z",
     "start_time": "2023-10-11T14:09:35.055728Z"
    }
   }
  },
  {
   "cell_type": "code",
   "execution_count": 19,
   "outputs": [
    {
     "data": {
      "text/plain": "                         trackingid selected_cartontype  \\\n0  6c304d5c2815ccd2ba5046c101294c24             NONPACK   \n1  6c304d5c2815ccd2ba5046c101294c24             NONPACK   \n2  6c304d5c2815ccd2ba5046c101294c24             NONPACK   \n3  6c304d5c2815ccd2ba5046c101294c24             NONPACK   \n4  6c304d5c2815ccd2ba5046c101294c24             NONPACK   \n\n  recommended_cartontype  pack_volume  goods_wght  \\\n0                    YML         2046         0.1   \n1                    YML         2046         0.1   \n2                    YML         2046         0.1   \n3                    YML         2046         0.1   \n4                    YML         2046         0.1   \n\n                                sku width height depth cargotype  \n0  af49bf330e2cf16e44f0be1bdfe337bd   w11     h6   d31   ct290.0  \n1  af49bf330e2cf16e44f0be1bdfe337bd   w11     h6   d31   ct600.0  \n2  af49bf330e2cf16e44f0be1bdfe337bd   w11     h6   d31   ct610.0  \n3  af49bf330e2cf16e44f0be1bdfe337bd   w11     h6   d31   ct950.0  \n4  af49bf330e2cf16e44f0be1bdfe337bd   w11     h6   d31   ct970.0  ",
      "text/html": "<div>\n<style scoped>\n    .dataframe tbody tr th:only-of-type {\n        vertical-align: middle;\n    }\n\n    .dataframe tbody tr th {\n        vertical-align: top;\n    }\n\n    .dataframe thead th {\n        text-align: right;\n    }\n</style>\n<table border=\"1\" class=\"dataframe\">\n  <thead>\n    <tr style=\"text-align: right;\">\n      <th></th>\n      <th>trackingid</th>\n      <th>selected_cartontype</th>\n      <th>recommended_cartontype</th>\n      <th>pack_volume</th>\n      <th>goods_wght</th>\n      <th>sku</th>\n      <th>width</th>\n      <th>height</th>\n      <th>depth</th>\n      <th>cargotype</th>\n    </tr>\n  </thead>\n  <tbody>\n    <tr>\n      <th>0</th>\n      <td>6c304d5c2815ccd2ba5046c101294c24</td>\n      <td>NONPACK</td>\n      <td>YML</td>\n      <td>2046</td>\n      <td>0.1</td>\n      <td>af49bf330e2cf16e44f0be1bdfe337bd</td>\n      <td>w11</td>\n      <td>h6</td>\n      <td>d31</td>\n      <td>ct290.0</td>\n    </tr>\n    <tr>\n      <th>1</th>\n      <td>6c304d5c2815ccd2ba5046c101294c24</td>\n      <td>NONPACK</td>\n      <td>YML</td>\n      <td>2046</td>\n      <td>0.1</td>\n      <td>af49bf330e2cf16e44f0be1bdfe337bd</td>\n      <td>w11</td>\n      <td>h6</td>\n      <td>d31</td>\n      <td>ct600.0</td>\n    </tr>\n    <tr>\n      <th>2</th>\n      <td>6c304d5c2815ccd2ba5046c101294c24</td>\n      <td>NONPACK</td>\n      <td>YML</td>\n      <td>2046</td>\n      <td>0.1</td>\n      <td>af49bf330e2cf16e44f0be1bdfe337bd</td>\n      <td>w11</td>\n      <td>h6</td>\n      <td>d31</td>\n      <td>ct610.0</td>\n    </tr>\n    <tr>\n      <th>3</th>\n      <td>6c304d5c2815ccd2ba5046c101294c24</td>\n      <td>NONPACK</td>\n      <td>YML</td>\n      <td>2046</td>\n      <td>0.1</td>\n      <td>af49bf330e2cf16e44f0be1bdfe337bd</td>\n      <td>w11</td>\n      <td>h6</td>\n      <td>d31</td>\n      <td>ct950.0</td>\n    </tr>\n    <tr>\n      <th>4</th>\n      <td>6c304d5c2815ccd2ba5046c101294c24</td>\n      <td>NONPACK</td>\n      <td>YML</td>\n      <td>2046</td>\n      <td>0.1</td>\n      <td>af49bf330e2cf16e44f0be1bdfe337bd</td>\n      <td>w11</td>\n      <td>h6</td>\n      <td>d31</td>\n      <td>ct970.0</td>\n    </tr>\n  </tbody>\n</table>\n</div>"
     },
     "execution_count": 19,
     "metadata": {},
     "output_type": "execute_result"
    }
   ],
   "source": [
    "orders.head()"
   ],
   "metadata": {
    "collapsed": false,
    "ExecuteTime": {
     "end_time": "2023-10-11T14:09:37.057528Z",
     "start_time": "2023-10-11T14:09:37.048174Z"
    }
   }
  },
  {
   "cell_type": "markdown",
   "source": [
    "Creating separate column for every value of each dimension."
   ],
   "metadata": {
    "collapsed": false
   }
  },
  {
   "cell_type": "code",
   "execution_count": 20,
   "outputs": [
    {
     "name": "stdout",
     "output_type": "stream",
     "text": [
      "CPU times: user 1 µs, sys: 0 ns, total: 1 µs\n",
      "Wall time: 1.67 µs\n"
     ]
    },
    {
     "data": {
      "text/plain": "width                         trackingid  w0  w1  w10  w100  w101  w102  w103  \\\n0       000086e759f059d7373bb1d332392f1c   0   0    0     0     0     0     0   \n1       0000d2725b0d7c18bfa85dba8fe3fc75   0   0    0     0     0     0     0   \n2       0000eabbdb272c339beef96b96fe71bc   0   0    2     0     0     0     0   \n3       00023dc128414e21b2f9f8307f627433   0   0    0     0     0     0     0   \n4       0002506b15b27d032de84e195747c3e7   0   0    0     0     0     0     0   \n...                                  ...  ..  ..  ...   ...   ...   ...   ...   \n161827  fffc476844e0e3f8b8d465167e400ed9   0   0    0     0     0     0     0   \n161828  fffd2173857cc77c022234e36e28cdad   0   0    0     0     0     0     0   \n161829  fffe79e1af75d29bf334a4ef95fa9a2a   0   0    0     0     0     0     0   \n161830  fffe9bf58fbaacabe99822f3e93131e8   0   0    0     0     0     0     0   \n161831  fffeddf26950ed3aad1128184af5300f   0   0    0     0     0     0     0   \n\nwidth   w104  w105  ...  w90  w91  w92  w93  w94  w95  w96  w97  w98  w99  \n0          0     0  ...    0    0    0    0    0    0    0    0    0    0  \n1          0     0  ...    0    0    0    0    0    0    0    0    0    0  \n2          0     0  ...    0    0    0    0    0    0    0    0    0    0  \n3          0     0  ...    0    0    0    0    0    0    0    0    0    0  \n4          0     0  ...    0    0    0    0    0    0    0    0    0    0  \n...      ...   ...  ...  ...  ...  ...  ...  ...  ...  ...  ...  ...  ...  \n161827     0     0  ...    0    0    0    0    0    0    0    0    0    0  \n161828     0     0  ...    0    0    0    0    0    0    0    0    0    0  \n161829     0     0  ...    0    0    0    0    0    0    0    0    0    0  \n161830     0     0  ...    0    0    0    0    0    0    0    0    0    0  \n161831     0     0  ...    0    0    0    0    0    0    0    0    0    0  \n\n[161832 rows x 222 columns]",
      "text/html": "<div>\n<style scoped>\n    .dataframe tbody tr th:only-of-type {\n        vertical-align: middle;\n    }\n\n    .dataframe tbody tr th {\n        vertical-align: top;\n    }\n\n    .dataframe thead th {\n        text-align: right;\n    }\n</style>\n<table border=\"1\" class=\"dataframe\">\n  <thead>\n    <tr style=\"text-align: right;\">\n      <th>width</th>\n      <th>trackingid</th>\n      <th>w0</th>\n      <th>w1</th>\n      <th>w10</th>\n      <th>w100</th>\n      <th>w101</th>\n      <th>w102</th>\n      <th>w103</th>\n      <th>w104</th>\n      <th>w105</th>\n      <th>...</th>\n      <th>w90</th>\n      <th>w91</th>\n      <th>w92</th>\n      <th>w93</th>\n      <th>w94</th>\n      <th>w95</th>\n      <th>w96</th>\n      <th>w97</th>\n      <th>w98</th>\n      <th>w99</th>\n    </tr>\n  </thead>\n  <tbody>\n    <tr>\n      <th>0</th>\n      <td>000086e759f059d7373bb1d332392f1c</td>\n      <td>0</td>\n      <td>0</td>\n      <td>0</td>\n      <td>0</td>\n      <td>0</td>\n      <td>0</td>\n      <td>0</td>\n      <td>0</td>\n      <td>0</td>\n      <td>...</td>\n      <td>0</td>\n      <td>0</td>\n      <td>0</td>\n      <td>0</td>\n      <td>0</td>\n      <td>0</td>\n      <td>0</td>\n      <td>0</td>\n      <td>0</td>\n      <td>0</td>\n    </tr>\n    <tr>\n      <th>1</th>\n      <td>0000d2725b0d7c18bfa85dba8fe3fc75</td>\n      <td>0</td>\n      <td>0</td>\n      <td>0</td>\n      <td>0</td>\n      <td>0</td>\n      <td>0</td>\n      <td>0</td>\n      <td>0</td>\n      <td>0</td>\n      <td>...</td>\n      <td>0</td>\n      <td>0</td>\n      <td>0</td>\n      <td>0</td>\n      <td>0</td>\n      <td>0</td>\n      <td>0</td>\n      <td>0</td>\n      <td>0</td>\n      <td>0</td>\n    </tr>\n    <tr>\n      <th>2</th>\n      <td>0000eabbdb272c339beef96b96fe71bc</td>\n      <td>0</td>\n      <td>0</td>\n      <td>2</td>\n      <td>0</td>\n      <td>0</td>\n      <td>0</td>\n      <td>0</td>\n      <td>0</td>\n      <td>0</td>\n      <td>...</td>\n      <td>0</td>\n      <td>0</td>\n      <td>0</td>\n      <td>0</td>\n      <td>0</td>\n      <td>0</td>\n      <td>0</td>\n      <td>0</td>\n      <td>0</td>\n      <td>0</td>\n    </tr>\n    <tr>\n      <th>3</th>\n      <td>00023dc128414e21b2f9f8307f627433</td>\n      <td>0</td>\n      <td>0</td>\n      <td>0</td>\n      <td>0</td>\n      <td>0</td>\n      <td>0</td>\n      <td>0</td>\n      <td>0</td>\n      <td>0</td>\n      <td>...</td>\n      <td>0</td>\n      <td>0</td>\n      <td>0</td>\n      <td>0</td>\n      <td>0</td>\n      <td>0</td>\n      <td>0</td>\n      <td>0</td>\n      <td>0</td>\n      <td>0</td>\n    </tr>\n    <tr>\n      <th>4</th>\n      <td>0002506b15b27d032de84e195747c3e7</td>\n      <td>0</td>\n      <td>0</td>\n      <td>0</td>\n      <td>0</td>\n      <td>0</td>\n      <td>0</td>\n      <td>0</td>\n      <td>0</td>\n      <td>0</td>\n      <td>...</td>\n      <td>0</td>\n      <td>0</td>\n      <td>0</td>\n      <td>0</td>\n      <td>0</td>\n      <td>0</td>\n      <td>0</td>\n      <td>0</td>\n      <td>0</td>\n      <td>0</td>\n    </tr>\n    <tr>\n      <th>...</th>\n      <td>...</td>\n      <td>...</td>\n      <td>...</td>\n      <td>...</td>\n      <td>...</td>\n      <td>...</td>\n      <td>...</td>\n      <td>...</td>\n      <td>...</td>\n      <td>...</td>\n      <td>...</td>\n      <td>...</td>\n      <td>...</td>\n      <td>...</td>\n      <td>...</td>\n      <td>...</td>\n      <td>...</td>\n      <td>...</td>\n      <td>...</td>\n      <td>...</td>\n      <td>...</td>\n    </tr>\n    <tr>\n      <th>161827</th>\n      <td>fffc476844e0e3f8b8d465167e400ed9</td>\n      <td>0</td>\n      <td>0</td>\n      <td>0</td>\n      <td>0</td>\n      <td>0</td>\n      <td>0</td>\n      <td>0</td>\n      <td>0</td>\n      <td>0</td>\n      <td>...</td>\n      <td>0</td>\n      <td>0</td>\n      <td>0</td>\n      <td>0</td>\n      <td>0</td>\n      <td>0</td>\n      <td>0</td>\n      <td>0</td>\n      <td>0</td>\n      <td>0</td>\n    </tr>\n    <tr>\n      <th>161828</th>\n      <td>fffd2173857cc77c022234e36e28cdad</td>\n      <td>0</td>\n      <td>0</td>\n      <td>0</td>\n      <td>0</td>\n      <td>0</td>\n      <td>0</td>\n      <td>0</td>\n      <td>0</td>\n      <td>0</td>\n      <td>...</td>\n      <td>0</td>\n      <td>0</td>\n      <td>0</td>\n      <td>0</td>\n      <td>0</td>\n      <td>0</td>\n      <td>0</td>\n      <td>0</td>\n      <td>0</td>\n      <td>0</td>\n    </tr>\n    <tr>\n      <th>161829</th>\n      <td>fffe79e1af75d29bf334a4ef95fa9a2a</td>\n      <td>0</td>\n      <td>0</td>\n      <td>0</td>\n      <td>0</td>\n      <td>0</td>\n      <td>0</td>\n      <td>0</td>\n      <td>0</td>\n      <td>0</td>\n      <td>...</td>\n      <td>0</td>\n      <td>0</td>\n      <td>0</td>\n      <td>0</td>\n      <td>0</td>\n      <td>0</td>\n      <td>0</td>\n      <td>0</td>\n      <td>0</td>\n      <td>0</td>\n    </tr>\n    <tr>\n      <th>161830</th>\n      <td>fffe9bf58fbaacabe99822f3e93131e8</td>\n      <td>0</td>\n      <td>0</td>\n      <td>0</td>\n      <td>0</td>\n      <td>0</td>\n      <td>0</td>\n      <td>0</td>\n      <td>0</td>\n      <td>0</td>\n      <td>...</td>\n      <td>0</td>\n      <td>0</td>\n      <td>0</td>\n      <td>0</td>\n      <td>0</td>\n      <td>0</td>\n      <td>0</td>\n      <td>0</td>\n      <td>0</td>\n      <td>0</td>\n    </tr>\n    <tr>\n      <th>161831</th>\n      <td>fffeddf26950ed3aad1128184af5300f</td>\n      <td>0</td>\n      <td>0</td>\n      <td>0</td>\n      <td>0</td>\n      <td>0</td>\n      <td>0</td>\n      <td>0</td>\n      <td>0</td>\n      <td>0</td>\n      <td>...</td>\n      <td>0</td>\n      <td>0</td>\n      <td>0</td>\n      <td>0</td>\n      <td>0</td>\n      <td>0</td>\n      <td>0</td>\n      <td>0</td>\n      <td>0</td>\n      <td>0</td>\n    </tr>\n  </tbody>\n</table>\n<p>161832 rows × 222 columns</p>\n</div>"
     },
     "execution_count": 20,
     "metadata": {},
     "output_type": "execute_result"
    }
   ],
   "source": [
    "%time\n",
    "\n",
    "orders_w_cnt = orders.pivot_table(index=ORDER_COLUMN, columns='width', values=TARGET_COLUMN, aggfunc='count', fill_value=0).reset_index()\n",
    "orders_w_cnt"
   ],
   "metadata": {
    "collapsed": false,
    "ExecuteTime": {
     "end_time": "2023-10-11T14:09:37.998182Z",
     "start_time": "2023-10-11T14:09:37.052330Z"
    }
   }
  },
  {
   "cell_type": "code",
   "execution_count": 21,
   "outputs": [
    {
     "name": "stdout",
     "output_type": "stream",
     "text": [
      "CPU times: user 1 µs, sys: 0 ns, total: 1 µs\n",
      "Wall time: 3.1 µs\n"
     ]
    },
    {
     "data": {
      "text/plain": "height                        trackingid  h0  h1  h10  h100  h101  h102  h104  \\\n0       000086e759f059d7373bb1d332392f1c   0   0    0     0     0     0     0   \n1       0000d2725b0d7c18bfa85dba8fe3fc75   0   0    0     0     0     0     0   \n2       0000eabbdb272c339beef96b96fe71bc   0   4    0     0     0     0     0   \n3       00023dc128414e21b2f9f8307f627433   0   8    0     0     0     0     0   \n4       0002506b15b27d032de84e195747c3e7   0   0    0     0     0     0     0   \n...                                  ...  ..  ..  ...   ...   ...   ...   ...   \n161827  fffc476844e0e3f8b8d465167e400ed9   0   6    0     0     0     0     0   \n161828  fffd2173857cc77c022234e36e28cdad   0   0    0     0     0     0     0   \n161829  fffe79e1af75d29bf334a4ef95fa9a2a   0   0    0     0     0     0     0   \n161830  fffe9bf58fbaacabe99822f3e93131e8   0   0    0     0     0     0     0   \n161831  fffeddf26950ed3aad1128184af5300f   0   0    0     0     0     0     0   \n\nheight  h108  h109  ...  h89  h9  h90  h91  h92  h94  h95  h96  h97  h98  \n0          0     0  ...    0   0    0    0    0    0    0    0    0    0  \n1          0     0  ...    0   0    0    0    0    0    0    0    0    0  \n2          0     0  ...    0   0    0    0    0    0    0    0    0    0  \n3          0     0  ...    0   0    0    0    0    0    0    0    0    0  \n4          0     0  ...    0   0    0    0    0    0    0    0    0    0  \n...      ...   ...  ...  ...  ..  ...  ...  ...  ...  ...  ...  ...  ...  \n161827     0     0  ...    0   0    0    0    0    0    0    0    0    0  \n161828     0     0  ...    0   0    0    0    0    0    0    0    0    0  \n161829     0     0  ...    0   0    0    0    0    0    0    0    0    0  \n161830     0     0  ...    0   0    0    0    0    0    0    0    0    0  \n161831     0     0  ...    0   0    0    0    0    0    0    0    0    0  \n\n[161832 rows x 134 columns]",
      "text/html": "<div>\n<style scoped>\n    .dataframe tbody tr th:only-of-type {\n        vertical-align: middle;\n    }\n\n    .dataframe tbody tr th {\n        vertical-align: top;\n    }\n\n    .dataframe thead th {\n        text-align: right;\n    }\n</style>\n<table border=\"1\" class=\"dataframe\">\n  <thead>\n    <tr style=\"text-align: right;\">\n      <th>height</th>\n      <th>trackingid</th>\n      <th>h0</th>\n      <th>h1</th>\n      <th>h10</th>\n      <th>h100</th>\n      <th>h101</th>\n      <th>h102</th>\n      <th>h104</th>\n      <th>h108</th>\n      <th>h109</th>\n      <th>...</th>\n      <th>h89</th>\n      <th>h9</th>\n      <th>h90</th>\n      <th>h91</th>\n      <th>h92</th>\n      <th>h94</th>\n      <th>h95</th>\n      <th>h96</th>\n      <th>h97</th>\n      <th>h98</th>\n    </tr>\n  </thead>\n  <tbody>\n    <tr>\n      <th>0</th>\n      <td>000086e759f059d7373bb1d332392f1c</td>\n      <td>0</td>\n      <td>0</td>\n      <td>0</td>\n      <td>0</td>\n      <td>0</td>\n      <td>0</td>\n      <td>0</td>\n      <td>0</td>\n      <td>0</td>\n      <td>...</td>\n      <td>0</td>\n      <td>0</td>\n      <td>0</td>\n      <td>0</td>\n      <td>0</td>\n      <td>0</td>\n      <td>0</td>\n      <td>0</td>\n      <td>0</td>\n      <td>0</td>\n    </tr>\n    <tr>\n      <th>1</th>\n      <td>0000d2725b0d7c18bfa85dba8fe3fc75</td>\n      <td>0</td>\n      <td>0</td>\n      <td>0</td>\n      <td>0</td>\n      <td>0</td>\n      <td>0</td>\n      <td>0</td>\n      <td>0</td>\n      <td>0</td>\n      <td>...</td>\n      <td>0</td>\n      <td>0</td>\n      <td>0</td>\n      <td>0</td>\n      <td>0</td>\n      <td>0</td>\n      <td>0</td>\n      <td>0</td>\n      <td>0</td>\n      <td>0</td>\n    </tr>\n    <tr>\n      <th>2</th>\n      <td>0000eabbdb272c339beef96b96fe71bc</td>\n      <td>0</td>\n      <td>4</td>\n      <td>0</td>\n      <td>0</td>\n      <td>0</td>\n      <td>0</td>\n      <td>0</td>\n      <td>0</td>\n      <td>0</td>\n      <td>...</td>\n      <td>0</td>\n      <td>0</td>\n      <td>0</td>\n      <td>0</td>\n      <td>0</td>\n      <td>0</td>\n      <td>0</td>\n      <td>0</td>\n      <td>0</td>\n      <td>0</td>\n    </tr>\n    <tr>\n      <th>3</th>\n      <td>00023dc128414e21b2f9f8307f627433</td>\n      <td>0</td>\n      <td>8</td>\n      <td>0</td>\n      <td>0</td>\n      <td>0</td>\n      <td>0</td>\n      <td>0</td>\n      <td>0</td>\n      <td>0</td>\n      <td>...</td>\n      <td>0</td>\n      <td>0</td>\n      <td>0</td>\n      <td>0</td>\n      <td>0</td>\n      <td>0</td>\n      <td>0</td>\n      <td>0</td>\n      <td>0</td>\n      <td>0</td>\n    </tr>\n    <tr>\n      <th>4</th>\n      <td>0002506b15b27d032de84e195747c3e7</td>\n      <td>0</td>\n      <td>0</td>\n      <td>0</td>\n      <td>0</td>\n      <td>0</td>\n      <td>0</td>\n      <td>0</td>\n      <td>0</td>\n      <td>0</td>\n      <td>...</td>\n      <td>0</td>\n      <td>0</td>\n      <td>0</td>\n      <td>0</td>\n      <td>0</td>\n      <td>0</td>\n      <td>0</td>\n      <td>0</td>\n      <td>0</td>\n      <td>0</td>\n    </tr>\n    <tr>\n      <th>...</th>\n      <td>...</td>\n      <td>...</td>\n      <td>...</td>\n      <td>...</td>\n      <td>...</td>\n      <td>...</td>\n      <td>...</td>\n      <td>...</td>\n      <td>...</td>\n      <td>...</td>\n      <td>...</td>\n      <td>...</td>\n      <td>...</td>\n      <td>...</td>\n      <td>...</td>\n      <td>...</td>\n      <td>...</td>\n      <td>...</td>\n      <td>...</td>\n      <td>...</td>\n      <td>...</td>\n    </tr>\n    <tr>\n      <th>161827</th>\n      <td>fffc476844e0e3f8b8d465167e400ed9</td>\n      <td>0</td>\n      <td>6</td>\n      <td>0</td>\n      <td>0</td>\n      <td>0</td>\n      <td>0</td>\n      <td>0</td>\n      <td>0</td>\n      <td>0</td>\n      <td>...</td>\n      <td>0</td>\n      <td>0</td>\n      <td>0</td>\n      <td>0</td>\n      <td>0</td>\n      <td>0</td>\n      <td>0</td>\n      <td>0</td>\n      <td>0</td>\n      <td>0</td>\n    </tr>\n    <tr>\n      <th>161828</th>\n      <td>fffd2173857cc77c022234e36e28cdad</td>\n      <td>0</td>\n      <td>0</td>\n      <td>0</td>\n      <td>0</td>\n      <td>0</td>\n      <td>0</td>\n      <td>0</td>\n      <td>0</td>\n      <td>0</td>\n      <td>...</td>\n      <td>0</td>\n      <td>0</td>\n      <td>0</td>\n      <td>0</td>\n      <td>0</td>\n      <td>0</td>\n      <td>0</td>\n      <td>0</td>\n      <td>0</td>\n      <td>0</td>\n    </tr>\n    <tr>\n      <th>161829</th>\n      <td>fffe79e1af75d29bf334a4ef95fa9a2a</td>\n      <td>0</td>\n      <td>0</td>\n      <td>0</td>\n      <td>0</td>\n      <td>0</td>\n      <td>0</td>\n      <td>0</td>\n      <td>0</td>\n      <td>0</td>\n      <td>...</td>\n      <td>0</td>\n      <td>0</td>\n      <td>0</td>\n      <td>0</td>\n      <td>0</td>\n      <td>0</td>\n      <td>0</td>\n      <td>0</td>\n      <td>0</td>\n      <td>0</td>\n    </tr>\n    <tr>\n      <th>161830</th>\n      <td>fffe9bf58fbaacabe99822f3e93131e8</td>\n      <td>0</td>\n      <td>0</td>\n      <td>0</td>\n      <td>0</td>\n      <td>0</td>\n      <td>0</td>\n      <td>0</td>\n      <td>0</td>\n      <td>0</td>\n      <td>...</td>\n      <td>0</td>\n      <td>0</td>\n      <td>0</td>\n      <td>0</td>\n      <td>0</td>\n      <td>0</td>\n      <td>0</td>\n      <td>0</td>\n      <td>0</td>\n      <td>0</td>\n    </tr>\n    <tr>\n      <th>161831</th>\n      <td>fffeddf26950ed3aad1128184af5300f</td>\n      <td>0</td>\n      <td>0</td>\n      <td>0</td>\n      <td>0</td>\n      <td>0</td>\n      <td>0</td>\n      <td>0</td>\n      <td>0</td>\n      <td>0</td>\n      <td>...</td>\n      <td>0</td>\n      <td>0</td>\n      <td>0</td>\n      <td>0</td>\n      <td>0</td>\n      <td>0</td>\n      <td>0</td>\n      <td>0</td>\n      <td>0</td>\n      <td>0</td>\n    </tr>\n  </tbody>\n</table>\n<p>161832 rows × 134 columns</p>\n</div>"
     },
     "execution_count": 21,
     "metadata": {},
     "output_type": "execute_result"
    }
   ],
   "source": [
    "%time\n",
    "orders_h_cnt = orders.pivot_table(index=ORDER_COLUMN, columns='height', values=TARGET_COLUMN, aggfunc='count', fill_value=0).reset_index()\n",
    "orders_h_cnt"
   ],
   "metadata": {
    "collapsed": false,
    "ExecuteTime": {
     "end_time": "2023-10-11T14:09:38.642200Z",
     "start_time": "2023-10-11T14:09:37.985725Z"
    }
   }
  },
  {
   "cell_type": "code",
   "execution_count": 22,
   "outputs": [
    {
     "name": "stdout",
     "output_type": "stream",
     "text": [
      "CPU times: user 2 µs, sys: 1e+03 ns, total: 3 µs\n",
      "Wall time: 3.1 µs\n"
     ]
    },
    {
     "data": {
      "text/plain": "depth                         trackingid  d0  d1  d10  d100  d101  d102  d104  \\\n0       000086e759f059d7373bb1d332392f1c   0   0    0     0     0     0     0   \n1       0000d2725b0d7c18bfa85dba8fe3fc75   0   0    0     0     0     0     0   \n2       0000eabbdb272c339beef96b96fe71bc   0   0    0     0     0     0     0   \n3       00023dc128414e21b2f9f8307f627433   0   0    0     0     0     0     0   \n4       0002506b15b27d032de84e195747c3e7   0   0    0     0     0     0     0   \n...                                  ...  ..  ..  ...   ...   ...   ...   ...   \n161827  fffc476844e0e3f8b8d465167e400ed9   0   0    0     0     0     0     0   \n161828  fffd2173857cc77c022234e36e28cdad   0   0    0     0     0     0     0   \n161829  fffe79e1af75d29bf334a4ef95fa9a2a   0   0    0     0     0     0     0   \n161830  fffe9bf58fbaacabe99822f3e93131e8   0   0    0     0     0     0     0   \n161831  fffeddf26950ed3aad1128184af5300f   0   0    0     0     0     0     0   \n\ndepth   d109  d11  ...  d90  d91  d92  d93  d94  d95  d96  d97  d98  d99  \n0          0    0  ...    0    0    0    0    0    0    0    0    0    0  \n1          0    0  ...    0    0    0    0    0    0    0    0    0    0  \n2          0    0  ...    0    0    0    0    0    0    0    0    0    0  \n3          0    0  ...    0    0    0    0    0    0    0    0    0    0  \n4          0    0  ...    0    0    0    0    0    0    0    0    0    0  \n...      ...  ...  ...  ...  ...  ...  ...  ...  ...  ...  ...  ...  ...  \n161827     0    0  ...    0    0    0    0    0    0    0    0    0    0  \n161828     0    0  ...    0    0    0    0    0    0    0    0    0    0  \n161829     0    0  ...    0    0    0    0    0    0    0    0    0    0  \n161830     0    0  ...    0    0    0    0    0    0    0    0    0    0  \n161831     0    0  ...    0    0    0    0    0    0    0    0    0    0  \n\n[161832 rows x 128 columns]",
      "text/html": "<div>\n<style scoped>\n    .dataframe tbody tr th:only-of-type {\n        vertical-align: middle;\n    }\n\n    .dataframe tbody tr th {\n        vertical-align: top;\n    }\n\n    .dataframe thead th {\n        text-align: right;\n    }\n</style>\n<table border=\"1\" class=\"dataframe\">\n  <thead>\n    <tr style=\"text-align: right;\">\n      <th>depth</th>\n      <th>trackingid</th>\n      <th>d0</th>\n      <th>d1</th>\n      <th>d10</th>\n      <th>d100</th>\n      <th>d101</th>\n      <th>d102</th>\n      <th>d104</th>\n      <th>d109</th>\n      <th>d11</th>\n      <th>...</th>\n      <th>d90</th>\n      <th>d91</th>\n      <th>d92</th>\n      <th>d93</th>\n      <th>d94</th>\n      <th>d95</th>\n      <th>d96</th>\n      <th>d97</th>\n      <th>d98</th>\n      <th>d99</th>\n    </tr>\n  </thead>\n  <tbody>\n    <tr>\n      <th>0</th>\n      <td>000086e759f059d7373bb1d332392f1c</td>\n      <td>0</td>\n      <td>0</td>\n      <td>0</td>\n      <td>0</td>\n      <td>0</td>\n      <td>0</td>\n      <td>0</td>\n      <td>0</td>\n      <td>0</td>\n      <td>...</td>\n      <td>0</td>\n      <td>0</td>\n      <td>0</td>\n      <td>0</td>\n      <td>0</td>\n      <td>0</td>\n      <td>0</td>\n      <td>0</td>\n      <td>0</td>\n      <td>0</td>\n    </tr>\n    <tr>\n      <th>1</th>\n      <td>0000d2725b0d7c18bfa85dba8fe3fc75</td>\n      <td>0</td>\n      <td>0</td>\n      <td>0</td>\n      <td>0</td>\n      <td>0</td>\n      <td>0</td>\n      <td>0</td>\n      <td>0</td>\n      <td>0</td>\n      <td>...</td>\n      <td>0</td>\n      <td>0</td>\n      <td>0</td>\n      <td>0</td>\n      <td>0</td>\n      <td>0</td>\n      <td>0</td>\n      <td>0</td>\n      <td>0</td>\n      <td>0</td>\n    </tr>\n    <tr>\n      <th>2</th>\n      <td>0000eabbdb272c339beef96b96fe71bc</td>\n      <td>0</td>\n      <td>0</td>\n      <td>0</td>\n      <td>0</td>\n      <td>0</td>\n      <td>0</td>\n      <td>0</td>\n      <td>0</td>\n      <td>0</td>\n      <td>...</td>\n      <td>0</td>\n      <td>0</td>\n      <td>0</td>\n      <td>0</td>\n      <td>0</td>\n      <td>0</td>\n      <td>0</td>\n      <td>0</td>\n      <td>0</td>\n      <td>0</td>\n    </tr>\n    <tr>\n      <th>3</th>\n      <td>00023dc128414e21b2f9f8307f627433</td>\n      <td>0</td>\n      <td>0</td>\n      <td>0</td>\n      <td>0</td>\n      <td>0</td>\n      <td>0</td>\n      <td>0</td>\n      <td>0</td>\n      <td>0</td>\n      <td>...</td>\n      <td>0</td>\n      <td>0</td>\n      <td>0</td>\n      <td>0</td>\n      <td>0</td>\n      <td>0</td>\n      <td>0</td>\n      <td>0</td>\n      <td>0</td>\n      <td>0</td>\n    </tr>\n    <tr>\n      <th>4</th>\n      <td>0002506b15b27d032de84e195747c3e7</td>\n      <td>0</td>\n      <td>0</td>\n      <td>0</td>\n      <td>0</td>\n      <td>0</td>\n      <td>0</td>\n      <td>0</td>\n      <td>0</td>\n      <td>0</td>\n      <td>...</td>\n      <td>0</td>\n      <td>0</td>\n      <td>0</td>\n      <td>0</td>\n      <td>0</td>\n      <td>0</td>\n      <td>0</td>\n      <td>0</td>\n      <td>0</td>\n      <td>0</td>\n    </tr>\n    <tr>\n      <th>...</th>\n      <td>...</td>\n      <td>...</td>\n      <td>...</td>\n      <td>...</td>\n      <td>...</td>\n      <td>...</td>\n      <td>...</td>\n      <td>...</td>\n      <td>...</td>\n      <td>...</td>\n      <td>...</td>\n      <td>...</td>\n      <td>...</td>\n      <td>...</td>\n      <td>...</td>\n      <td>...</td>\n      <td>...</td>\n      <td>...</td>\n      <td>...</td>\n      <td>...</td>\n      <td>...</td>\n    </tr>\n    <tr>\n      <th>161827</th>\n      <td>fffc476844e0e3f8b8d465167e400ed9</td>\n      <td>0</td>\n      <td>0</td>\n      <td>0</td>\n      <td>0</td>\n      <td>0</td>\n      <td>0</td>\n      <td>0</td>\n      <td>0</td>\n      <td>0</td>\n      <td>...</td>\n      <td>0</td>\n      <td>0</td>\n      <td>0</td>\n      <td>0</td>\n      <td>0</td>\n      <td>0</td>\n      <td>0</td>\n      <td>0</td>\n      <td>0</td>\n      <td>0</td>\n    </tr>\n    <tr>\n      <th>161828</th>\n      <td>fffd2173857cc77c022234e36e28cdad</td>\n      <td>0</td>\n      <td>0</td>\n      <td>0</td>\n      <td>0</td>\n      <td>0</td>\n      <td>0</td>\n      <td>0</td>\n      <td>0</td>\n      <td>0</td>\n      <td>...</td>\n      <td>0</td>\n      <td>0</td>\n      <td>0</td>\n      <td>0</td>\n      <td>0</td>\n      <td>0</td>\n      <td>0</td>\n      <td>0</td>\n      <td>0</td>\n      <td>0</td>\n    </tr>\n    <tr>\n      <th>161829</th>\n      <td>fffe79e1af75d29bf334a4ef95fa9a2a</td>\n      <td>0</td>\n      <td>0</td>\n      <td>0</td>\n      <td>0</td>\n      <td>0</td>\n      <td>0</td>\n      <td>0</td>\n      <td>0</td>\n      <td>0</td>\n      <td>...</td>\n      <td>0</td>\n      <td>0</td>\n      <td>0</td>\n      <td>0</td>\n      <td>0</td>\n      <td>0</td>\n      <td>0</td>\n      <td>0</td>\n      <td>0</td>\n      <td>0</td>\n    </tr>\n    <tr>\n      <th>161830</th>\n      <td>fffe9bf58fbaacabe99822f3e93131e8</td>\n      <td>0</td>\n      <td>0</td>\n      <td>0</td>\n      <td>0</td>\n      <td>0</td>\n      <td>0</td>\n      <td>0</td>\n      <td>0</td>\n      <td>0</td>\n      <td>...</td>\n      <td>0</td>\n      <td>0</td>\n      <td>0</td>\n      <td>0</td>\n      <td>0</td>\n      <td>0</td>\n      <td>0</td>\n      <td>0</td>\n      <td>0</td>\n      <td>0</td>\n    </tr>\n    <tr>\n      <th>161831</th>\n      <td>fffeddf26950ed3aad1128184af5300f</td>\n      <td>0</td>\n      <td>0</td>\n      <td>0</td>\n      <td>0</td>\n      <td>0</td>\n      <td>0</td>\n      <td>0</td>\n      <td>0</td>\n      <td>0</td>\n      <td>...</td>\n      <td>0</td>\n      <td>0</td>\n      <td>0</td>\n      <td>0</td>\n      <td>0</td>\n      <td>0</td>\n      <td>0</td>\n      <td>0</td>\n      <td>0</td>\n      <td>0</td>\n    </tr>\n  </tbody>\n</table>\n<p>161832 rows × 128 columns</p>\n</div>"
     },
     "execution_count": 22,
     "metadata": {},
     "output_type": "execute_result"
    }
   ],
   "source": [
    "%time\n",
    "orders_d_cnt = orders.pivot_table(index=ORDER_COLUMN, columns='depth', values=TARGET_COLUMN, aggfunc='count', fill_value=0).reset_index()\n",
    "orders_d_cnt"
   ],
   "metadata": {
    "collapsed": false,
    "ExecuteTime": {
     "end_time": "2023-10-11T14:09:39.270071Z",
     "start_time": "2023-10-11T14:09:38.624874Z"
    }
   }
  },
  {
   "cell_type": "code",
   "execution_count": 23,
   "outputs": [
    {
     "name": "stdout",
     "output_type": "stream",
     "text": [
      "CPU times: user 2 µs, sys: 0 ns, total: 2 µs\n",
      "Wall time: 3.1 µs\n"
     ]
    },
    {
     "data": {
      "text/plain": "cargotype                        trackingid  ct-1.0  ct0.0  ct1010.0  \\\n0          000086e759f059d7373bb1d332392f1c       0      0         0   \n1          0000d2725b0d7c18bfa85dba8fe3fc75       0      0         0   \n2          0000eabbdb272c339beef96b96fe71bc       0      0         0   \n3          00023dc128414e21b2f9f8307f627433       0      0         0   \n4          0002506b15b27d032de84e195747c3e7       0      0         0   \n...                                     ...     ...    ...       ...   \n161827     fffc476844e0e3f8b8d465167e400ed9       0      0         0   \n161828     fffd2173857cc77c022234e36e28cdad       0      0         1   \n161829     fffe79e1af75d29bf334a4ef95fa9a2a       0      0         0   \n161830     fffe9bf58fbaacabe99822f3e93131e8       0      0         0   \n161831     fffeddf26950ed3aad1128184af5300f       0      0         0   \n\ncargotype  ct1011.0  ct110.0  ct120.0  ct130.0  ct1300.0  ct140.0  ...  \\\n0                 0        0        0        0         0        0  ...   \n1                 0        0        0        0         0        0  ...   \n2                 0        0        0        0         0        0  ...   \n3                 0        0        0        0         0        0  ...   \n4                 0        0        0        0         0        0  ...   \n...             ...      ...      ...      ...       ...      ...  ...   \n161827            0        0        0        0         0        0  ...   \n161828            0        0        1        0         0        0  ...   \n161829            0        0        0        0         0        0  ...   \n161830            0        0        0        0         0        0  ...   \n161831            0        0        0        0         0        0  ...   \n\ncargotype  ct911.0  ct920.0  ct930.0  ct931.0  ct950.0  ct955.0  ct960.0  \\\n0                0        0        0        0        0        0        0   \n1                0        0        0        0        0        0        0   \n2                0        0        0        0        1        0        0   \n3                0        0        0        0        0        1        0   \n4                0        0        0        0        0        0        0   \n...            ...      ...      ...      ...      ...      ...      ...   \n161827           0        0        0        0        0        0        0   \n161828           0        0        0        0        0        0        0   \n161829           0        0        0        0        0        0        0   \n161830           0        0        0        0        1        0        0   \n161831           0        0        0        0        0        0        0   \n\ncargotype  ct970.0  ct980.0  ct990.0  \n0                0        0        0  \n1                0        0        0  \n2                1        0        0  \n3                0        0        0  \n4                0        0        0  \n...            ...      ...      ...  \n161827           0        0        0  \n161828           0        0        0  \n161829           0        0        0  \n161830           0        0        0  \n161831           0        0        0  \n\n[161832 rows x 82 columns]",
      "text/html": "<div>\n<style scoped>\n    .dataframe tbody tr th:only-of-type {\n        vertical-align: middle;\n    }\n\n    .dataframe tbody tr th {\n        vertical-align: top;\n    }\n\n    .dataframe thead th {\n        text-align: right;\n    }\n</style>\n<table border=\"1\" class=\"dataframe\">\n  <thead>\n    <tr style=\"text-align: right;\">\n      <th>cargotype</th>\n      <th>trackingid</th>\n      <th>ct-1.0</th>\n      <th>ct0.0</th>\n      <th>ct1010.0</th>\n      <th>ct1011.0</th>\n      <th>ct110.0</th>\n      <th>ct120.0</th>\n      <th>ct130.0</th>\n      <th>ct1300.0</th>\n      <th>ct140.0</th>\n      <th>...</th>\n      <th>ct911.0</th>\n      <th>ct920.0</th>\n      <th>ct930.0</th>\n      <th>ct931.0</th>\n      <th>ct950.0</th>\n      <th>ct955.0</th>\n      <th>ct960.0</th>\n      <th>ct970.0</th>\n      <th>ct980.0</th>\n      <th>ct990.0</th>\n    </tr>\n  </thead>\n  <tbody>\n    <tr>\n      <th>0</th>\n      <td>000086e759f059d7373bb1d332392f1c</td>\n      <td>0</td>\n      <td>0</td>\n      <td>0</td>\n      <td>0</td>\n      <td>0</td>\n      <td>0</td>\n      <td>0</td>\n      <td>0</td>\n      <td>0</td>\n      <td>...</td>\n      <td>0</td>\n      <td>0</td>\n      <td>0</td>\n      <td>0</td>\n      <td>0</td>\n      <td>0</td>\n      <td>0</td>\n      <td>0</td>\n      <td>0</td>\n      <td>0</td>\n    </tr>\n    <tr>\n      <th>1</th>\n      <td>0000d2725b0d7c18bfa85dba8fe3fc75</td>\n      <td>0</td>\n      <td>0</td>\n      <td>0</td>\n      <td>0</td>\n      <td>0</td>\n      <td>0</td>\n      <td>0</td>\n      <td>0</td>\n      <td>0</td>\n      <td>...</td>\n      <td>0</td>\n      <td>0</td>\n      <td>0</td>\n      <td>0</td>\n      <td>0</td>\n      <td>0</td>\n      <td>0</td>\n      <td>0</td>\n      <td>0</td>\n      <td>0</td>\n    </tr>\n    <tr>\n      <th>2</th>\n      <td>0000eabbdb272c339beef96b96fe71bc</td>\n      <td>0</td>\n      <td>0</td>\n      <td>0</td>\n      <td>0</td>\n      <td>0</td>\n      <td>0</td>\n      <td>0</td>\n      <td>0</td>\n      <td>0</td>\n      <td>...</td>\n      <td>0</td>\n      <td>0</td>\n      <td>0</td>\n      <td>0</td>\n      <td>1</td>\n      <td>0</td>\n      <td>0</td>\n      <td>1</td>\n      <td>0</td>\n      <td>0</td>\n    </tr>\n    <tr>\n      <th>3</th>\n      <td>00023dc128414e21b2f9f8307f627433</td>\n      <td>0</td>\n      <td>0</td>\n      <td>0</td>\n      <td>0</td>\n      <td>0</td>\n      <td>0</td>\n      <td>0</td>\n      <td>0</td>\n      <td>0</td>\n      <td>...</td>\n      <td>0</td>\n      <td>0</td>\n      <td>0</td>\n      <td>0</td>\n      <td>0</td>\n      <td>1</td>\n      <td>0</td>\n      <td>0</td>\n      <td>0</td>\n      <td>0</td>\n    </tr>\n    <tr>\n      <th>4</th>\n      <td>0002506b15b27d032de84e195747c3e7</td>\n      <td>0</td>\n      <td>0</td>\n      <td>0</td>\n      <td>0</td>\n      <td>0</td>\n      <td>0</td>\n      <td>0</td>\n      <td>0</td>\n      <td>0</td>\n      <td>...</td>\n      <td>0</td>\n      <td>0</td>\n      <td>0</td>\n      <td>0</td>\n      <td>0</td>\n      <td>0</td>\n      <td>0</td>\n      <td>0</td>\n      <td>0</td>\n      <td>0</td>\n    </tr>\n    <tr>\n      <th>...</th>\n      <td>...</td>\n      <td>...</td>\n      <td>...</td>\n      <td>...</td>\n      <td>...</td>\n      <td>...</td>\n      <td>...</td>\n      <td>...</td>\n      <td>...</td>\n      <td>...</td>\n      <td>...</td>\n      <td>...</td>\n      <td>...</td>\n      <td>...</td>\n      <td>...</td>\n      <td>...</td>\n      <td>...</td>\n      <td>...</td>\n      <td>...</td>\n      <td>...</td>\n      <td>...</td>\n    </tr>\n    <tr>\n      <th>161827</th>\n      <td>fffc476844e0e3f8b8d465167e400ed9</td>\n      <td>0</td>\n      <td>0</td>\n      <td>0</td>\n      <td>0</td>\n      <td>0</td>\n      <td>0</td>\n      <td>0</td>\n      <td>0</td>\n      <td>0</td>\n      <td>...</td>\n      <td>0</td>\n      <td>0</td>\n      <td>0</td>\n      <td>0</td>\n      <td>0</td>\n      <td>0</td>\n      <td>0</td>\n      <td>0</td>\n      <td>0</td>\n      <td>0</td>\n    </tr>\n    <tr>\n      <th>161828</th>\n      <td>fffd2173857cc77c022234e36e28cdad</td>\n      <td>0</td>\n      <td>0</td>\n      <td>1</td>\n      <td>0</td>\n      <td>0</td>\n      <td>1</td>\n      <td>0</td>\n      <td>0</td>\n      <td>0</td>\n      <td>...</td>\n      <td>0</td>\n      <td>0</td>\n      <td>0</td>\n      <td>0</td>\n      <td>0</td>\n      <td>0</td>\n      <td>0</td>\n      <td>0</td>\n      <td>0</td>\n      <td>0</td>\n    </tr>\n    <tr>\n      <th>161829</th>\n      <td>fffe79e1af75d29bf334a4ef95fa9a2a</td>\n      <td>0</td>\n      <td>0</td>\n      <td>0</td>\n      <td>0</td>\n      <td>0</td>\n      <td>0</td>\n      <td>0</td>\n      <td>0</td>\n      <td>0</td>\n      <td>...</td>\n      <td>0</td>\n      <td>0</td>\n      <td>0</td>\n      <td>0</td>\n      <td>0</td>\n      <td>0</td>\n      <td>0</td>\n      <td>0</td>\n      <td>0</td>\n      <td>0</td>\n    </tr>\n    <tr>\n      <th>161830</th>\n      <td>fffe9bf58fbaacabe99822f3e93131e8</td>\n      <td>0</td>\n      <td>0</td>\n      <td>0</td>\n      <td>0</td>\n      <td>0</td>\n      <td>0</td>\n      <td>0</td>\n      <td>0</td>\n      <td>0</td>\n      <td>...</td>\n      <td>0</td>\n      <td>0</td>\n      <td>0</td>\n      <td>0</td>\n      <td>1</td>\n      <td>0</td>\n      <td>0</td>\n      <td>0</td>\n      <td>0</td>\n      <td>0</td>\n    </tr>\n    <tr>\n      <th>161831</th>\n      <td>fffeddf26950ed3aad1128184af5300f</td>\n      <td>0</td>\n      <td>0</td>\n      <td>0</td>\n      <td>0</td>\n      <td>0</td>\n      <td>0</td>\n      <td>0</td>\n      <td>0</td>\n      <td>0</td>\n      <td>...</td>\n      <td>0</td>\n      <td>0</td>\n      <td>0</td>\n      <td>0</td>\n      <td>0</td>\n      <td>0</td>\n      <td>0</td>\n      <td>0</td>\n      <td>0</td>\n      <td>0</td>\n    </tr>\n  </tbody>\n</table>\n<p>161832 rows × 82 columns</p>\n</div>"
     },
     "execution_count": 23,
     "metadata": {},
     "output_type": "execute_result"
    }
   ],
   "source": [
    "%time\n",
    "orders_ct_cnt = orders.pivot_table(index=ORDER_COLUMN, columns='cargotype', values=TARGET_COLUMN, aggfunc='count', fill_value=0).reset_index()\n",
    "orders_ct_cnt"
   ],
   "metadata": {
    "collapsed": false,
    "ExecuteTime": {
     "end_time": "2023-10-11T14:09:40.533996Z",
     "start_time": "2023-10-11T14:09:39.254021Z"
    }
   }
  },
  {
   "cell_type": "code",
   "execution_count": 24,
   "outputs": [
    {
     "data": {
      "text/plain": "trackingid                0\nselected_cartontype       0\nrecommended_cartontype    0\npack_volume               0\ngoods_wght                0\nsku                       0\nwidth                     0\nheight                    0\ndepth                     0\ncargotype                 0\ndtype: int64"
     },
     "execution_count": 24,
     "metadata": {},
     "output_type": "execute_result"
    }
   ],
   "source": [
    "orders.isna().sum()"
   ],
   "metadata": {
    "collapsed": false,
    "ExecuteTime": {
     "end_time": "2023-10-11T14:09:40.542192Z",
     "start_time": "2023-10-11T14:09:40.151091Z"
    }
   }
  },
  {
   "cell_type": "code",
   "execution_count": 25,
   "outputs": [],
   "source": [
    "orders = orders.dropna()"
   ],
   "metadata": {
    "collapsed": false,
    "ExecuteTime": {
     "end_time": "2023-10-11T14:09:40.722390Z",
     "start_time": "2023-10-11T14:09:40.524705Z"
    }
   }
  },
  {
   "cell_type": "markdown",
   "source": [
    "Now let's create aggregated table for orders with targets and other features."
   ],
   "metadata": {
    "collapsed": false
   }
  },
  {
   "cell_type": "code",
   "execution_count": 26,
   "outputs": [
    {
     "data": {
      "text/plain": "                              trackingid selected_cartontype  \\\n0       000086e759f059d7373bb1d332392f1c                 MYB   \n1       0000d2725b0d7c18bfa85dba8fe3fc75                 MYC   \n2       0000eabbdb272c339beef96b96fe71bc                 MYC   \n3       00023dc128414e21b2f9f8307f627433                 MYA   \n4       0002506b15b27d032de84e195747c3e7                 MYB   \n...                                  ...                 ...   \n161827  fffc476844e0e3f8b8d465167e400ed9                 MYB   \n161828  fffd2173857cc77c022234e36e28cdad                 MYC   \n161829  fffe79e1af75d29bf334a4ef95fa9a2a                 MYA   \n161830  fffe9bf58fbaacabe99822f3e93131e8             NONPACK   \n161831  fffeddf26950ed3aad1128184af5300f                 MYB   \n\n       recommended_cartontype   pack_volume  goods_wght  items_count  \n0                         MYC   2439.000000    1.027000            3  \n1                         MYC   5698.000000    0.256000            2  \n2                         MYC    485.833333    0.186667           12  \n3                         MYA     18.000000    0.010000            8  \n4                         YMA   1428.000000    0.285000            6  \n...                       ...           ...         ...          ...  \n161827                    MYA    204.000000    0.127273           11  \n161828                    MYC   2184.000000    0.400000            7  \n161829                    MYF    299.000000    0.117000            7  \n161830                NONPACK  11520.000000    1.710000            3  \n161831                    YMA   1472.000000    0.189000            5  \n\n[161832 rows x 6 columns]",
      "text/html": "<div>\n<style scoped>\n    .dataframe tbody tr th:only-of-type {\n        vertical-align: middle;\n    }\n\n    .dataframe tbody tr th {\n        vertical-align: top;\n    }\n\n    .dataframe thead th {\n        text-align: right;\n    }\n</style>\n<table border=\"1\" class=\"dataframe\">\n  <thead>\n    <tr style=\"text-align: right;\">\n      <th></th>\n      <th>trackingid</th>\n      <th>selected_cartontype</th>\n      <th>recommended_cartontype</th>\n      <th>pack_volume</th>\n      <th>goods_wght</th>\n      <th>items_count</th>\n    </tr>\n  </thead>\n  <tbody>\n    <tr>\n      <th>0</th>\n      <td>000086e759f059d7373bb1d332392f1c</td>\n      <td>MYB</td>\n      <td>MYC</td>\n      <td>2439.000000</td>\n      <td>1.027000</td>\n      <td>3</td>\n    </tr>\n    <tr>\n      <th>1</th>\n      <td>0000d2725b0d7c18bfa85dba8fe3fc75</td>\n      <td>MYC</td>\n      <td>MYC</td>\n      <td>5698.000000</td>\n      <td>0.256000</td>\n      <td>2</td>\n    </tr>\n    <tr>\n      <th>2</th>\n      <td>0000eabbdb272c339beef96b96fe71bc</td>\n      <td>MYC</td>\n      <td>MYC</td>\n      <td>485.833333</td>\n      <td>0.186667</td>\n      <td>12</td>\n    </tr>\n    <tr>\n      <th>3</th>\n      <td>00023dc128414e21b2f9f8307f627433</td>\n      <td>MYA</td>\n      <td>MYA</td>\n      <td>18.000000</td>\n      <td>0.010000</td>\n      <td>8</td>\n    </tr>\n    <tr>\n      <th>4</th>\n      <td>0002506b15b27d032de84e195747c3e7</td>\n      <td>MYB</td>\n      <td>YMA</td>\n      <td>1428.000000</td>\n      <td>0.285000</td>\n      <td>6</td>\n    </tr>\n    <tr>\n      <th>...</th>\n      <td>...</td>\n      <td>...</td>\n      <td>...</td>\n      <td>...</td>\n      <td>...</td>\n      <td>...</td>\n    </tr>\n    <tr>\n      <th>161827</th>\n      <td>fffc476844e0e3f8b8d465167e400ed9</td>\n      <td>MYB</td>\n      <td>MYA</td>\n      <td>204.000000</td>\n      <td>0.127273</td>\n      <td>11</td>\n    </tr>\n    <tr>\n      <th>161828</th>\n      <td>fffd2173857cc77c022234e36e28cdad</td>\n      <td>MYC</td>\n      <td>MYC</td>\n      <td>2184.000000</td>\n      <td>0.400000</td>\n      <td>7</td>\n    </tr>\n    <tr>\n      <th>161829</th>\n      <td>fffe79e1af75d29bf334a4ef95fa9a2a</td>\n      <td>MYA</td>\n      <td>MYF</td>\n      <td>299.000000</td>\n      <td>0.117000</td>\n      <td>7</td>\n    </tr>\n    <tr>\n      <th>161830</th>\n      <td>fffe9bf58fbaacabe99822f3e93131e8</td>\n      <td>NONPACK</td>\n      <td>NONPACK</td>\n      <td>11520.000000</td>\n      <td>1.710000</td>\n      <td>3</td>\n    </tr>\n    <tr>\n      <th>161831</th>\n      <td>fffeddf26950ed3aad1128184af5300f</td>\n      <td>MYB</td>\n      <td>YMA</td>\n      <td>1472.000000</td>\n      <td>0.189000</td>\n      <td>5</td>\n    </tr>\n  </tbody>\n</table>\n<p>161832 rows × 6 columns</p>\n</div>"
     },
     "execution_count": 26,
     "metadata": {},
     "output_type": "execute_result"
    }
   ],
   "source": [
    "orders_agg = orders.groupby(ORDER_COLUMN).agg({TARGET_COLUMN: lambda x: pd.Series.mode(x)[0],\n",
    "                                'recommended_cartontype': lambda x: pd.Series.mode(x)[0],\n",
    "                                'pack_volume': 'mean',\n",
    "                                'goods_wght': 'mean',\n",
    "                                'sku': 'count'}).reset_index()\n",
    "orders_agg = orders_agg.rename(columns={'sku': 'items_count'})\n",
    "orders_agg"
   ],
   "metadata": {
    "collapsed": false,
    "ExecuteTime": {
     "end_time": "2023-10-11T14:09:52.142233Z",
     "start_time": "2023-10-11T14:09:40.704699Z"
    }
   }
  },
  {
   "cell_type": "code",
   "execution_count": 27,
   "outputs": [
    {
     "data": {
      "text/plain": "selected_cartontype\nMYB        40052\nMYC        29737\nNONPACK    18952\nMYA        14722\nMYD        13659\nSTRETCH    10016\nYMC         8236\nYMA         6878\nMYE         4708\nYMF         4364\nYMW         3986\nYMG         3930\nYME         1458\nMYF          794\nYML          203\nYMX          136\nYMB            1\nName: count, dtype: int64"
     },
     "execution_count": 27,
     "metadata": {},
     "output_type": "execute_result"
    }
   ],
   "source": [
    "orders_agg[TARGET_COLUMN].value_counts()"
   ],
   "metadata": {
    "collapsed": false,
    "ExecuteTime": {
     "end_time": "2023-10-11T14:09:52.149162Z",
     "start_time": "2023-10-11T14:09:52.146813Z"
    }
   }
  },
  {
   "cell_type": "code",
   "execution_count": 28,
   "outputs": [
    {
     "data": {
      "text/plain": "recommended_cartontype\nYMA        31105\nYMC        18373\nMYC        16882\nMYA        13953\nNONPACK    13029\nYMF        10335\nMYF        10266\nMYB         9821\nYMG         8718\nYMW         5778\nMYD         4958\nYML         4739\nYME         4701\nMYE         2535\nYMX         1919\nSTRETCH     1589\nYMU          853\nYMB          825\nYMT          604\nYMI          287\nYMP          286\nYMV          276\nName: count, dtype: int64"
     },
     "execution_count": 28,
     "metadata": {},
     "output_type": "execute_result"
    }
   ],
   "source": [
    "orders_agg['recommended_cartontype'].value_counts()"
   ],
   "metadata": {
    "collapsed": false,
    "ExecuteTime": {
     "end_time": "2023-10-11T14:09:52.180146Z",
     "start_time": "2023-10-11T14:09:52.155606Z"
    }
   }
  },
  {
   "cell_type": "markdown",
   "source": [
    " Merging tables"
   ],
   "metadata": {
    "collapsed": false
   }
  },
  {
   "cell_type": "code",
   "execution_count": 29,
   "outputs": [
    {
     "data": {
      "text/plain": "                              trackingid selected_cartontype  \\\n0       000086e759f059d7373bb1d332392f1c                 MYB   \n1       0000d2725b0d7c18bfa85dba8fe3fc75                 MYC   \n2       0000eabbdb272c339beef96b96fe71bc                 MYC   \n3       00023dc128414e21b2f9f8307f627433                 MYA   \n4       0002506b15b27d032de84e195747c3e7                 MYB   \n...                                  ...                 ...   \n161827  fffc476844e0e3f8b8d465167e400ed9                 MYB   \n161828  fffd2173857cc77c022234e36e28cdad                 MYC   \n161829  fffe79e1af75d29bf334a4ef95fa9a2a                 MYA   \n161830  fffe9bf58fbaacabe99822f3e93131e8             NONPACK   \n161831  fffeddf26950ed3aad1128184af5300f                 MYB   \n\n       recommended_cartontype   pack_volume  goods_wght  items_count  w0  w1  \\\n0                         MYC   2439.000000    1.027000            3   0   0   \n1                         MYC   5698.000000    0.256000            2   0   0   \n2                         MYC    485.833333    0.186667           12   0   0   \n3                         MYA     18.000000    0.010000            8   0   0   \n4                         YMA   1428.000000    0.285000            6   0   0   \n...                       ...           ...         ...          ...  ..  ..   \n161827                    MYA    204.000000    0.127273           11   0   0   \n161828                    MYC   2184.000000    0.400000            7   0   0   \n161829                    MYF    299.000000    0.117000            7   0   0   \n161830                NONPACK  11520.000000    1.710000            3   0   0   \n161831                    YMA   1472.000000    0.189000            5   0   0   \n\n        w10  w100  ...  ct911.0  ct920.0  ct930.0  ct931.0  ct950.0  ct955.0  \\\n0         0     0  ...        0        0        0        0        0        0   \n1         0     0  ...        0        0        0        0        0        0   \n2         2     0  ...        0        0        0        0        1        0   \n3         0     0  ...        0        0        0        0        0        1   \n4         0     0  ...        0        0        0        0        0        0   \n...     ...   ...  ...      ...      ...      ...      ...      ...      ...   \n161827    0     0  ...        0        0        0        0        0        0   \n161828    0     0  ...        0        0        0        0        0        0   \n161829    0     0  ...        0        0        0        0        0        0   \n161830    0     0  ...        0        0        0        0        1        0   \n161831    0     0  ...        0        0        0        0        0        0   \n\n        ct960.0  ct970.0  ct980.0  ct990.0  \n0             0        0        0        0  \n1             0        0        0        0  \n2             0        1        0        0  \n3             0        0        0        0  \n4             0        0        0        0  \n...         ...      ...      ...      ...  \n161827        0        0        0        0  \n161828        0        0        0        0  \n161829        0        0        0        0  \n161830        0        0        0        0  \n161831        0        0        0        0  \n\n[161832 rows x 568 columns]",
      "text/html": "<div>\n<style scoped>\n    .dataframe tbody tr th:only-of-type {\n        vertical-align: middle;\n    }\n\n    .dataframe tbody tr th {\n        vertical-align: top;\n    }\n\n    .dataframe thead th {\n        text-align: right;\n    }\n</style>\n<table border=\"1\" class=\"dataframe\">\n  <thead>\n    <tr style=\"text-align: right;\">\n      <th></th>\n      <th>trackingid</th>\n      <th>selected_cartontype</th>\n      <th>recommended_cartontype</th>\n      <th>pack_volume</th>\n      <th>goods_wght</th>\n      <th>items_count</th>\n      <th>w0</th>\n      <th>w1</th>\n      <th>w10</th>\n      <th>w100</th>\n      <th>...</th>\n      <th>ct911.0</th>\n      <th>ct920.0</th>\n      <th>ct930.0</th>\n      <th>ct931.0</th>\n      <th>ct950.0</th>\n      <th>ct955.0</th>\n      <th>ct960.0</th>\n      <th>ct970.0</th>\n      <th>ct980.0</th>\n      <th>ct990.0</th>\n    </tr>\n  </thead>\n  <tbody>\n    <tr>\n      <th>0</th>\n      <td>000086e759f059d7373bb1d332392f1c</td>\n      <td>MYB</td>\n      <td>MYC</td>\n      <td>2439.000000</td>\n      <td>1.027000</td>\n      <td>3</td>\n      <td>0</td>\n      <td>0</td>\n      <td>0</td>\n      <td>0</td>\n      <td>...</td>\n      <td>0</td>\n      <td>0</td>\n      <td>0</td>\n      <td>0</td>\n      <td>0</td>\n      <td>0</td>\n      <td>0</td>\n      <td>0</td>\n      <td>0</td>\n      <td>0</td>\n    </tr>\n    <tr>\n      <th>1</th>\n      <td>0000d2725b0d7c18bfa85dba8fe3fc75</td>\n      <td>MYC</td>\n      <td>MYC</td>\n      <td>5698.000000</td>\n      <td>0.256000</td>\n      <td>2</td>\n      <td>0</td>\n      <td>0</td>\n      <td>0</td>\n      <td>0</td>\n      <td>...</td>\n      <td>0</td>\n      <td>0</td>\n      <td>0</td>\n      <td>0</td>\n      <td>0</td>\n      <td>0</td>\n      <td>0</td>\n      <td>0</td>\n      <td>0</td>\n      <td>0</td>\n    </tr>\n    <tr>\n      <th>2</th>\n      <td>0000eabbdb272c339beef96b96fe71bc</td>\n      <td>MYC</td>\n      <td>MYC</td>\n      <td>485.833333</td>\n      <td>0.186667</td>\n      <td>12</td>\n      <td>0</td>\n      <td>0</td>\n      <td>2</td>\n      <td>0</td>\n      <td>...</td>\n      <td>0</td>\n      <td>0</td>\n      <td>0</td>\n      <td>0</td>\n      <td>1</td>\n      <td>0</td>\n      <td>0</td>\n      <td>1</td>\n      <td>0</td>\n      <td>0</td>\n    </tr>\n    <tr>\n      <th>3</th>\n      <td>00023dc128414e21b2f9f8307f627433</td>\n      <td>MYA</td>\n      <td>MYA</td>\n      <td>18.000000</td>\n      <td>0.010000</td>\n      <td>8</td>\n      <td>0</td>\n      <td>0</td>\n      <td>0</td>\n      <td>0</td>\n      <td>...</td>\n      <td>0</td>\n      <td>0</td>\n      <td>0</td>\n      <td>0</td>\n      <td>0</td>\n      <td>1</td>\n      <td>0</td>\n      <td>0</td>\n      <td>0</td>\n      <td>0</td>\n    </tr>\n    <tr>\n      <th>4</th>\n      <td>0002506b15b27d032de84e195747c3e7</td>\n      <td>MYB</td>\n      <td>YMA</td>\n      <td>1428.000000</td>\n      <td>0.285000</td>\n      <td>6</td>\n      <td>0</td>\n      <td>0</td>\n      <td>0</td>\n      <td>0</td>\n      <td>...</td>\n      <td>0</td>\n      <td>0</td>\n      <td>0</td>\n      <td>0</td>\n      <td>0</td>\n      <td>0</td>\n      <td>0</td>\n      <td>0</td>\n      <td>0</td>\n      <td>0</td>\n    </tr>\n    <tr>\n      <th>...</th>\n      <td>...</td>\n      <td>...</td>\n      <td>...</td>\n      <td>...</td>\n      <td>...</td>\n      <td>...</td>\n      <td>...</td>\n      <td>...</td>\n      <td>...</td>\n      <td>...</td>\n      <td>...</td>\n      <td>...</td>\n      <td>...</td>\n      <td>...</td>\n      <td>...</td>\n      <td>...</td>\n      <td>...</td>\n      <td>...</td>\n      <td>...</td>\n      <td>...</td>\n      <td>...</td>\n    </tr>\n    <tr>\n      <th>161827</th>\n      <td>fffc476844e0e3f8b8d465167e400ed9</td>\n      <td>MYB</td>\n      <td>MYA</td>\n      <td>204.000000</td>\n      <td>0.127273</td>\n      <td>11</td>\n      <td>0</td>\n      <td>0</td>\n      <td>0</td>\n      <td>0</td>\n      <td>...</td>\n      <td>0</td>\n      <td>0</td>\n      <td>0</td>\n      <td>0</td>\n      <td>0</td>\n      <td>0</td>\n      <td>0</td>\n      <td>0</td>\n      <td>0</td>\n      <td>0</td>\n    </tr>\n    <tr>\n      <th>161828</th>\n      <td>fffd2173857cc77c022234e36e28cdad</td>\n      <td>MYC</td>\n      <td>MYC</td>\n      <td>2184.000000</td>\n      <td>0.400000</td>\n      <td>7</td>\n      <td>0</td>\n      <td>0</td>\n      <td>0</td>\n      <td>0</td>\n      <td>...</td>\n      <td>0</td>\n      <td>0</td>\n      <td>0</td>\n      <td>0</td>\n      <td>0</td>\n      <td>0</td>\n      <td>0</td>\n      <td>0</td>\n      <td>0</td>\n      <td>0</td>\n    </tr>\n    <tr>\n      <th>161829</th>\n      <td>fffe79e1af75d29bf334a4ef95fa9a2a</td>\n      <td>MYA</td>\n      <td>MYF</td>\n      <td>299.000000</td>\n      <td>0.117000</td>\n      <td>7</td>\n      <td>0</td>\n      <td>0</td>\n      <td>0</td>\n      <td>0</td>\n      <td>...</td>\n      <td>0</td>\n      <td>0</td>\n      <td>0</td>\n      <td>0</td>\n      <td>0</td>\n      <td>0</td>\n      <td>0</td>\n      <td>0</td>\n      <td>0</td>\n      <td>0</td>\n    </tr>\n    <tr>\n      <th>161830</th>\n      <td>fffe9bf58fbaacabe99822f3e93131e8</td>\n      <td>NONPACK</td>\n      <td>NONPACK</td>\n      <td>11520.000000</td>\n      <td>1.710000</td>\n      <td>3</td>\n      <td>0</td>\n      <td>0</td>\n      <td>0</td>\n      <td>0</td>\n      <td>...</td>\n      <td>0</td>\n      <td>0</td>\n      <td>0</td>\n      <td>0</td>\n      <td>1</td>\n      <td>0</td>\n      <td>0</td>\n      <td>0</td>\n      <td>0</td>\n      <td>0</td>\n    </tr>\n    <tr>\n      <th>161831</th>\n      <td>fffeddf26950ed3aad1128184af5300f</td>\n      <td>MYB</td>\n      <td>YMA</td>\n      <td>1472.000000</td>\n      <td>0.189000</td>\n      <td>5</td>\n      <td>0</td>\n      <td>0</td>\n      <td>0</td>\n      <td>0</td>\n      <td>...</td>\n      <td>0</td>\n      <td>0</td>\n      <td>0</td>\n      <td>0</td>\n      <td>0</td>\n      <td>0</td>\n      <td>0</td>\n      <td>0</td>\n      <td>0</td>\n      <td>0</td>\n    </tr>\n  </tbody>\n</table>\n<p>161832 rows × 568 columns</p>\n</div>"
     },
     "execution_count": 29,
     "metadata": {},
     "output_type": "execute_result"
    }
   ],
   "source": [
    "orders_agg = orders_agg.merge(orders_w_cnt, on=ORDER_COLUMN, how='inner')\n",
    "orders_agg = orders_agg.merge(orders_h_cnt, on=ORDER_COLUMN, how='inner')\n",
    "orders_agg = orders_agg.merge(orders_d_cnt, on=ORDER_COLUMN, how='inner')\n",
    "orders_agg = orders_agg.merge(orders_ct_cnt, on=ORDER_COLUMN, how='inner')\n",
    "orders_agg"
   ],
   "metadata": {
    "collapsed": false,
    "ExecuteTime": {
     "end_time": "2023-10-11T14:09:53.984582Z",
     "start_time": "2023-10-11T14:09:52.159627Z"
    }
   }
  },
  {
   "cell_type": "markdown",
   "source": [
    "## Modeling"
   ],
   "metadata": {
    "collapsed": false
   }
  },
  {
   "cell_type": "code",
   "execution_count": 30,
   "outputs": [],
   "source": [
    "orders_agg = orders_agg.drop(ORDER_COLUMN, axis=1)"
   ],
   "metadata": {
    "collapsed": false,
    "ExecuteTime": {
     "end_time": "2023-10-11T14:09:54.294298Z",
     "start_time": "2023-10-11T14:09:53.974618Z"
    }
   }
  },
  {
   "cell_type": "code",
   "execution_count": 31,
   "outputs": [],
   "source": [
    "# Removing box type with 1 occurence\n",
    "orders_agg = orders_agg.loc[orders_agg[TARGET_COLUMN] != 'YMB']"
   ],
   "metadata": {
    "collapsed": false,
    "ExecuteTime": {
     "end_time": "2023-10-11T14:09:54.581972Z",
     "start_time": "2023-10-11T14:09:54.183852Z"
    }
   }
  },
  {
   "cell_type": "code",
   "execution_count": 32,
   "outputs": [],
   "source": [
    "X = orders_agg.drop(['recommended_cartontype', TARGET_COLUMN], axis=1).reset_index(drop=True)\n",
    "y = orders_agg[TARGET_COLUMN]\n",
    "y_rec_algo = orders_agg['recommended_cartontype']"
   ],
   "metadata": {
    "collapsed": false,
    "ExecuteTime": {
     "end_time": "2023-10-11T14:09:55.751051Z",
     "start_time": "2023-10-11T14:09:54.575708Z"
    }
   }
  },
  {
   "cell_type": "code",
   "execution_count": 33,
   "outputs": [],
   "source": [
    "# Using OrdinalEncoder because of unknown values in recommender carton type\n",
    "ord_encoder = OrdinalEncoder(handle_unknown='use_encoded_value', unknown_value=-1)\n",
    "\n",
    "# Encoding before split to make startification by target\n",
    "y = ord_encoder.fit_transform(y.values.reshape(-1, 1))\n",
    "y_rec_algo = ord_encoder.transform(y_rec_algo.values.reshape(-1, 1))"
   ],
   "metadata": {
    "collapsed": false,
    "ExecuteTime": {
     "end_time": "2023-10-11T14:09:55.784648Z",
     "start_time": "2023-10-11T14:09:55.748626Z"
    }
   }
  },
  {
   "cell_type": "code",
   "execution_count": 34,
   "outputs": [],
   "source": [
    "X_train, y_train, X_test, y_test = iterative_train_test_split(X.values, y, test_size = 0.2)\n",
    "y_rec_algo_train, y_comp_train, y_rec_algo_test, y_comp_test = iterative_train_test_split(y_rec_algo, y, test_size = 0.2)"
   ],
   "metadata": {
    "collapsed": false,
    "ExecuteTime": {
     "end_time": "2023-10-11T14:12:29.034056Z",
     "start_time": "2023-10-11T14:09:55.784776Z"
    }
   }
  },
  {
   "cell_type": "code",
   "execution_count": 35,
   "outputs": [
    {
     "data": {
      "text/plain": "True"
     },
     "execution_count": 35,
     "metadata": {},
     "output_type": "execute_result"
    }
   ],
   "source": [
    "(y_comp_test==y_test).all()"
   ],
   "metadata": {
    "collapsed": false,
    "ExecuteTime": {
     "end_time": "2023-10-11T14:12:29.041870Z",
     "start_time": "2023-10-11T14:12:29.034694Z"
    }
   }
  },
  {
   "cell_type": "code",
   "execution_count": 36,
   "outputs": [
    {
     "name": "stdout",
     "output_type": "stream",
     "text": [
      "CPU times: user 1e+03 ns, sys: 0 ns, total: 1e+03 ns\n",
      "Wall time: 1.67 µs\n",
      "Learning rate set to 0.101401\n",
      "0:\tlearn: 2.4395188\ttotal: 656ms\tremaining: 10m 55s\n",
      "1:\tlearn: 2.2682655\ttotal: 1.3s\tremaining: 10m 46s\n",
      "2:\tlearn: 2.1421884\ttotal: 1.92s\tremaining: 10m 37s\n",
      "3:\tlearn: 2.0508663\ttotal: 2.55s\tremaining: 10m 35s\n",
      "4:\tlearn: 1.9732353\ttotal: 3.18s\tremaining: 10m 33s\n",
      "5:\tlearn: 1.9113603\ttotal: 3.81s\tremaining: 10m 32s\n",
      "6:\tlearn: 1.8612527\ttotal: 4.42s\tremaining: 10m 27s\n",
      "7:\tlearn: 1.8173865\ttotal: 5.03s\tremaining: 10m 23s\n",
      "8:\tlearn: 1.7774669\ttotal: 5.71s\tremaining: 10m 28s\n",
      "9:\tlearn: 1.7455759\ttotal: 6.38s\tremaining: 10m 31s\n",
      "10:\tlearn: 1.7184582\ttotal: 7.04s\tremaining: 10m 32s\n",
      "11:\tlearn: 1.6948821\ttotal: 7.73s\tremaining: 10m 36s\n",
      "12:\tlearn: 1.6711489\ttotal: 8.39s\tremaining: 10m 37s\n",
      "13:\tlearn: 1.6540221\ttotal: 9.14s\tremaining: 10m 43s\n",
      "14:\tlearn: 1.6357559\ttotal: 9.82s\tremaining: 10m 44s\n",
      "15:\tlearn: 1.6210600\ttotal: 10.6s\tremaining: 10m 49s\n",
      "16:\tlearn: 1.6098103\ttotal: 11.3s\tremaining: 10m 52s\n",
      "17:\tlearn: 1.5963673\ttotal: 12s\tremaining: 10m 52s\n",
      "18:\tlearn: 1.5837404\ttotal: 12.7s\tremaining: 10m 54s\n",
      "19:\tlearn: 1.5738309\ttotal: 13.5s\tremaining: 10m 59s\n",
      "20:\tlearn: 1.5642728\ttotal: 14.2s\tremaining: 11m\n",
      "21:\tlearn: 1.5560429\ttotal: 14.9s\tremaining: 11m 4s\n",
      "22:\tlearn: 1.5481535\ttotal: 15.7s\tremaining: 11m 5s\n",
      "23:\tlearn: 1.5407119\ttotal: 16.4s\tremaining: 11m 8s\n",
      "24:\tlearn: 1.5334330\ttotal: 17.2s\tremaining: 11m 9s\n",
      "25:\tlearn: 1.5301798\ttotal: 18s\tremaining: 11m 14s\n",
      "26:\tlearn: 1.5254929\ttotal: 18.8s\tremaining: 11m 17s\n",
      "27:\tlearn: 1.5207320\ttotal: 19.6s\tremaining: 11m 21s\n",
      "28:\tlearn: 1.5163889\ttotal: 20.4s\tremaining: 11m 23s\n",
      "29:\tlearn: 1.5115095\ttotal: 21.2s\tremaining: 11m 24s\n",
      "30:\tlearn: 1.5053616\ttotal: 21.9s\tremaining: 11m 23s\n",
      "31:\tlearn: 1.5013863\ttotal: 22.6s\tremaining: 11m 24s\n",
      "32:\tlearn: 1.4975174\ttotal: 23.5s\tremaining: 11m 27s\n",
      "33:\tlearn: 1.4942527\ttotal: 24.3s\tremaining: 11m 29s\n",
      "34:\tlearn: 1.4903062\ttotal: 25s\tremaining: 11m 29s\n",
      "35:\tlearn: 1.4883305\ttotal: 25.9s\tremaining: 11m 34s\n",
      "36:\tlearn: 1.4864454\ttotal: 26.8s\tremaining: 11m 37s\n",
      "37:\tlearn: 1.4845304\ttotal: 27.6s\tremaining: 11m 39s\n",
      "38:\tlearn: 1.4814008\ttotal: 28.4s\tremaining: 11m 38s\n",
      "39:\tlearn: 1.4790929\ttotal: 29.1s\tremaining: 11m 39s\n",
      "40:\tlearn: 1.4769108\ttotal: 29.9s\tremaining: 11m 40s\n",
      "41:\tlearn: 1.4746447\ttotal: 30.7s\tremaining: 11m 39s\n",
      "42:\tlearn: 1.4721538\ttotal: 31.4s\tremaining: 11m 39s\n",
      "43:\tlearn: 1.4713895\ttotal: 32.3s\tremaining: 11m 41s\n",
      "44:\tlearn: 1.4689698\ttotal: 33.1s\tremaining: 11m 42s\n",
      "45:\tlearn: 1.4680471\ttotal: 34s\tremaining: 11m 44s\n",
      "46:\tlearn: 1.4658039\ttotal: 34.8s\tremaining: 11m 45s\n",
      "47:\tlearn: 1.4643933\ttotal: 35.6s\tremaining: 11m 46s\n",
      "48:\tlearn: 1.4628832\ttotal: 36.5s\tremaining: 11m 47s\n",
      "49:\tlearn: 1.4609776\ttotal: 37.3s\tremaining: 11m 48s\n",
      "50:\tlearn: 1.4590458\ttotal: 38s\tremaining: 11m 47s\n",
      "51:\tlearn: 1.4572065\ttotal: 38.8s\tremaining: 11m 47s\n",
      "52:\tlearn: 1.4562897\ttotal: 39.6s\tremaining: 11m 48s\n",
      "53:\tlearn: 1.4552613\ttotal: 40.5s\tremaining: 11m 49s\n",
      "54:\tlearn: 1.4541954\ttotal: 41.3s\tremaining: 11m 50s\n",
      "55:\tlearn: 1.4522772\ttotal: 42.1s\tremaining: 11m 50s\n",
      "56:\tlearn: 1.4511816\ttotal: 42.9s\tremaining: 11m 50s\n",
      "57:\tlearn: 1.4504589\ttotal: 43.8s\tremaining: 11m 51s\n",
      "58:\tlearn: 1.4493851\ttotal: 44.6s\tremaining: 11m 51s\n",
      "59:\tlearn: 1.4485331\ttotal: 45.5s\tremaining: 11m 52s\n",
      "60:\tlearn: 1.4468612\ttotal: 46.3s\tremaining: 11m 53s\n",
      "61:\tlearn: 1.4457787\ttotal: 47.2s\tremaining: 11m 54s\n",
      "62:\tlearn: 1.4445125\ttotal: 47.9s\tremaining: 11m 52s\n",
      "63:\tlearn: 1.4437531\ttotal: 48.7s\tremaining: 11m 52s\n",
      "64:\tlearn: 1.4430025\ttotal: 49.6s\tremaining: 11m 52s\n",
      "65:\tlearn: 1.4416185\ttotal: 50.4s\tremaining: 11m 52s\n",
      "66:\tlearn: 1.4406298\ttotal: 51.1s\tremaining: 11m 51s\n",
      "67:\tlearn: 1.4396779\ttotal: 51.9s\tremaining: 11m 52s\n",
      "68:\tlearn: 1.4391632\ttotal: 52.8s\tremaining: 11m 52s\n",
      "69:\tlearn: 1.4383826\ttotal: 53.7s\tremaining: 11m 52s\n",
      "70:\tlearn: 1.4374805\ttotal: 54.5s\tremaining: 11m 52s\n",
      "71:\tlearn: 1.4365243\ttotal: 55.3s\tremaining: 11m 52s\n",
      "72:\tlearn: 1.4362623\ttotal: 56.2s\tremaining: 11m 53s\n",
      "73:\tlearn: 1.4352913\ttotal: 57s\tremaining: 11m 53s\n",
      "74:\tlearn: 1.4349640\ttotal: 58s\tremaining: 11m 54s\n",
      "75:\tlearn: 1.4346788\ttotal: 58.9s\tremaining: 11m 55s\n",
      "76:\tlearn: 1.4340616\ttotal: 59.8s\tremaining: 11m 56s\n",
      "77:\tlearn: 1.4336914\ttotal: 1m\tremaining: 11m 57s\n",
      "78:\tlearn: 1.4330886\ttotal: 1m 1s\tremaining: 11m 58s\n",
      "79:\tlearn: 1.4322978\ttotal: 1m 2s\tremaining: 11m 57s\n",
      "80:\tlearn: 1.4316580\ttotal: 1m 3s\tremaining: 11m 57s\n",
      "81:\tlearn: 1.4313389\ttotal: 1m 4s\tremaining: 11m 57s\n",
      "82:\tlearn: 1.4308332\ttotal: 1m 4s\tremaining: 11m 57s\n",
      "83:\tlearn: 1.4302511\ttotal: 1m 5s\tremaining: 11m 57s\n",
      "84:\tlearn: 1.4299395\ttotal: 1m 6s\tremaining: 11m 57s\n",
      "85:\tlearn: 1.4295307\ttotal: 1m 7s\tremaining: 11m 57s\n",
      "86:\tlearn: 1.4287415\ttotal: 1m 8s\tremaining: 11m 57s\n",
      "87:\tlearn: 1.4283110\ttotal: 1m 9s\tremaining: 11m 58s\n",
      "88:\tlearn: 1.4280959\ttotal: 1m 10s\tremaining: 11m 58s\n",
      "89:\tlearn: 1.4278071\ttotal: 1m 11s\tremaining: 11m 58s\n",
      "90:\tlearn: 1.4273431\ttotal: 1m 11s\tremaining: 11m 58s\n",
      "91:\tlearn: 1.4268635\ttotal: 1m 12s\tremaining: 11m 59s\n",
      "92:\tlearn: 1.4264025\ttotal: 1m 13s\tremaining: 11m 58s\n",
      "93:\tlearn: 1.4257343\ttotal: 1m 14s\tremaining: 11m 59s\n",
      "94:\tlearn: 1.4253474\ttotal: 1m 15s\tremaining: 11m 59s\n",
      "95:\tlearn: 1.4250118\ttotal: 1m 16s\tremaining: 11m 59s\n",
      "96:\tlearn: 1.4240969\ttotal: 1m 17s\tremaining: 11m 58s\n",
      "97:\tlearn: 1.4234873\ttotal: 1m 18s\tremaining: 11m 58s\n",
      "98:\tlearn: 1.4225519\ttotal: 1m 18s\tremaining: 11m 57s\n",
      "99:\tlearn: 1.4211003\ttotal: 1m 19s\tremaining: 11m 55s\n",
      "100:\tlearn: 1.4207867\ttotal: 1m 20s\tremaining: 11m 55s\n",
      "101:\tlearn: 1.4206198\ttotal: 1m 21s\tremaining: 11m 54s\n",
      "102:\tlearn: 1.4196836\ttotal: 1m 21s\tremaining: 11m 54s\n",
      "103:\tlearn: 1.4188212\ttotal: 1m 22s\tremaining: 11m 53s\n",
      "104:\tlearn: 1.4183148\ttotal: 1m 23s\tremaining: 11m 52s\n",
      "105:\tlearn: 1.4174720\ttotal: 1m 24s\tremaining: 11m 52s\n",
      "106:\tlearn: 1.4169779\ttotal: 1m 25s\tremaining: 11m 51s\n",
      "107:\tlearn: 1.4160748\ttotal: 1m 26s\tremaining: 11m 51s\n",
      "108:\tlearn: 1.4155441\ttotal: 1m 26s\tremaining: 11m 50s\n",
      "109:\tlearn: 1.4148110\ttotal: 1m 27s\tremaining: 11m 50s\n",
      "110:\tlearn: 1.4144432\ttotal: 1m 28s\tremaining: 11m 50s\n",
      "111:\tlearn: 1.4139712\ttotal: 1m 29s\tremaining: 11m 49s\n",
      "112:\tlearn: 1.4133426\ttotal: 1m 30s\tremaining: 11m 48s\n",
      "113:\tlearn: 1.4129746\ttotal: 1m 31s\tremaining: 11m 48s\n",
      "114:\tlearn: 1.4125331\ttotal: 1m 31s\tremaining: 11m 47s\n",
      "115:\tlearn: 1.4119886\ttotal: 1m 32s\tremaining: 11m 47s\n",
      "116:\tlearn: 1.4117036\ttotal: 1m 33s\tremaining: 11m 46s\n",
      "117:\tlearn: 1.4109071\ttotal: 1m 34s\tremaining: 11m 45s\n",
      "118:\tlearn: 1.4106568\ttotal: 1m 35s\tremaining: 11m 45s\n",
      "119:\tlearn: 1.4103791\ttotal: 1m 36s\tremaining: 11m 44s\n",
      "120:\tlearn: 1.4094043\ttotal: 1m 36s\tremaining: 11m 43s\n",
      "121:\tlearn: 1.4086243\ttotal: 1m 37s\tremaining: 11m 42s\n",
      "122:\tlearn: 1.4076185\ttotal: 1m 38s\tremaining: 11m 40s\n",
      "123:\tlearn: 1.4070321\ttotal: 1m 39s\tremaining: 11m 40s\n",
      "124:\tlearn: 1.4067586\ttotal: 1m 39s\tremaining: 11m 39s\n",
      "125:\tlearn: 1.4062051\ttotal: 1m 40s\tremaining: 11m 38s\n",
      "126:\tlearn: 1.4055915\ttotal: 1m 41s\tremaining: 11m 37s\n",
      "127:\tlearn: 1.4043607\ttotal: 1m 42s\tremaining: 11m 36s\n",
      "128:\tlearn: 1.4036232\ttotal: 1m 42s\tremaining: 11m 35s\n",
      "129:\tlearn: 1.4028868\ttotal: 1m 43s\tremaining: 11m 33s\n",
      "130:\tlearn: 1.4022085\ttotal: 1m 44s\tremaining: 11m 32s\n",
      "131:\tlearn: 1.4020152\ttotal: 1m 45s\tremaining: 11m 32s\n",
      "132:\tlearn: 1.4013937\ttotal: 1m 46s\tremaining: 11m 31s\n",
      "133:\tlearn: 1.4005384\ttotal: 1m 46s\tremaining: 11m 30s\n",
      "134:\tlearn: 1.3999842\ttotal: 1m 47s\tremaining: 11m 29s\n",
      "135:\tlearn: 1.3993765\ttotal: 1m 48s\tremaining: 11m 28s\n",
      "136:\tlearn: 1.3990712\ttotal: 1m 49s\tremaining: 11m 27s\n",
      "137:\tlearn: 1.3987750\ttotal: 1m 50s\tremaining: 11m 27s\n",
      "138:\tlearn: 1.3983381\ttotal: 1m 50s\tremaining: 11m 26s\n",
      "139:\tlearn: 1.3980029\ttotal: 1m 51s\tremaining: 11m 25s\n",
      "140:\tlearn: 1.3976915\ttotal: 1m 52s\tremaining: 11m 25s\n",
      "141:\tlearn: 1.3972512\ttotal: 1m 53s\tremaining: 11m 24s\n",
      "142:\tlearn: 1.3967495\ttotal: 1m 54s\tremaining: 11m 23s\n",
      "143:\tlearn: 1.3962888\ttotal: 1m 54s\tremaining: 11m 23s\n",
      "144:\tlearn: 1.3955498\ttotal: 1m 55s\tremaining: 11m 22s\n",
      "145:\tlearn: 1.3949788\ttotal: 1m 56s\tremaining: 11m 21s\n",
      "146:\tlearn: 1.3938830\ttotal: 1m 57s\tremaining: 11m 19s\n",
      "147:\tlearn: 1.3936849\ttotal: 1m 57s\tremaining: 11m 18s\n",
      "148:\tlearn: 1.3933412\ttotal: 1m 58s\tremaining: 11m 18s\n",
      "149:\tlearn: 1.3927467\ttotal: 1m 59s\tremaining: 11m 17s\n",
      "150:\tlearn: 1.3922514\ttotal: 2m\tremaining: 11m 16s\n",
      "151:\tlearn: 1.3917368\ttotal: 2m 1s\tremaining: 11m 15s\n",
      "152:\tlearn: 1.3916808\ttotal: 2m 1s\tremaining: 11m 14s\n",
      "153:\tlearn: 1.3912239\ttotal: 2m 2s\tremaining: 11m 13s\n",
      "154:\tlearn: 1.3902143\ttotal: 2m 3s\tremaining: 11m 12s\n",
      "155:\tlearn: 1.3898797\ttotal: 2m 4s\tremaining: 11m 11s\n",
      "156:\tlearn: 1.3891446\ttotal: 2m 4s\tremaining: 11m 10s\n",
      "157:\tlearn: 1.3886237\ttotal: 2m 5s\tremaining: 11m 9s\n",
      "158:\tlearn: 1.3883143\ttotal: 2m 6s\tremaining: 11m 9s\n",
      "159:\tlearn: 1.3880352\ttotal: 2m 7s\tremaining: 11m 8s\n",
      "160:\tlearn: 1.3877279\ttotal: 2m 8s\tremaining: 11m 7s\n",
      "161:\tlearn: 1.3871700\ttotal: 2m 8s\tremaining: 11m 6s\n",
      "162:\tlearn: 1.3870257\ttotal: 2m 9s\tremaining: 11m 6s\n",
      "163:\tlearn: 1.3865634\ttotal: 2m 10s\tremaining: 11m 5s\n",
      "164:\tlearn: 1.3862602\ttotal: 2m 11s\tremaining: 11m 4s\n",
      "165:\tlearn: 1.3860183\ttotal: 2m 12s\tremaining: 11m 4s\n",
      "166:\tlearn: 1.3857465\ttotal: 2m 13s\tremaining: 11m 3s\n",
      "167:\tlearn: 1.3855095\ttotal: 2m 13s\tremaining: 11m 2s\n",
      "168:\tlearn: 1.3851804\ttotal: 2m 14s\tremaining: 11m 2s\n",
      "169:\tlearn: 1.3844047\ttotal: 2m 15s\tremaining: 11m 1s\n",
      "170:\tlearn: 1.3837260\ttotal: 2m 16s\tremaining: 10m 59s\n",
      "171:\tlearn: 1.3836207\ttotal: 2m 16s\tremaining: 10m 59s\n",
      "172:\tlearn: 1.3827776\ttotal: 2m 17s\tremaining: 10m 58s\n",
      "173:\tlearn: 1.3823946\ttotal: 2m 18s\tremaining: 10m 57s\n",
      "174:\tlearn: 1.3821326\ttotal: 2m 19s\tremaining: 10m 56s\n",
      "175:\tlearn: 1.3818532\ttotal: 2m 20s\tremaining: 10m 56s\n",
      "176:\tlearn: 1.3812946\ttotal: 2m 20s\tremaining: 10m 55s\n",
      "177:\tlearn: 1.3810076\ttotal: 2m 21s\tremaining: 10m 54s\n",
      "178:\tlearn: 1.3805402\ttotal: 2m 22s\tremaining: 10m 53s\n",
      "179:\tlearn: 1.3800627\ttotal: 2m 23s\tremaining: 10m 52s\n",
      "180:\tlearn: 1.3797319\ttotal: 2m 24s\tremaining: 10m 52s\n",
      "181:\tlearn: 1.3792764\ttotal: 2m 24s\tremaining: 10m 51s\n",
      "182:\tlearn: 1.3788241\ttotal: 2m 25s\tremaining: 10m 50s\n",
      "183:\tlearn: 1.3786150\ttotal: 2m 26s\tremaining: 10m 49s\n",
      "184:\tlearn: 1.3782910\ttotal: 2m 27s\tremaining: 10m 49s\n",
      "185:\tlearn: 1.3780516\ttotal: 2m 28s\tremaining: 10m 48s\n",
      "186:\tlearn: 1.3778313\ttotal: 2m 28s\tremaining: 10m 47s\n",
      "187:\tlearn: 1.3772117\ttotal: 2m 29s\tremaining: 10m 46s\n",
      "188:\tlearn: 1.3769519\ttotal: 2m 30s\tremaining: 10m 46s\n",
      "189:\tlearn: 1.3767976\ttotal: 2m 31s\tremaining: 10m 45s\n",
      "190:\tlearn: 1.3766458\ttotal: 2m 32s\tremaining: 10m 45s\n",
      "191:\tlearn: 1.3762350\ttotal: 2m 33s\tremaining: 10m 44s\n",
      "192:\tlearn: 1.3759176\ttotal: 2m 33s\tremaining: 10m 43s\n",
      "193:\tlearn: 1.3754993\ttotal: 2m 34s\tremaining: 10m 42s\n",
      "194:\tlearn: 1.3748887\ttotal: 2m 35s\tremaining: 10m 41s\n",
      "195:\tlearn: 1.3746957\ttotal: 2m 36s\tremaining: 10m 41s\n",
      "196:\tlearn: 1.3739257\ttotal: 2m 37s\tremaining: 10m 40s\n",
      "197:\tlearn: 1.3736075\ttotal: 2m 37s\tremaining: 10m 39s\n",
      "198:\tlearn: 1.3734922\ttotal: 2m 38s\tremaining: 10m 38s\n",
      "199:\tlearn: 1.3733239\ttotal: 2m 39s\tremaining: 10m 38s\n",
      "200:\tlearn: 1.3731253\ttotal: 2m 40s\tremaining: 10m 37s\n",
      "201:\tlearn: 1.3726758\ttotal: 2m 41s\tremaining: 10m 36s\n",
      "202:\tlearn: 1.3722068\ttotal: 2m 41s\tremaining: 10m 35s\n",
      "203:\tlearn: 1.3720734\ttotal: 2m 42s\tremaining: 10m 34s\n",
      "204:\tlearn: 1.3719445\ttotal: 2m 43s\tremaining: 10m 34s\n",
      "205:\tlearn: 1.3716606\ttotal: 2m 44s\tremaining: 10m 33s\n",
      "206:\tlearn: 1.3713809\ttotal: 2m 45s\tremaining: 10m 32s\n",
      "207:\tlearn: 1.3711369\ttotal: 2m 45s\tremaining: 10m 31s\n",
      "208:\tlearn: 1.3708108\ttotal: 2m 46s\tremaining: 10m 31s\n",
      "209:\tlearn: 1.3705960\ttotal: 2m 47s\tremaining: 10m 30s\n",
      "210:\tlearn: 1.3702929\ttotal: 2m 48s\tremaining: 10m 29s\n",
      "211:\tlearn: 1.3699640\ttotal: 2m 49s\tremaining: 10m 28s\n",
      "212:\tlearn: 1.3697184\ttotal: 2m 50s\tremaining: 10m 28s\n",
      "213:\tlearn: 1.3692924\ttotal: 2m 50s\tremaining: 10m 27s\n",
      "214:\tlearn: 1.3689103\ttotal: 2m 51s\tremaining: 10m 26s\n",
      "215:\tlearn: 1.3686574\ttotal: 2m 52s\tremaining: 10m 25s\n",
      "216:\tlearn: 1.3682829\ttotal: 2m 53s\tremaining: 10m 25s\n",
      "217:\tlearn: 1.3680431\ttotal: 2m 54s\tremaining: 10m 24s\n",
      "218:\tlearn: 1.3677235\ttotal: 2m 54s\tremaining: 10m 23s\n",
      "219:\tlearn: 1.3675476\ttotal: 2m 55s\tremaining: 10m 22s\n",
      "220:\tlearn: 1.3674385\ttotal: 2m 56s\tremaining: 10m 22s\n",
      "221:\tlearn: 1.3670776\ttotal: 2m 57s\tremaining: 10m 21s\n",
      "222:\tlearn: 1.3670251\ttotal: 2m 58s\tremaining: 10m 20s\n",
      "223:\tlearn: 1.3669193\ttotal: 2m 58s\tremaining: 10m 19s\n",
      "224:\tlearn: 1.3666601\ttotal: 2m 59s\tremaining: 10m 19s\n",
      "225:\tlearn: 1.3664036\ttotal: 3m\tremaining: 10m 18s\n",
      "226:\tlearn: 1.3661118\ttotal: 3m 1s\tremaining: 10m 17s\n",
      "227:\tlearn: 1.3658035\ttotal: 3m 2s\tremaining: 10m 16s\n",
      "228:\tlearn: 1.3654187\ttotal: 3m 3s\tremaining: 10m 16s\n",
      "229:\tlearn: 1.3652385\ttotal: 3m 3s\tremaining: 10m 15s\n",
      "230:\tlearn: 1.3650374\ttotal: 3m 4s\tremaining: 10m 14s\n",
      "231:\tlearn: 1.3647868\ttotal: 3m 5s\tremaining: 10m 14s\n",
      "232:\tlearn: 1.3646336\ttotal: 3m 6s\tremaining: 10m 13s\n",
      "233:\tlearn: 1.3644779\ttotal: 3m 7s\tremaining: 10m 12s\n",
      "234:\tlearn: 1.3642908\ttotal: 3m 7s\tremaining: 10m 11s\n",
      "235:\tlearn: 1.3641249\ttotal: 3m 8s\tremaining: 10m 11s\n",
      "236:\tlearn: 1.3639823\ttotal: 3m 9s\tremaining: 10m 10s\n",
      "237:\tlearn: 1.3639309\ttotal: 3m 10s\tremaining: 10m 9s\n",
      "238:\tlearn: 1.3637806\ttotal: 3m 11s\tremaining: 10m 9s\n",
      "239:\tlearn: 1.3634279\ttotal: 3m 12s\tremaining: 10m 8s\n",
      "240:\tlearn: 1.3629785\ttotal: 3m 12s\tremaining: 10m 7s\n",
      "241:\tlearn: 1.3627959\ttotal: 3m 13s\tremaining: 10m 6s\n",
      "242:\tlearn: 1.3623621\ttotal: 3m 14s\tremaining: 10m 5s\n",
      "243:\tlearn: 1.3621281\ttotal: 3m 15s\tremaining: 10m 5s\n",
      "244:\tlearn: 1.3617687\ttotal: 3m 16s\tremaining: 10m 4s\n",
      "245:\tlearn: 1.3614659\ttotal: 3m 16s\tremaining: 10m 3s\n",
      "246:\tlearn: 1.3613137\ttotal: 3m 17s\tremaining: 10m 2s\n",
      "247:\tlearn: 1.3611984\ttotal: 3m 18s\tremaining: 10m 2s\n",
      "248:\tlearn: 1.3610661\ttotal: 3m 19s\tremaining: 10m 1s\n",
      "249:\tlearn: 1.3608323\ttotal: 3m 20s\tremaining: 10m\n",
      "250:\tlearn: 1.3606046\ttotal: 3m 21s\tremaining: 10m\n",
      "251:\tlearn: 1.3603739\ttotal: 3m 22s\tremaining: 9m 59s\n",
      "252:\tlearn: 1.3602339\ttotal: 3m 22s\tremaining: 9m 59s\n",
      "253:\tlearn: 1.3601314\ttotal: 3m 23s\tremaining: 9m 58s\n",
      "254:\tlearn: 1.3599446\ttotal: 3m 24s\tremaining: 9m 57s\n",
      "255:\tlearn: 1.3596742\ttotal: 3m 25s\tremaining: 9m 57s\n",
      "256:\tlearn: 1.3594106\ttotal: 3m 26s\tremaining: 9m 56s\n",
      "257:\tlearn: 1.3593271\ttotal: 3m 27s\tremaining: 9m 55s\n",
      "258:\tlearn: 1.3591542\ttotal: 3m 28s\tremaining: 9m 55s\n",
      "259:\tlearn: 1.3590718\ttotal: 3m 28s\tremaining: 9m 54s\n",
      "260:\tlearn: 1.3585427\ttotal: 3m 29s\tremaining: 9m 53s\n",
      "261:\tlearn: 1.3582064\ttotal: 3m 30s\tremaining: 9m 52s\n",
      "262:\tlearn: 1.3579421\ttotal: 3m 31s\tremaining: 9m 52s\n",
      "263:\tlearn: 1.3577072\ttotal: 3m 32s\tremaining: 9m 51s\n",
      "264:\tlearn: 1.3575137\ttotal: 3m 33s\tremaining: 9m 50s\n",
      "265:\tlearn: 1.3574443\ttotal: 3m 33s\tremaining: 9m 50s\n",
      "266:\tlearn: 1.3573010\ttotal: 3m 34s\tremaining: 9m 49s\n",
      "267:\tlearn: 1.3570930\ttotal: 3m 35s\tremaining: 9m 48s\n",
      "268:\tlearn: 1.3570219\ttotal: 3m 36s\tremaining: 9m 48s\n",
      "269:\tlearn: 1.3565924\ttotal: 3m 37s\tremaining: 9m 47s\n",
      "270:\tlearn: 1.3563117\ttotal: 3m 38s\tremaining: 9m 46s\n",
      "271:\tlearn: 1.3561222\ttotal: 3m 39s\tremaining: 9m 46s\n",
      "272:\tlearn: 1.3559870\ttotal: 3m 39s\tremaining: 9m 45s\n",
      "273:\tlearn: 1.3557801\ttotal: 3m 40s\tremaining: 9m 45s\n",
      "274:\tlearn: 1.3556124\ttotal: 3m 41s\tremaining: 9m 44s\n",
      "275:\tlearn: 1.3553398\ttotal: 3m 42s\tremaining: 9m 44s\n",
      "276:\tlearn: 1.3551396\ttotal: 3m 43s\tremaining: 9m 43s\n",
      "277:\tlearn: 1.3549465\ttotal: 3m 44s\tremaining: 9m 42s\n",
      "278:\tlearn: 1.3546922\ttotal: 3m 45s\tremaining: 9m 42s\n",
      "279:\tlearn: 1.3545956\ttotal: 3m 46s\tremaining: 9m 42s\n",
      "280:\tlearn: 1.3544540\ttotal: 3m 47s\tremaining: 9m 41s\n",
      "281:\tlearn: 1.3543520\ttotal: 3m 48s\tremaining: 9m 41s\n",
      "282:\tlearn: 1.3542777\ttotal: 3m 49s\tremaining: 9m 40s\n",
      "283:\tlearn: 1.3541189\ttotal: 3m 50s\tremaining: 9m 40s\n",
      "284:\tlearn: 1.3539539\ttotal: 3m 51s\tremaining: 9m 40s\n",
      "285:\tlearn: 1.3536993\ttotal: 3m 52s\tremaining: 9m 39s\n",
      "286:\tlearn: 1.3534351\ttotal: 3m 53s\tremaining: 9m 39s\n",
      "287:\tlearn: 1.3530704\ttotal: 3m 54s\tremaining: 9m 38s\n",
      "288:\tlearn: 1.3529586\ttotal: 3m 55s\tremaining: 9m 38s\n",
      "289:\tlearn: 1.3528585\ttotal: 3m 55s\tremaining: 9m 37s\n",
      "290:\tlearn: 1.3526491\ttotal: 3m 56s\tremaining: 9m 36s\n",
      "291:\tlearn: 1.3525807\ttotal: 3m 57s\tremaining: 9m 36s\n",
      "292:\tlearn: 1.3523475\ttotal: 3m 58s\tremaining: 9m 35s\n",
      "293:\tlearn: 1.3522052\ttotal: 3m 59s\tremaining: 9m 35s\n",
      "294:\tlearn: 1.3520088\ttotal: 4m\tremaining: 9m 34s\n",
      "295:\tlearn: 1.3518126\ttotal: 4m 1s\tremaining: 9m 33s\n",
      "296:\tlearn: 1.3516475\ttotal: 4m 2s\tremaining: 9m 33s\n",
      "297:\tlearn: 1.3515268\ttotal: 4m 3s\tremaining: 9m 33s\n",
      "298:\tlearn: 1.3513972\ttotal: 4m 4s\tremaining: 9m 32s\n",
      "299:\tlearn: 1.3512038\ttotal: 4m 5s\tremaining: 9m 32s\n",
      "300:\tlearn: 1.3508827\ttotal: 4m 6s\tremaining: 9m 31s\n",
      "301:\tlearn: 1.3507274\ttotal: 4m 7s\tremaining: 9m 30s\n",
      "302:\tlearn: 1.3506149\ttotal: 4m 7s\tremaining: 9m 30s\n",
      "303:\tlearn: 1.3504133\ttotal: 4m 8s\tremaining: 9m 29s\n",
      "304:\tlearn: 1.3503581\ttotal: 4m 10s\tremaining: 9m 29s\n",
      "305:\tlearn: 1.3503130\ttotal: 4m 10s\tremaining: 9m 29s\n",
      "306:\tlearn: 1.3500641\ttotal: 4m 11s\tremaining: 9m 28s\n",
      "307:\tlearn: 1.3499506\ttotal: 4m 12s\tremaining: 9m 27s\n",
      "308:\tlearn: 1.3497569\ttotal: 4m 13s\tremaining: 9m 27s\n",
      "309:\tlearn: 1.3495828\ttotal: 4m 14s\tremaining: 9m 26s\n",
      "310:\tlearn: 1.3494479\ttotal: 4m 15s\tremaining: 9m 25s\n",
      "311:\tlearn: 1.3490638\ttotal: 4m 16s\tremaining: 9m 24s\n",
      "312:\tlearn: 1.3489676\ttotal: 4m 16s\tremaining: 9m 23s\n",
      "313:\tlearn: 1.3486725\ttotal: 4m 17s\tremaining: 9m 22s\n",
      "314:\tlearn: 1.3486297\ttotal: 4m 18s\tremaining: 9m 22s\n",
      "315:\tlearn: 1.3485537\ttotal: 4m 19s\tremaining: 9m 21s\n",
      "316:\tlearn: 1.3484115\ttotal: 4m 20s\tremaining: 9m 20s\n",
      "317:\tlearn: 1.3480420\ttotal: 4m 20s\tremaining: 9m 19s\n",
      "318:\tlearn: 1.3478324\ttotal: 4m 21s\tremaining: 9m 18s\n",
      "319:\tlearn: 1.3477638\ttotal: 4m 22s\tremaining: 9m 17s\n",
      "320:\tlearn: 1.3476540\ttotal: 4m 23s\tremaining: 9m 17s\n",
      "321:\tlearn: 1.3476041\ttotal: 4m 24s\tremaining: 9m 16s\n",
      "322:\tlearn: 1.3474032\ttotal: 4m 25s\tremaining: 9m 15s\n",
      "323:\tlearn: 1.3471784\ttotal: 4m 25s\tremaining: 9m 14s\n",
      "324:\tlearn: 1.3470552\ttotal: 4m 26s\tremaining: 9m 14s\n",
      "325:\tlearn: 1.3470055\ttotal: 4m 27s\tremaining: 9m 13s\n",
      "326:\tlearn: 1.3468331\ttotal: 4m 28s\tremaining: 9m 12s\n",
      "327:\tlearn: 1.3467728\ttotal: 4m 29s\tremaining: 9m 12s\n",
      "328:\tlearn: 1.3465628\ttotal: 4m 30s\tremaining: 9m 11s\n",
      "329:\tlearn: 1.3465272\ttotal: 4m 31s\tremaining: 9m 10s\n",
      "330:\tlearn: 1.3464305\ttotal: 4m 32s\tremaining: 9m 10s\n",
      "331:\tlearn: 1.3461541\ttotal: 4m 33s\tremaining: 9m 9s\n",
      "332:\tlearn: 1.3460996\ttotal: 4m 33s\tremaining: 9m 8s\n",
      "333:\tlearn: 1.3458692\ttotal: 4m 34s\tremaining: 9m 7s\n",
      "334:\tlearn: 1.3457869\ttotal: 4m 35s\tremaining: 9m 6s\n",
      "335:\tlearn: 1.3455653\ttotal: 4m 36s\tremaining: 9m 6s\n",
      "336:\tlearn: 1.3455178\ttotal: 4m 37s\tremaining: 9m 5s\n",
      "337:\tlearn: 1.3452551\ttotal: 4m 37s\tremaining: 9m 4s\n",
      "338:\tlearn: 1.3451712\ttotal: 4m 38s\tremaining: 9m 3s\n",
      "339:\tlearn: 1.3451144\ttotal: 4m 39s\tremaining: 9m 3s\n",
      "340:\tlearn: 1.3448372\ttotal: 4m 40s\tremaining: 9m 2s\n",
      "341:\tlearn: 1.3447962\ttotal: 4m 41s\tremaining: 9m 1s\n",
      "342:\tlearn: 1.3445518\ttotal: 4m 42s\tremaining: 9m\n",
      "343:\tlearn: 1.3443813\ttotal: 4m 43s\tremaining: 8m 59s\n",
      "344:\tlearn: 1.3442230\ttotal: 4m 43s\tremaining: 8m 58s\n",
      "345:\tlearn: 1.3440441\ttotal: 4m 44s\tremaining: 8m 58s\n",
      "346:\tlearn: 1.3438270\ttotal: 4m 45s\tremaining: 8m 57s\n",
      "347:\tlearn: 1.3436103\ttotal: 4m 46s\tremaining: 8m 56s\n",
      "348:\tlearn: 1.3435067\ttotal: 4m 47s\tremaining: 8m 55s\n",
      "349:\tlearn: 1.3434570\ttotal: 4m 48s\tremaining: 8m 55s\n",
      "350:\tlearn: 1.3432944\ttotal: 4m 49s\tremaining: 8m 54s\n",
      "351:\tlearn: 1.3432618\ttotal: 4m 50s\tremaining: 8m 54s\n",
      "352:\tlearn: 1.3431568\ttotal: 4m 50s\tremaining: 8m 53s\n",
      "353:\tlearn: 1.3430777\ttotal: 4m 51s\tremaining: 8m 52s\n",
      "354:\tlearn: 1.3429043\ttotal: 4m 52s\tremaining: 8m 52s\n",
      "355:\tlearn: 1.3427959\ttotal: 4m 53s\tremaining: 8m 51s\n",
      "356:\tlearn: 1.3427717\ttotal: 4m 54s\tremaining: 8m 50s\n",
      "357:\tlearn: 1.3427468\ttotal: 4m 55s\tremaining: 8m 49s\n",
      "358:\tlearn: 1.3426919\ttotal: 4m 56s\tremaining: 8m 49s\n",
      "359:\tlearn: 1.3425759\ttotal: 4m 57s\tremaining: 8m 48s\n",
      "360:\tlearn: 1.3424133\ttotal: 4m 58s\tremaining: 8m 47s\n",
      "361:\tlearn: 1.3422088\ttotal: 4m 59s\tremaining: 8m 47s\n",
      "362:\tlearn: 1.3419823\ttotal: 4m 59s\tremaining: 8m 46s\n",
      "363:\tlearn: 1.3418935\ttotal: 5m\tremaining: 8m 45s\n",
      "364:\tlearn: 1.3416683\ttotal: 5m 1s\tremaining: 8m 44s\n",
      "365:\tlearn: 1.3415553\ttotal: 5m 2s\tremaining: 8m 43s\n",
      "366:\tlearn: 1.3412935\ttotal: 5m 3s\tremaining: 8m 42s\n",
      "367:\tlearn: 1.3412345\ttotal: 5m 4s\tremaining: 8m 42s\n",
      "368:\tlearn: 1.3409914\ttotal: 5m 4s\tremaining: 8m 41s\n",
      "369:\tlearn: 1.3407850\ttotal: 5m 5s\tremaining: 8m 40s\n",
      "370:\tlearn: 1.3407191\ttotal: 5m 6s\tremaining: 8m 39s\n",
      "371:\tlearn: 1.3406368\ttotal: 5m 7s\tremaining: 8m 38s\n",
      "372:\tlearn: 1.3406193\ttotal: 5m 8s\tremaining: 8m 38s\n",
      "373:\tlearn: 1.3405560\ttotal: 5m 9s\tremaining: 8m 37s\n",
      "374:\tlearn: 1.3403985\ttotal: 5m 9s\tremaining: 8m 36s\n",
      "375:\tlearn: 1.3402811\ttotal: 5m 10s\tremaining: 8m 35s\n",
      "376:\tlearn: 1.3401765\ttotal: 5m 11s\tremaining: 8m 35s\n",
      "377:\tlearn: 1.3400341\ttotal: 5m 12s\tremaining: 8m 34s\n",
      "378:\tlearn: 1.3398080\ttotal: 5m 13s\tremaining: 8m 33s\n",
      "379:\tlearn: 1.3397624\ttotal: 5m 14s\tremaining: 8m 32s\n",
      "380:\tlearn: 1.3396490\ttotal: 5m 15s\tremaining: 8m 32s\n",
      "381:\tlearn: 1.3395825\ttotal: 5m 16s\tremaining: 8m 31s\n",
      "382:\tlearn: 1.3394976\ttotal: 5m 17s\tremaining: 8m 30s\n",
      "383:\tlearn: 1.3394287\ttotal: 5m 18s\tremaining: 8m 30s\n",
      "384:\tlearn: 1.3393073\ttotal: 5m 18s\tremaining: 8m 29s\n",
      "385:\tlearn: 1.3389679\ttotal: 5m 19s\tremaining: 8m 28s\n",
      "386:\tlearn: 1.3388917\ttotal: 5m 20s\tremaining: 8m 27s\n",
      "387:\tlearn: 1.3388460\ttotal: 5m 21s\tremaining: 8m 26s\n",
      "388:\tlearn: 1.3386851\ttotal: 5m 22s\tremaining: 8m 26s\n",
      "389:\tlearn: 1.3384538\ttotal: 5m 23s\tremaining: 8m 25s\n",
      "390:\tlearn: 1.3382771\ttotal: 5m 23s\tremaining: 8m 24s\n",
      "391:\tlearn: 1.3381305\ttotal: 5m 24s\tremaining: 8m 23s\n",
      "392:\tlearn: 1.3379946\ttotal: 5m 25s\tremaining: 8m 22s\n",
      "393:\tlearn: 1.3379817\ttotal: 5m 26s\tremaining: 8m 22s\n",
      "394:\tlearn: 1.3378840\ttotal: 5m 27s\tremaining: 8m 21s\n",
      "395:\tlearn: 1.3377601\ttotal: 5m 28s\tremaining: 8m 20s\n",
      "396:\tlearn: 1.3377142\ttotal: 5m 29s\tremaining: 8m 19s\n",
      "397:\tlearn: 1.3376052\ttotal: 5m 29s\tremaining: 8m 19s\n",
      "398:\tlearn: 1.3375572\ttotal: 5m 30s\tremaining: 8m 18s\n",
      "399:\tlearn: 1.3373883\ttotal: 5m 31s\tremaining: 8m 17s\n",
      "400:\tlearn: 1.3373794\ttotal: 5m 32s\tremaining: 8m 16s\n",
      "401:\tlearn: 1.3371387\ttotal: 5m 33s\tremaining: 8m 15s\n",
      "402:\tlearn: 1.3371214\ttotal: 5m 34s\tremaining: 8m 15s\n",
      "403:\tlearn: 1.3370820\ttotal: 5m 35s\tremaining: 8m 14s\n",
      "404:\tlearn: 1.3370157\ttotal: 5m 36s\tremaining: 8m 13s\n",
      "405:\tlearn: 1.3369204\ttotal: 5m 36s\tremaining: 8m 13s\n",
      "406:\tlearn: 1.3366950\ttotal: 5m 37s\tremaining: 8m 12s\n",
      "407:\tlearn: 1.3363822\ttotal: 5m 38s\tremaining: 8m 11s\n",
      "408:\tlearn: 1.3362376\ttotal: 5m 39s\tremaining: 8m 10s\n",
      "409:\tlearn: 1.3359994\ttotal: 5m 40s\tremaining: 8m 9s\n",
      "410:\tlearn: 1.3359109\ttotal: 5m 41s\tremaining: 8m 8s\n",
      "411:\tlearn: 1.3358137\ttotal: 5m 42s\tremaining: 8m 8s\n",
      "412:\tlearn: 1.3358039\ttotal: 5m 43s\tremaining: 8m 7s\n",
      "413:\tlearn: 1.3356407\ttotal: 5m 43s\tremaining: 8m 6s\n",
      "414:\tlearn: 1.3355114\ttotal: 5m 44s\tremaining: 8m 6s\n",
      "415:\tlearn: 1.3353747\ttotal: 5m 45s\tremaining: 8m 5s\n",
      "416:\tlearn: 1.3353083\ttotal: 5m 46s\tremaining: 8m 4s\n",
      "417:\tlearn: 1.3352107\ttotal: 5m 47s\tremaining: 8m 3s\n",
      "418:\tlearn: 1.3351925\ttotal: 5m 48s\tremaining: 8m 2s\n",
      "419:\tlearn: 1.3350877\ttotal: 5m 49s\tremaining: 8m 1s\n",
      "420:\tlearn: 1.3350652\ttotal: 5m 49s\tremaining: 8m 1s\n",
      "421:\tlearn: 1.3350498\ttotal: 5m 50s\tremaining: 8m\n",
      "422:\tlearn: 1.3350000\ttotal: 5m 51s\tremaining: 7m 59s\n",
      "423:\tlearn: 1.3348128\ttotal: 5m 52s\tremaining: 7m 58s\n",
      "424:\tlearn: 1.3347454\ttotal: 5m 53s\tremaining: 7m 57s\n",
      "425:\tlearn: 1.3344202\ttotal: 5m 54s\tremaining: 7m 57s\n",
      "426:\tlearn: 1.3343090\ttotal: 5m 54s\tremaining: 7m 56s\n",
      "427:\tlearn: 1.3341039\ttotal: 5m 55s\tremaining: 7m 55s\n",
      "428:\tlearn: 1.3340463\ttotal: 5m 56s\tremaining: 7m 54s\n",
      "429:\tlearn: 1.3340161\ttotal: 5m 57s\tremaining: 7m 53s\n",
      "430:\tlearn: 1.3337692\ttotal: 5m 58s\tremaining: 7m 53s\n",
      "431:\tlearn: 1.3337357\ttotal: 5m 59s\tremaining: 7m 52s\n",
      "432:\tlearn: 1.3336897\ttotal: 6m\tremaining: 7m 51s\n",
      "433:\tlearn: 1.3336473\ttotal: 6m\tremaining: 7m 50s\n",
      "434:\tlearn: 1.3335562\ttotal: 6m 1s\tremaining: 7m 49s\n",
      "435:\tlearn: 1.3334561\ttotal: 6m 2s\tremaining: 7m 48s\n",
      "436:\tlearn: 1.3331670\ttotal: 6m 3s\tremaining: 7m 48s\n",
      "437:\tlearn: 1.3329913\ttotal: 6m 4s\tremaining: 7m 47s\n",
      "438:\tlearn: 1.3329470\ttotal: 6m 5s\tremaining: 7m 46s\n",
      "439:\tlearn: 1.3327958\ttotal: 6m 6s\tremaining: 7m 45s\n",
      "440:\tlearn: 1.3327425\ttotal: 6m 6s\tremaining: 7m 45s\n",
      "441:\tlearn: 1.3325772\ttotal: 6m 7s\tremaining: 7m 44s\n",
      "442:\tlearn: 1.3325009\ttotal: 6m 8s\tremaining: 7m 43s\n",
      "443:\tlearn: 1.3323827\ttotal: 6m 9s\tremaining: 7m 42s\n",
      "444:\tlearn: 1.3321865\ttotal: 6m 10s\tremaining: 7m 41s\n",
      "445:\tlearn: 1.3321598\ttotal: 6m 11s\tremaining: 7m 41s\n",
      "446:\tlearn: 1.3319036\ttotal: 6m 11s\tremaining: 7m 40s\n",
      "447:\tlearn: 1.3318257\ttotal: 6m 12s\tremaining: 7m 39s\n",
      "448:\tlearn: 1.3316321\ttotal: 6m 13s\tremaining: 7m 38s\n",
      "449:\tlearn: 1.3315579\ttotal: 6m 14s\tremaining: 7m 37s\n",
      "450:\tlearn: 1.3314259\ttotal: 6m 15s\tremaining: 7m 36s\n",
      "451:\tlearn: 1.3313940\ttotal: 6m 16s\tremaining: 7m 35s\n",
      "452:\tlearn: 1.3312941\ttotal: 6m 16s\tremaining: 7m 35s\n",
      "453:\tlearn: 1.3312368\ttotal: 6m 17s\tremaining: 7m 34s\n",
      "454:\tlearn: 1.3311299\ttotal: 6m 18s\tremaining: 7m 33s\n",
      "455:\tlearn: 1.3311013\ttotal: 6m 19s\tremaining: 7m 32s\n",
      "456:\tlearn: 1.3310154\ttotal: 6m 20s\tremaining: 7m 31s\n",
      "457:\tlearn: 1.3308388\ttotal: 6m 21s\tremaining: 7m 31s\n",
      "458:\tlearn: 1.3308134\ttotal: 6m 22s\tremaining: 7m 30s\n",
      "459:\tlearn: 1.3307892\ttotal: 6m 22s\tremaining: 7m 29s\n",
      "460:\tlearn: 1.3306828\ttotal: 6m 23s\tremaining: 7m 28s\n",
      "461:\tlearn: 1.3306397\ttotal: 6m 24s\tremaining: 7m 27s\n",
      "462:\tlearn: 1.3305958\ttotal: 6m 25s\tremaining: 7m 27s\n",
      "463:\tlearn: 1.3304830\ttotal: 6m 26s\tremaining: 7m 26s\n",
      "464:\tlearn: 1.3302534\ttotal: 6m 27s\tremaining: 7m 25s\n",
      "465:\tlearn: 1.3300801\ttotal: 6m 27s\tremaining: 7m 24s\n",
      "466:\tlearn: 1.3299540\ttotal: 6m 28s\tremaining: 7m 23s\n",
      "467:\tlearn: 1.3299036\ttotal: 6m 29s\tremaining: 7m 22s\n",
      "468:\tlearn: 1.3297412\ttotal: 6m 30s\tremaining: 7m 21s\n",
      "469:\tlearn: 1.3296577\ttotal: 6m 31s\tremaining: 7m 21s\n",
      "470:\tlearn: 1.3295521\ttotal: 6m 31s\tremaining: 7m 20s\n",
      "471:\tlearn: 1.3294864\ttotal: 6m 32s\tremaining: 7m 19s\n",
      "472:\tlearn: 1.3293525\ttotal: 6m 33s\tremaining: 7m 18s\n",
      "473:\tlearn: 1.3292311\ttotal: 6m 34s\tremaining: 7m 17s\n",
      "474:\tlearn: 1.3290117\ttotal: 6m 35s\tremaining: 7m 16s\n",
      "475:\tlearn: 1.3288350\ttotal: 6m 36s\tremaining: 7m 15s\n",
      "476:\tlearn: 1.3286472\ttotal: 6m 36s\tremaining: 7m 15s\n",
      "477:\tlearn: 1.3285776\ttotal: 6m 37s\tremaining: 7m 14s\n",
      "478:\tlearn: 1.3285003\ttotal: 6m 38s\tremaining: 7m 13s\n",
      "479:\tlearn: 1.3284715\ttotal: 6m 39s\tremaining: 7m 13s\n",
      "480:\tlearn: 1.3283913\ttotal: 6m 40s\tremaining: 7m 12s\n",
      "481:\tlearn: 1.3282497\ttotal: 6m 41s\tremaining: 7m 11s\n",
      "482:\tlearn: 1.3281202\ttotal: 6m 42s\tremaining: 7m 10s\n",
      "483:\tlearn: 1.3280156\ttotal: 6m 43s\tremaining: 7m 10s\n",
      "484:\tlearn: 1.3278276\ttotal: 6m 44s\tremaining: 7m 9s\n",
      "485:\tlearn: 1.3277081\ttotal: 6m 45s\tremaining: 7m 8s\n",
      "486:\tlearn: 1.3276668\ttotal: 6m 46s\tremaining: 7m 7s\n",
      "487:\tlearn: 1.3275432\ttotal: 6m 46s\tremaining: 7m 6s\n",
      "488:\tlearn: 1.3274213\ttotal: 6m 47s\tremaining: 7m 6s\n",
      "489:\tlearn: 1.3273477\ttotal: 6m 48s\tremaining: 7m 5s\n",
      "490:\tlearn: 1.3273202\ttotal: 6m 49s\tremaining: 7m 4s\n",
      "491:\tlearn: 1.3271982\ttotal: 6m 50s\tremaining: 7m 3s\n",
      "492:\tlearn: 1.3270457\ttotal: 6m 51s\tremaining: 7m 2s\n",
      "493:\tlearn: 1.3270280\ttotal: 6m 51s\tremaining: 7m 1s\n",
      "494:\tlearn: 1.3268775\ttotal: 6m 52s\tremaining: 7m 1s\n",
      "495:\tlearn: 1.3267858\ttotal: 6m 53s\tremaining: 7m\n",
      "496:\tlearn: 1.3267672\ttotal: 6m 54s\tremaining: 6m 59s\n",
      "497:\tlearn: 1.3267307\ttotal: 6m 55s\tremaining: 6m 58s\n",
      "498:\tlearn: 1.3265993\ttotal: 6m 56s\tremaining: 6m 57s\n",
      "499:\tlearn: 1.3265490\ttotal: 6m 57s\tremaining: 6m 57s\n",
      "500:\tlearn: 1.3264025\ttotal: 6m 58s\tremaining: 6m 56s\n",
      "501:\tlearn: 1.3263693\ttotal: 6m 59s\tremaining: 6m 55s\n",
      "502:\tlearn: 1.3262121\ttotal: 6m 59s\tremaining: 6m 54s\n",
      "503:\tlearn: 1.3260105\ttotal: 7m\tremaining: 6m 54s\n",
      "504:\tlearn: 1.3259487\ttotal: 7m 1s\tremaining: 6m 53s\n",
      "505:\tlearn: 1.3258977\ttotal: 7m 2s\tremaining: 6m 52s\n",
      "506:\tlearn: 1.3257790\ttotal: 7m 3s\tremaining: 6m 51s\n",
      "507:\tlearn: 1.3257242\ttotal: 7m 4s\tremaining: 6m 50s\n",
      "508:\tlearn: 1.3256847\ttotal: 7m 5s\tremaining: 6m 49s\n",
      "509:\tlearn: 1.3256664\ttotal: 7m 5s\tremaining: 6m 49s\n",
      "510:\tlearn: 1.3255842\ttotal: 7m 6s\tremaining: 6m 48s\n",
      "511:\tlearn: 1.3254041\ttotal: 7m 7s\tremaining: 6m 47s\n",
      "512:\tlearn: 1.3252167\ttotal: 7m 8s\tremaining: 6m 46s\n",
      "513:\tlearn: 1.3251281\ttotal: 7m 9s\tremaining: 6m 45s\n",
      "514:\tlearn: 1.3251134\ttotal: 7m 10s\tremaining: 6m 44s\n",
      "515:\tlearn: 1.3249083\ttotal: 7m 10s\tremaining: 6m 44s\n",
      "516:\tlearn: 1.3248472\ttotal: 7m 11s\tremaining: 6m 43s\n",
      "517:\tlearn: 1.3247393\ttotal: 7m 12s\tremaining: 6m 42s\n",
      "518:\tlearn: 1.3247072\ttotal: 7m 13s\tremaining: 6m 41s\n",
      "519:\tlearn: 1.3246407\ttotal: 7m 14s\tremaining: 6m 40s\n",
      "520:\tlearn: 1.3245079\ttotal: 7m 15s\tremaining: 6m 40s\n",
      "521:\tlearn: 1.3243071\ttotal: 7m 15s\tremaining: 6m 39s\n",
      "522:\tlearn: 1.3242528\ttotal: 7m 16s\tremaining: 6m 38s\n",
      "523:\tlearn: 1.3241836\ttotal: 7m 17s\tremaining: 6m 37s\n",
      "524:\tlearn: 1.3239160\ttotal: 7m 18s\tremaining: 6m 36s\n",
      "525:\tlearn: 1.3238045\ttotal: 7m 19s\tremaining: 6m 36s\n",
      "526:\tlearn: 1.3235637\ttotal: 7m 20s\tremaining: 6m 35s\n",
      "527:\tlearn: 1.3234424\ttotal: 7m 21s\tremaining: 6m 34s\n",
      "528:\tlearn: 1.3234067\ttotal: 7m 21s\tremaining: 6m 33s\n",
      "529:\tlearn: 1.3232829\ttotal: 7m 22s\tremaining: 6m 32s\n",
      "530:\tlearn: 1.3232062\ttotal: 7m 23s\tremaining: 6m 31s\n",
      "531:\tlearn: 1.3231219\ttotal: 7m 24s\tremaining: 6m 31s\n",
      "532:\tlearn: 1.3230766\ttotal: 7m 25s\tremaining: 6m 30s\n",
      "533:\tlearn: 1.3230710\ttotal: 7m 26s\tremaining: 6m 29s\n",
      "534:\tlearn: 1.3229897\ttotal: 7m 27s\tremaining: 6m 28s\n",
      "535:\tlearn: 1.3228912\ttotal: 7m 27s\tremaining: 6m 27s\n",
      "536:\tlearn: 1.3227331\ttotal: 7m 28s\tremaining: 6m 26s\n",
      "537:\tlearn: 1.3226837\ttotal: 7m 29s\tremaining: 6m 26s\n",
      "538:\tlearn: 1.3226379\ttotal: 7m 30s\tremaining: 6m 25s\n",
      "539:\tlearn: 1.3224556\ttotal: 7m 31s\tremaining: 6m 24s\n",
      "540:\tlearn: 1.3223438\ttotal: 7m 32s\tremaining: 6m 23s\n",
      "541:\tlearn: 1.3223032\ttotal: 7m 33s\tremaining: 6m 22s\n",
      "542:\tlearn: 1.3220696\ttotal: 7m 33s\tremaining: 6m 22s\n",
      "543:\tlearn: 1.3219871\ttotal: 7m 34s\tremaining: 6m 21s\n",
      "544:\tlearn: 1.3218353\ttotal: 7m 35s\tremaining: 6m 20s\n",
      "545:\tlearn: 1.3217445\ttotal: 7m 36s\tremaining: 6m 19s\n",
      "546:\tlearn: 1.3215390\ttotal: 7m 37s\tremaining: 6m 18s\n",
      "547:\tlearn: 1.3214723\ttotal: 7m 38s\tremaining: 6m 17s\n",
      "548:\tlearn: 1.3213310\ttotal: 7m 39s\tremaining: 6m 17s\n",
      "549:\tlearn: 1.3212835\ttotal: 7m 39s\tremaining: 6m 16s\n",
      "550:\tlearn: 1.3212277\ttotal: 7m 40s\tremaining: 6m 15s\n",
      "551:\tlearn: 1.3210476\ttotal: 7m 41s\tremaining: 6m 14s\n",
      "552:\tlearn: 1.3209437\ttotal: 7m 42s\tremaining: 6m 13s\n",
      "553:\tlearn: 1.3209087\ttotal: 7m 43s\tremaining: 6m 13s\n",
      "554:\tlearn: 1.3206384\ttotal: 7m 44s\tremaining: 6m 12s\n",
      "555:\tlearn: 1.3206210\ttotal: 7m 45s\tremaining: 6m 11s\n",
      "556:\tlearn: 1.3205531\ttotal: 7m 46s\tremaining: 6m 10s\n",
      "557:\tlearn: 1.3203576\ttotal: 7m 46s\tremaining: 6m 9s\n",
      "558:\tlearn: 1.3203050\ttotal: 7m 47s\tremaining: 6m 9s\n",
      "559:\tlearn: 1.3201951\ttotal: 7m 48s\tremaining: 6m 8s\n",
      "560:\tlearn: 1.3201828\ttotal: 7m 49s\tremaining: 6m 7s\n",
      "561:\tlearn: 1.3201053\ttotal: 7m 50s\tremaining: 6m 6s\n",
      "562:\tlearn: 1.3199629\ttotal: 7m 51s\tremaining: 6m 5s\n",
      "563:\tlearn: 1.3199165\ttotal: 7m 52s\tremaining: 6m 4s\n",
      "564:\tlearn: 1.3198159\ttotal: 7m 52s\tremaining: 6m 4s\n",
      "565:\tlearn: 1.3196795\ttotal: 7m 53s\tremaining: 6m 3s\n",
      "566:\tlearn: 1.3195879\ttotal: 7m 54s\tremaining: 6m 2s\n",
      "567:\tlearn: 1.3195204\ttotal: 7m 55s\tremaining: 6m 1s\n",
      "568:\tlearn: 1.3194916\ttotal: 7m 56s\tremaining: 6m\n",
      "569:\tlearn: 1.3194884\ttotal: 7m 57s\tremaining: 6m\n",
      "570:\tlearn: 1.3194219\ttotal: 7m 58s\tremaining: 5m 59s\n",
      "571:\tlearn: 1.3194125\ttotal: 7m 58s\tremaining: 5m 58s\n",
      "572:\tlearn: 1.3193472\ttotal: 7m 59s\tremaining: 5m 57s\n",
      "573:\tlearn: 1.3191788\ttotal: 8m\tremaining: 5m 56s\n",
      "574:\tlearn: 1.3190265\ttotal: 8m 1s\tremaining: 5m 55s\n",
      "575:\tlearn: 1.3188648\ttotal: 8m 2s\tremaining: 5m 55s\n",
      "576:\tlearn: 1.3187801\ttotal: 8m 3s\tremaining: 5m 54s\n",
      "577:\tlearn: 1.3187281\ttotal: 8m 4s\tremaining: 5m 53s\n",
      "578:\tlearn: 1.3185685\ttotal: 8m 4s\tremaining: 5m 52s\n",
      "579:\tlearn: 1.3185030\ttotal: 8m 5s\tremaining: 5m 51s\n",
      "580:\tlearn: 1.3184625\ttotal: 8m 6s\tremaining: 5m 50s\n",
      "581:\tlearn: 1.3184242\ttotal: 8m 7s\tremaining: 5m 50s\n",
      "582:\tlearn: 1.3183841\ttotal: 8m 8s\tremaining: 5m 49s\n",
      "583:\tlearn: 1.3183708\ttotal: 8m 9s\tremaining: 5m 48s\n",
      "584:\tlearn: 1.3183393\ttotal: 8m 9s\tremaining: 5m 47s\n",
      "585:\tlearn: 1.3182819\ttotal: 8m 10s\tremaining: 5m 46s\n",
      "586:\tlearn: 1.3182287\ttotal: 8m 11s\tremaining: 5m 45s\n",
      "587:\tlearn: 1.3182060\ttotal: 8m 12s\tremaining: 5m 45s\n",
      "588:\tlearn: 1.3181524\ttotal: 8m 13s\tremaining: 5m 44s\n",
      "589:\tlearn: 1.3181393\ttotal: 8m 14s\tremaining: 5m 43s\n",
      "590:\tlearn: 1.3180754\ttotal: 8m 15s\tremaining: 5m 42s\n",
      "591:\tlearn: 1.3179703\ttotal: 8m 16s\tremaining: 5m 41s\n",
      "592:\tlearn: 1.3179133\ttotal: 8m 16s\tremaining: 5m 41s\n",
      "593:\tlearn: 1.3178586\ttotal: 8m 17s\tremaining: 5m 40s\n",
      "594:\tlearn: 1.3177680\ttotal: 8m 18s\tremaining: 5m 39s\n",
      "595:\tlearn: 1.3176860\ttotal: 8m 19s\tremaining: 5m 38s\n",
      "596:\tlearn: 1.3176611\ttotal: 8m 20s\tremaining: 5m 37s\n",
      "597:\tlearn: 1.3176135\ttotal: 8m 21s\tremaining: 5m 36s\n",
      "598:\tlearn: 1.3174227\ttotal: 8m 21s\tremaining: 5m 36s\n",
      "599:\tlearn: 1.3173527\ttotal: 8m 22s\tremaining: 5m 35s\n",
      "600:\tlearn: 1.3173347\ttotal: 8m 23s\tremaining: 5m 34s\n",
      "601:\tlearn: 1.3173252\ttotal: 8m 24s\tremaining: 5m 33s\n",
      "602:\tlearn: 1.3172070\ttotal: 8m 25s\tremaining: 5m 32s\n",
      "603:\tlearn: 1.3171800\ttotal: 8m 26s\tremaining: 5m 32s\n",
      "604:\tlearn: 1.3168110\ttotal: 8m 27s\tremaining: 5m 31s\n",
      "605:\tlearn: 1.3167338\ttotal: 8m 28s\tremaining: 5m 30s\n",
      "606:\tlearn: 1.3167103\ttotal: 8m 29s\tremaining: 5m 29s\n",
      "607:\tlearn: 1.3166215\ttotal: 8m 29s\tremaining: 5m 28s\n",
      "608:\tlearn: 1.3165359\ttotal: 8m 30s\tremaining: 5m 27s\n",
      "609:\tlearn: 1.3164543\ttotal: 8m 31s\tremaining: 5m 27s\n",
      "610:\tlearn: 1.3162759\ttotal: 8m 32s\tremaining: 5m 26s\n",
      "611:\tlearn: 1.3162430\ttotal: 8m 33s\tremaining: 5m 25s\n",
      "612:\tlearn: 1.3160880\ttotal: 8m 34s\tremaining: 5m 24s\n",
      "613:\tlearn: 1.3160156\ttotal: 8m 34s\tremaining: 5m 23s\n",
      "614:\tlearn: 1.3159959\ttotal: 8m 35s\tremaining: 5m 22s\n",
      "615:\tlearn: 1.3159315\ttotal: 8m 36s\tremaining: 5m 22s\n",
      "616:\tlearn: 1.3158639\ttotal: 8m 37s\tremaining: 5m 21s\n",
      "617:\tlearn: 1.3157945\ttotal: 8m 38s\tremaining: 5m 20s\n",
      "618:\tlearn: 1.3156660\ttotal: 8m 39s\tremaining: 5m 19s\n",
      "619:\tlearn: 1.3155908\ttotal: 8m 40s\tremaining: 5m 19s\n",
      "620:\tlearn: 1.3155355\ttotal: 8m 42s\tremaining: 5m 18s\n",
      "621:\tlearn: 1.3154301\ttotal: 8m 43s\tremaining: 5m 17s\n",
      "622:\tlearn: 1.3153554\ttotal: 8m 44s\tremaining: 5m 17s\n",
      "623:\tlearn: 1.3153337\ttotal: 8m 44s\tremaining: 5m 16s\n",
      "624:\tlearn: 1.3151133\ttotal: 8m 45s\tremaining: 5m 15s\n",
      "625:\tlearn: 1.3150437\ttotal: 8m 46s\tremaining: 5m 14s\n",
      "626:\tlearn: 1.3149856\ttotal: 8m 47s\tremaining: 5m 13s\n",
      "627:\tlearn: 1.3147958\ttotal: 8m 48s\tremaining: 5m 13s\n",
      "628:\tlearn: 1.3146629\ttotal: 8m 49s\tremaining: 5m 12s\n",
      "629:\tlearn: 1.3144612\ttotal: 8m 50s\tremaining: 5m 11s\n",
      "630:\tlearn: 1.3144192\ttotal: 8m 51s\tremaining: 5m 10s\n",
      "631:\tlearn: 1.3144075\ttotal: 8m 52s\tremaining: 5m 9s\n",
      "632:\tlearn: 1.3143853\ttotal: 8m 52s\tremaining: 5m 8s\n",
      "633:\tlearn: 1.3142096\ttotal: 8m 53s\tremaining: 5m 8s\n",
      "634:\tlearn: 1.3137849\ttotal: 8m 54s\tremaining: 5m 7s\n",
      "635:\tlearn: 1.3137257\ttotal: 8m 55s\tremaining: 5m 6s\n",
      "636:\tlearn: 1.3136664\ttotal: 8m 56s\tremaining: 5m 5s\n",
      "637:\tlearn: 1.3135645\ttotal: 8m 57s\tremaining: 5m 4s\n",
      "638:\tlearn: 1.3135293\ttotal: 8m 57s\tremaining: 5m 3s\n",
      "639:\tlearn: 1.3134245\ttotal: 8m 58s\tremaining: 5m 3s\n",
      "640:\tlearn: 1.3133714\ttotal: 8m 59s\tremaining: 5m 2s\n",
      "641:\tlearn: 1.3133464\ttotal: 9m\tremaining: 5m 1s\n",
      "642:\tlearn: 1.3132540\ttotal: 9m 1s\tremaining: 5m\n",
      "643:\tlearn: 1.3132495\ttotal: 9m 2s\tremaining: 4m 59s\n",
      "644:\tlearn: 1.3132168\ttotal: 9m 2s\tremaining: 4m 58s\n",
      "645:\tlearn: 1.3131781\ttotal: 9m 3s\tremaining: 4m 57s\n",
      "646:\tlearn: 1.3130523\ttotal: 9m 4s\tremaining: 4m 57s\n",
      "647:\tlearn: 1.3129791\ttotal: 9m 5s\tremaining: 4m 56s\n",
      "648:\tlearn: 1.3128819\ttotal: 9m 6s\tremaining: 4m 55s\n",
      "649:\tlearn: 1.3128759\ttotal: 9m 6s\tremaining: 4m 54s\n",
      "650:\tlearn: 1.3128615\ttotal: 9m 7s\tremaining: 4m 53s\n",
      "651:\tlearn: 1.3127058\ttotal: 9m 8s\tremaining: 4m 52s\n",
      "652:\tlearn: 1.3126354\ttotal: 9m 9s\tremaining: 4m 51s\n",
      "653:\tlearn: 1.3125996\ttotal: 9m 10s\tremaining: 4m 51s\n",
      "654:\tlearn: 1.3125733\ttotal: 9m 11s\tremaining: 4m 50s\n",
      "655:\tlearn: 1.3124202\ttotal: 9m 11s\tremaining: 4m 49s\n",
      "656:\tlearn: 1.3123830\ttotal: 9m 12s\tremaining: 4m 48s\n",
      "657:\tlearn: 1.3122997\ttotal: 9m 13s\tremaining: 4m 47s\n",
      "658:\tlearn: 1.3121687\ttotal: 9m 14s\tremaining: 4m 46s\n",
      "659:\tlearn: 1.3120690\ttotal: 9m 15s\tremaining: 4m 46s\n",
      "660:\tlearn: 1.3119508\ttotal: 9m 16s\tremaining: 4m 45s\n",
      "661:\tlearn: 1.3118360\ttotal: 9m 16s\tremaining: 4m 44s\n",
      "662:\tlearn: 1.3117498\ttotal: 9m 17s\tremaining: 4m 43s\n",
      "663:\tlearn: 1.3117149\ttotal: 9m 18s\tremaining: 4m 42s\n",
      "664:\tlearn: 1.3116622\ttotal: 9m 19s\tremaining: 4m 41s\n",
      "665:\tlearn: 1.3116483\ttotal: 9m 20s\tremaining: 4m 41s\n",
      "666:\tlearn: 1.3116119\ttotal: 9m 21s\tremaining: 4m 40s\n",
      "667:\tlearn: 1.3115122\ttotal: 9m 22s\tremaining: 4m 39s\n",
      "668:\tlearn: 1.3114594\ttotal: 9m 23s\tremaining: 4m 38s\n",
      "669:\tlearn: 1.3114529\ttotal: 9m 23s\tremaining: 4m 37s\n",
      "670:\tlearn: 1.3114221\ttotal: 9m 24s\tremaining: 4m 36s\n",
      "671:\tlearn: 1.3113841\ttotal: 9m 25s\tremaining: 4m 36s\n",
      "672:\tlearn: 1.3111652\ttotal: 9m 26s\tremaining: 4m 35s\n",
      "673:\tlearn: 1.3111380\ttotal: 9m 27s\tremaining: 4m 34s\n",
      "674:\tlearn: 1.3110560\ttotal: 9m 28s\tremaining: 4m 33s\n",
      "675:\tlearn: 1.3110216\ttotal: 9m 28s\tremaining: 4m 32s\n",
      "676:\tlearn: 1.3109539\ttotal: 9m 29s\tremaining: 4m 31s\n",
      "677:\tlearn: 1.3108089\ttotal: 9m 30s\tremaining: 4m 30s\n",
      "678:\tlearn: 1.3107698\ttotal: 9m 31s\tremaining: 4m 30s\n",
      "679:\tlearn: 1.3107637\ttotal: 9m 32s\tremaining: 4m 29s\n",
      "680:\tlearn: 1.3107338\ttotal: 9m 33s\tremaining: 4m 28s\n",
      "681:\tlearn: 1.3106951\ttotal: 9m 33s\tremaining: 4m 27s\n",
      "682:\tlearn: 1.3105626\ttotal: 9m 34s\tremaining: 4m 26s\n",
      "683:\tlearn: 1.3104001\ttotal: 9m 35s\tremaining: 4m 25s\n",
      "684:\tlearn: 1.3103108\ttotal: 9m 36s\tremaining: 4m 25s\n",
      "685:\tlearn: 1.3102891\ttotal: 9m 37s\tremaining: 4m 24s\n",
      "686:\tlearn: 1.3101436\ttotal: 9m 38s\tremaining: 4m 23s\n",
      "687:\tlearn: 1.3101340\ttotal: 9m 39s\tremaining: 4m 22s\n",
      "688:\tlearn: 1.3100643\ttotal: 9m 40s\tremaining: 4m 21s\n",
      "689:\tlearn: 1.3099784\ttotal: 9m 40s\tremaining: 4m 21s\n",
      "690:\tlearn: 1.3099212\ttotal: 9m 41s\tremaining: 4m 20s\n",
      "691:\tlearn: 1.3097664\ttotal: 9m 42s\tremaining: 4m 19s\n",
      "692:\tlearn: 1.3096062\ttotal: 9m 43s\tremaining: 4m 18s\n",
      "693:\tlearn: 1.3095592\ttotal: 9m 44s\tremaining: 4m 17s\n",
      "694:\tlearn: 1.3095398\ttotal: 9m 45s\tremaining: 4m 16s\n",
      "695:\tlearn: 1.3095337\ttotal: 9m 46s\tremaining: 4m 16s\n",
      "696:\tlearn: 1.3094380\ttotal: 9m 47s\tremaining: 4m 15s\n",
      "697:\tlearn: 1.3093956\ttotal: 9m 47s\tremaining: 4m 14s\n",
      "698:\tlearn: 1.3093600\ttotal: 9m 48s\tremaining: 4m 13s\n",
      "699:\tlearn: 1.3091466\ttotal: 9m 49s\tremaining: 4m 12s\n",
      "700:\tlearn: 1.3091337\ttotal: 9m 50s\tremaining: 4m 11s\n",
      "701:\tlearn: 1.3090720\ttotal: 9m 51s\tremaining: 4m 11s\n",
      "702:\tlearn: 1.3090540\ttotal: 9m 52s\tremaining: 4m 10s\n",
      "703:\tlearn: 1.3088719\ttotal: 9m 52s\tremaining: 4m 9s\n",
      "704:\tlearn: 1.3088218\ttotal: 9m 53s\tremaining: 4m 8s\n",
      "705:\tlearn: 1.3087896\ttotal: 9m 54s\tremaining: 4m 7s\n",
      "706:\tlearn: 1.3087689\ttotal: 9m 55s\tremaining: 4m 6s\n",
      "707:\tlearn: 1.3087472\ttotal: 9m 56s\tremaining: 4m 5s\n",
      "708:\tlearn: 1.3086902\ttotal: 9m 57s\tremaining: 4m 5s\n",
      "709:\tlearn: 1.3086199\ttotal: 9m 57s\tremaining: 4m 4s\n",
      "710:\tlearn: 1.3085819\ttotal: 9m 58s\tremaining: 4m 3s\n",
      "711:\tlearn: 1.3084706\ttotal: 9m 59s\tremaining: 4m 2s\n",
      "712:\tlearn: 1.3084400\ttotal: 10m\tremaining: 4m 1s\n",
      "713:\tlearn: 1.3084104\ttotal: 10m 1s\tremaining: 4m\n",
      "714:\tlearn: 1.3083830\ttotal: 10m 2s\tremaining: 3m 59s\n",
      "715:\tlearn: 1.3082688\ttotal: 10m 2s\tremaining: 3m 59s\n",
      "716:\tlearn: 1.3082588\ttotal: 10m 3s\tremaining: 3m 58s\n",
      "717:\tlearn: 1.3082335\ttotal: 10m 4s\tremaining: 3m 57s\n",
      "718:\tlearn: 1.3081756\ttotal: 10m 5s\tremaining: 3m 56s\n",
      "719:\tlearn: 1.3080221\ttotal: 10m 6s\tremaining: 3m 55s\n",
      "720:\tlearn: 1.3079719\ttotal: 10m 7s\tremaining: 3m 54s\n",
      "721:\tlearn: 1.3078948\ttotal: 10m 8s\tremaining: 3m 54s\n",
      "722:\tlearn: 1.3078884\ttotal: 10m 9s\tremaining: 3m 53s\n",
      "723:\tlearn: 1.3078477\ttotal: 10m 10s\tremaining: 3m 52s\n",
      "724:\tlearn: 1.3077305\ttotal: 10m 11s\tremaining: 3m 51s\n",
      "725:\tlearn: 1.3076936\ttotal: 10m 11s\tremaining: 3m 50s\n",
      "726:\tlearn: 1.3076485\ttotal: 10m 12s\tremaining: 3m 50s\n",
      "727:\tlearn: 1.3074789\ttotal: 10m 13s\tremaining: 3m 49s\n",
      "728:\tlearn: 1.3072802\ttotal: 10m 14s\tremaining: 3m 48s\n",
      "729:\tlearn: 1.3071506\ttotal: 10m 15s\tremaining: 3m 47s\n",
      "730:\tlearn: 1.3071336\ttotal: 10m 16s\tremaining: 3m 46s\n",
      "731:\tlearn: 1.3069939\ttotal: 10m 17s\tremaining: 3m 46s\n",
      "732:\tlearn: 1.3069505\ttotal: 10m 18s\tremaining: 3m 45s\n",
      "733:\tlearn: 1.3068540\ttotal: 10m 19s\tremaining: 3m 44s\n",
      "734:\tlearn: 1.3066473\ttotal: 10m 19s\tremaining: 3m 43s\n",
      "735:\tlearn: 1.3065920\ttotal: 10m 20s\tremaining: 3m 42s\n",
      "736:\tlearn: 1.3064876\ttotal: 10m 21s\tremaining: 3m 41s\n",
      "737:\tlearn: 1.3064730\ttotal: 10m 22s\tremaining: 3m 40s\n",
      "738:\tlearn: 1.3064361\ttotal: 10m 23s\tremaining: 3m 40s\n",
      "739:\tlearn: 1.3063594\ttotal: 10m 24s\tremaining: 3m 39s\n",
      "740:\tlearn: 1.3063244\ttotal: 10m 25s\tremaining: 3m 38s\n",
      "741:\tlearn: 1.3063187\ttotal: 10m 25s\tremaining: 3m 37s\n",
      "742:\tlearn: 1.3063083\ttotal: 10m 26s\tremaining: 3m 36s\n",
      "743:\tlearn: 1.3062831\ttotal: 10m 27s\tremaining: 3m 36s\n",
      "744:\tlearn: 1.3062037\ttotal: 10m 28s\tremaining: 3m 35s\n",
      "745:\tlearn: 1.3060982\ttotal: 10m 29s\tremaining: 3m 34s\n",
      "746:\tlearn: 1.3060170\ttotal: 10m 30s\tremaining: 3m 33s\n",
      "747:\tlearn: 1.3059969\ttotal: 10m 31s\tremaining: 3m 32s\n",
      "748:\tlearn: 1.3059769\ttotal: 10m 32s\tremaining: 3m 31s\n",
      "749:\tlearn: 1.3058549\ttotal: 10m 33s\tremaining: 3m 31s\n",
      "750:\tlearn: 1.3057297\ttotal: 10m 34s\tremaining: 3m 30s\n",
      "751:\tlearn: 1.3056537\ttotal: 10m 35s\tremaining: 3m 29s\n",
      "752:\tlearn: 1.3055913\ttotal: 10m 36s\tremaining: 3m 28s\n",
      "753:\tlearn: 1.3055064\ttotal: 10m 36s\tremaining: 3m 27s\n",
      "754:\tlearn: 1.3053849\ttotal: 10m 37s\tremaining: 3m 26s\n",
      "755:\tlearn: 1.3052578\ttotal: 10m 38s\tremaining: 3m 26s\n",
      "756:\tlearn: 1.3051846\ttotal: 10m 39s\tremaining: 3m 25s\n",
      "757:\tlearn: 1.3051504\ttotal: 10m 40s\tremaining: 3m 24s\n",
      "758:\tlearn: 1.3051184\ttotal: 10m 41s\tremaining: 3m 23s\n",
      "759:\tlearn: 1.3050299\ttotal: 10m 42s\tremaining: 3m 22s\n",
      "760:\tlearn: 1.3049804\ttotal: 10m 43s\tremaining: 3m 21s\n",
      "761:\tlearn: 1.3049385\ttotal: 10m 43s\tremaining: 3m 21s\n",
      "762:\tlearn: 1.3048591\ttotal: 10m 44s\tremaining: 3m 20s\n",
      "763:\tlearn: 1.3047699\ttotal: 10m 45s\tremaining: 3m 19s\n",
      "764:\tlearn: 1.3047271\ttotal: 10m 46s\tremaining: 3m 18s\n",
      "765:\tlearn: 1.3045833\ttotal: 10m 47s\tremaining: 3m 17s\n",
      "766:\tlearn: 1.3045751\ttotal: 10m 48s\tremaining: 3m 16s\n",
      "767:\tlearn: 1.3044841\ttotal: 10m 49s\tremaining: 3m 16s\n",
      "768:\tlearn: 1.3044286\ttotal: 10m 50s\tremaining: 3m 15s\n",
      "769:\tlearn: 1.3043916\ttotal: 10m 51s\tremaining: 3m 14s\n",
      "770:\tlearn: 1.3042833\ttotal: 10m 51s\tremaining: 3m 13s\n",
      "771:\tlearn: 1.3042357\ttotal: 10m 52s\tremaining: 3m 12s\n",
      "772:\tlearn: 1.3042097\ttotal: 10m 53s\tremaining: 3m 11s\n",
      "773:\tlearn: 1.3040551\ttotal: 10m 54s\tremaining: 3m 11s\n",
      "774:\tlearn: 1.3040410\ttotal: 10m 55s\tremaining: 3m 10s\n",
      "775:\tlearn: 1.3039392\ttotal: 10m 56s\tremaining: 3m 9s\n",
      "776:\tlearn: 1.3038964\ttotal: 10m 56s\tremaining: 3m 8s\n",
      "777:\tlearn: 1.3038315\ttotal: 10m 57s\tremaining: 3m 7s\n",
      "778:\tlearn: 1.3037928\ttotal: 10m 58s\tremaining: 3m 6s\n",
      "779:\tlearn: 1.3034993\ttotal: 10m 59s\tremaining: 3m 6s\n",
      "780:\tlearn: 1.3034383\ttotal: 11m\tremaining: 3m 5s\n",
      "781:\tlearn: 1.3033941\ttotal: 11m 1s\tremaining: 3m 4s\n",
      "782:\tlearn: 1.3032518\ttotal: 11m 2s\tremaining: 3m 3s\n",
      "783:\tlearn: 1.3032207\ttotal: 11m 2s\tremaining: 3m 2s\n",
      "784:\tlearn: 1.3031659\ttotal: 11m 3s\tremaining: 3m 1s\n",
      "785:\tlearn: 1.3031412\ttotal: 11m 4s\tremaining: 3m\n",
      "786:\tlearn: 1.3030728\ttotal: 11m 5s\tremaining: 3m\n",
      "787:\tlearn: 1.3029580\ttotal: 11m 6s\tremaining: 2m 59s\n",
      "788:\tlearn: 1.3027648\ttotal: 11m 7s\tremaining: 2m 58s\n",
      "789:\tlearn: 1.3027218\ttotal: 11m 7s\tremaining: 2m 57s\n",
      "790:\tlearn: 1.3025977\ttotal: 11m 8s\tremaining: 2m 56s\n",
      "791:\tlearn: 1.3025090\ttotal: 11m 9s\tremaining: 2m 55s\n",
      "792:\tlearn: 1.3024308\ttotal: 11m 10s\tremaining: 2m 54s\n",
      "793:\tlearn: 1.3024173\ttotal: 11m 11s\tremaining: 2m 54s\n",
      "794:\tlearn: 1.3021379\ttotal: 11m 11s\tremaining: 2m 53s\n",
      "795:\tlearn: 1.3020451\ttotal: 11m 12s\tremaining: 2m 52s\n",
      "796:\tlearn: 1.3019461\ttotal: 11m 13s\tremaining: 2m 51s\n",
      "797:\tlearn: 1.3018722\ttotal: 11m 14s\tremaining: 2m 50s\n",
      "798:\tlearn: 1.3018702\ttotal: 11m 15s\tremaining: 2m 49s\n",
      "799:\tlearn: 1.3018388\ttotal: 11m 16s\tremaining: 2m 49s\n",
      "800:\tlearn: 1.3017896\ttotal: 11m 16s\tremaining: 2m 48s\n",
      "801:\tlearn: 1.3016732\ttotal: 11m 17s\tremaining: 2m 47s\n",
      "802:\tlearn: 1.3016169\ttotal: 11m 18s\tremaining: 2m 46s\n",
      "803:\tlearn: 1.3014222\ttotal: 11m 19s\tremaining: 2m 45s\n",
      "804:\tlearn: 1.3013993\ttotal: 11m 20s\tremaining: 2m 44s\n",
      "805:\tlearn: 1.3012274\ttotal: 11m 21s\tremaining: 2m 43s\n",
      "806:\tlearn: 1.3011052\ttotal: 11m 21s\tremaining: 2m 43s\n",
      "807:\tlearn: 1.3009493\ttotal: 11m 22s\tremaining: 2m 42s\n",
      "808:\tlearn: 1.3008527\ttotal: 11m 23s\tremaining: 2m 41s\n",
      "809:\tlearn: 1.3007031\ttotal: 11m 24s\tremaining: 2m 40s\n",
      "810:\tlearn: 1.3006884\ttotal: 11m 25s\tremaining: 2m 39s\n",
      "811:\tlearn: 1.3006502\ttotal: 11m 26s\tremaining: 2m 38s\n",
      "812:\tlearn: 1.3005573\ttotal: 11m 27s\tremaining: 2m 38s\n",
      "813:\tlearn: 1.3005297\ttotal: 11m 27s\tremaining: 2m 37s\n",
      "814:\tlearn: 1.3004937\ttotal: 11m 28s\tremaining: 2m 36s\n",
      "815:\tlearn: 1.3004225\ttotal: 11m 29s\tremaining: 2m 35s\n",
      "816:\tlearn: 1.3002111\ttotal: 11m 30s\tremaining: 2m 34s\n",
      "817:\tlearn: 1.3000546\ttotal: 11m 31s\tremaining: 2m 33s\n",
      "818:\tlearn: 1.3000259\ttotal: 11m 32s\tremaining: 2m 33s\n",
      "819:\tlearn: 1.2998910\ttotal: 11m 33s\tremaining: 2m 32s\n",
      "820:\tlearn: 1.2998455\ttotal: 11m 34s\tremaining: 2m 31s\n",
      "821:\tlearn: 1.2998208\ttotal: 11m 35s\tremaining: 2m 30s\n",
      "822:\tlearn: 1.2995940\ttotal: 11m 36s\tremaining: 2m 29s\n",
      "823:\tlearn: 1.2995545\ttotal: 11m 37s\tremaining: 2m 29s\n",
      "824:\tlearn: 1.2994881\ttotal: 11m 38s\tremaining: 2m 28s\n",
      "825:\tlearn: 1.2994687\ttotal: 11m 40s\tremaining: 2m 27s\n",
      "826:\tlearn: 1.2994378\ttotal: 11m 41s\tremaining: 2m 26s\n",
      "827:\tlearn: 1.2993625\ttotal: 11m 42s\tremaining: 2m 25s\n",
      "828:\tlearn: 1.2992719\ttotal: 11m 43s\tremaining: 2m 25s\n",
      "829:\tlearn: 1.2991005\ttotal: 11m 44s\tremaining: 2m 24s\n",
      "830:\tlearn: 1.2990147\ttotal: 11m 45s\tremaining: 2m 23s\n",
      "831:\tlearn: 1.2989572\ttotal: 11m 46s\tremaining: 2m 22s\n",
      "832:\tlearn: 1.2989341\ttotal: 11m 47s\tremaining: 2m 21s\n",
      "833:\tlearn: 1.2987868\ttotal: 11m 47s\tremaining: 2m 20s\n",
      "834:\tlearn: 1.2987385\ttotal: 11m 48s\tremaining: 2m 20s\n",
      "835:\tlearn: 1.2985964\ttotal: 11m 49s\tremaining: 2m 19s\n",
      "836:\tlearn: 1.2985648\ttotal: 11m 50s\tremaining: 2m 18s\n",
      "837:\tlearn: 1.2985385\ttotal: 11m 51s\tremaining: 2m 17s\n",
      "838:\tlearn: 1.2984614\ttotal: 11m 52s\tremaining: 2m 16s\n",
      "839:\tlearn: 1.2982890\ttotal: 11m 53s\tremaining: 2m 15s\n",
      "840:\tlearn: 1.2982554\ttotal: 11m 54s\tremaining: 2m 15s\n",
      "841:\tlearn: 1.2982259\ttotal: 11m 55s\tremaining: 2m 14s\n",
      "842:\tlearn: 1.2982185\ttotal: 11m 56s\tremaining: 2m 13s\n",
      "843:\tlearn: 1.2981796\ttotal: 11m 57s\tremaining: 2m 12s\n",
      "844:\tlearn: 1.2981065\ttotal: 11m 58s\tremaining: 2m 11s\n",
      "845:\tlearn: 1.2980559\ttotal: 11m 59s\tremaining: 2m 10s\n",
      "846:\tlearn: 1.2979336\ttotal: 12m\tremaining: 2m 10s\n",
      "847:\tlearn: 1.2979288\ttotal: 12m 1s\tremaining: 2m 9s\n",
      "848:\tlearn: 1.2978482\ttotal: 12m 2s\tremaining: 2m 8s\n",
      "849:\tlearn: 1.2977551\ttotal: 12m 2s\tremaining: 2m 7s\n",
      "850:\tlearn: 1.2976986\ttotal: 12m 3s\tremaining: 2m 6s\n",
      "851:\tlearn: 1.2976188\ttotal: 12m 4s\tremaining: 2m 5s\n",
      "852:\tlearn: 1.2975980\ttotal: 12m 5s\tremaining: 2m 5s\n",
      "853:\tlearn: 1.2975820\ttotal: 12m 6s\tremaining: 2m 4s\n",
      "854:\tlearn: 1.2974945\ttotal: 12m 7s\tremaining: 2m 3s\n",
      "855:\tlearn: 1.2974574\ttotal: 12m 8s\tremaining: 2m 2s\n",
      "856:\tlearn: 1.2974313\ttotal: 12m 9s\tremaining: 2m 1s\n",
      "857:\tlearn: 1.2973512\ttotal: 12m 10s\tremaining: 2m\n",
      "858:\tlearn: 1.2972679\ttotal: 12m 11s\tremaining: 2m\n",
      "859:\tlearn: 1.2972289\ttotal: 12m 12s\tremaining: 1m 59s\n",
      "860:\tlearn: 1.2971782\ttotal: 12m 13s\tremaining: 1m 58s\n",
      "861:\tlearn: 1.2970560\ttotal: 12m 14s\tremaining: 1m 57s\n",
      "862:\tlearn: 1.2970331\ttotal: 12m 14s\tremaining: 1m 56s\n",
      "863:\tlearn: 1.2968838\ttotal: 12m 15s\tremaining: 1m 55s\n",
      "864:\tlearn: 1.2968436\ttotal: 12m 16s\tremaining: 1m 54s\n",
      "865:\tlearn: 1.2968394\ttotal: 12m 17s\tremaining: 1m 54s\n",
      "866:\tlearn: 1.2968334\ttotal: 12m 18s\tremaining: 1m 53s\n",
      "867:\tlearn: 1.2967871\ttotal: 12m 19s\tremaining: 1m 52s\n",
      "868:\tlearn: 1.2967820\ttotal: 12m 20s\tremaining: 1m 51s\n",
      "869:\tlearn: 1.2966231\ttotal: 12m 21s\tremaining: 1m 50s\n",
      "870:\tlearn: 1.2965902\ttotal: 12m 22s\tremaining: 1m 49s\n",
      "871:\tlearn: 1.2965061\ttotal: 12m 22s\tremaining: 1m 49s\n",
      "872:\tlearn: 1.2964251\ttotal: 12m 23s\tremaining: 1m 48s\n",
      "873:\tlearn: 1.2963882\ttotal: 12m 24s\tremaining: 1m 47s\n",
      "874:\tlearn: 1.2963497\ttotal: 12m 25s\tremaining: 1m 46s\n",
      "875:\tlearn: 1.2963273\ttotal: 12m 26s\tremaining: 1m 45s\n",
      "876:\tlearn: 1.2962470\ttotal: 12m 27s\tremaining: 1m 44s\n",
      "877:\tlearn: 1.2962224\ttotal: 12m 28s\tremaining: 1m 43s\n",
      "878:\tlearn: 1.2961377\ttotal: 12m 29s\tremaining: 1m 43s\n",
      "879:\tlearn: 1.2960641\ttotal: 12m 30s\tremaining: 1m 42s\n",
      "880:\tlearn: 1.2960499\ttotal: 12m 31s\tremaining: 1m 41s\n",
      "881:\tlearn: 1.2960173\ttotal: 12m 32s\tremaining: 1m 40s\n",
      "882:\tlearn: 1.2960134\ttotal: 12m 32s\tremaining: 1m 39s\n",
      "883:\tlearn: 1.2959349\ttotal: 12m 33s\tremaining: 1m 38s\n",
      "884:\tlearn: 1.2958710\ttotal: 12m 34s\tremaining: 1m 38s\n",
      "885:\tlearn: 1.2958076\ttotal: 12m 35s\tremaining: 1m 37s\n",
      "886:\tlearn: 1.2956912\ttotal: 12m 36s\tremaining: 1m 36s\n",
      "887:\tlearn: 1.2956538\ttotal: 12m 37s\tremaining: 1m 35s\n",
      "888:\tlearn: 1.2955457\ttotal: 12m 38s\tremaining: 1m 34s\n",
      "889:\tlearn: 1.2955430\ttotal: 12m 39s\tremaining: 1m 33s\n",
      "890:\tlearn: 1.2954803\ttotal: 12m 40s\tremaining: 1m 32s\n",
      "891:\tlearn: 1.2954200\ttotal: 12m 41s\tremaining: 1m 32s\n",
      "892:\tlearn: 1.2952814\ttotal: 12m 42s\tremaining: 1m 31s\n",
      "893:\tlearn: 1.2952301\ttotal: 12m 42s\tremaining: 1m 30s\n",
      "894:\tlearn: 1.2951474\ttotal: 12m 43s\tremaining: 1m 29s\n",
      "895:\tlearn: 1.2951054\ttotal: 12m 44s\tremaining: 1m 28s\n",
      "896:\tlearn: 1.2950282\ttotal: 12m 45s\tremaining: 1m 27s\n",
      "897:\tlearn: 1.2949973\ttotal: 12m 46s\tremaining: 1m 27s\n",
      "898:\tlearn: 1.2949366\ttotal: 12m 47s\tremaining: 1m 26s\n",
      "899:\tlearn: 1.2949245\ttotal: 12m 48s\tremaining: 1m 25s\n",
      "900:\tlearn: 1.2948990\ttotal: 12m 49s\tremaining: 1m 24s\n",
      "901:\tlearn: 1.2948648\ttotal: 12m 50s\tremaining: 1m 23s\n",
      "902:\tlearn: 1.2948163\ttotal: 12m 51s\tremaining: 1m 22s\n",
      "903:\tlearn: 1.2945276\ttotal: 12m 52s\tremaining: 1m 22s\n",
      "904:\tlearn: 1.2944952\ttotal: 12m 53s\tremaining: 1m 21s\n",
      "905:\tlearn: 1.2944692\ttotal: 12m 54s\tremaining: 1m 20s\n",
      "906:\tlearn: 1.2944411\ttotal: 12m 54s\tremaining: 1m 19s\n",
      "907:\tlearn: 1.2943627\ttotal: 12m 55s\tremaining: 1m 18s\n",
      "908:\tlearn: 1.2943024\ttotal: 12m 56s\tremaining: 1m 17s\n",
      "909:\tlearn: 1.2942602\ttotal: 12m 57s\tremaining: 1m 16s\n",
      "910:\tlearn: 1.2942563\ttotal: 12m 58s\tremaining: 1m 16s\n",
      "911:\tlearn: 1.2941632\ttotal: 12m 59s\tremaining: 1m 15s\n",
      "912:\tlearn: 1.2941110\ttotal: 13m\tremaining: 1m 14s\n",
      "913:\tlearn: 1.2941047\ttotal: 13m 1s\tremaining: 1m 13s\n",
      "914:\tlearn: 1.2939807\ttotal: 13m 2s\tremaining: 1m 12s\n",
      "915:\tlearn: 1.2938920\ttotal: 13m 3s\tremaining: 1m 11s\n",
      "916:\tlearn: 1.2937833\ttotal: 13m 4s\tremaining: 1m 10s\n",
      "917:\tlearn: 1.2937064\ttotal: 13m 5s\tremaining: 1m 10s\n",
      "918:\tlearn: 1.2936003\ttotal: 13m 6s\tremaining: 1m 9s\n",
      "919:\tlearn: 1.2935915\ttotal: 13m 7s\tremaining: 1m 8s\n",
      "920:\tlearn: 1.2935263\ttotal: 13m 8s\tremaining: 1m 7s\n",
      "921:\tlearn: 1.2935101\ttotal: 13m 9s\tremaining: 1m 6s\n",
      "922:\tlearn: 1.2934472\ttotal: 13m 10s\tremaining: 1m 5s\n",
      "923:\tlearn: 1.2934310\ttotal: 13m 10s\tremaining: 1m 5s\n",
      "924:\tlearn: 1.2933738\ttotal: 13m 11s\tremaining: 1m 4s\n",
      "925:\tlearn: 1.2933046\ttotal: 13m 12s\tremaining: 1m 3s\n",
      "926:\tlearn: 1.2932735\ttotal: 13m 13s\tremaining: 1m 2s\n",
      "927:\tlearn: 1.2932695\ttotal: 13m 14s\tremaining: 1m 1s\n",
      "928:\tlearn: 1.2932595\ttotal: 13m 15s\tremaining: 1m\n",
      "929:\tlearn: 1.2932466\ttotal: 13m 16s\tremaining: 59.9s\n",
      "930:\tlearn: 1.2932233\ttotal: 13m 17s\tremaining: 59.1s\n",
      "931:\tlearn: 1.2931291\ttotal: 13m 18s\tremaining: 58.3s\n",
      "932:\tlearn: 1.2930996\ttotal: 13m 19s\tremaining: 57.4s\n",
      "933:\tlearn: 1.2930318\ttotal: 13m 20s\tremaining: 56.6s\n",
      "934:\tlearn: 1.2929892\ttotal: 13m 21s\tremaining: 55.7s\n",
      "935:\tlearn: 1.2928982\ttotal: 13m 22s\tremaining: 54.9s\n",
      "936:\tlearn: 1.2928650\ttotal: 13m 23s\tremaining: 54s\n",
      "937:\tlearn: 1.2928206\ttotal: 13m 24s\tremaining: 53.2s\n",
      "938:\tlearn: 1.2927593\ttotal: 13m 25s\tremaining: 52.3s\n",
      "939:\tlearn: 1.2927436\ttotal: 13m 26s\tremaining: 51.4s\n",
      "940:\tlearn: 1.2926211\ttotal: 13m 26s\tremaining: 50.6s\n",
      "941:\tlearn: 1.2925801\ttotal: 13m 27s\tremaining: 49.7s\n",
      "942:\tlearn: 1.2925721\ttotal: 13m 28s\tremaining: 48.9s\n",
      "943:\tlearn: 1.2925574\ttotal: 13m 29s\tremaining: 48s\n",
      "944:\tlearn: 1.2924189\ttotal: 13m 30s\tremaining: 47.2s\n",
      "945:\tlearn: 1.2923428\ttotal: 13m 31s\tremaining: 46.3s\n",
      "946:\tlearn: 1.2922534\ttotal: 13m 32s\tremaining: 45.5s\n",
      "947:\tlearn: 1.2922377\ttotal: 13m 33s\tremaining: 44.6s\n",
      "948:\tlearn: 1.2921564\ttotal: 13m 34s\tremaining: 43.8s\n",
      "949:\tlearn: 1.2921414\ttotal: 13m 35s\tremaining: 42.9s\n",
      "950:\tlearn: 1.2921117\ttotal: 13m 36s\tremaining: 42.1s\n",
      "951:\tlearn: 1.2921054\ttotal: 13m 37s\tremaining: 41.2s\n",
      "952:\tlearn: 1.2921028\ttotal: 13m 38s\tremaining: 40.3s\n",
      "953:\tlearn: 1.2920765\ttotal: 13m 38s\tremaining: 39.5s\n",
      "954:\tlearn: 1.2918658\ttotal: 13m 39s\tremaining: 38.6s\n",
      "955:\tlearn: 1.2915920\ttotal: 13m 40s\tremaining: 37.8s\n",
      "956:\tlearn: 1.2915735\ttotal: 13m 41s\tremaining: 36.9s\n",
      "957:\tlearn: 1.2915417\ttotal: 13m 42s\tremaining: 36.1s\n",
      "958:\tlearn: 1.2914380\ttotal: 13m 43s\tremaining: 35.2s\n",
      "959:\tlearn: 1.2913943\ttotal: 13m 44s\tremaining: 34.3s\n",
      "960:\tlearn: 1.2913811\ttotal: 13m 45s\tremaining: 33.5s\n",
      "961:\tlearn: 1.2911899\ttotal: 13m 46s\tremaining: 32.6s\n",
      "962:\tlearn: 1.2911110\ttotal: 13m 46s\tremaining: 31.8s\n",
      "963:\tlearn: 1.2911078\ttotal: 13m 47s\tremaining: 30.9s\n",
      "964:\tlearn: 1.2910717\ttotal: 13m 48s\tremaining: 30.1s\n",
      "965:\tlearn: 1.2910131\ttotal: 13m 49s\tremaining: 29.2s\n",
      "966:\tlearn: 1.2909732\ttotal: 13m 50s\tremaining: 28.3s\n",
      "967:\tlearn: 1.2909601\ttotal: 13m 51s\tremaining: 27.5s\n",
      "968:\tlearn: 1.2909518\ttotal: 13m 52s\tremaining: 26.6s\n",
      "969:\tlearn: 1.2907548\ttotal: 13m 53s\tremaining: 25.8s\n",
      "970:\tlearn: 1.2907417\ttotal: 13m 54s\tremaining: 24.9s\n",
      "971:\tlearn: 1.2906552\ttotal: 13m 54s\tremaining: 24.1s\n",
      "972:\tlearn: 1.2906173\ttotal: 13m 55s\tremaining: 23.2s\n",
      "973:\tlearn: 1.2906135\ttotal: 13m 56s\tremaining: 22.3s\n",
      "974:\tlearn: 1.2905994\ttotal: 13m 57s\tremaining: 21.5s\n",
      "975:\tlearn: 1.2905653\ttotal: 13m 58s\tremaining: 20.6s\n",
      "976:\tlearn: 1.2905054\ttotal: 13m 59s\tremaining: 19.8s\n",
      "977:\tlearn: 1.2904580\ttotal: 14m\tremaining: 18.9s\n",
      "978:\tlearn: 1.2903913\ttotal: 14m 1s\tremaining: 18s\n",
      "979:\tlearn: 1.2901881\ttotal: 14m 1s\tremaining: 17.2s\n",
      "980:\tlearn: 1.2900824\ttotal: 14m 2s\tremaining: 16.3s\n",
      "981:\tlearn: 1.2900527\ttotal: 14m 3s\tremaining: 15.5s\n",
      "982:\tlearn: 1.2899476\ttotal: 14m 4s\tremaining: 14.6s\n",
      "983:\tlearn: 1.2899442\ttotal: 14m 5s\tremaining: 13.7s\n",
      "984:\tlearn: 1.2899148\ttotal: 14m 6s\tremaining: 12.9s\n",
      "985:\tlearn: 1.2898258\ttotal: 14m 7s\tremaining: 12s\n",
      "986:\tlearn: 1.2897480\ttotal: 14m 8s\tremaining: 11.2s\n",
      "987:\tlearn: 1.2897269\ttotal: 14m 9s\tremaining: 10.3s\n",
      "988:\tlearn: 1.2896076\ttotal: 14m 10s\tremaining: 9.46s\n",
      "989:\tlearn: 1.2895006\ttotal: 14m 10s\tremaining: 8.6s\n",
      "990:\tlearn: 1.2893991\ttotal: 14m 11s\tremaining: 7.74s\n",
      "991:\tlearn: 1.2892541\ttotal: 14m 12s\tremaining: 6.88s\n",
      "992:\tlearn: 1.2892123\ttotal: 14m 13s\tremaining: 6.02s\n",
      "993:\tlearn: 1.2891960\ttotal: 14m 14s\tremaining: 5.16s\n",
      "994:\tlearn: 1.2891872\ttotal: 14m 15s\tremaining: 4.3s\n",
      "995:\tlearn: 1.2891833\ttotal: 14m 16s\tremaining: 3.44s\n",
      "996:\tlearn: 1.2891375\ttotal: 14m 17s\tremaining: 2.58s\n",
      "997:\tlearn: 1.2890649\ttotal: 14m 18s\tremaining: 1.72s\n",
      "998:\tlearn: 1.2890230\ttotal: 14m 18s\tremaining: 860ms\n",
      "999:\tlearn: 1.2889963\ttotal: 14m 19s\tremaining: 0us\n"
     ]
    },
    {
     "data": {
      "text/plain": "<catboost.core.CatBoostClassifier at 0x293431810>"
     },
     "execution_count": 36,
     "metadata": {},
     "output_type": "execute_result"
    }
   ],
   "source": [
    "%time\n",
    "\n",
    "clf = CatBoostClassifier(random_state=42)\n",
    "\n",
    "clf.fit(X_train, y_train)"
   ],
   "metadata": {
    "collapsed": false,
    "ExecuteTime": {
     "end_time": "2023-10-11T14:26:59.439595Z",
     "start_time": "2023-10-11T14:12:39.212838Z"
    }
   }
  },
  {
   "cell_type": "code",
   "execution_count": 37,
   "outputs": [],
   "source": [
    "y_preds = clf.predict(X_test)"
   ],
   "metadata": {
    "collapsed": false,
    "ExecuteTime": {
     "end_time": "2023-10-11T14:27:02.040785Z",
     "start_time": "2023-10-11T14:27:02.008916Z"
    }
   }
  },
  {
   "cell_type": "markdown",
   "source": [
    "Metrics for ML model."
   ],
   "metadata": {
    "collapsed": false
   }
  },
  {
   "cell_type": "code",
   "execution_count": 38,
   "outputs": [
    {
     "name": "stdout",
     "output_type": "stream",
     "text": [
      "              precision    recall  f1-score   support\n",
      "\n",
      "         MYA       0.57      0.39      0.46      2945\n",
      "         MYB       0.59      0.71      0.64      7960\n",
      "         MYC       0.48      0.55      0.51      6015\n",
      "         MYD       0.37      0.39      0.38      2734\n",
      "         MYE       0.37      0.10      0.16       980\n",
      "         MYF       0.00      0.00      0.00       158\n",
      "     NONPACK       0.62      0.78      0.69      3728\n",
      "     STRETCH       0.41      0.26      0.32      1963\n",
      "         YMA       0.48      0.22      0.30      1416\n",
      "         YMC       0.40      0.38      0.39      1671\n",
      "         YME       0.51      0.34      0.41       296\n",
      "         YMF       0.33      0.23      0.27       852\n",
      "         YMG       0.41      0.49      0.45       781\n",
      "         YML       0.70      0.18      0.29        39\n",
      "         YMW       0.36      0.28      0.31       799\n",
      "         YMX       0.00      0.00      0.00        30\n",
      "\n",
      "    accuracy                           0.51     32367\n",
      "   macro avg       0.41      0.33      0.35     32367\n",
      "weighted avg       0.50      0.51      0.50     32367\n"
     ]
    }
   ],
   "source": [
    "\n",
    "print(classification_report(y_test, y_preds, target_names=ord_encoder.categories_[0], zero_division=0))"
   ],
   "metadata": {
    "collapsed": false,
    "ExecuteTime": {
     "end_time": "2023-10-11T14:27:02.113740Z",
     "start_time": "2023-10-11T14:27:02.042672Z"
    }
   }
  },
  {
   "cell_type": "markdown",
   "source": [
    "Metrics for recommendation system."
   ],
   "metadata": {
    "collapsed": false
   }
  },
  {
   "cell_type": "code",
   "execution_count": 39,
   "outputs": [
    {
     "name": "stdout",
     "output_type": "stream",
     "text": [
      "              precision    recall  f1-score   support\n",
      "\n",
      "         MYA       0.41      0.39      0.40      2945\n",
      "         MYB       0.53      0.13      0.21      7960\n",
      "         MYC       0.43      0.23      0.30      6015\n",
      "         MYD       0.36      0.14      0.20      2734\n",
      "         MYE       0.18      0.09      0.12       980\n",
      "         MYF       0.02      0.32      0.05       158\n",
      "     NONPACK       0.73      0.49      0.59      3728\n",
      "     STRETCH       0.49      0.09      0.15      1963\n",
      "         YMA       0.14      0.60      0.22      1416\n",
      "         YMC       0.17      0.37      0.23      1671\n",
      "         YME       0.09      0.28      0.13       296\n",
      "         YMF       0.12      0.30      0.17       852\n",
      "         YMG       0.12      0.25      0.16       781\n",
      "         YML       0.03      0.82      0.07        39\n",
      "         YMW       0.14      0.21      0.17       799\n",
      "         YMX       0.02      0.20      0.03        30\n",
      "\n",
      "   micro avg       0.26      0.26      0.26     32367\n",
      "   macro avg       0.25      0.31      0.20     32367\n",
      "weighted avg       0.42      0.26      0.28     32367\n"
     ]
    }
   ],
   "source": [
    "print(classification_report(y_test, y_rec_algo_test, labels=np.unique(y_test), target_names=ord_encoder.categories_[0]))"
   ],
   "metadata": {
    "collapsed": false,
    "ExecuteTime": {
     "end_time": "2023-10-11T14:27:02.177857Z",
     "start_time": "2023-10-11T14:27:02.109503Z"
    }
   }
  },
  {
   "cell_type": "code",
   "execution_count": 40,
   "outputs": [
    {
     "data": {
      "text/plain": "array(['MYA', 'MYB', 'MYC', 'MYD', 'MYE', 'MYF', 'NONPACK', 'STRETCH',\n       'YMA', 'YMC', 'YME', 'YMF', 'YMG', 'YML', 'YMW', 'YMX'],\n      dtype=object)"
     },
     "execution_count": 40,
     "metadata": {},
     "output_type": "execute_result"
    }
   ],
   "source": [
    "ord_encoder.categories_[0]"
   ],
   "metadata": {
    "collapsed": false,
    "ExecuteTime": {
     "end_time": "2023-10-11T14:27:02.193337Z",
     "start_time": "2023-10-11T14:27:02.177571Z"
    }
   }
  },
  {
   "cell_type": "markdown",
   "source": [
    "We can see that simple baseline ML model can improve current recommendation algorithm. \n",
    "\n",
    "**Further improvements:**\n",
    "- Optimize targets: for the same groups of items we can choose the most optimal (small) package.\n",
    "- Generate more features"
   ],
   "metadata": {
    "collapsed": false
   }
  }
 ],
 "metadata": {
  "language_info": {
   "codemirror_mode": {
    "name": "ipython",
    "version": 2
   },
   "file_extension": ".py",
   "mimetype": "text/x-python",
   "name": "python",
   "nbconvert_exporter": "python",
   "pygments_lexer": "ipython2",
   "version": "2.7.6"
  },
  "kernelspec": {
   "name": "global",
   "language": "python",
   "display_name": "global"
  }
 },
 "nbformat": 4,
 "nbformat_minor": 0
}
