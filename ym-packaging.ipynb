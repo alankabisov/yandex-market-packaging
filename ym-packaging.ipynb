{
 "cells": [
  {
   "cell_type": "markdown",
   "source": [
    "## Packaging algorithm for Yandex.Market Hackathon\n",
    "\n",
    "There is a Yandex.Market warehouse where orders are processed, packed, and sent for delivery. Packers (\"users\") take prepared goods from a list and pack them into suitable packaging - cardboard boxes, film, or bags.\n",
    "\n",
    "**Task**: to select the optimal packaging for each set of goods, so that the items can fit inside and the size of the box is not too large.\n",
    "\n",
    "Currently, there is a heuristic algorithm that selects packaging based on the total volume of all items in the order and their sizes. However, users often reject its suggestions and pack the goods in a different box or packaging.\n",
    "\n",
    "We need to find a way to improve this algorithm.\n",
    "\n",
    "**Solution:** In this work I will use approach where for each size dimension of every item in order I will create separate column which will represent the size of the item in this dimension. Since the vast majority of orders (~95%) contain less than or equal to 3 items, I will use model only for 3 items."
   ],
   "metadata": {
    "collapsed": false
   }
  },
  {
   "cell_type": "code",
   "execution_count": 1,
   "metadata": {
    "collapsed": true,
    "ExecuteTime": {
     "end_time": "2023-10-11T13:38:46.893971Z",
     "start_time": "2023-10-11T13:38:46.773019Z"
    }
   },
   "outputs": [],
   "source": [
    "import pandas as pd\n",
    "import numpy as np\n",
    "\n",
    "from catboost import CatBoostClassifier\n",
    "\n",
    "from sklearn.metrics import classification_report\n",
    "from sklearn.preprocessing import LabelEncoder, OrdinalEncoder\n",
    "from skmultilearn.model_selection import iterative_train_test_split"
   ]
  },
  {
   "cell_type": "markdown",
   "source": [
    "## Loading and preprocessing the data"
   ],
   "metadata": {
    "collapsed": false
   }
  },
  {
   "cell_type": "markdown",
   "source": [
    "Items with their sizes"
   ],
   "metadata": {
    "collapsed": false
   }
  },
  {
   "cell_type": "code",
   "execution_count": 2,
   "outputs": [
    {
     "data": {
      "text/plain": "                                sku  width  height  depth\n0  8ba57dcdba9a58b0c4edd180bef6afc9   11.0    31.0   28.0\n1  d9af6ce6f9e303f4b1a8cb47cde21975   29.0    14.0   40.0\n2  8b91fd242bde88f0891380506d9c3caa   12.0    13.0   35.0\n3  e8af308a7659e34194770d1e3a48e144    3.0    13.0    8.0\n4  dc0e2542e122731217289b8e6d3bd3f8   96.0    18.0   56.0",
      "text/html": "<div>\n<style scoped>\n    .dataframe tbody tr th:only-of-type {\n        vertical-align: middle;\n    }\n\n    .dataframe tbody tr th {\n        vertical-align: top;\n    }\n\n    .dataframe thead th {\n        text-align: right;\n    }\n</style>\n<table border=\"1\" class=\"dataframe\">\n  <thead>\n    <tr style=\"text-align: right;\">\n      <th></th>\n      <th>sku</th>\n      <th>width</th>\n      <th>height</th>\n      <th>depth</th>\n    </tr>\n  </thead>\n  <tbody>\n    <tr>\n      <th>0</th>\n      <td>8ba57dcdba9a58b0c4edd180bef6afc9</td>\n      <td>11.0</td>\n      <td>31.0</td>\n      <td>28.0</td>\n    </tr>\n    <tr>\n      <th>1</th>\n      <td>d9af6ce6f9e303f4b1a8cb47cde21975</td>\n      <td>29.0</td>\n      <td>14.0</td>\n      <td>40.0</td>\n    </tr>\n    <tr>\n      <th>2</th>\n      <td>8b91fd242bde88f0891380506d9c3caa</td>\n      <td>12.0</td>\n      <td>13.0</td>\n      <td>35.0</td>\n    </tr>\n    <tr>\n      <th>3</th>\n      <td>e8af308a7659e34194770d1e3a48e144</td>\n      <td>3.0</td>\n      <td>13.0</td>\n      <td>8.0</td>\n    </tr>\n    <tr>\n      <th>4</th>\n      <td>dc0e2542e122731217289b8e6d3bd3f8</td>\n      <td>96.0</td>\n      <td>18.0</td>\n      <td>56.0</td>\n    </tr>\n  </tbody>\n</table>\n</div>"
     },
     "execution_count": 2,
     "metadata": {},
     "output_type": "execute_result"
    }
   ],
   "source": [
    "items = pd.read_csv('./data/sku.csv', index_col=0, low_memory=False)\n",
    "items.columns = ['sku', 'width', 'height', 'depth']\n",
    "items.head()"
   ],
   "metadata": {
    "collapsed": false,
    "ExecuteTime": {
     "end_time": "2023-10-11T13:38:51.404212Z",
     "start_time": "2023-10-11T13:38:46.893565Z"
    }
   }
  },
  {
   "cell_type": "code",
   "execution_count": 3,
   "outputs": [
    {
     "data": {
      "text/plain": "              width        height         depth\ncount  6.385961e+06  6.385961e+06  6.385961e+06\nmean   2.108468e+01  1.203353e+01  1.782524e+01\nstd    1.890676e+01  1.487745e+01  1.508838e+01\nmin    0.000000e+00  0.000000e+00  0.000000e+00\n25%    1.000000e+01  3.000000e+00  8.000000e+00\n50%    1.800000e+01  8.000000e+00  1.500000e+01\n75%    2.800000e+01  1.600000e+01  2.400000e+01\nmax    6.554000e+03  2.050000e+03  5.930000e+02",
      "text/html": "<div>\n<style scoped>\n    .dataframe tbody tr th:only-of-type {\n        vertical-align: middle;\n    }\n\n    .dataframe tbody tr th {\n        vertical-align: top;\n    }\n\n    .dataframe thead th {\n        text-align: right;\n    }\n</style>\n<table border=\"1\" class=\"dataframe\">\n  <thead>\n    <tr style=\"text-align: right;\">\n      <th></th>\n      <th>width</th>\n      <th>height</th>\n      <th>depth</th>\n    </tr>\n  </thead>\n  <tbody>\n    <tr>\n      <th>count</th>\n      <td>6.385961e+06</td>\n      <td>6.385961e+06</td>\n      <td>6.385961e+06</td>\n    </tr>\n    <tr>\n      <th>mean</th>\n      <td>2.108468e+01</td>\n      <td>1.203353e+01</td>\n      <td>1.782524e+01</td>\n    </tr>\n    <tr>\n      <th>std</th>\n      <td>1.890676e+01</td>\n      <td>1.487745e+01</td>\n      <td>1.508838e+01</td>\n    </tr>\n    <tr>\n      <th>min</th>\n      <td>0.000000e+00</td>\n      <td>0.000000e+00</td>\n      <td>0.000000e+00</td>\n    </tr>\n    <tr>\n      <th>25%</th>\n      <td>1.000000e+01</td>\n      <td>3.000000e+00</td>\n      <td>8.000000e+00</td>\n    </tr>\n    <tr>\n      <th>50%</th>\n      <td>1.800000e+01</td>\n      <td>8.000000e+00</td>\n      <td>1.500000e+01</td>\n    </tr>\n    <tr>\n      <th>75%</th>\n      <td>2.800000e+01</td>\n      <td>1.600000e+01</td>\n      <td>2.400000e+01</td>\n    </tr>\n    <tr>\n      <th>max</th>\n      <td>6.554000e+03</td>\n      <td>2.050000e+03</td>\n      <td>5.930000e+02</td>\n    </tr>\n  </tbody>\n</table>\n</div>"
     },
     "execution_count": 3,
     "metadata": {},
     "output_type": "execute_result"
    }
   ],
   "source": [
    "items.describe()"
   ],
   "metadata": {
    "collapsed": false,
    "ExecuteTime": {
     "end_time": "2023-10-11T13:38:51.924428Z",
     "start_time": "2023-10-11T13:38:51.395Z"
    }
   }
  },
  {
   "cell_type": "code",
   "execution_count": 4,
   "outputs": [
    {
     "data": {
      "text/plain": "sku       6385961\nwidth        2250\nheight       1948\ndepth        1844\ndtype: int64"
     },
     "execution_count": 4,
     "metadata": {},
     "output_type": "execute_result"
    }
   ],
   "source": [
    "items.nunique()"
   ],
   "metadata": {
    "collapsed": false,
    "ExecuteTime": {
     "end_time": "2023-10-11T13:38:54.267182Z",
     "start_time": "2023-10-11T13:38:52.019099Z"
    }
   }
  },
  {
   "cell_type": "code",
   "execution_count": 5,
   "outputs": [],
   "source": [
    "SIZE_COLS = ['width', 'height', 'depth']"
   ],
   "metadata": {
    "collapsed": false,
    "ExecuteTime": {
     "end_time": "2023-10-11T13:38:54.267534Z",
     "start_time": "2023-10-11T13:38:54.258899Z"
    }
   }
  },
  {
   "cell_type": "markdown",
   "source": [
    "We need to have less unique values and split them into groups. But first let's convert them to nearest ceil integer"
   ],
   "metadata": {
    "collapsed": false
   }
  },
  {
   "cell_type": "code",
   "execution_count": 6,
   "outputs": [],
   "source": [
    "items[SIZE_COLS] = np.ceil(items[SIZE_COLS]).astype(int)"
   ],
   "metadata": {
    "collapsed": false,
    "ExecuteTime": {
     "end_time": "2023-10-11T13:38:54.346401Z",
     "start_time": "2023-10-11T13:38:54.263991Z"
    }
   }
  },
  {
   "cell_type": "code",
   "execution_count": 7,
   "outputs": [
    {
     "data": {
      "text/plain": "sku       6385961\nwidth         367\nheight        344\ndepth         319\ndtype: int64"
     },
     "execution_count": 7,
     "metadata": {},
     "output_type": "execute_result"
    }
   ],
   "source": [
    "items.nunique()"
   ],
   "metadata": {
    "collapsed": false,
    "ExecuteTime": {
     "end_time": "2023-10-11T13:38:56.615077Z",
     "start_time": "2023-10-11T13:38:54.447755Z"
    }
   }
  },
  {
   "cell_type": "markdown",
   "source": [
    "We can shrink them more, but for now let's leave it as it is."
   ],
   "metadata": {
    "collapsed": false
   }
  },
  {
   "cell_type": "markdown",
   "source": [
    "Orders which we need to preprocess so we can solve the problem with supervised machine learning algorithms"
   ],
   "metadata": {
    "collapsed": false
   }
  },
  {
   "cell_type": "code",
   "execution_count": 8,
   "outputs": [
    {
     "data": {
      "text/plain": "        Unnamed: 0  whs                          orderkey selected_cartontype  \\\n0                0    0  d48f3211c1ffccdc374f23139a9ab668             NONPACK   \n1                1    0  d48f3211c1ffccdc374f23139a9ab668             NONPACK   \n2                2    0  d48f3211c1ffccdc374f23139a9ab668             NONPACK   \n3                3    0  d48f3211c1ffccdc374f23139a9ab668             NONPACK   \n4                4    0  d48f3211c1ffccdc374f23139a9ab668             NONPACK   \n...            ...  ...                               ...                 ...   \n325618      325618    7  0e4f34db53e37d6bf171c2e055e2b4e0                 MYC   \n325619      325619    7  0e4f34db53e37d6bf171c2e055e2b4e0                 MYC   \n325620      325620    7  e71d2e750ce9a7a39c273c634be1665d                 YMC   \n325621      325621    7  2e2a642f611b5a6f2c404ab945fbc2a3                 MYB   \n325622      325622    7  be54e183db5d75147ffcb4582c0e699b             NONPACK   \n\n        box_num recommended_cartontype selected_carton  sel_calc_cube  \\\n0             1                    YML         NONPACK              0   \n1             1                    YML         NONPACK              0   \n2             1                    YML         NONPACK              0   \n3             1                    YML         NONPACK              0   \n4             1                    YML         NONPACK              0   \n...         ...                    ...             ...            ...   \n325618        1                    YMC             MYC           4560   \n325619        1                    YMC             MYC           4560   \n325620        1                    YMC             YMC           8525   \n325621        1                    YMU             MYB           2816   \n325622        1                NONPACK         NONPACK              0   \n\n       recommended_carton  pack_volume  rec_calc_cube  goods_wght  \\\n0                     YML         2046         108000       0.100   \n1                     YML         2046         108000       0.100   \n2                     YML         2046         108000       0.100   \n3                     YML         2046         108000       0.100   \n4                     YML         2046         108000       0.100   \n...                   ...          ...            ...         ...   \n325618                YMC         2080           8525       0.100   \n325619                YMC         2080           8525       0.100   \n325620                YMC         3523           8525       0.284   \n325621                YMU          552           2592       0.230   \n325622            NONPACK        38130              0       1.200   \n\n                                     sku                               who  \\\n0       af49bf330e2cf16e44f0be1bdfe337bd  b7325da1af89a46059164618eb03ae38   \n1       af49bf330e2cf16e44f0be1bdfe337bd  b7325da1af89a46059164618eb03ae38   \n2       af49bf330e2cf16e44f0be1bdfe337bd  b7325da1af89a46059164618eb03ae38   \n3       af49bf330e2cf16e44f0be1bdfe337bd  b7325da1af89a46059164618eb03ae38   \n4       af49bf330e2cf16e44f0be1bdfe337bd  b7325da1af89a46059164618eb03ae38   \n...                                  ...                               ...   \n325618  86dcc1a44eb2939fea4d2dd3604e1f9e  be7c9ad8b9430d358e6c276b94e2beff   \n325619  86dcc1a44eb2939fea4d2dd3604e1f9e  be7c9ad8b9430d358e6c276b94e2beff   \n325620  9db21acf9e6c1a66493c246c1461f989  be7c9ad8b9430d358e6c276b94e2beff   \n325621  4aedb72c5662562524f6119918c7179b  be7c9ad8b9430d358e6c276b94e2beff   \n325622  c674cb7255f1417a92e62f50b85aad5a  eeafb158c529eaf1aa9b8f2068a82914   \n\n                              trackingid  \n0       6c304d5c2815ccd2ba5046c101294c24  \n1       6c304d5c2815ccd2ba5046c101294c24  \n2       6c304d5c2815ccd2ba5046c101294c24  \n3       6c304d5c2815ccd2ba5046c101294c24  \n4       6c304d5c2815ccd2ba5046c101294c24  \n...                                  ...  \n325618  f94f078101752133502202383bc87743  \n325619  f94f078101752133502202383bc87743  \n325620  58054d533ef06746ffd8cf99fad4a8cb  \n325621  1666b5c878be124f05fb9a1d95dd8a68  \n325622  16b2ecff7b2d86ada75995e8d5dd0152  \n\n[325623 rows x 15 columns]",
      "text/html": "<div>\n<style scoped>\n    .dataframe tbody tr th:only-of-type {\n        vertical-align: middle;\n    }\n\n    .dataframe tbody tr th {\n        vertical-align: top;\n    }\n\n    .dataframe thead th {\n        text-align: right;\n    }\n</style>\n<table border=\"1\" class=\"dataframe\">\n  <thead>\n    <tr style=\"text-align: right;\">\n      <th></th>\n      <th>Unnamed: 0</th>\n      <th>whs</th>\n      <th>orderkey</th>\n      <th>selected_cartontype</th>\n      <th>box_num</th>\n      <th>recommended_cartontype</th>\n      <th>selected_carton</th>\n      <th>sel_calc_cube</th>\n      <th>recommended_carton</th>\n      <th>pack_volume</th>\n      <th>rec_calc_cube</th>\n      <th>goods_wght</th>\n      <th>sku</th>\n      <th>who</th>\n      <th>trackingid</th>\n    </tr>\n  </thead>\n  <tbody>\n    <tr>\n      <th>0</th>\n      <td>0</td>\n      <td>0</td>\n      <td>d48f3211c1ffccdc374f23139a9ab668</td>\n      <td>NONPACK</td>\n      <td>1</td>\n      <td>YML</td>\n      <td>NONPACK</td>\n      <td>0</td>\n      <td>YML</td>\n      <td>2046</td>\n      <td>108000</td>\n      <td>0.100</td>\n      <td>af49bf330e2cf16e44f0be1bdfe337bd</td>\n      <td>b7325da1af89a46059164618eb03ae38</td>\n      <td>6c304d5c2815ccd2ba5046c101294c24</td>\n    </tr>\n    <tr>\n      <th>1</th>\n      <td>1</td>\n      <td>0</td>\n      <td>d48f3211c1ffccdc374f23139a9ab668</td>\n      <td>NONPACK</td>\n      <td>1</td>\n      <td>YML</td>\n      <td>NONPACK</td>\n      <td>0</td>\n      <td>YML</td>\n      <td>2046</td>\n      <td>108000</td>\n      <td>0.100</td>\n      <td>af49bf330e2cf16e44f0be1bdfe337bd</td>\n      <td>b7325da1af89a46059164618eb03ae38</td>\n      <td>6c304d5c2815ccd2ba5046c101294c24</td>\n    </tr>\n    <tr>\n      <th>2</th>\n      <td>2</td>\n      <td>0</td>\n      <td>d48f3211c1ffccdc374f23139a9ab668</td>\n      <td>NONPACK</td>\n      <td>1</td>\n      <td>YML</td>\n      <td>NONPACK</td>\n      <td>0</td>\n      <td>YML</td>\n      <td>2046</td>\n      <td>108000</td>\n      <td>0.100</td>\n      <td>af49bf330e2cf16e44f0be1bdfe337bd</td>\n      <td>b7325da1af89a46059164618eb03ae38</td>\n      <td>6c304d5c2815ccd2ba5046c101294c24</td>\n    </tr>\n    <tr>\n      <th>3</th>\n      <td>3</td>\n      <td>0</td>\n      <td>d48f3211c1ffccdc374f23139a9ab668</td>\n      <td>NONPACK</td>\n      <td>1</td>\n      <td>YML</td>\n      <td>NONPACK</td>\n      <td>0</td>\n      <td>YML</td>\n      <td>2046</td>\n      <td>108000</td>\n      <td>0.100</td>\n      <td>af49bf330e2cf16e44f0be1bdfe337bd</td>\n      <td>b7325da1af89a46059164618eb03ae38</td>\n      <td>6c304d5c2815ccd2ba5046c101294c24</td>\n    </tr>\n    <tr>\n      <th>4</th>\n      <td>4</td>\n      <td>0</td>\n      <td>d48f3211c1ffccdc374f23139a9ab668</td>\n      <td>NONPACK</td>\n      <td>1</td>\n      <td>YML</td>\n      <td>NONPACK</td>\n      <td>0</td>\n      <td>YML</td>\n      <td>2046</td>\n      <td>108000</td>\n      <td>0.100</td>\n      <td>af49bf330e2cf16e44f0be1bdfe337bd</td>\n      <td>b7325da1af89a46059164618eb03ae38</td>\n      <td>6c304d5c2815ccd2ba5046c101294c24</td>\n    </tr>\n    <tr>\n      <th>...</th>\n      <td>...</td>\n      <td>...</td>\n      <td>...</td>\n      <td>...</td>\n      <td>...</td>\n      <td>...</td>\n      <td>...</td>\n      <td>...</td>\n      <td>...</td>\n      <td>...</td>\n      <td>...</td>\n      <td>...</td>\n      <td>...</td>\n      <td>...</td>\n      <td>...</td>\n    </tr>\n    <tr>\n      <th>325618</th>\n      <td>325618</td>\n      <td>7</td>\n      <td>0e4f34db53e37d6bf171c2e055e2b4e0</td>\n      <td>MYC</td>\n      <td>1</td>\n      <td>YMC</td>\n      <td>MYC</td>\n      <td>4560</td>\n      <td>YMC</td>\n      <td>2080</td>\n      <td>8525</td>\n      <td>0.100</td>\n      <td>86dcc1a44eb2939fea4d2dd3604e1f9e</td>\n      <td>be7c9ad8b9430d358e6c276b94e2beff</td>\n      <td>f94f078101752133502202383bc87743</td>\n    </tr>\n    <tr>\n      <th>325619</th>\n      <td>325619</td>\n      <td>7</td>\n      <td>0e4f34db53e37d6bf171c2e055e2b4e0</td>\n      <td>MYC</td>\n      <td>1</td>\n      <td>YMC</td>\n      <td>MYC</td>\n      <td>4560</td>\n      <td>YMC</td>\n      <td>2080</td>\n      <td>8525</td>\n      <td>0.100</td>\n      <td>86dcc1a44eb2939fea4d2dd3604e1f9e</td>\n      <td>be7c9ad8b9430d358e6c276b94e2beff</td>\n      <td>f94f078101752133502202383bc87743</td>\n    </tr>\n    <tr>\n      <th>325620</th>\n      <td>325620</td>\n      <td>7</td>\n      <td>e71d2e750ce9a7a39c273c634be1665d</td>\n      <td>YMC</td>\n      <td>1</td>\n      <td>YMC</td>\n      <td>YMC</td>\n      <td>8525</td>\n      <td>YMC</td>\n      <td>3523</td>\n      <td>8525</td>\n      <td>0.284</td>\n      <td>9db21acf9e6c1a66493c246c1461f989</td>\n      <td>be7c9ad8b9430d358e6c276b94e2beff</td>\n      <td>58054d533ef06746ffd8cf99fad4a8cb</td>\n    </tr>\n    <tr>\n      <th>325621</th>\n      <td>325621</td>\n      <td>7</td>\n      <td>2e2a642f611b5a6f2c404ab945fbc2a3</td>\n      <td>MYB</td>\n      <td>1</td>\n      <td>YMU</td>\n      <td>MYB</td>\n      <td>2816</td>\n      <td>YMU</td>\n      <td>552</td>\n      <td>2592</td>\n      <td>0.230</td>\n      <td>4aedb72c5662562524f6119918c7179b</td>\n      <td>be7c9ad8b9430d358e6c276b94e2beff</td>\n      <td>1666b5c878be124f05fb9a1d95dd8a68</td>\n    </tr>\n    <tr>\n      <th>325622</th>\n      <td>325622</td>\n      <td>7</td>\n      <td>be54e183db5d75147ffcb4582c0e699b</td>\n      <td>NONPACK</td>\n      <td>1</td>\n      <td>NONPACK</td>\n      <td>NONPACK</td>\n      <td>0</td>\n      <td>NONPACK</td>\n      <td>38130</td>\n      <td>0</td>\n      <td>1.200</td>\n      <td>c674cb7255f1417a92e62f50b85aad5a</td>\n      <td>eeafb158c529eaf1aa9b8f2068a82914</td>\n      <td>16b2ecff7b2d86ada75995e8d5dd0152</td>\n    </tr>\n  </tbody>\n</table>\n<p>325623 rows × 15 columns</p>\n</div>"
     },
     "execution_count": 8,
     "metadata": {},
     "output_type": "execute_result"
    }
   ],
   "source": [
    "orders = pd.read_csv('./data/data.csv')\n",
    "orders"
   ],
   "metadata": {
    "collapsed": false,
    "ExecuteTime": {
     "end_time": "2023-10-11T13:38:57.064387Z",
     "start_time": "2023-10-11T13:38:56.607546Z"
    }
   }
  },
  {
   "cell_type": "code",
   "execution_count": 9,
   "outputs": [],
   "source": [
    "# Column by which we will group/count orders (order or tracking id)\n",
    "ORDER_COLUMN = 'trackingid'\n",
    "TARGET_COLUMN = 'selected_cartontype'"
   ],
   "metadata": {
    "collapsed": false,
    "ExecuteTime": {
     "end_time": "2023-10-11T13:38:57.065216Z",
     "start_time": "2023-10-11T13:38:57.057072Z"
    }
   }
  },
  {
   "cell_type": "code",
   "execution_count": 10,
   "outputs": [
    {
     "data": {
      "text/plain": "selected_cartontype\nMYB        55937\nMYC        48837\nNONPACK    30497\nYMC        27149\nMYD        24663\nYMG        23610\nMYA        20401\nYMF        19256\nYMW        19173\nYMA        15795\nYME        12685\nSTRETCH    12465\nMYE         9719\nYML         3282\nMYF         1350\nYMX          802\nYMB            2\nName: count, dtype: int64"
     },
     "execution_count": 10,
     "metadata": {},
     "output_type": "execute_result"
    }
   ],
   "source": [
    "orders[TARGET_COLUMN].value_counts()"
   ],
   "metadata": {
    "collapsed": false,
    "ExecuteTime": {
     "end_time": "2023-10-11T13:38:57.089125Z",
     "start_time": "2023-10-11T13:38:57.071347Z"
    }
   }
  },
  {
   "cell_type": "code",
   "execution_count": 11,
   "outputs": [
    {
     "data": {
      "text/plain": "box_num\n1      296683\n2       15199\n3        4311\n4        1739\n5         981\n        ...  \n87          1\n86          1\n85          1\n84          1\n210         1\nName: count, Length: 235, dtype: int64"
     },
     "execution_count": 11,
     "metadata": {},
     "output_type": "execute_result"
    }
   ],
   "source": [
    "orders['box_num'].value_counts()"
   ],
   "metadata": {
    "collapsed": false,
    "ExecuteTime": {
     "end_time": "2023-10-11T13:38:57.099840Z",
     "start_time": "2023-10-11T13:38:57.076279Z"
    }
   }
  },
  {
   "cell_type": "code",
   "execution_count": 12,
   "outputs": [
    {
     "data": {
      "text/plain": "        Unnamed: 0  whs                          orderkey selected_cartontype  \\\n131            131    0  49b16c00343c611f66b59ca6019aacb7             STRETCH   \n155            155    0  869feb74f3045d9ab14c8fba6987f41a             NONPACK   \n167            167    0  12a08dd5869a1abc64d825c165afc9c2             NONPACK   \n204            204    0  e18c79259aac13bf30ee63dcccb857f6             NONPACK   \n228            228    0  9fd0b8e9c1144e56c509b3b56de392a8             NONPACK   \n...            ...  ...                               ...                 ...   \n325439      325439    7  1af40edb78f16537dd4e9930e569fd8a             NONPACK   \n325500      325500    7  d06547ddebea26fd29d1851e64cc15b6             NONPACK   \n325513      325513    7  78b241628f8feef6651c3913d99c2ec1             NONPACK   \n325594      325594    7  7082728665f713581f584b2c4010bc42             NONPACK   \n325597      325597    7  6734e2ff60baf099643ed8c58dc0ab91             NONPACK   \n\n        box_num recommended_cartontype selected_carton  sel_calc_cube  \\\n131           3                STRETCH         STRETCH              0   \n155           3                NONPACK         NONPACK              0   \n167           3                NONPACK         NONPACK              0   \n204           3                STRETCH         NONPACK              0   \n228           3                NONPACK         NONPACK              0   \n...         ...                    ...             ...            ...   \n325439        3                NONPACK         NONPACK              0   \n325500        3                NONPACK         NONPACK              0   \n325513        3                NONPACK         NONPACK              0   \n325594        3                NONPACK         NONPACK              0   \n325597        3                NONPACK         NONPACK              0   \n\n       recommended_carton  pack_volume  rec_calc_cube  goods_wght  \\\n131               STRETCH         5482              0       1.048   \n155               NONPACK        17600              0       0.750   \n167               NONPACK        17955              0       9.450   \n204               STRETCH        31744              0       0.700   \n228               NONPACK         1925              0       0.145   \n...                   ...          ...            ...         ...   \n325439            NONPACK         8322              0       4.660   \n325500            NONPACK        33660              0      38.900   \n325513            NONPACK         8322              0       4.660   \n325594            NONPACK       117600              0       7.500   \n325597            NONPACK         2277              0       0.920   \n\n                                     sku                               who  \\\n131     c6132928cba6b44adc82ceda7e3690fa  0d5a07f7ac939ca7a4cc4afe355c7234   \n155     2ae7a054de2b06402837bca5e75cb572  0d5a07f7ac939ca7a4cc4afe355c7234   \n167     7f09eeeb1982a7ceb04c78c01789eac2  c1ef50c2d16368c7039ca5f842e4cb6d   \n204     e1a683071f58f26c7c7fc3bdeb64410f  fb5b37a93c08094e4ff31c07eafaed63   \n228     ce93956193dc197de190d74f5f116689  094d644282d8c426463160b1f08bdfe0   \n...                                  ...                               ...   \n325439  66d38708254823d36a8be0f49222ec22  ce21d9ab9bf6770610560ee7f6ec6602   \n325500  1b37a7cb22aede48f5721cb87287f28e  027659f40187d994e0254a043e56aee7   \n325513  66d38708254823d36a8be0f49222ec22  027659f40187d994e0254a043e56aee7   \n325594  e0f94b79e5b02aecd844a2df53460f8b  eeafb158c529eaf1aa9b8f2068a82914   \n325597  b1076a1898230e027be3f1cff56e11cb  9c403462ea65612f85c9a6da17581e07   \n\n                              trackingid  \n131     3d67e3d5c6dc19f916c730ecce78dfc1  \n155     b8b1b929db80e863e8ea01c4262a8ab1  \n167     1e5c8de9d013143c1cc894b62ecc6222  \n204     344df72c66bd275b309760d1bb33477c  \n228     09979a27f0dace2e577e97c0e638e39f  \n...                                  ...  \n325439  ed5959ea626cd7fdec476ab82d9db41c  \n325500  be902a554595732928f25fff48acf302  \n325513  30e38480617f09c714917d2808b0ad26  \n325594  8f06ed7642247824c77709c7878fe2ee  \n325597  ff3e53b51b88d465989c17c1092a15a6  \n\n[4311 rows x 15 columns]",
      "text/html": "<div>\n<style scoped>\n    .dataframe tbody tr th:only-of-type {\n        vertical-align: middle;\n    }\n\n    .dataframe tbody tr th {\n        vertical-align: top;\n    }\n\n    .dataframe thead th {\n        text-align: right;\n    }\n</style>\n<table border=\"1\" class=\"dataframe\">\n  <thead>\n    <tr style=\"text-align: right;\">\n      <th></th>\n      <th>Unnamed: 0</th>\n      <th>whs</th>\n      <th>orderkey</th>\n      <th>selected_cartontype</th>\n      <th>box_num</th>\n      <th>recommended_cartontype</th>\n      <th>selected_carton</th>\n      <th>sel_calc_cube</th>\n      <th>recommended_carton</th>\n      <th>pack_volume</th>\n      <th>rec_calc_cube</th>\n      <th>goods_wght</th>\n      <th>sku</th>\n      <th>who</th>\n      <th>trackingid</th>\n    </tr>\n  </thead>\n  <tbody>\n    <tr>\n      <th>131</th>\n      <td>131</td>\n      <td>0</td>\n      <td>49b16c00343c611f66b59ca6019aacb7</td>\n      <td>STRETCH</td>\n      <td>3</td>\n      <td>STRETCH</td>\n      <td>STRETCH</td>\n      <td>0</td>\n      <td>STRETCH</td>\n      <td>5482</td>\n      <td>0</td>\n      <td>1.048</td>\n      <td>c6132928cba6b44adc82ceda7e3690fa</td>\n      <td>0d5a07f7ac939ca7a4cc4afe355c7234</td>\n      <td>3d67e3d5c6dc19f916c730ecce78dfc1</td>\n    </tr>\n    <tr>\n      <th>155</th>\n      <td>155</td>\n      <td>0</td>\n      <td>869feb74f3045d9ab14c8fba6987f41a</td>\n      <td>NONPACK</td>\n      <td>3</td>\n      <td>NONPACK</td>\n      <td>NONPACK</td>\n      <td>0</td>\n      <td>NONPACK</td>\n      <td>17600</td>\n      <td>0</td>\n      <td>0.750</td>\n      <td>2ae7a054de2b06402837bca5e75cb572</td>\n      <td>0d5a07f7ac939ca7a4cc4afe355c7234</td>\n      <td>b8b1b929db80e863e8ea01c4262a8ab1</td>\n    </tr>\n    <tr>\n      <th>167</th>\n      <td>167</td>\n      <td>0</td>\n      <td>12a08dd5869a1abc64d825c165afc9c2</td>\n      <td>NONPACK</td>\n      <td>3</td>\n      <td>NONPACK</td>\n      <td>NONPACK</td>\n      <td>0</td>\n      <td>NONPACK</td>\n      <td>17955</td>\n      <td>0</td>\n      <td>9.450</td>\n      <td>7f09eeeb1982a7ceb04c78c01789eac2</td>\n      <td>c1ef50c2d16368c7039ca5f842e4cb6d</td>\n      <td>1e5c8de9d013143c1cc894b62ecc6222</td>\n    </tr>\n    <tr>\n      <th>204</th>\n      <td>204</td>\n      <td>0</td>\n      <td>e18c79259aac13bf30ee63dcccb857f6</td>\n      <td>NONPACK</td>\n      <td>3</td>\n      <td>STRETCH</td>\n      <td>NONPACK</td>\n      <td>0</td>\n      <td>STRETCH</td>\n      <td>31744</td>\n      <td>0</td>\n      <td>0.700</td>\n      <td>e1a683071f58f26c7c7fc3bdeb64410f</td>\n      <td>fb5b37a93c08094e4ff31c07eafaed63</td>\n      <td>344df72c66bd275b309760d1bb33477c</td>\n    </tr>\n    <tr>\n      <th>228</th>\n      <td>228</td>\n      <td>0</td>\n      <td>9fd0b8e9c1144e56c509b3b56de392a8</td>\n      <td>NONPACK</td>\n      <td>3</td>\n      <td>NONPACK</td>\n      <td>NONPACK</td>\n      <td>0</td>\n      <td>NONPACK</td>\n      <td>1925</td>\n      <td>0</td>\n      <td>0.145</td>\n      <td>ce93956193dc197de190d74f5f116689</td>\n      <td>094d644282d8c426463160b1f08bdfe0</td>\n      <td>09979a27f0dace2e577e97c0e638e39f</td>\n    </tr>\n    <tr>\n      <th>...</th>\n      <td>...</td>\n      <td>...</td>\n      <td>...</td>\n      <td>...</td>\n      <td>...</td>\n      <td>...</td>\n      <td>...</td>\n      <td>...</td>\n      <td>...</td>\n      <td>...</td>\n      <td>...</td>\n      <td>...</td>\n      <td>...</td>\n      <td>...</td>\n      <td>...</td>\n    </tr>\n    <tr>\n      <th>325439</th>\n      <td>325439</td>\n      <td>7</td>\n      <td>1af40edb78f16537dd4e9930e569fd8a</td>\n      <td>NONPACK</td>\n      <td>3</td>\n      <td>NONPACK</td>\n      <td>NONPACK</td>\n      <td>0</td>\n      <td>NONPACK</td>\n      <td>8322</td>\n      <td>0</td>\n      <td>4.660</td>\n      <td>66d38708254823d36a8be0f49222ec22</td>\n      <td>ce21d9ab9bf6770610560ee7f6ec6602</td>\n      <td>ed5959ea626cd7fdec476ab82d9db41c</td>\n    </tr>\n    <tr>\n      <th>325500</th>\n      <td>325500</td>\n      <td>7</td>\n      <td>d06547ddebea26fd29d1851e64cc15b6</td>\n      <td>NONPACK</td>\n      <td>3</td>\n      <td>NONPACK</td>\n      <td>NONPACK</td>\n      <td>0</td>\n      <td>NONPACK</td>\n      <td>33660</td>\n      <td>0</td>\n      <td>38.900</td>\n      <td>1b37a7cb22aede48f5721cb87287f28e</td>\n      <td>027659f40187d994e0254a043e56aee7</td>\n      <td>be902a554595732928f25fff48acf302</td>\n    </tr>\n    <tr>\n      <th>325513</th>\n      <td>325513</td>\n      <td>7</td>\n      <td>78b241628f8feef6651c3913d99c2ec1</td>\n      <td>NONPACK</td>\n      <td>3</td>\n      <td>NONPACK</td>\n      <td>NONPACK</td>\n      <td>0</td>\n      <td>NONPACK</td>\n      <td>8322</td>\n      <td>0</td>\n      <td>4.660</td>\n      <td>66d38708254823d36a8be0f49222ec22</td>\n      <td>027659f40187d994e0254a043e56aee7</td>\n      <td>30e38480617f09c714917d2808b0ad26</td>\n    </tr>\n    <tr>\n      <th>325594</th>\n      <td>325594</td>\n      <td>7</td>\n      <td>7082728665f713581f584b2c4010bc42</td>\n      <td>NONPACK</td>\n      <td>3</td>\n      <td>NONPACK</td>\n      <td>NONPACK</td>\n      <td>0</td>\n      <td>NONPACK</td>\n      <td>117600</td>\n      <td>0</td>\n      <td>7.500</td>\n      <td>e0f94b79e5b02aecd844a2df53460f8b</td>\n      <td>eeafb158c529eaf1aa9b8f2068a82914</td>\n      <td>8f06ed7642247824c77709c7878fe2ee</td>\n    </tr>\n    <tr>\n      <th>325597</th>\n      <td>325597</td>\n      <td>7</td>\n      <td>6734e2ff60baf099643ed8c58dc0ab91</td>\n      <td>NONPACK</td>\n      <td>3</td>\n      <td>NONPACK</td>\n      <td>NONPACK</td>\n      <td>0</td>\n      <td>NONPACK</td>\n      <td>2277</td>\n      <td>0</td>\n      <td>0.920</td>\n      <td>b1076a1898230e027be3f1cff56e11cb</td>\n      <td>9c403462ea65612f85c9a6da17581e07</td>\n      <td>ff3e53b51b88d465989c17c1092a15a6</td>\n    </tr>\n  </tbody>\n</table>\n<p>4311 rows × 15 columns</p>\n</div>"
     },
     "execution_count": 12,
     "metadata": {},
     "output_type": "execute_result"
    }
   ],
   "source": [
    "orders.loc[orders['box_num'] ==3]"
   ],
   "metadata": {
    "collapsed": false,
    "ExecuteTime": {
     "end_time": "2023-10-11T13:38:57.100544Z",
     "start_time": "2023-10-11T13:38:57.079043Z"
    }
   }
  },
  {
   "cell_type": "markdown",
   "source": [
    "Need futher analysis and discussion. From preliminary exploration: even several boxes have the same carton type."
   ],
   "metadata": {
    "collapsed": false
   }
  },
  {
   "cell_type": "markdown",
   "source": [
    "Converting data to supervised learning problem"
   ],
   "metadata": {
    "collapsed": false
   }
  },
  {
   "cell_type": "code",
   "execution_count": 13,
   "outputs": [
    {
     "data": {
      "text/plain": "                              trackingid selected_cartontype  \\\n0       6c304d5c2815ccd2ba5046c101294c24             NONPACK   \n1       6c304d5c2815ccd2ba5046c101294c24             NONPACK   \n2       6c304d5c2815ccd2ba5046c101294c24             NONPACK   \n3       6c304d5c2815ccd2ba5046c101294c24             NONPACK   \n4       6c304d5c2815ccd2ba5046c101294c24             NONPACK   \n...                                  ...                 ...   \n325618  f94f078101752133502202383bc87743                 MYC   \n325619  f94f078101752133502202383bc87743                 MYC   \n325620  58054d533ef06746ffd8cf99fad4a8cb                 YMC   \n325621  1666b5c878be124f05fb9a1d95dd8a68                 MYB   \n325622  16b2ecff7b2d86ada75995e8d5dd0152             NONPACK   \n\n       recommended_cartontype  pack_volume  goods_wght  \\\n0                         YML         2046       0.100   \n1                         YML         2046       0.100   \n2                         YML         2046       0.100   \n3                         YML         2046       0.100   \n4                         YML         2046       0.100   \n...                       ...          ...         ...   \n325618                    YMC         2080       0.100   \n325619                    YMC         2080       0.100   \n325620                    YMC         3523       0.284   \n325621                    YMU          552       0.230   \n325622                NONPACK        38130       1.200   \n\n                                     sku  \n0       af49bf330e2cf16e44f0be1bdfe337bd  \n1       af49bf330e2cf16e44f0be1bdfe337bd  \n2       af49bf330e2cf16e44f0be1bdfe337bd  \n3       af49bf330e2cf16e44f0be1bdfe337bd  \n4       af49bf330e2cf16e44f0be1bdfe337bd  \n...                                  ...  \n325618  86dcc1a44eb2939fea4d2dd3604e1f9e  \n325619  86dcc1a44eb2939fea4d2dd3604e1f9e  \n325620  9db21acf9e6c1a66493c246c1461f989  \n325621  4aedb72c5662562524f6119918c7179b  \n325622  c674cb7255f1417a92e62f50b85aad5a  \n\n[325623 rows x 6 columns]",
      "text/html": "<div>\n<style scoped>\n    .dataframe tbody tr th:only-of-type {\n        vertical-align: middle;\n    }\n\n    .dataframe tbody tr th {\n        vertical-align: top;\n    }\n\n    .dataframe thead th {\n        text-align: right;\n    }\n</style>\n<table border=\"1\" class=\"dataframe\">\n  <thead>\n    <tr style=\"text-align: right;\">\n      <th></th>\n      <th>trackingid</th>\n      <th>selected_cartontype</th>\n      <th>recommended_cartontype</th>\n      <th>pack_volume</th>\n      <th>goods_wght</th>\n      <th>sku</th>\n    </tr>\n  </thead>\n  <tbody>\n    <tr>\n      <th>0</th>\n      <td>6c304d5c2815ccd2ba5046c101294c24</td>\n      <td>NONPACK</td>\n      <td>YML</td>\n      <td>2046</td>\n      <td>0.100</td>\n      <td>af49bf330e2cf16e44f0be1bdfe337bd</td>\n    </tr>\n    <tr>\n      <th>1</th>\n      <td>6c304d5c2815ccd2ba5046c101294c24</td>\n      <td>NONPACK</td>\n      <td>YML</td>\n      <td>2046</td>\n      <td>0.100</td>\n      <td>af49bf330e2cf16e44f0be1bdfe337bd</td>\n    </tr>\n    <tr>\n      <th>2</th>\n      <td>6c304d5c2815ccd2ba5046c101294c24</td>\n      <td>NONPACK</td>\n      <td>YML</td>\n      <td>2046</td>\n      <td>0.100</td>\n      <td>af49bf330e2cf16e44f0be1bdfe337bd</td>\n    </tr>\n    <tr>\n      <th>3</th>\n      <td>6c304d5c2815ccd2ba5046c101294c24</td>\n      <td>NONPACK</td>\n      <td>YML</td>\n      <td>2046</td>\n      <td>0.100</td>\n      <td>af49bf330e2cf16e44f0be1bdfe337bd</td>\n    </tr>\n    <tr>\n      <th>4</th>\n      <td>6c304d5c2815ccd2ba5046c101294c24</td>\n      <td>NONPACK</td>\n      <td>YML</td>\n      <td>2046</td>\n      <td>0.100</td>\n      <td>af49bf330e2cf16e44f0be1bdfe337bd</td>\n    </tr>\n    <tr>\n      <th>...</th>\n      <td>...</td>\n      <td>...</td>\n      <td>...</td>\n      <td>...</td>\n      <td>...</td>\n      <td>...</td>\n    </tr>\n    <tr>\n      <th>325618</th>\n      <td>f94f078101752133502202383bc87743</td>\n      <td>MYC</td>\n      <td>YMC</td>\n      <td>2080</td>\n      <td>0.100</td>\n      <td>86dcc1a44eb2939fea4d2dd3604e1f9e</td>\n    </tr>\n    <tr>\n      <th>325619</th>\n      <td>f94f078101752133502202383bc87743</td>\n      <td>MYC</td>\n      <td>YMC</td>\n      <td>2080</td>\n      <td>0.100</td>\n      <td>86dcc1a44eb2939fea4d2dd3604e1f9e</td>\n    </tr>\n    <tr>\n      <th>325620</th>\n      <td>58054d533ef06746ffd8cf99fad4a8cb</td>\n      <td>YMC</td>\n      <td>YMC</td>\n      <td>3523</td>\n      <td>0.284</td>\n      <td>9db21acf9e6c1a66493c246c1461f989</td>\n    </tr>\n    <tr>\n      <th>325621</th>\n      <td>1666b5c878be124f05fb9a1d95dd8a68</td>\n      <td>MYB</td>\n      <td>YMU</td>\n      <td>552</td>\n      <td>0.230</td>\n      <td>4aedb72c5662562524f6119918c7179b</td>\n    </tr>\n    <tr>\n      <th>325622</th>\n      <td>16b2ecff7b2d86ada75995e8d5dd0152</td>\n      <td>NONPACK</td>\n      <td>NONPACK</td>\n      <td>38130</td>\n      <td>1.200</td>\n      <td>c674cb7255f1417a92e62f50b85aad5a</td>\n    </tr>\n  </tbody>\n</table>\n<p>325623 rows × 6 columns</p>\n</div>"
     },
     "execution_count": 13,
     "metadata": {},
     "output_type": "execute_result"
    }
   ],
   "source": [
    "# Selecting the most valuable columns\n",
    "orders = orders[[ORDER_COLUMN, TARGET_COLUMN, 'recommended_cartontype', 'pack_volume', 'goods_wght', 'sku']]\n",
    "orders"
   ],
   "metadata": {
    "collapsed": false,
    "ExecuteTime": {
     "end_time": "2023-10-11T13:38:57.241441Z",
     "start_time": "2023-10-11T13:38:57.095697Z"
    }
   }
  },
  {
   "cell_type": "code",
   "execution_count": 14,
   "outputs": [
    {
     "data": {
      "text/plain": "                              trackingid selected_cartontype  \\\n0       6c304d5c2815ccd2ba5046c101294c24             NONPACK   \n1       6c304d5c2815ccd2ba5046c101294c24             NONPACK   \n2       6c304d5c2815ccd2ba5046c101294c24             NONPACK   \n3       6c304d5c2815ccd2ba5046c101294c24             NONPACK   \n4       6c304d5c2815ccd2ba5046c101294c24             NONPACK   \n...                                  ...                 ...   \n314825  05466bb9687134041a318a1578e9101e                 YMG   \n314826  e0a3958ffb898492600503c7e000d961                 YMW   \n314827  9c3c0b98d0b2de8b9fe27d7d0770162b                 MYE   \n314828  dc68860f37af41c7b3c12257a9e7eff1                 MYC   \n314829  fb38e0e582b9b2a6a3c7434820c9d829             NONPACK   \n\n       recommended_cartontype  pack_volume  goods_wght  \\\n0                         YML         2046       0.100   \n1                         YML         2046       0.100   \n2                         YML         2046       0.100   \n3                         YML         2046       0.100   \n4                         YML         2046       0.100   \n...                       ...          ...         ...   \n314825                    YMW         1944       0.550   \n314826                    YMW         6000       0.150   \n314827                    MYE         1400       0.160   \n314828                    YMC         2688       0.140   \n314829                NONPACK         1832       0.878   \n\n                                     sku  width  height  depth  \n0       af49bf330e2cf16e44f0be1bdfe337bd     11       6     31  \n1       af49bf330e2cf16e44f0be1bdfe337bd     11       6     31  \n2       af49bf330e2cf16e44f0be1bdfe337bd     11       6     31  \n3       af49bf330e2cf16e44f0be1bdfe337bd     11       6     31  \n4       af49bf330e2cf16e44f0be1bdfe337bd     11       6     31  \n...                                  ...    ...     ...    ...  \n314825  2a7f6883fadf6fa7a2306376e598b56c     18       6     18  \n314826  b7ab1a9260ebc1d53774714b24c02dd3     15      20     20  \n314827  ba0b176dc645058663de285b479163b3     50       1     28  \n314828  0940ce4ed3c65c5713a169bdf824dfcc     28       8     12  \n314829  74ec431f87644bfed9baca351fffcdee    231       1      8  \n\n[314830 rows x 9 columns]",
      "text/html": "<div>\n<style scoped>\n    .dataframe tbody tr th:only-of-type {\n        vertical-align: middle;\n    }\n\n    .dataframe tbody tr th {\n        vertical-align: top;\n    }\n\n    .dataframe thead th {\n        text-align: right;\n    }\n</style>\n<table border=\"1\" class=\"dataframe\">\n  <thead>\n    <tr style=\"text-align: right;\">\n      <th></th>\n      <th>trackingid</th>\n      <th>selected_cartontype</th>\n      <th>recommended_cartontype</th>\n      <th>pack_volume</th>\n      <th>goods_wght</th>\n      <th>sku</th>\n      <th>width</th>\n      <th>height</th>\n      <th>depth</th>\n    </tr>\n  </thead>\n  <tbody>\n    <tr>\n      <th>0</th>\n      <td>6c304d5c2815ccd2ba5046c101294c24</td>\n      <td>NONPACK</td>\n      <td>YML</td>\n      <td>2046</td>\n      <td>0.100</td>\n      <td>af49bf330e2cf16e44f0be1bdfe337bd</td>\n      <td>11</td>\n      <td>6</td>\n      <td>31</td>\n    </tr>\n    <tr>\n      <th>1</th>\n      <td>6c304d5c2815ccd2ba5046c101294c24</td>\n      <td>NONPACK</td>\n      <td>YML</td>\n      <td>2046</td>\n      <td>0.100</td>\n      <td>af49bf330e2cf16e44f0be1bdfe337bd</td>\n      <td>11</td>\n      <td>6</td>\n      <td>31</td>\n    </tr>\n    <tr>\n      <th>2</th>\n      <td>6c304d5c2815ccd2ba5046c101294c24</td>\n      <td>NONPACK</td>\n      <td>YML</td>\n      <td>2046</td>\n      <td>0.100</td>\n      <td>af49bf330e2cf16e44f0be1bdfe337bd</td>\n      <td>11</td>\n      <td>6</td>\n      <td>31</td>\n    </tr>\n    <tr>\n      <th>3</th>\n      <td>6c304d5c2815ccd2ba5046c101294c24</td>\n      <td>NONPACK</td>\n      <td>YML</td>\n      <td>2046</td>\n      <td>0.100</td>\n      <td>af49bf330e2cf16e44f0be1bdfe337bd</td>\n      <td>11</td>\n      <td>6</td>\n      <td>31</td>\n    </tr>\n    <tr>\n      <th>4</th>\n      <td>6c304d5c2815ccd2ba5046c101294c24</td>\n      <td>NONPACK</td>\n      <td>YML</td>\n      <td>2046</td>\n      <td>0.100</td>\n      <td>af49bf330e2cf16e44f0be1bdfe337bd</td>\n      <td>11</td>\n      <td>6</td>\n      <td>31</td>\n    </tr>\n    <tr>\n      <th>...</th>\n      <td>...</td>\n      <td>...</td>\n      <td>...</td>\n      <td>...</td>\n      <td>...</td>\n      <td>...</td>\n      <td>...</td>\n      <td>...</td>\n      <td>...</td>\n    </tr>\n    <tr>\n      <th>314825</th>\n      <td>05466bb9687134041a318a1578e9101e</td>\n      <td>YMG</td>\n      <td>YMW</td>\n      <td>1944</td>\n      <td>0.550</td>\n      <td>2a7f6883fadf6fa7a2306376e598b56c</td>\n      <td>18</td>\n      <td>6</td>\n      <td>18</td>\n    </tr>\n    <tr>\n      <th>314826</th>\n      <td>e0a3958ffb898492600503c7e000d961</td>\n      <td>YMW</td>\n      <td>YMW</td>\n      <td>6000</td>\n      <td>0.150</td>\n      <td>b7ab1a9260ebc1d53774714b24c02dd3</td>\n      <td>15</td>\n      <td>20</td>\n      <td>20</td>\n    </tr>\n    <tr>\n      <th>314827</th>\n      <td>9c3c0b98d0b2de8b9fe27d7d0770162b</td>\n      <td>MYE</td>\n      <td>MYE</td>\n      <td>1400</td>\n      <td>0.160</td>\n      <td>ba0b176dc645058663de285b479163b3</td>\n      <td>50</td>\n      <td>1</td>\n      <td>28</td>\n    </tr>\n    <tr>\n      <th>314828</th>\n      <td>dc68860f37af41c7b3c12257a9e7eff1</td>\n      <td>MYC</td>\n      <td>YMC</td>\n      <td>2688</td>\n      <td>0.140</td>\n      <td>0940ce4ed3c65c5713a169bdf824dfcc</td>\n      <td>28</td>\n      <td>8</td>\n      <td>12</td>\n    </tr>\n    <tr>\n      <th>314829</th>\n      <td>fb38e0e582b9b2a6a3c7434820c9d829</td>\n      <td>NONPACK</td>\n      <td>NONPACK</td>\n      <td>1832</td>\n      <td>0.878</td>\n      <td>74ec431f87644bfed9baca351fffcdee</td>\n      <td>231</td>\n      <td>1</td>\n      <td>8</td>\n    </tr>\n  </tbody>\n</table>\n<p>314830 rows × 9 columns</p>\n</div>"
     },
     "execution_count": 14,
     "metadata": {},
     "output_type": "execute_result"
    }
   ],
   "source": [
    "orders = orders.merge(items, on='sku', how='inner')\n",
    "orders"
   ],
   "metadata": {
    "collapsed": false,
    "ExecuteTime": {
     "end_time": "2023-10-11T13:38:59.585987Z",
     "start_time": "2023-10-11T13:38:57.112016Z"
    }
   }
  },
  {
   "cell_type": "markdown",
   "source": [
    "Adding items cargotypes"
   ],
   "metadata": {
    "collapsed": false
   }
  },
  {
   "cell_type": "code",
   "execution_count": 15,
   "outputs": [],
   "source": [
    "item_cargotypes = pd.read_csv('./data/sku_cargotypes.csv')"
   ],
   "metadata": {
    "collapsed": false,
    "ExecuteTime": {
     "end_time": "2023-10-11T13:39:05.872944Z",
     "start_time": "2023-10-11T13:38:59.579167Z"
    }
   }
  },
  {
   "cell_type": "code",
   "execution_count": 16,
   "outputs": [
    {
     "data": {
      "text/plain": "                                sku  cargotype\n0  4862bf0e760a593b13f3f2fcf822e533        290\n1  4862bf0e760a593b13f3f2fcf822e533        901\n2  50d3c4fc66ad423b7feaadff2d682ee0        290\n3  50d3c4fc66ad423b7feaadff2d682ee0        901\n4  24ce9dba9f301ada55f60e25ee1498d2        290",
      "text/html": "<div>\n<style scoped>\n    .dataframe tbody tr th:only-of-type {\n        vertical-align: middle;\n    }\n\n    .dataframe tbody tr th {\n        vertical-align: top;\n    }\n\n    .dataframe thead th {\n        text-align: right;\n    }\n</style>\n<table border=\"1\" class=\"dataframe\">\n  <thead>\n    <tr style=\"text-align: right;\">\n      <th></th>\n      <th>sku</th>\n      <th>cargotype</th>\n    </tr>\n  </thead>\n  <tbody>\n    <tr>\n      <th>0</th>\n      <td>4862bf0e760a593b13f3f2fcf822e533</td>\n      <td>290</td>\n    </tr>\n    <tr>\n      <th>1</th>\n      <td>4862bf0e760a593b13f3f2fcf822e533</td>\n      <td>901</td>\n    </tr>\n    <tr>\n      <th>2</th>\n      <td>50d3c4fc66ad423b7feaadff2d682ee0</td>\n      <td>290</td>\n    </tr>\n    <tr>\n      <th>3</th>\n      <td>50d3c4fc66ad423b7feaadff2d682ee0</td>\n      <td>901</td>\n    </tr>\n    <tr>\n      <th>4</th>\n      <td>24ce9dba9f301ada55f60e25ee1498d2</td>\n      <td>290</td>\n    </tr>\n  </tbody>\n</table>\n</div>"
     },
     "execution_count": 16,
     "metadata": {},
     "output_type": "execute_result"
    }
   ],
   "source": [
    "item_cargotypes = item_cargotypes[['sku', 'cargotype']]\n",
    "item_cargotypes.head()"
   ],
   "metadata": {
    "collapsed": false,
    "ExecuteTime": {
     "end_time": "2023-10-11T13:39:06.129268Z",
     "start_time": "2023-10-11T13:39:05.873562Z"
    }
   }
  },
  {
   "cell_type": "code",
   "execution_count": 17,
   "outputs": [
    {
     "data": {
      "text/plain": "cargotype\n290     5216064\n950     1591250\n200     1009438\n970      793449\n310      758212\n         ...   \n900          39\n333          10\n907           9\n1300          2\n10            1\nName: count, Length: 88, dtype: int64"
     },
     "execution_count": 17,
     "metadata": {},
     "output_type": "execute_result"
    }
   ],
   "source": [
    "item_cargotypes['cargotype'].value_counts()"
   ],
   "metadata": {
    "collapsed": false,
    "ExecuteTime": {
     "end_time": "2023-10-11T13:39:06.239732Z",
     "start_time": "2023-10-11T13:39:06.191511Z"
    }
   }
  },
  {
   "cell_type": "code",
   "execution_count": 18,
   "outputs": [
    {
     "data": {
      "text/plain": "                               trackingid selected_cartontype  \\\n0        6c304d5c2815ccd2ba5046c101294c24             NONPACK   \n1        6c304d5c2815ccd2ba5046c101294c24             NONPACK   \n2        6c304d5c2815ccd2ba5046c101294c24             NONPACK   \n3        6c304d5c2815ccd2ba5046c101294c24             NONPACK   \n4        6c304d5c2815ccd2ba5046c101294c24             NONPACK   \n...                                   ...                 ...   \n1456741  dc68860f37af41c7b3c12257a9e7eff1                 MYC   \n1456742  fb38e0e582b9b2a6a3c7434820c9d829             NONPACK   \n1456743  fb38e0e582b9b2a6a3c7434820c9d829             NONPACK   \n1456744  fb38e0e582b9b2a6a3c7434820c9d829             NONPACK   \n1456745  fb38e0e582b9b2a6a3c7434820c9d829             NONPACK   \n\n        recommended_cartontype  pack_volume  goods_wght  \\\n0                          YML         2046       0.100   \n1                          YML         2046       0.100   \n2                          YML         2046       0.100   \n3                          YML         2046       0.100   \n4                          YML         2046       0.100   \n...                        ...          ...         ...   \n1456741                    YMC         2688       0.140   \n1456742                NONPACK         1832       0.878   \n1456743                NONPACK         1832       0.878   \n1456744                NONPACK         1832       0.878   \n1456745                NONPACK         1832       0.878   \n\n                                      sku  width  height  depth  cargotype  \n0        af49bf330e2cf16e44f0be1bdfe337bd     11       6     31      290.0  \n1        af49bf330e2cf16e44f0be1bdfe337bd     11       6     31      600.0  \n2        af49bf330e2cf16e44f0be1bdfe337bd     11       6     31      610.0  \n3        af49bf330e2cf16e44f0be1bdfe337bd     11       6     31      950.0  \n4        af49bf330e2cf16e44f0be1bdfe337bd     11       6     31      970.0  \n...                                   ...    ...     ...    ...        ...  \n1456741  0940ce4ed3c65c5713a169bdf824dfcc     28       8     12      980.0  \n1456742  74ec431f87644bfed9baca351fffcdee    231       1      8      292.0  \n1456743  74ec431f87644bfed9baca351fffcdee    231       1      8      300.0  \n1456744  74ec431f87644bfed9baca351fffcdee    231       1      8      301.0  \n1456745  74ec431f87644bfed9baca351fffcdee    231       1      8      305.0  \n\n[1456746 rows x 10 columns]",
      "text/html": "<div>\n<style scoped>\n    .dataframe tbody tr th:only-of-type {\n        vertical-align: middle;\n    }\n\n    .dataframe tbody tr th {\n        vertical-align: top;\n    }\n\n    .dataframe thead th {\n        text-align: right;\n    }\n</style>\n<table border=\"1\" class=\"dataframe\">\n  <thead>\n    <tr style=\"text-align: right;\">\n      <th></th>\n      <th>trackingid</th>\n      <th>selected_cartontype</th>\n      <th>recommended_cartontype</th>\n      <th>pack_volume</th>\n      <th>goods_wght</th>\n      <th>sku</th>\n      <th>width</th>\n      <th>height</th>\n      <th>depth</th>\n      <th>cargotype</th>\n    </tr>\n  </thead>\n  <tbody>\n    <tr>\n      <th>0</th>\n      <td>6c304d5c2815ccd2ba5046c101294c24</td>\n      <td>NONPACK</td>\n      <td>YML</td>\n      <td>2046</td>\n      <td>0.100</td>\n      <td>af49bf330e2cf16e44f0be1bdfe337bd</td>\n      <td>11</td>\n      <td>6</td>\n      <td>31</td>\n      <td>290.0</td>\n    </tr>\n    <tr>\n      <th>1</th>\n      <td>6c304d5c2815ccd2ba5046c101294c24</td>\n      <td>NONPACK</td>\n      <td>YML</td>\n      <td>2046</td>\n      <td>0.100</td>\n      <td>af49bf330e2cf16e44f0be1bdfe337bd</td>\n      <td>11</td>\n      <td>6</td>\n      <td>31</td>\n      <td>600.0</td>\n    </tr>\n    <tr>\n      <th>2</th>\n      <td>6c304d5c2815ccd2ba5046c101294c24</td>\n      <td>NONPACK</td>\n      <td>YML</td>\n      <td>2046</td>\n      <td>0.100</td>\n      <td>af49bf330e2cf16e44f0be1bdfe337bd</td>\n      <td>11</td>\n      <td>6</td>\n      <td>31</td>\n      <td>610.0</td>\n    </tr>\n    <tr>\n      <th>3</th>\n      <td>6c304d5c2815ccd2ba5046c101294c24</td>\n      <td>NONPACK</td>\n      <td>YML</td>\n      <td>2046</td>\n      <td>0.100</td>\n      <td>af49bf330e2cf16e44f0be1bdfe337bd</td>\n      <td>11</td>\n      <td>6</td>\n      <td>31</td>\n      <td>950.0</td>\n    </tr>\n    <tr>\n      <th>4</th>\n      <td>6c304d5c2815ccd2ba5046c101294c24</td>\n      <td>NONPACK</td>\n      <td>YML</td>\n      <td>2046</td>\n      <td>0.100</td>\n      <td>af49bf330e2cf16e44f0be1bdfe337bd</td>\n      <td>11</td>\n      <td>6</td>\n      <td>31</td>\n      <td>970.0</td>\n    </tr>\n    <tr>\n      <th>...</th>\n      <td>...</td>\n      <td>...</td>\n      <td>...</td>\n      <td>...</td>\n      <td>...</td>\n      <td>...</td>\n      <td>...</td>\n      <td>...</td>\n      <td>...</td>\n      <td>...</td>\n    </tr>\n    <tr>\n      <th>1456741</th>\n      <td>dc68860f37af41c7b3c12257a9e7eff1</td>\n      <td>MYC</td>\n      <td>YMC</td>\n      <td>2688</td>\n      <td>0.140</td>\n      <td>0940ce4ed3c65c5713a169bdf824dfcc</td>\n      <td>28</td>\n      <td>8</td>\n      <td>12</td>\n      <td>980.0</td>\n    </tr>\n    <tr>\n      <th>1456742</th>\n      <td>fb38e0e582b9b2a6a3c7434820c9d829</td>\n      <td>NONPACK</td>\n      <td>NONPACK</td>\n      <td>1832</td>\n      <td>0.878</td>\n      <td>74ec431f87644bfed9baca351fffcdee</td>\n      <td>231</td>\n      <td>1</td>\n      <td>8</td>\n      <td>292.0</td>\n    </tr>\n    <tr>\n      <th>1456743</th>\n      <td>fb38e0e582b9b2a6a3c7434820c9d829</td>\n      <td>NONPACK</td>\n      <td>NONPACK</td>\n      <td>1832</td>\n      <td>0.878</td>\n      <td>74ec431f87644bfed9baca351fffcdee</td>\n      <td>231</td>\n      <td>1</td>\n      <td>8</td>\n      <td>300.0</td>\n    </tr>\n    <tr>\n      <th>1456744</th>\n      <td>fb38e0e582b9b2a6a3c7434820c9d829</td>\n      <td>NONPACK</td>\n      <td>NONPACK</td>\n      <td>1832</td>\n      <td>0.878</td>\n      <td>74ec431f87644bfed9baca351fffcdee</td>\n      <td>231</td>\n      <td>1</td>\n      <td>8</td>\n      <td>301.0</td>\n    </tr>\n    <tr>\n      <th>1456745</th>\n      <td>fb38e0e582b9b2a6a3c7434820c9d829</td>\n      <td>NONPACK</td>\n      <td>NONPACK</td>\n      <td>1832</td>\n      <td>0.878</td>\n      <td>74ec431f87644bfed9baca351fffcdee</td>\n      <td>231</td>\n      <td>1</td>\n      <td>8</td>\n      <td>305.0</td>\n    </tr>\n  </tbody>\n</table>\n<p>1456746 rows × 10 columns</p>\n</div>"
     },
     "execution_count": 18,
     "metadata": {},
     "output_type": "execute_result"
    }
   ],
   "source": [
    "orders = orders.merge(item_cargotypes, on='sku', how='left')\n",
    "orders"
   ],
   "metadata": {
    "collapsed": false,
    "ExecuteTime": {
     "end_time": "2023-10-11T13:39:10.343693Z",
     "start_time": "2023-10-11T13:39:06.196453Z"
    }
   }
  },
  {
   "cell_type": "code",
   "execution_count": 19,
   "outputs": [
    {
     "data": {
      "text/plain": "trackingid                  0\nselected_cartontype         0\nrecommended_cartontype      0\npack_volume                 0\ngoods_wght                  0\nsku                         0\nwidth                       0\nheight                      0\ndepth                       0\ncargotype                 216\ndtype: int64"
     },
     "execution_count": 19,
     "metadata": {},
     "output_type": "execute_result"
    }
   ],
   "source": [
    "orders.isna().sum()"
   ],
   "metadata": {
    "collapsed": false,
    "ExecuteTime": {
     "end_time": "2023-10-11T13:39:10.344260Z",
     "start_time": "2023-10-11T13:39:09.918255Z"
    }
   }
  },
  {
   "cell_type": "code",
   "execution_count": 20,
   "outputs": [],
   "source": [
    "orders['cargotype'] = orders['cargotype'].fillna(-1)"
   ],
   "metadata": {
    "collapsed": false,
    "ExecuteTime": {
     "end_time": "2023-10-11T13:39:10.344483Z",
     "start_time": "2023-10-11T13:39:10.329822Z"
    }
   }
  },
  {
   "cell_type": "code",
   "execution_count": 21,
   "outputs": [],
   "source": [
    "orders = orders.dropna()"
   ],
   "metadata": {
    "collapsed": false,
    "ExecuteTime": {
     "end_time": "2023-10-11T13:39:10.344604Z",
     "start_time": "2023-10-11T13:39:10.330065Z"
    }
   }
  },
  {
   "cell_type": "code",
   "execution_count": 22,
   "outputs": [
    {
     "data": {
      "text/plain": "                         trackingid selected_cartontype  \\\n0  6c304d5c2815ccd2ba5046c101294c24             NONPACK   \n1  6c304d5c2815ccd2ba5046c101294c24             NONPACK   \n2  6c304d5c2815ccd2ba5046c101294c24             NONPACK   \n3  6c304d5c2815ccd2ba5046c101294c24             NONPACK   \n4  6c304d5c2815ccd2ba5046c101294c24             NONPACK   \n\n  recommended_cartontype  pack_volume  goods_wght  \\\n0                    YML         2046         0.1   \n1                    YML         2046         0.1   \n2                    YML         2046         0.1   \n3                    YML         2046         0.1   \n4                    YML         2046         0.1   \n\n                                sku  width  height  depth  cargotype  \n0  af49bf330e2cf16e44f0be1bdfe337bd     11       6     31      290.0  \n1  af49bf330e2cf16e44f0be1bdfe337bd     11       6     31      600.0  \n2  af49bf330e2cf16e44f0be1bdfe337bd     11       6     31      610.0  \n3  af49bf330e2cf16e44f0be1bdfe337bd     11       6     31      950.0  \n4  af49bf330e2cf16e44f0be1bdfe337bd     11       6     31      970.0  ",
      "text/html": "<div>\n<style scoped>\n    .dataframe tbody tr th:only-of-type {\n        vertical-align: middle;\n    }\n\n    .dataframe tbody tr th {\n        vertical-align: top;\n    }\n\n    .dataframe thead th {\n        text-align: right;\n    }\n</style>\n<table border=\"1\" class=\"dataframe\">\n  <thead>\n    <tr style=\"text-align: right;\">\n      <th></th>\n      <th>trackingid</th>\n      <th>selected_cartontype</th>\n      <th>recommended_cartontype</th>\n      <th>pack_volume</th>\n      <th>goods_wght</th>\n      <th>sku</th>\n      <th>width</th>\n      <th>height</th>\n      <th>depth</th>\n      <th>cargotype</th>\n    </tr>\n  </thead>\n  <tbody>\n    <tr>\n      <th>0</th>\n      <td>6c304d5c2815ccd2ba5046c101294c24</td>\n      <td>NONPACK</td>\n      <td>YML</td>\n      <td>2046</td>\n      <td>0.1</td>\n      <td>af49bf330e2cf16e44f0be1bdfe337bd</td>\n      <td>11</td>\n      <td>6</td>\n      <td>31</td>\n      <td>290.0</td>\n    </tr>\n    <tr>\n      <th>1</th>\n      <td>6c304d5c2815ccd2ba5046c101294c24</td>\n      <td>NONPACK</td>\n      <td>YML</td>\n      <td>2046</td>\n      <td>0.1</td>\n      <td>af49bf330e2cf16e44f0be1bdfe337bd</td>\n      <td>11</td>\n      <td>6</td>\n      <td>31</td>\n      <td>600.0</td>\n    </tr>\n    <tr>\n      <th>2</th>\n      <td>6c304d5c2815ccd2ba5046c101294c24</td>\n      <td>NONPACK</td>\n      <td>YML</td>\n      <td>2046</td>\n      <td>0.1</td>\n      <td>af49bf330e2cf16e44f0be1bdfe337bd</td>\n      <td>11</td>\n      <td>6</td>\n      <td>31</td>\n      <td>610.0</td>\n    </tr>\n    <tr>\n      <th>3</th>\n      <td>6c304d5c2815ccd2ba5046c101294c24</td>\n      <td>NONPACK</td>\n      <td>YML</td>\n      <td>2046</td>\n      <td>0.1</td>\n      <td>af49bf330e2cf16e44f0be1bdfe337bd</td>\n      <td>11</td>\n      <td>6</td>\n      <td>31</td>\n      <td>950.0</td>\n    </tr>\n    <tr>\n      <th>4</th>\n      <td>6c304d5c2815ccd2ba5046c101294c24</td>\n      <td>NONPACK</td>\n      <td>YML</td>\n      <td>2046</td>\n      <td>0.1</td>\n      <td>af49bf330e2cf16e44f0be1bdfe337bd</td>\n      <td>11</td>\n      <td>6</td>\n      <td>31</td>\n      <td>970.0</td>\n    </tr>\n  </tbody>\n</table>\n</div>"
     },
     "execution_count": 22,
     "metadata": {},
     "output_type": "execute_result"
    }
   ],
   "source": [
    "orders.head()"
   ],
   "metadata": {
    "collapsed": false,
    "ExecuteTime": {
     "end_time": "2023-10-11T13:39:10.344986Z",
     "start_time": "2023-10-11T13:39:10.330132Z"
    }
   }
  },
  {
   "cell_type": "code",
   "execution_count": 22,
   "outputs": [],
   "source": [],
   "metadata": {
    "collapsed": false,
    "ExecuteTime": {
     "end_time": "2023-10-11T13:39:10.345095Z",
     "start_time": "2023-10-11T13:39:10.330224Z"
    }
   }
  },
  {
   "cell_type": "code",
   "execution_count": 23,
   "outputs": [
    {
     "data": {
      "text/plain": "                         trackingid selected_cartontype  \\\n0  000086e759f059d7373bb1d332392f1c                 MYB   \n1  0000d2725b0d7c18bfa85dba8fe3fc75                 MYC   \n2  0000eabbdb272c339beef96b96fe71bc                 MYC   \n3  00023dc128414e21b2f9f8307f627433                 MYA   \n4  0002506b15b27d032de84e195747c3e7                 MYB   \n\n  recommended_cartontype  pack_volume  goods_wght  items_count  \n0                    MYC  2439.000000    1.027000            3  \n1                    MYC  5698.000000    0.256000            2  \n2                    MYC   485.833333    0.186667           12  \n3                    MYA    18.000000    0.010000            8  \n4                    YMA  1428.000000    0.285000            6  ",
      "text/html": "<div>\n<style scoped>\n    .dataframe tbody tr th:only-of-type {\n        vertical-align: middle;\n    }\n\n    .dataframe tbody tr th {\n        vertical-align: top;\n    }\n\n    .dataframe thead th {\n        text-align: right;\n    }\n</style>\n<table border=\"1\" class=\"dataframe\">\n  <thead>\n    <tr style=\"text-align: right;\">\n      <th></th>\n      <th>trackingid</th>\n      <th>selected_cartontype</th>\n      <th>recommended_cartontype</th>\n      <th>pack_volume</th>\n      <th>goods_wght</th>\n      <th>items_count</th>\n    </tr>\n  </thead>\n  <tbody>\n    <tr>\n      <th>0</th>\n      <td>000086e759f059d7373bb1d332392f1c</td>\n      <td>MYB</td>\n      <td>MYC</td>\n      <td>2439.000000</td>\n      <td>1.027000</td>\n      <td>3</td>\n    </tr>\n    <tr>\n      <th>1</th>\n      <td>0000d2725b0d7c18bfa85dba8fe3fc75</td>\n      <td>MYC</td>\n      <td>MYC</td>\n      <td>5698.000000</td>\n      <td>0.256000</td>\n      <td>2</td>\n    </tr>\n    <tr>\n      <th>2</th>\n      <td>0000eabbdb272c339beef96b96fe71bc</td>\n      <td>MYC</td>\n      <td>MYC</td>\n      <td>485.833333</td>\n      <td>0.186667</td>\n      <td>12</td>\n    </tr>\n    <tr>\n      <th>3</th>\n      <td>00023dc128414e21b2f9f8307f627433</td>\n      <td>MYA</td>\n      <td>MYA</td>\n      <td>18.000000</td>\n      <td>0.010000</td>\n      <td>8</td>\n    </tr>\n    <tr>\n      <th>4</th>\n      <td>0002506b15b27d032de84e195747c3e7</td>\n      <td>MYB</td>\n      <td>YMA</td>\n      <td>1428.000000</td>\n      <td>0.285000</td>\n      <td>6</td>\n    </tr>\n  </tbody>\n</table>\n</div>"
     },
     "execution_count": 23,
     "metadata": {},
     "output_type": "execute_result"
    }
   ],
   "source": [
    "orders_agg = orders.groupby(ORDER_COLUMN).agg({TARGET_COLUMN: lambda x: pd.Series.mode(x)[0],\n",
    "                                'recommended_cartontype': lambda x: pd.Series.mode(x)[0],\n",
    "                                'pack_volume': 'mean',\n",
    "                                'goods_wght': 'mean',\n",
    "                                'sku': 'count'}).reset_index()\n",
    "orders_agg = orders_agg.rename(columns={'sku': 'items_count'})\n",
    "orders_agg.head()"
   ],
   "metadata": {
    "collapsed": false,
    "ExecuteTime": {
     "end_time": "2023-10-11T13:39:21.535906Z",
     "start_time": "2023-10-11T13:39:10.330344Z"
    }
   }
  },
  {
   "cell_type": "code",
   "execution_count": 24,
   "outputs": [
    {
     "name": "stdout",
     "output_type": "stream",
     "text": [
      "Percentage of orders with 1 item 7.14%\n"
     ]
    }
   ],
   "source": [
    "print(f'Percentage of orders with 1 item {len(orders_agg.loc[orders_agg[\"items_count\"] == 1]) / len(orders_agg) * 100:.2f}%')"
   ],
   "metadata": {
    "collapsed": false,
    "ExecuteTime": {
     "end_time": "2023-10-11T13:39:21.672352Z",
     "start_time": "2023-10-11T13:39:21.510277Z"
    }
   }
  },
  {
   "cell_type": "code",
   "execution_count": 25,
   "outputs": [
    {
     "name": "stdout",
     "output_type": "stream",
     "text": [
      "Percentage of orders with 2 items 9.43%\n"
     ]
    }
   ],
   "source": [
    "print(f'Percentage of orders with 2 items {len(orders_agg.loc[orders_agg[\"items_count\"] == 2]) / len(orders_agg) * 100:.2f}%')"
   ],
   "metadata": {
    "collapsed": false,
    "ExecuteTime": {
     "end_time": "2023-10-11T13:39:21.957486Z",
     "start_time": "2023-10-11T13:39:21.514507Z"
    }
   }
  },
  {
   "cell_type": "code",
   "execution_count": 26,
   "outputs": [
    {
     "name": "stdout",
     "output_type": "stream",
     "text": [
      "Percentage of orders with 3 items 10.13%\n"
     ]
    }
   ],
   "source": [
    "print(f'Percentage of orders with 3 items {len(orders_agg.loc[orders_agg[\"items_count\"] == 3]) / len(orders_agg) * 100:.2f}%')"
   ],
   "metadata": {
    "collapsed": false,
    "ExecuteTime": {
     "end_time": "2023-10-11T13:39:21.977795Z",
     "start_time": "2023-10-11T13:39:21.602620Z"
    }
   }
  },
  {
   "cell_type": "code",
   "execution_count": 27,
   "outputs": [
    {
     "name": "stdout",
     "output_type": "stream",
     "text": [
      "Percentage of orders with less than or equal 3 items 26.71%\n"
     ]
    }
   ],
   "source": [
    "print(f'Percentage of orders with less than or equal 3 items {len(orders_agg.loc[orders_agg[\"items_count\"] <= 3]) / len(orders_agg) * 100:.2f}%')"
   ],
   "metadata": {
    "collapsed": false,
    "ExecuteTime": {
     "end_time": "2023-10-11T13:39:21.979590Z",
     "start_time": "2023-10-11T13:39:21.664245Z"
    }
   }
  },
  {
   "cell_type": "code",
   "execution_count": 28,
   "outputs": [
    {
     "data": {
      "text/plain": "selected_cartontype\nMYB        40052\nMYC        29737\nNONPACK    18952\nMYA        14722\nMYD        13659\nSTRETCH    10016\nYMC         8236\nYMA         6878\nMYE         4708\nYMF         4364\nYMW         3986\nYMG         3930\nYME         1458\nMYF          794\nYML          203\nYMX          136\nYMB            1\nName: count, dtype: int64"
     },
     "execution_count": 28,
     "metadata": {},
     "output_type": "execute_result"
    }
   ],
   "source": [
    "orders_agg[TARGET_COLUMN].value_counts()"
   ],
   "metadata": {
    "collapsed": false,
    "ExecuteTime": {
     "end_time": "2023-10-11T13:39:22.159497Z",
     "start_time": "2023-10-11T13:39:21.668992Z"
    }
   }
  },
  {
   "cell_type": "code",
   "execution_count": 29,
   "outputs": [
    {
     "data": {
      "text/plain": "recommended_cartontype\nYMA        31105\nYMC        18373\nMYC        16882\nMYA        13953\nNONPACK    13029\nYMF        10335\nMYF        10266\nMYB         9821\nYMG         8718\nYMW         5778\nMYD         4958\nYML         4739\nYME         4701\nMYE         2535\nYMX         1919\nSTRETCH     1589\nYMU          853\nYMB          825\nYMT          604\nYMI          287\nYMP          286\nYMV          276\nName: count, dtype: int64"
     },
     "execution_count": 29,
     "metadata": {},
     "output_type": "execute_result"
    }
   ],
   "source": [
    "orders_agg['recommended_cartontype'].value_counts()"
   ],
   "metadata": {
    "collapsed": false,
    "ExecuteTime": {
     "end_time": "2023-10-11T13:39:22.208844Z",
     "start_time": "2023-10-11T13:39:21.766594Z"
    }
   }
  },
  {
   "cell_type": "markdown",
   "source": [
    "Aggregting item sizes"
   ],
   "metadata": {
    "collapsed": false
   }
  },
  {
   "cell_type": "code",
   "execution_count": 30,
   "outputs": [],
   "source": [
    "def unroll_sizes(order):\n",
    "    # For up to 3 items per order\n",
    "    items_sizes = [[]] * 3\n",
    "    items_sizes[0] = [0] * 3\n",
    "    items_sizes[1] = [0] * 3\n",
    "    items_sizes[2] = [0] * 3\n",
    "\n",
    "    cargotypes = [-1] * 3\n",
    "\n",
    "    for i, item in enumerate(order.itertuples()):\n",
    "        if i >= 3:\n",
    "            break\n",
    "\n",
    "        items_sizes[i][0] = item.width\n",
    "        items_sizes[i][1] = item.height\n",
    "        items_sizes[i][2] = item.depth\n",
    "\n",
    "        cargotypes[i] = item.cargotype\n",
    "\n",
    "        # Sort sizes\n",
    "        items_sizes[i] = sorted(items_sizes[i])\n",
    "\n",
    "    row_values = [getattr(order, ORDER_COLUMN).values[0]] + [dim for item in items_sizes for dim in item]\n",
    "    row_values = row_values + cargotypes\n",
    "    return pd.DataFrame([row_values],\n",
    "                        columns=[ORDER_COLUMN, 'width_item_1', 'height_item_1', 'depth_item_1', 'width_item_2', 'height_item_2', 'depth_item_2', 'width_item_3', 'height_item_3', 'depth_item_3',\\\n",
    "                         'cargotype_item_1', 'cargotype_item_2', 'cargotype_item_3'])\n",
    "\n",
    "orders_sizes = orders.groupby(ORDER_COLUMN).apply(unroll_sizes).reset_index(drop=True)\n"
   ],
   "metadata": {
    "collapsed": false,
    "ExecuteTime": {
     "end_time": "2023-10-11T13:41:27.092739Z",
     "start_time": "2023-10-11T13:39:21.854680Z"
    }
   }
  },
  {
   "cell_type": "code",
   "execution_count": 31,
   "outputs": [
    {
     "data": {
      "text/plain": "                         trackingid  width_item_1  height_item_1  \\\n0  000086e759f059d7373bb1d332392f1c             7             17   \n1  0000d2725b0d7c18bfa85dba8fe3fc75             7             22   \n2  0000eabbdb272c339beef96b96fe71bc             1             20   \n3  00023dc128414e21b2f9f8307f627433             1              3   \n4  0002506b15b27d032de84e195747c3e7             7             13   \n\n   depth_item_1  width_item_2  height_item_2  depth_item_2  width_item_3  \\\n0            22             7             17            22             7   \n1            37             7             22            37             0   \n2            26             1             20            26             1   \n3             6             1              3             6             1   \n4            18             7             13            18             7   \n\n   height_item_3  depth_item_3  cargotype_item_1  cargotype_item_2  \\\n0             17            22             200.0             290.0   \n1              0             0             290.0             340.0   \n2             20            26             290.0             600.0   \n3              3             6             290.0             410.0   \n4             13            18             290.0             320.0   \n\n   cargotype_item_3  \n0             340.0  \n1              -1.0  \n2             950.0  \n3             440.0  \n4             340.0  ",
      "text/html": "<div>\n<style scoped>\n    .dataframe tbody tr th:only-of-type {\n        vertical-align: middle;\n    }\n\n    .dataframe tbody tr th {\n        vertical-align: top;\n    }\n\n    .dataframe thead th {\n        text-align: right;\n    }\n</style>\n<table border=\"1\" class=\"dataframe\">\n  <thead>\n    <tr style=\"text-align: right;\">\n      <th></th>\n      <th>trackingid</th>\n      <th>width_item_1</th>\n      <th>height_item_1</th>\n      <th>depth_item_1</th>\n      <th>width_item_2</th>\n      <th>height_item_2</th>\n      <th>depth_item_2</th>\n      <th>width_item_3</th>\n      <th>height_item_3</th>\n      <th>depth_item_3</th>\n      <th>cargotype_item_1</th>\n      <th>cargotype_item_2</th>\n      <th>cargotype_item_3</th>\n    </tr>\n  </thead>\n  <tbody>\n    <tr>\n      <th>0</th>\n      <td>000086e759f059d7373bb1d332392f1c</td>\n      <td>7</td>\n      <td>17</td>\n      <td>22</td>\n      <td>7</td>\n      <td>17</td>\n      <td>22</td>\n      <td>7</td>\n      <td>17</td>\n      <td>22</td>\n      <td>200.0</td>\n      <td>290.0</td>\n      <td>340.0</td>\n    </tr>\n    <tr>\n      <th>1</th>\n      <td>0000d2725b0d7c18bfa85dba8fe3fc75</td>\n      <td>7</td>\n      <td>22</td>\n      <td>37</td>\n      <td>7</td>\n      <td>22</td>\n      <td>37</td>\n      <td>0</td>\n      <td>0</td>\n      <td>0</td>\n      <td>290.0</td>\n      <td>340.0</td>\n      <td>-1.0</td>\n    </tr>\n    <tr>\n      <th>2</th>\n      <td>0000eabbdb272c339beef96b96fe71bc</td>\n      <td>1</td>\n      <td>20</td>\n      <td>26</td>\n      <td>1</td>\n      <td>20</td>\n      <td>26</td>\n      <td>1</td>\n      <td>20</td>\n      <td>26</td>\n      <td>290.0</td>\n      <td>600.0</td>\n      <td>950.0</td>\n    </tr>\n    <tr>\n      <th>3</th>\n      <td>00023dc128414e21b2f9f8307f627433</td>\n      <td>1</td>\n      <td>3</td>\n      <td>6</td>\n      <td>1</td>\n      <td>3</td>\n      <td>6</td>\n      <td>1</td>\n      <td>3</td>\n      <td>6</td>\n      <td>290.0</td>\n      <td>410.0</td>\n      <td>440.0</td>\n    </tr>\n    <tr>\n      <th>4</th>\n      <td>0002506b15b27d032de84e195747c3e7</td>\n      <td>7</td>\n      <td>13</td>\n      <td>18</td>\n      <td>7</td>\n      <td>13</td>\n      <td>18</td>\n      <td>7</td>\n      <td>13</td>\n      <td>18</td>\n      <td>290.0</td>\n      <td>320.0</td>\n      <td>340.0</td>\n    </tr>\n  </tbody>\n</table>\n</div>"
     },
     "execution_count": 31,
     "metadata": {},
     "output_type": "execute_result"
    }
   ],
   "source": [
    "orders_sizes.head()"
   ],
   "metadata": {
    "collapsed": false,
    "ExecuteTime": {
     "end_time": "2023-10-11T13:41:27.141377Z",
     "start_time": "2023-10-11T13:41:27.112189Z"
    }
   }
  },
  {
   "cell_type": "code",
   "execution_count": 32,
   "outputs": [],
   "source": [
    "orders_agg = orders_agg.merge(orders_sizes, on=ORDER_COLUMN, how='inner')"
   ],
   "metadata": {
    "collapsed": false,
    "ExecuteTime": {
     "end_time": "2023-10-11T13:41:27.259001Z",
     "start_time": "2023-10-11T13:41:27.237374Z"
    }
   }
  },
  {
   "cell_type": "code",
   "execution_count": 33,
   "outputs": [
    {
     "data": {
      "text/plain": "                         trackingid selected_cartontype  \\\n0  000086e759f059d7373bb1d332392f1c                 MYB   \n1  0000d2725b0d7c18bfa85dba8fe3fc75                 MYC   \n2  0000eabbdb272c339beef96b96fe71bc                 MYC   \n3  00023dc128414e21b2f9f8307f627433                 MYA   \n4  0002506b15b27d032de84e195747c3e7                 MYB   \n\n  recommended_cartontype  pack_volume  goods_wght  items_count  width_item_1  \\\n0                    MYC  2439.000000    1.027000            3             7   \n1                    MYC  5698.000000    0.256000            2             7   \n2                    MYC   485.833333    0.186667           12             1   \n3                    MYA    18.000000    0.010000            8             1   \n4                    YMA  1428.000000    0.285000            6             7   \n\n   height_item_1  depth_item_1  width_item_2  height_item_2  depth_item_2  \\\n0             17            22             7             17            22   \n1             22            37             7             22            37   \n2             20            26             1             20            26   \n3              3             6             1              3             6   \n4             13            18             7             13            18   \n\n   width_item_3  height_item_3  depth_item_3  cargotype_item_1  \\\n0             7             17            22             200.0   \n1             0              0             0             290.0   \n2             1             20            26             290.0   \n3             1              3             6             290.0   \n4             7             13            18             290.0   \n\n   cargotype_item_2  cargotype_item_3  \n0             290.0             340.0  \n1             340.0              -1.0  \n2             600.0             950.0  \n3             410.0             440.0  \n4             320.0             340.0  ",
      "text/html": "<div>\n<style scoped>\n    .dataframe tbody tr th:only-of-type {\n        vertical-align: middle;\n    }\n\n    .dataframe tbody tr th {\n        vertical-align: top;\n    }\n\n    .dataframe thead th {\n        text-align: right;\n    }\n</style>\n<table border=\"1\" class=\"dataframe\">\n  <thead>\n    <tr style=\"text-align: right;\">\n      <th></th>\n      <th>trackingid</th>\n      <th>selected_cartontype</th>\n      <th>recommended_cartontype</th>\n      <th>pack_volume</th>\n      <th>goods_wght</th>\n      <th>items_count</th>\n      <th>width_item_1</th>\n      <th>height_item_1</th>\n      <th>depth_item_1</th>\n      <th>width_item_2</th>\n      <th>height_item_2</th>\n      <th>depth_item_2</th>\n      <th>width_item_3</th>\n      <th>height_item_3</th>\n      <th>depth_item_3</th>\n      <th>cargotype_item_1</th>\n      <th>cargotype_item_2</th>\n      <th>cargotype_item_3</th>\n    </tr>\n  </thead>\n  <tbody>\n    <tr>\n      <th>0</th>\n      <td>000086e759f059d7373bb1d332392f1c</td>\n      <td>MYB</td>\n      <td>MYC</td>\n      <td>2439.000000</td>\n      <td>1.027000</td>\n      <td>3</td>\n      <td>7</td>\n      <td>17</td>\n      <td>22</td>\n      <td>7</td>\n      <td>17</td>\n      <td>22</td>\n      <td>7</td>\n      <td>17</td>\n      <td>22</td>\n      <td>200.0</td>\n      <td>290.0</td>\n      <td>340.0</td>\n    </tr>\n    <tr>\n      <th>1</th>\n      <td>0000d2725b0d7c18bfa85dba8fe3fc75</td>\n      <td>MYC</td>\n      <td>MYC</td>\n      <td>5698.000000</td>\n      <td>0.256000</td>\n      <td>2</td>\n      <td>7</td>\n      <td>22</td>\n      <td>37</td>\n      <td>7</td>\n      <td>22</td>\n      <td>37</td>\n      <td>0</td>\n      <td>0</td>\n      <td>0</td>\n      <td>290.0</td>\n      <td>340.0</td>\n      <td>-1.0</td>\n    </tr>\n    <tr>\n      <th>2</th>\n      <td>0000eabbdb272c339beef96b96fe71bc</td>\n      <td>MYC</td>\n      <td>MYC</td>\n      <td>485.833333</td>\n      <td>0.186667</td>\n      <td>12</td>\n      <td>1</td>\n      <td>20</td>\n      <td>26</td>\n      <td>1</td>\n      <td>20</td>\n      <td>26</td>\n      <td>1</td>\n      <td>20</td>\n      <td>26</td>\n      <td>290.0</td>\n      <td>600.0</td>\n      <td>950.0</td>\n    </tr>\n    <tr>\n      <th>3</th>\n      <td>00023dc128414e21b2f9f8307f627433</td>\n      <td>MYA</td>\n      <td>MYA</td>\n      <td>18.000000</td>\n      <td>0.010000</td>\n      <td>8</td>\n      <td>1</td>\n      <td>3</td>\n      <td>6</td>\n      <td>1</td>\n      <td>3</td>\n      <td>6</td>\n      <td>1</td>\n      <td>3</td>\n      <td>6</td>\n      <td>290.0</td>\n      <td>410.0</td>\n      <td>440.0</td>\n    </tr>\n    <tr>\n      <th>4</th>\n      <td>0002506b15b27d032de84e195747c3e7</td>\n      <td>MYB</td>\n      <td>YMA</td>\n      <td>1428.000000</td>\n      <td>0.285000</td>\n      <td>6</td>\n      <td>7</td>\n      <td>13</td>\n      <td>18</td>\n      <td>7</td>\n      <td>13</td>\n      <td>18</td>\n      <td>7</td>\n      <td>13</td>\n      <td>18</td>\n      <td>290.0</td>\n      <td>320.0</td>\n      <td>340.0</td>\n    </tr>\n  </tbody>\n</table>\n</div>"
     },
     "execution_count": 33,
     "metadata": {},
     "output_type": "execute_result"
    }
   ],
   "source": [
    "orders_agg.head()"
   ],
   "metadata": {
    "collapsed": false,
    "ExecuteTime": {
     "end_time": "2023-10-11T13:41:27.300436Z",
     "start_time": "2023-10-11T13:41:27.285062Z"
    }
   }
  },
  {
   "cell_type": "markdown",
   "source": [
    "## Modelling"
   ],
   "metadata": {
    "collapsed": false
   }
  },
  {
   "cell_type": "code",
   "execution_count": 34,
   "outputs": [],
   "source": [
    "orders_agg = orders_agg.drop(ORDER_COLUMN, axis=1)"
   ],
   "metadata": {
    "collapsed": false,
    "ExecuteTime": {
     "end_time": "2023-10-11T13:41:27.312002Z",
     "start_time": "2023-10-11T13:41:27.302088Z"
    }
   }
  },
  {
   "cell_type": "markdown",
   "source": [
    "Removing orders with less than or equal to 3 items"
   ],
   "metadata": {
    "collapsed": false
   }
  },
  {
   "cell_type": "code",
   "execution_count": 35,
   "outputs": [],
   "source": [
    "orders_agg = orders_agg.loc[orders_agg['items_count'] <= 3]"
   ],
   "metadata": {
    "collapsed": false,
    "ExecuteTime": {
     "end_time": "2023-10-11T13:41:27.336291Z",
     "start_time": "2023-10-11T13:41:27.311655Z"
    }
   }
  },
  {
   "cell_type": "code",
   "execution_count": 36,
   "outputs": [],
   "source": [
    "# Removing box type with 1 occurence\n",
    "orders_agg = orders_agg.loc[orders_agg[TARGET_COLUMN] != 'YMB']"
   ],
   "metadata": {
    "collapsed": false,
    "ExecuteTime": {
     "end_time": "2023-10-11T13:41:27.418732Z",
     "start_time": "2023-10-11T13:41:27.320255Z"
    }
   }
  },
  {
   "cell_type": "code",
   "execution_count": 37,
   "outputs": [],
   "source": [
    "X = orders_agg.drop(['recommended_cartontype', TARGET_COLUMN], axis=1).reset_index(drop=True)\n",
    "y = orders_agg[TARGET_COLUMN]\n",
    "y_rec_algo = orders_agg['recommended_cartontype']"
   ],
   "metadata": {
    "collapsed": false,
    "ExecuteTime": {
     "end_time": "2023-10-11T13:41:27.422129Z",
     "start_time": "2023-10-11T13:41:27.365740Z"
    }
   }
  },
  {
   "cell_type": "code",
   "execution_count": 38,
   "outputs": [],
   "source": [
    "# Using OrdinalEncoder because of unknown values in recommender carton type\n",
    "ord_encoder = OrdinalEncoder(handle_unknown='use_encoded_value', unknown_value=-1)\n",
    "\n",
    "# Encoding before split to make startification by target\n",
    "y = ord_encoder.fit_transform(y.values.reshape(-1, 1))\n",
    "y_rec_algo = ord_encoder.transform(y_rec_algo.values.reshape(-1, 1))"
   ],
   "metadata": {
    "collapsed": false,
    "ExecuteTime": {
     "end_time": "2023-10-11T13:41:27.477692Z",
     "start_time": "2023-10-11T13:41:27.434804Z"
    }
   }
  },
  {
   "cell_type": "code",
   "execution_count": 39,
   "outputs": [],
   "source": [
    "X_train, y_train, X_test, y_test = iterative_train_test_split(X.values, y, test_size = 0.2)\n",
    "y_rec_algo_train, y_comp_train, y_rec_algo_test, y_comp_test = iterative_train_test_split(y_rec_algo, y, test_size = 0.2)"
   ],
   "metadata": {
    "collapsed": false,
    "ExecuteTime": {
     "end_time": "2023-10-11T13:41:39.189249Z",
     "start_time": "2023-10-11T13:41:27.462223Z"
    }
   }
  },
  {
   "cell_type": "code",
   "execution_count": 40,
   "outputs": [
    {
     "name": "stdout",
     "output_type": "stream",
     "text": [
      "CPU times: user 1e+03 ns, sys: 0 ns, total: 1e+03 ns\n",
      "Wall time: 2.86 µs\n",
      "Learning rate set to 0.094798\n",
      "0:\tlearn: 2.3854459\ttotal: 288ms\tremaining: 4m 47s\n",
      "1:\tlearn: 2.1797140\ttotal: 484ms\tremaining: 4m 1s\n",
      "2:\tlearn: 2.0377359\ttotal: 698ms\tremaining: 3m 52s\n",
      "3:\tlearn: 1.9290618\ttotal: 933ms\tremaining: 3m 52s\n",
      "4:\tlearn: 1.8431518\ttotal: 1.04s\tremaining: 3m 27s\n",
      "5:\tlearn: 1.7738271\ttotal: 1.26s\tremaining: 3m 28s\n",
      "6:\tlearn: 1.7135651\ttotal: 1.41s\tremaining: 3m 19s\n",
      "7:\tlearn: 1.6645689\ttotal: 1.54s\tremaining: 3m 11s\n",
      "8:\tlearn: 1.6230053\ttotal: 1.68s\tremaining: 3m 4s\n",
      "9:\tlearn: 1.5846831\ttotal: 1.8s\tremaining: 2m 58s\n",
      "10:\tlearn: 1.5536918\ttotal: 1.9s\tremaining: 2m 50s\n",
      "11:\tlearn: 1.5258037\ttotal: 2.11s\tremaining: 2m 53s\n",
      "12:\tlearn: 1.5019979\ttotal: 2.35s\tremaining: 2m 58s\n",
      "13:\tlearn: 1.4802268\ttotal: 2.46s\tremaining: 2m 53s\n",
      "14:\tlearn: 1.4600349\ttotal: 2.61s\tremaining: 2m 51s\n",
      "15:\tlearn: 1.4412109\ttotal: 2.76s\tremaining: 2m 49s\n",
      "16:\tlearn: 1.4266345\ttotal: 2.92s\tremaining: 2m 48s\n",
      "17:\tlearn: 1.4134713\ttotal: 3.08s\tremaining: 2m 48s\n",
      "18:\tlearn: 1.4008946\ttotal: 3.21s\tremaining: 2m 45s\n",
      "19:\tlearn: 1.3892884\ttotal: 3.36s\tremaining: 2m 44s\n",
      "20:\tlearn: 1.3791747\ttotal: 3.5s\tremaining: 2m 43s\n",
      "21:\tlearn: 1.3688704\ttotal: 3.64s\tremaining: 2m 41s\n",
      "22:\tlearn: 1.3602703\ttotal: 3.76s\tremaining: 2m 39s\n",
      "23:\tlearn: 1.3525112\ttotal: 3.91s\tremaining: 2m 39s\n",
      "24:\tlearn: 1.3445747\ttotal: 4.1s\tremaining: 2m 39s\n",
      "25:\tlearn: 1.3390068\ttotal: 4.26s\tremaining: 2m 39s\n",
      "26:\tlearn: 1.3326751\ttotal: 4.46s\tremaining: 2m 40s\n",
      "27:\tlearn: 1.3264497\ttotal: 4.58s\tremaining: 2m 39s\n",
      "28:\tlearn: 1.3209113\ttotal: 4.75s\tremaining: 2m 39s\n",
      "29:\tlearn: 1.3177582\ttotal: 4.88s\tremaining: 2m 37s\n",
      "30:\tlearn: 1.3121801\ttotal: 5.08s\tremaining: 2m 38s\n",
      "31:\tlearn: 1.3081348\ttotal: 5.25s\tremaining: 2m 38s\n",
      "32:\tlearn: 1.3038869\ttotal: 5.44s\tremaining: 2m 39s\n",
      "33:\tlearn: 1.2999111\ttotal: 5.58s\tremaining: 2m 38s\n",
      "34:\tlearn: 1.2957982\ttotal: 5.69s\tremaining: 2m 36s\n",
      "35:\tlearn: 1.2926521\ttotal: 5.79s\tremaining: 2m 35s\n",
      "36:\tlearn: 1.2897766\ttotal: 5.9s\tremaining: 2m 33s\n",
      "37:\tlearn: 1.2876672\ttotal: 6.03s\tremaining: 2m 32s\n",
      "38:\tlearn: 1.2849422\ttotal: 6.19s\tremaining: 2m 32s\n",
      "39:\tlearn: 1.2828222\ttotal: 6.28s\tremaining: 2m 30s\n",
      "40:\tlearn: 1.2809402\ttotal: 6.41s\tremaining: 2m 29s\n",
      "41:\tlearn: 1.2789368\ttotal: 6.54s\tremaining: 2m 29s\n",
      "42:\tlearn: 1.2765929\ttotal: 6.72s\tremaining: 2m 29s\n",
      "43:\tlearn: 1.2741792\ttotal: 6.92s\tremaining: 2m 30s\n",
      "44:\tlearn: 1.2724963\ttotal: 7.09s\tremaining: 2m 30s\n",
      "45:\tlearn: 1.2711159\ttotal: 7.21s\tremaining: 2m 29s\n",
      "46:\tlearn: 1.2693670\ttotal: 7.41s\tremaining: 2m 30s\n",
      "47:\tlearn: 1.2670856\ttotal: 7.49s\tremaining: 2m 28s\n",
      "48:\tlearn: 1.2655726\ttotal: 7.69s\tremaining: 2m 29s\n",
      "49:\tlearn: 1.2638729\ttotal: 7.82s\tremaining: 2m 28s\n",
      "50:\tlearn: 1.2625521\ttotal: 8.01s\tremaining: 2m 29s\n",
      "51:\tlearn: 1.2604762\ttotal: 8.15s\tremaining: 2m 28s\n",
      "52:\tlearn: 1.2585286\ttotal: 8.24s\tremaining: 2m 27s\n",
      "53:\tlearn: 1.2569222\ttotal: 8.38s\tremaining: 2m 26s\n",
      "54:\tlearn: 1.2553619\ttotal: 8.59s\tremaining: 2m 27s\n",
      "55:\tlearn: 1.2535730\ttotal: 8.7s\tremaining: 2m 26s\n",
      "56:\tlearn: 1.2512583\ttotal: 8.83s\tremaining: 2m 26s\n",
      "57:\tlearn: 1.2496536\ttotal: 9.06s\tremaining: 2m 27s\n",
      "58:\tlearn: 1.2476161\ttotal: 9.21s\tremaining: 2m 26s\n",
      "59:\tlearn: 1.2463845\ttotal: 9.3s\tremaining: 2m 25s\n",
      "60:\tlearn: 1.2453204\ttotal: 9.48s\tremaining: 2m 25s\n",
      "61:\tlearn: 1.2439670\ttotal: 9.59s\tremaining: 2m 25s\n",
      "62:\tlearn: 1.2433496\ttotal: 9.75s\tremaining: 2m 25s\n",
      "63:\tlearn: 1.2421259\ttotal: 9.89s\tremaining: 2m 24s\n",
      "64:\tlearn: 1.2413338\ttotal: 10s\tremaining: 2m 24s\n",
      "65:\tlearn: 1.2404094\ttotal: 10.2s\tremaining: 2m 23s\n",
      "66:\tlearn: 1.2397090\ttotal: 10.3s\tremaining: 2m 23s\n",
      "67:\tlearn: 1.2390483\ttotal: 10.5s\tremaining: 2m 23s\n",
      "68:\tlearn: 1.2383599\ttotal: 10.7s\tremaining: 2m 23s\n",
      "69:\tlearn: 1.2373466\ttotal: 10.8s\tremaining: 2m 23s\n",
      "70:\tlearn: 1.2354921\ttotal: 10.9s\tremaining: 2m 22s\n",
      "71:\tlearn: 1.2348769\ttotal: 11.1s\tremaining: 2m 22s\n",
      "72:\tlearn: 1.2336912\ttotal: 11.2s\tremaining: 2m 22s\n",
      "73:\tlearn: 1.2329519\ttotal: 11.4s\tremaining: 2m 22s\n",
      "74:\tlearn: 1.2319462\ttotal: 11.6s\tremaining: 2m 22s\n",
      "75:\tlearn: 1.2315635\ttotal: 11.7s\tremaining: 2m 22s\n",
      "76:\tlearn: 1.2301313\ttotal: 11.8s\tremaining: 2m 21s\n",
      "77:\tlearn: 1.2292467\ttotal: 12s\tremaining: 2m 22s\n",
      "78:\tlearn: 1.2282092\ttotal: 12.2s\tremaining: 2m 22s\n",
      "79:\tlearn: 1.2274429\ttotal: 12.4s\tremaining: 2m 22s\n",
      "80:\tlearn: 1.2270085\ttotal: 12.5s\tremaining: 2m 22s\n",
      "81:\tlearn: 1.2263025\ttotal: 12.7s\tremaining: 2m 22s\n",
      "82:\tlearn: 1.2252819\ttotal: 12.8s\tremaining: 2m 21s\n",
      "83:\tlearn: 1.2242092\ttotal: 13.1s\tremaining: 2m 23s\n",
      "84:\tlearn: 1.2239436\ttotal: 13.3s\tremaining: 2m 22s\n",
      "85:\tlearn: 1.2233653\ttotal: 13.4s\tremaining: 2m 22s\n",
      "86:\tlearn: 1.2224913\ttotal: 13.5s\tremaining: 2m 21s\n",
      "87:\tlearn: 1.2218111\ttotal: 13.7s\tremaining: 2m 21s\n",
      "88:\tlearn: 1.2209566\ttotal: 13.9s\tremaining: 2m 22s\n",
      "89:\tlearn: 1.2203265\ttotal: 14.1s\tremaining: 2m 22s\n",
      "90:\tlearn: 1.2197490\ttotal: 14.3s\tremaining: 2m 22s\n",
      "91:\tlearn: 1.2192415\ttotal: 14.4s\tremaining: 2m 22s\n",
      "92:\tlearn: 1.2188260\ttotal: 14.7s\tremaining: 2m 23s\n",
      "93:\tlearn: 1.2179649\ttotal: 14.8s\tremaining: 2m 22s\n",
      "94:\tlearn: 1.2169446\ttotal: 14.9s\tremaining: 2m 22s\n",
      "95:\tlearn: 1.2160985\ttotal: 15.1s\tremaining: 2m 21s\n",
      "96:\tlearn: 1.2154182\ttotal: 15.3s\tremaining: 2m 22s\n",
      "97:\tlearn: 1.2148190\ttotal: 15.4s\tremaining: 2m 22s\n",
      "98:\tlearn: 1.2137003\ttotal: 15.5s\tremaining: 2m 21s\n",
      "99:\tlearn: 1.2131728\ttotal: 15.7s\tremaining: 2m 20s\n",
      "100:\tlearn: 1.2122170\ttotal: 15.8s\tremaining: 2m 20s\n",
      "101:\tlearn: 1.2114201\ttotal: 15.9s\tremaining: 2m 20s\n",
      "102:\tlearn: 1.2110626\ttotal: 16.1s\tremaining: 2m 20s\n",
      "103:\tlearn: 1.2099280\ttotal: 16.2s\tremaining: 2m 19s\n",
      "104:\tlearn: 1.2096984\ttotal: 16.5s\tremaining: 2m 20s\n",
      "105:\tlearn: 1.2094432\ttotal: 16.6s\tremaining: 2m 20s\n",
      "106:\tlearn: 1.2088978\ttotal: 16.8s\tremaining: 2m 20s\n",
      "107:\tlearn: 1.2081744\ttotal: 16.9s\tremaining: 2m 19s\n",
      "108:\tlearn: 1.2078723\ttotal: 17.1s\tremaining: 2m 19s\n",
      "109:\tlearn: 1.2076275\ttotal: 17.2s\tremaining: 2m 19s\n",
      "110:\tlearn: 1.2071156\ttotal: 17.3s\tremaining: 2m 18s\n",
      "111:\tlearn: 1.2060787\ttotal: 17.4s\tremaining: 2m 18s\n",
      "112:\tlearn: 1.2060326\ttotal: 17.5s\tremaining: 2m 17s\n",
      "113:\tlearn: 1.2049837\ttotal: 17.6s\tremaining: 2m 16s\n",
      "114:\tlearn: 1.2045606\ttotal: 17.7s\tremaining: 2m 16s\n",
      "115:\tlearn: 1.2041971\ttotal: 17.8s\tremaining: 2m 15s\n",
      "116:\tlearn: 1.2035602\ttotal: 17.9s\tremaining: 2m 14s\n",
      "117:\tlearn: 1.2032425\ttotal: 18s\tremaining: 2m 14s\n",
      "118:\tlearn: 1.2024366\ttotal: 18.1s\tremaining: 2m 13s\n",
      "119:\tlearn: 1.2014450\ttotal: 18.2s\tremaining: 2m 13s\n",
      "120:\tlearn: 1.2006623\ttotal: 18.3s\tremaining: 2m 12s\n",
      "121:\tlearn: 1.1999226\ttotal: 18.4s\tremaining: 2m 12s\n",
      "122:\tlearn: 1.1992408\ttotal: 18.5s\tremaining: 2m 11s\n",
      "123:\tlearn: 1.1986576\ttotal: 18.6s\tremaining: 2m 11s\n",
      "124:\tlearn: 1.1979742\ttotal: 18.6s\tremaining: 2m 10s\n",
      "125:\tlearn: 1.1972511\ttotal: 18.7s\tremaining: 2m 9s\n",
      "126:\tlearn: 1.1970826\ttotal: 18.8s\tremaining: 2m 9s\n",
      "127:\tlearn: 1.1968079\ttotal: 19.1s\tremaining: 2m 9s\n",
      "128:\tlearn: 1.1962557\ttotal: 19.1s\tremaining: 2m 9s\n",
      "129:\tlearn: 1.1958302\ttotal: 19.3s\tremaining: 2m 8s\n",
      "130:\tlearn: 1.1952092\ttotal: 19.4s\tremaining: 2m 8s\n",
      "131:\tlearn: 1.1947575\ttotal: 19.5s\tremaining: 2m 8s\n",
      "132:\tlearn: 1.1939853\ttotal: 19.6s\tremaining: 2m 7s\n",
      "133:\tlearn: 1.1935990\ttotal: 19.7s\tremaining: 2m 7s\n",
      "134:\tlearn: 1.1929884\ttotal: 19.7s\tremaining: 2m 6s\n",
      "135:\tlearn: 1.1922146\ttotal: 19.8s\tremaining: 2m 5s\n",
      "136:\tlearn: 1.1919219\ttotal: 20.1s\tremaining: 2m 6s\n",
      "137:\tlearn: 1.1912879\ttotal: 20.1s\tremaining: 2m 5s\n",
      "138:\tlearn: 1.1906636\ttotal: 20.2s\tremaining: 2m 5s\n",
      "139:\tlearn: 1.1899109\ttotal: 20.3s\tremaining: 2m 4s\n",
      "140:\tlearn: 1.1891653\ttotal: 20.4s\tremaining: 2m 4s\n",
      "141:\tlearn: 1.1885130\ttotal: 20.6s\tremaining: 2m 4s\n",
      "142:\tlearn: 1.1878190\ttotal: 20.7s\tremaining: 2m 3s\n",
      "143:\tlearn: 1.1872473\ttotal: 20.7s\tremaining: 2m 3s\n",
      "144:\tlearn: 1.1867063\ttotal: 20.8s\tremaining: 2m 2s\n",
      "145:\tlearn: 1.1863850\ttotal: 20.9s\tremaining: 2m 2s\n",
      "146:\tlearn: 1.1859240\ttotal: 21.1s\tremaining: 2m 2s\n",
      "147:\tlearn: 1.1855645\ttotal: 21.1s\tremaining: 2m 1s\n",
      "148:\tlearn: 1.1851022\ttotal: 21.2s\tremaining: 2m\n",
      "149:\tlearn: 1.1843800\ttotal: 21.2s\tremaining: 2m\n",
      "150:\tlearn: 1.1842445\ttotal: 21.4s\tremaining: 2m\n",
      "151:\tlearn: 1.1834416\ttotal: 21.5s\tremaining: 2m\n",
      "152:\tlearn: 1.1828436\ttotal: 21.6s\tremaining: 1m 59s\n",
      "153:\tlearn: 1.1827161\ttotal: 21.7s\tremaining: 1m 59s\n",
      "154:\tlearn: 1.1824198\ttotal: 21.8s\tremaining: 1m 58s\n",
      "155:\tlearn: 1.1816491\ttotal: 21.9s\tremaining: 1m 58s\n",
      "156:\tlearn: 1.1810977\ttotal: 22.1s\tremaining: 1m 58s\n",
      "157:\tlearn: 1.1806788\ttotal: 22.2s\tremaining: 1m 58s\n",
      "158:\tlearn: 1.1801561\ttotal: 22.3s\tremaining: 1m 57s\n",
      "159:\tlearn: 1.1797705\ttotal: 22.4s\tremaining: 1m 57s\n",
      "160:\tlearn: 1.1790319\ttotal: 22.4s\tremaining: 1m 56s\n",
      "161:\tlearn: 1.1786483\ttotal: 22.5s\tremaining: 1m 56s\n",
      "162:\tlearn: 1.1781895\ttotal: 22.6s\tremaining: 1m 56s\n",
      "163:\tlearn: 1.1776180\ttotal: 22.7s\tremaining: 1m 55s\n",
      "164:\tlearn: 1.1773855\ttotal: 22.8s\tremaining: 1m 55s\n",
      "165:\tlearn: 1.1768041\ttotal: 22.9s\tremaining: 1m 54s\n",
      "166:\tlearn: 1.1764145\ttotal: 23.1s\tremaining: 1m 55s\n",
      "167:\tlearn: 1.1759532\ttotal: 23.2s\tremaining: 1m 54s\n",
      "168:\tlearn: 1.1756086\ttotal: 23.3s\tremaining: 1m 54s\n",
      "169:\tlearn: 1.1754161\ttotal: 23.4s\tremaining: 1m 54s\n",
      "170:\tlearn: 1.1748643\ttotal: 23.5s\tremaining: 1m 53s\n",
      "171:\tlearn: 1.1743865\ttotal: 23.6s\tremaining: 1m 53s\n",
      "172:\tlearn: 1.1739465\ttotal: 23.7s\tremaining: 1m 53s\n",
      "173:\tlearn: 1.1731408\ttotal: 23.8s\tremaining: 1m 52s\n",
      "174:\tlearn: 1.1724022\ttotal: 23.9s\tremaining: 1m 52s\n",
      "175:\tlearn: 1.1720841\ttotal: 23.9s\tremaining: 1m 52s\n",
      "176:\tlearn: 1.1716310\ttotal: 24.1s\tremaining: 1m 51s\n",
      "177:\tlearn: 1.1712343\ttotal: 24.1s\tremaining: 1m 51s\n",
      "178:\tlearn: 1.1708006\ttotal: 24.3s\tremaining: 1m 51s\n",
      "179:\tlearn: 1.1704668\ttotal: 24.4s\tremaining: 1m 51s\n",
      "180:\tlearn: 1.1693806\ttotal: 24.5s\tremaining: 1m 50s\n",
      "181:\tlearn: 1.1689584\ttotal: 24.6s\tremaining: 1m 50s\n",
      "182:\tlearn: 1.1686674\ttotal: 24.7s\tremaining: 1m 50s\n",
      "183:\tlearn: 1.1683352\ttotal: 24.8s\tremaining: 1m 49s\n",
      "184:\tlearn: 1.1680671\ttotal: 24.8s\tremaining: 1m 49s\n",
      "185:\tlearn: 1.1674025\ttotal: 25s\tremaining: 1m 49s\n",
      "186:\tlearn: 1.1670124\ttotal: 25.1s\tremaining: 1m 49s\n",
      "187:\tlearn: 1.1663168\ttotal: 25.2s\tremaining: 1m 48s\n",
      "188:\tlearn: 1.1660687\ttotal: 25.3s\tremaining: 1m 48s\n",
      "189:\tlearn: 1.1658100\ttotal: 25.4s\tremaining: 1m 48s\n",
      "190:\tlearn: 1.1650982\ttotal: 25.5s\tremaining: 1m 47s\n",
      "191:\tlearn: 1.1647051\ttotal: 25.5s\tremaining: 1m 47s\n",
      "192:\tlearn: 1.1643090\ttotal: 25.7s\tremaining: 1m 47s\n",
      "193:\tlearn: 1.1639158\ttotal: 25.7s\tremaining: 1m 46s\n",
      "194:\tlearn: 1.1637017\ttotal: 25.8s\tremaining: 1m 46s\n",
      "195:\tlearn: 1.1634068\ttotal: 25.9s\tremaining: 1m 46s\n",
      "196:\tlearn: 1.1628255\ttotal: 26.1s\tremaining: 1m 46s\n",
      "197:\tlearn: 1.1625604\ttotal: 26.2s\tremaining: 1m 46s\n",
      "198:\tlearn: 1.1620447\ttotal: 26.3s\tremaining: 1m 45s\n",
      "199:\tlearn: 1.1615216\ttotal: 26.3s\tremaining: 1m 45s\n",
      "200:\tlearn: 1.1611020\ttotal: 26.4s\tremaining: 1m 45s\n",
      "201:\tlearn: 1.1607578\ttotal: 26.6s\tremaining: 1m 44s\n",
      "202:\tlearn: 1.1602333\ttotal: 26.6s\tremaining: 1m 44s\n",
      "203:\tlearn: 1.1597578\ttotal: 26.7s\tremaining: 1m 44s\n",
      "204:\tlearn: 1.1592700\ttotal: 26.8s\tremaining: 1m 43s\n",
      "205:\tlearn: 1.1588740\ttotal: 26.9s\tremaining: 1m 43s\n",
      "206:\tlearn: 1.1585290\ttotal: 26.9s\tremaining: 1m 43s\n",
      "207:\tlearn: 1.1579901\ttotal: 27s\tremaining: 1m 42s\n",
      "208:\tlearn: 1.1577174\ttotal: 27.1s\tremaining: 1m 42s\n",
      "209:\tlearn: 1.1574761\ttotal: 27.3s\tremaining: 1m 42s\n",
      "210:\tlearn: 1.1569981\ttotal: 27.4s\tremaining: 1m 42s\n",
      "211:\tlearn: 1.1566218\ttotal: 27.5s\tremaining: 1m 42s\n",
      "212:\tlearn: 1.1562464\ttotal: 27.6s\tremaining: 1m 42s\n",
      "213:\tlearn: 1.1559710\ttotal: 27.7s\tremaining: 1m 41s\n",
      "214:\tlearn: 1.1558007\ttotal: 27.8s\tremaining: 1m 41s\n",
      "215:\tlearn: 1.1554497\ttotal: 27.9s\tremaining: 1m 41s\n",
      "216:\tlearn: 1.1551509\ttotal: 27.9s\tremaining: 1m 40s\n",
      "217:\tlearn: 1.1542295\ttotal: 28s\tremaining: 1m 40s\n",
      "218:\tlearn: 1.1533764\ttotal: 28.2s\tremaining: 1m 40s\n",
      "219:\tlearn: 1.1530056\ttotal: 28.3s\tremaining: 1m 40s\n",
      "220:\tlearn: 1.1528554\ttotal: 28.4s\tremaining: 1m 40s\n",
      "221:\tlearn: 1.1525766\ttotal: 28.5s\tremaining: 1m 39s\n",
      "222:\tlearn: 1.1523059\ttotal: 28.6s\tremaining: 1m 39s\n",
      "223:\tlearn: 1.1521487\ttotal: 28.7s\tremaining: 1m 39s\n",
      "224:\tlearn: 1.1520458\ttotal: 28.8s\tremaining: 1m 39s\n",
      "225:\tlearn: 1.1516375\ttotal: 28.9s\tremaining: 1m 38s\n",
      "226:\tlearn: 1.1514069\ttotal: 29s\tremaining: 1m 38s\n",
      "227:\tlearn: 1.1508891\ttotal: 29.1s\tremaining: 1m 38s\n",
      "228:\tlearn: 1.1506649\ttotal: 29.3s\tremaining: 1m 38s\n",
      "229:\tlearn: 1.1505005\ttotal: 29.4s\tremaining: 1m 38s\n",
      "230:\tlearn: 1.1504355\ttotal: 29.5s\tremaining: 1m 38s\n",
      "231:\tlearn: 1.1499112\ttotal: 29.6s\tremaining: 1m 37s\n",
      "232:\tlearn: 1.1495388\ttotal: 29.7s\tremaining: 1m 37s\n",
      "233:\tlearn: 1.1492024\ttotal: 29.7s\tremaining: 1m 37s\n",
      "234:\tlearn: 1.1490549\ttotal: 29.8s\tremaining: 1m 37s\n",
      "235:\tlearn: 1.1488979\ttotal: 29.9s\tremaining: 1m 36s\n",
      "236:\tlearn: 1.1486899\ttotal: 30s\tremaining: 1m 36s\n",
      "237:\tlearn: 1.1483720\ttotal: 30.1s\tremaining: 1m 36s\n",
      "238:\tlearn: 1.1479414\ttotal: 30.3s\tremaining: 1m 36s\n",
      "239:\tlearn: 1.1477262\ttotal: 30.4s\tremaining: 1m 36s\n",
      "240:\tlearn: 1.1473820\ttotal: 30.5s\tremaining: 1m 35s\n",
      "241:\tlearn: 1.1470000\ttotal: 30.6s\tremaining: 1m 35s\n",
      "242:\tlearn: 1.1468336\ttotal: 30.7s\tremaining: 1m 35s\n",
      "243:\tlearn: 1.1464693\ttotal: 30.8s\tremaining: 1m 35s\n",
      "244:\tlearn: 1.1460637\ttotal: 30.9s\tremaining: 1m 35s\n",
      "245:\tlearn: 1.1458360\ttotal: 31s\tremaining: 1m 34s\n",
      "246:\tlearn: 1.1456375\ttotal: 31s\tremaining: 1m 34s\n",
      "247:\tlearn: 1.1453851\ttotal: 31.1s\tremaining: 1m 34s\n",
      "248:\tlearn: 1.1451522\ttotal: 31.3s\tremaining: 1m 34s\n",
      "249:\tlearn: 1.1446739\ttotal: 31.5s\tremaining: 1m 34s\n",
      "250:\tlearn: 1.1440115\ttotal: 31.6s\tremaining: 1m 34s\n",
      "251:\tlearn: 1.1435330\ttotal: 31.7s\tremaining: 1m 34s\n",
      "252:\tlearn: 1.1429326\ttotal: 31.8s\tremaining: 1m 33s\n",
      "253:\tlearn: 1.1427014\ttotal: 31.8s\tremaining: 1m 33s\n",
      "254:\tlearn: 1.1424865\ttotal: 31.9s\tremaining: 1m 33s\n",
      "255:\tlearn: 1.1421112\ttotal: 32s\tremaining: 1m 33s\n",
      "256:\tlearn: 1.1417529\ttotal: 32.1s\tremaining: 1m 32s\n",
      "257:\tlearn: 1.1415571\ttotal: 32.3s\tremaining: 1m 32s\n",
      "258:\tlearn: 1.1411035\ttotal: 32.4s\tremaining: 1m 32s\n",
      "259:\tlearn: 1.1409001\ttotal: 32.5s\tremaining: 1m 32s\n",
      "260:\tlearn: 1.1402474\ttotal: 32.6s\tremaining: 1m 32s\n",
      "261:\tlearn: 1.1401018\ttotal: 32.7s\tremaining: 1m 32s\n",
      "262:\tlearn: 1.1394128\ttotal: 32.8s\tremaining: 1m 31s\n",
      "263:\tlearn: 1.1392433\ttotal: 32.9s\tremaining: 1m 31s\n",
      "264:\tlearn: 1.1389227\ttotal: 32.9s\tremaining: 1m 31s\n",
      "265:\tlearn: 1.1380875\ttotal: 33s\tremaining: 1m 31s\n",
      "266:\tlearn: 1.1376645\ttotal: 33.1s\tremaining: 1m 30s\n",
      "267:\tlearn: 1.1373438\ttotal: 33.1s\tremaining: 1m 30s\n",
      "268:\tlearn: 1.1370946\ttotal: 33.3s\tremaining: 1m 30s\n",
      "269:\tlearn: 1.1369309\ttotal: 33.4s\tremaining: 1m 30s\n",
      "270:\tlearn: 1.1364495\ttotal: 33.5s\tremaining: 1m 30s\n",
      "271:\tlearn: 1.1359466\ttotal: 33.6s\tremaining: 1m 29s\n",
      "272:\tlearn: 1.1353460\ttotal: 33.7s\tremaining: 1m 29s\n",
      "273:\tlearn: 1.1349670\ttotal: 33.8s\tremaining: 1m 29s\n",
      "274:\tlearn: 1.1345383\ttotal: 33.9s\tremaining: 1m 29s\n",
      "275:\tlearn: 1.1342756\ttotal: 34s\tremaining: 1m 29s\n",
      "276:\tlearn: 1.1336693\ttotal: 34s\tremaining: 1m 28s\n",
      "277:\tlearn: 1.1332771\ttotal: 34.2s\tremaining: 1m 28s\n",
      "278:\tlearn: 1.1326500\ttotal: 34.2s\tremaining: 1m 28s\n",
      "279:\tlearn: 1.1322641\ttotal: 34.4s\tremaining: 1m 28s\n",
      "280:\tlearn: 1.1318325\ttotal: 34.5s\tremaining: 1m 28s\n",
      "281:\tlearn: 1.1315153\ttotal: 34.6s\tremaining: 1m 28s\n",
      "282:\tlearn: 1.1311351\ttotal: 34.7s\tremaining: 1m 27s\n",
      "283:\tlearn: 1.1309414\ttotal: 34.7s\tremaining: 1m 27s\n",
      "284:\tlearn: 1.1303255\ttotal: 34.8s\tremaining: 1m 27s\n",
      "285:\tlearn: 1.1300513\ttotal: 35s\tremaining: 1m 27s\n",
      "286:\tlearn: 1.1297561\ttotal: 35.1s\tremaining: 1m 27s\n",
      "287:\tlearn: 1.1294379\ttotal: 35.1s\tremaining: 1m 26s\n",
      "288:\tlearn: 1.1289977\ttotal: 35.2s\tremaining: 1m 26s\n",
      "289:\tlearn: 1.1287953\ttotal: 35.3s\tremaining: 1m 26s\n",
      "290:\tlearn: 1.1283722\ttotal: 35.3s\tremaining: 1m 26s\n",
      "291:\tlearn: 1.1281181\ttotal: 35.4s\tremaining: 1m 25s\n",
      "292:\tlearn: 1.1278838\ttotal: 35.5s\tremaining: 1m 25s\n",
      "293:\tlearn: 1.1277355\ttotal: 35.6s\tremaining: 1m 25s\n",
      "294:\tlearn: 1.1275448\ttotal: 35.7s\tremaining: 1m 25s\n",
      "295:\tlearn: 1.1274452\ttotal: 35.7s\tremaining: 1m 24s\n",
      "296:\tlearn: 1.1271849\ttotal: 35.8s\tremaining: 1m 24s\n",
      "297:\tlearn: 1.1266059\ttotal: 35.9s\tremaining: 1m 24s\n",
      "298:\tlearn: 1.1261354\ttotal: 36s\tremaining: 1m 24s\n",
      "299:\tlearn: 1.1260249\ttotal: 36.1s\tremaining: 1m 24s\n",
      "300:\tlearn: 1.1254623\ttotal: 36.2s\tremaining: 1m 23s\n",
      "301:\tlearn: 1.1250988\ttotal: 36.3s\tremaining: 1m 23s\n",
      "302:\tlearn: 1.1248070\ttotal: 36.3s\tremaining: 1m 23s\n",
      "303:\tlearn: 1.1245303\ttotal: 36.4s\tremaining: 1m 23s\n",
      "304:\tlearn: 1.1241317\ttotal: 36.5s\tremaining: 1m 23s\n",
      "305:\tlearn: 1.1239644\ttotal: 36.6s\tremaining: 1m 22s\n",
      "306:\tlearn: 1.1237237\ttotal: 36.7s\tremaining: 1m 22s\n",
      "307:\tlearn: 1.1231120\ttotal: 36.7s\tremaining: 1m 22s\n",
      "308:\tlearn: 1.1228882\ttotal: 36.8s\tremaining: 1m 22s\n",
      "309:\tlearn: 1.1224835\ttotal: 36.9s\tremaining: 1m 22s\n",
      "310:\tlearn: 1.1221054\ttotal: 37s\tremaining: 1m 21s\n",
      "311:\tlearn: 1.1219974\ttotal: 37.1s\tremaining: 1m 21s\n",
      "312:\tlearn: 1.1218223\ttotal: 37.2s\tremaining: 1m 21s\n",
      "313:\tlearn: 1.1213917\ttotal: 37.2s\tremaining: 1m 21s\n",
      "314:\tlearn: 1.1211690\ttotal: 37.3s\tremaining: 1m 21s\n",
      "315:\tlearn: 1.1204112\ttotal: 37.4s\tremaining: 1m 21s\n",
      "316:\tlearn: 1.1202221\ttotal: 37.5s\tremaining: 1m 20s\n",
      "317:\tlearn: 1.1198885\ttotal: 37.6s\tremaining: 1m 20s\n",
      "318:\tlearn: 1.1198428\ttotal: 37.8s\tremaining: 1m 20s\n",
      "319:\tlearn: 1.1197173\ttotal: 37.9s\tremaining: 1m 20s\n",
      "320:\tlearn: 1.1194716\ttotal: 38s\tremaining: 1m 20s\n",
      "321:\tlearn: 1.1190105\ttotal: 38.1s\tremaining: 1m 20s\n",
      "322:\tlearn: 1.1183620\ttotal: 38.3s\tremaining: 1m 20s\n",
      "323:\tlearn: 1.1178713\ttotal: 38.4s\tremaining: 1m 20s\n",
      "324:\tlearn: 1.1175925\ttotal: 38.5s\tremaining: 1m 19s\n",
      "325:\tlearn: 1.1174827\ttotal: 38.5s\tremaining: 1m 19s\n",
      "326:\tlearn: 1.1173191\ttotal: 38.8s\tremaining: 1m 19s\n",
      "327:\tlearn: 1.1171191\ttotal: 38.8s\tremaining: 1m 19s\n",
      "328:\tlearn: 1.1168762\ttotal: 38.9s\tremaining: 1m 19s\n",
      "329:\tlearn: 1.1166273\ttotal: 39s\tremaining: 1m 19s\n",
      "330:\tlearn: 1.1162795\ttotal: 39.1s\tremaining: 1m 18s\n",
      "331:\tlearn: 1.1159961\ttotal: 39.2s\tremaining: 1m 18s\n",
      "332:\tlearn: 1.1155854\ttotal: 39.2s\tremaining: 1m 18s\n",
      "333:\tlearn: 1.1154146\ttotal: 39.3s\tremaining: 1m 18s\n",
      "334:\tlearn: 1.1150708\ttotal: 39.4s\tremaining: 1m 18s\n",
      "335:\tlearn: 1.1148856\ttotal: 39.5s\tremaining: 1m 18s\n",
      "336:\tlearn: 1.1147378\ttotal: 39.6s\tremaining: 1m 17s\n",
      "337:\tlearn: 1.1145380\ttotal: 39.6s\tremaining: 1m 17s\n",
      "338:\tlearn: 1.1144211\ttotal: 39.7s\tremaining: 1m 17s\n",
      "339:\tlearn: 1.1140695\ttotal: 39.8s\tremaining: 1m 17s\n",
      "340:\tlearn: 1.1135213\ttotal: 39.9s\tremaining: 1m 17s\n",
      "341:\tlearn: 1.1133600\ttotal: 40s\tremaining: 1m 17s\n",
      "342:\tlearn: 1.1128600\ttotal: 40.1s\tremaining: 1m 16s\n",
      "343:\tlearn: 1.1124990\ttotal: 40.2s\tremaining: 1m 16s\n",
      "344:\tlearn: 1.1123027\ttotal: 40.3s\tremaining: 1m 16s\n",
      "345:\tlearn: 1.1117390\ttotal: 40.3s\tremaining: 1m 16s\n",
      "346:\tlearn: 1.1115436\ttotal: 40.4s\tremaining: 1m 16s\n",
      "347:\tlearn: 1.1114745\ttotal: 40.5s\tremaining: 1m 15s\n",
      "348:\tlearn: 1.1112252\ttotal: 40.6s\tremaining: 1m 15s\n",
      "349:\tlearn: 1.1107666\ttotal: 40.8s\tremaining: 1m 15s\n",
      "350:\tlearn: 1.1103959\ttotal: 40.8s\tremaining: 1m 15s\n",
      "351:\tlearn: 1.1102280\ttotal: 40.9s\tremaining: 1m 15s\n",
      "352:\tlearn: 1.1100984\ttotal: 41.1s\tremaining: 1m 15s\n",
      "353:\tlearn: 1.1098269\ttotal: 41.1s\tremaining: 1m 15s\n",
      "354:\tlearn: 1.1095258\ttotal: 41.2s\tremaining: 1m 14s\n",
      "355:\tlearn: 1.1092635\ttotal: 41.3s\tremaining: 1m 14s\n",
      "356:\tlearn: 1.1090259\ttotal: 41.4s\tremaining: 1m 14s\n",
      "357:\tlearn: 1.1087892\ttotal: 41.5s\tremaining: 1m 14s\n",
      "358:\tlearn: 1.1085014\ttotal: 41.6s\tremaining: 1m 14s\n",
      "359:\tlearn: 1.1082482\ttotal: 41.7s\tremaining: 1m 14s\n",
      "360:\tlearn: 1.1078580\ttotal: 41.7s\tremaining: 1m 13s\n",
      "361:\tlearn: 1.1076886\ttotal: 41.9s\tremaining: 1m 13s\n",
      "362:\tlearn: 1.1074426\ttotal: 42s\tremaining: 1m 13s\n",
      "363:\tlearn: 1.1072466\ttotal: 42.1s\tremaining: 1m 13s\n",
      "364:\tlearn: 1.1068982\ttotal: 42.1s\tremaining: 1m 13s\n",
      "365:\tlearn: 1.1064632\ttotal: 42.2s\tremaining: 1m 13s\n",
      "366:\tlearn: 1.1061143\ttotal: 42.3s\tremaining: 1m 12s\n",
      "367:\tlearn: 1.1058959\ttotal: 42.4s\tremaining: 1m 12s\n",
      "368:\tlearn: 1.1058181\ttotal: 42.5s\tremaining: 1m 12s\n",
      "369:\tlearn: 1.1056163\ttotal: 42.6s\tremaining: 1m 12s\n",
      "370:\tlearn: 1.1053413\ttotal: 42.7s\tremaining: 1m 12s\n",
      "371:\tlearn: 1.1050619\ttotal: 42.8s\tremaining: 1m 12s\n",
      "372:\tlearn: 1.1047539\ttotal: 42.8s\tremaining: 1m 11s\n",
      "373:\tlearn: 1.1045503\ttotal: 42.9s\tremaining: 1m 11s\n",
      "374:\tlearn: 1.1039191\ttotal: 43s\tremaining: 1m 11s\n",
      "375:\tlearn: 1.1036384\ttotal: 43.1s\tremaining: 1m 11s\n",
      "376:\tlearn: 1.1034273\ttotal: 43.2s\tremaining: 1m 11s\n",
      "377:\tlearn: 1.1032347\ttotal: 43.3s\tremaining: 1m 11s\n",
      "378:\tlearn: 1.1029449\ttotal: 43.4s\tremaining: 1m 11s\n",
      "379:\tlearn: 1.1025887\ttotal: 43.5s\tremaining: 1m 10s\n",
      "380:\tlearn: 1.1022390\ttotal: 43.6s\tremaining: 1m 10s\n",
      "381:\tlearn: 1.1020567\ttotal: 43.7s\tremaining: 1m 10s\n",
      "382:\tlearn: 1.1018270\ttotal: 43.8s\tremaining: 1m 10s\n",
      "383:\tlearn: 1.1016784\ttotal: 43.9s\tremaining: 1m 10s\n",
      "384:\tlearn: 1.1014818\ttotal: 44s\tremaining: 1m 10s\n",
      "385:\tlearn: 1.1012815\ttotal: 44.1s\tremaining: 1m 10s\n",
      "386:\tlearn: 1.1011844\ttotal: 44.2s\tremaining: 1m 10s\n",
      "387:\tlearn: 1.1008323\ttotal: 44.3s\tremaining: 1m 9s\n",
      "388:\tlearn: 1.1008043\ttotal: 44.4s\tremaining: 1m 9s\n",
      "389:\tlearn: 1.1006892\ttotal: 44.5s\tremaining: 1m 9s\n",
      "390:\tlearn: 1.1004545\ttotal: 44.6s\tremaining: 1m 9s\n",
      "391:\tlearn: 1.1003848\ttotal: 44.6s\tremaining: 1m 9s\n",
      "392:\tlearn: 1.1000051\ttotal: 44.7s\tremaining: 1m 9s\n",
      "393:\tlearn: 1.0998582\ttotal: 44.8s\tremaining: 1m 8s\n",
      "394:\tlearn: 1.0994438\ttotal: 44.8s\tremaining: 1m 8s\n",
      "395:\tlearn: 1.0992330\ttotal: 44.9s\tremaining: 1m 8s\n",
      "396:\tlearn: 1.0988954\ttotal: 45s\tremaining: 1m 8s\n",
      "397:\tlearn: 1.0986378\ttotal: 45.1s\tremaining: 1m 8s\n",
      "398:\tlearn: 1.0983919\ttotal: 45.2s\tremaining: 1m 8s\n",
      "399:\tlearn: 1.0980714\ttotal: 45.2s\tremaining: 1m 7s\n",
      "400:\tlearn: 1.0977697\ttotal: 45.3s\tremaining: 1m 7s\n",
      "401:\tlearn: 1.0974410\ttotal: 45.4s\tremaining: 1m 7s\n",
      "402:\tlearn: 1.0972222\ttotal: 45.5s\tremaining: 1m 7s\n",
      "403:\tlearn: 1.0969981\ttotal: 45.6s\tremaining: 1m 7s\n",
      "404:\tlearn: 1.0966356\ttotal: 45.7s\tremaining: 1m 7s\n",
      "405:\tlearn: 1.0962641\ttotal: 45.8s\tremaining: 1m 6s\n",
      "406:\tlearn: 1.0959268\ttotal: 45.8s\tremaining: 1m 6s\n",
      "407:\tlearn: 1.0955085\ttotal: 45.9s\tremaining: 1m 6s\n",
      "408:\tlearn: 1.0952903\ttotal: 46s\tremaining: 1m 6s\n",
      "409:\tlearn: 1.0949162\ttotal: 46.1s\tremaining: 1m 6s\n",
      "410:\tlearn: 1.0946306\ttotal: 46.2s\tremaining: 1m 6s\n",
      "411:\tlearn: 1.0944127\ttotal: 46.3s\tremaining: 1m 6s\n",
      "412:\tlearn: 1.0941609\ttotal: 46.4s\tremaining: 1m 5s\n",
      "413:\tlearn: 1.0938104\ttotal: 46.5s\tremaining: 1m 5s\n",
      "414:\tlearn: 1.0935085\ttotal: 46.6s\tremaining: 1m 5s\n",
      "415:\tlearn: 1.0928774\ttotal: 46.7s\tremaining: 1m 5s\n",
      "416:\tlearn: 1.0925338\ttotal: 46.8s\tremaining: 1m 5s\n",
      "417:\tlearn: 1.0922398\ttotal: 46.8s\tremaining: 1m 5s\n",
      "418:\tlearn: 1.0920560\ttotal: 46.9s\tremaining: 1m 5s\n",
      "419:\tlearn: 1.0917459\ttotal: 47.1s\tremaining: 1m 4s\n",
      "420:\tlearn: 1.0913824\ttotal: 47.2s\tremaining: 1m 4s\n",
      "421:\tlearn: 1.0911529\ttotal: 47.2s\tremaining: 1m 4s\n",
      "422:\tlearn: 1.0910433\ttotal: 47.4s\tremaining: 1m 4s\n",
      "423:\tlearn: 1.0907949\ttotal: 47.5s\tremaining: 1m 4s\n",
      "424:\tlearn: 1.0902735\ttotal: 47.6s\tremaining: 1m 4s\n",
      "425:\tlearn: 1.0900306\ttotal: 47.7s\tremaining: 1m 4s\n",
      "426:\tlearn: 1.0898204\ttotal: 47.8s\tremaining: 1m 4s\n",
      "427:\tlearn: 1.0896685\ttotal: 47.9s\tremaining: 1m 4s\n",
      "428:\tlearn: 1.0892954\ttotal: 48.1s\tremaining: 1m 4s\n",
      "429:\tlearn: 1.0891647\ttotal: 48.2s\tremaining: 1m 3s\n",
      "430:\tlearn: 1.0886712\ttotal: 48.3s\tremaining: 1m 3s\n",
      "431:\tlearn: 1.0884893\ttotal: 48.3s\tremaining: 1m 3s\n",
      "432:\tlearn: 1.0881630\ttotal: 48.4s\tremaining: 1m 3s\n",
      "433:\tlearn: 1.0881042\ttotal: 48.5s\tremaining: 1m 3s\n",
      "434:\tlearn: 1.0878374\ttotal: 48.6s\tremaining: 1m 3s\n",
      "435:\tlearn: 1.0875781\ttotal: 48.7s\tremaining: 1m 2s\n",
      "436:\tlearn: 1.0874158\ttotal: 48.8s\tremaining: 1m 2s\n",
      "437:\tlearn: 1.0869456\ttotal: 48.9s\tremaining: 1m 2s\n",
      "438:\tlearn: 1.0868781\ttotal: 49s\tremaining: 1m 2s\n",
      "439:\tlearn: 1.0867384\ttotal: 49s\tremaining: 1m 2s\n",
      "440:\tlearn: 1.0865350\ttotal: 49.3s\tremaining: 1m 2s\n",
      "441:\tlearn: 1.0862951\ttotal: 49.3s\tremaining: 1m 2s\n",
      "442:\tlearn: 1.0859821\ttotal: 49.5s\tremaining: 1m 2s\n",
      "443:\tlearn: 1.0856942\ttotal: 49.5s\tremaining: 1m 2s\n",
      "444:\tlearn: 1.0854629\ttotal: 49.6s\tremaining: 1m 1s\n",
      "445:\tlearn: 1.0851356\ttotal: 49.7s\tremaining: 1m 1s\n",
      "446:\tlearn: 1.0849165\ttotal: 49.8s\tremaining: 1m 1s\n",
      "447:\tlearn: 1.0848189\ttotal: 49.8s\tremaining: 1m 1s\n",
      "448:\tlearn: 1.0845726\ttotal: 49.9s\tremaining: 1m 1s\n",
      "449:\tlearn: 1.0842424\ttotal: 50s\tremaining: 1m 1s\n",
      "450:\tlearn: 1.0841474\ttotal: 50.2s\tremaining: 1m 1s\n",
      "451:\tlearn: 1.0838964\ttotal: 50.2s\tremaining: 1m\n",
      "452:\tlearn: 1.0836096\ttotal: 50.3s\tremaining: 1m\n",
      "453:\tlearn: 1.0833318\ttotal: 50.4s\tremaining: 1m\n",
      "454:\tlearn: 1.0830067\ttotal: 50.5s\tremaining: 1m\n",
      "455:\tlearn: 1.0825066\ttotal: 50.5s\tremaining: 1m\n",
      "456:\tlearn: 1.0822025\ttotal: 50.6s\tremaining: 1m\n",
      "457:\tlearn: 1.0820528\ttotal: 50.7s\tremaining: 60s\n",
      "458:\tlearn: 1.0818339\ttotal: 50.8s\tremaining: 59.8s\n",
      "459:\tlearn: 1.0815310\ttotal: 50.8s\tremaining: 59.7s\n",
      "460:\tlearn: 1.0813654\ttotal: 50.9s\tremaining: 59.6s\n",
      "461:\tlearn: 1.0809560\ttotal: 51.1s\tremaining: 59.5s\n",
      "462:\tlearn: 1.0805713\ttotal: 51.3s\tremaining: 59.5s\n",
      "463:\tlearn: 1.0804042\ttotal: 51.4s\tremaining: 59.3s\n",
      "464:\tlearn: 1.0801067\ttotal: 51.4s\tremaining: 59.2s\n",
      "465:\tlearn: 1.0798214\ttotal: 51.6s\tremaining: 59.1s\n",
      "466:\tlearn: 1.0795582\ttotal: 51.6s\tremaining: 58.9s\n",
      "467:\tlearn: 1.0793457\ttotal: 51.7s\tremaining: 58.8s\n",
      "468:\tlearn: 1.0791755\ttotal: 51.8s\tremaining: 58.6s\n",
      "469:\tlearn: 1.0790604\ttotal: 51.9s\tremaining: 58.5s\n",
      "470:\tlearn: 1.0788949\ttotal: 52s\tremaining: 58.4s\n",
      "471:\tlearn: 1.0786744\ttotal: 52.2s\tremaining: 58.4s\n",
      "472:\tlearn: 1.0784897\ttotal: 52.3s\tremaining: 58.3s\n",
      "473:\tlearn: 1.0781886\ttotal: 52.4s\tremaining: 58.1s\n",
      "474:\tlearn: 1.0780273\ttotal: 52.4s\tremaining: 58s\n",
      "475:\tlearn: 1.0774261\ttotal: 52.5s\tremaining: 57.8s\n",
      "476:\tlearn: 1.0771003\ttotal: 52.6s\tremaining: 57.7s\n",
      "477:\tlearn: 1.0768406\ttotal: 52.7s\tremaining: 57.5s\n",
      "478:\tlearn: 1.0764946\ttotal: 52.7s\tremaining: 57.4s\n",
      "479:\tlearn: 1.0761985\ttotal: 52.8s\tremaining: 57.2s\n",
      "480:\tlearn: 1.0758430\ttotal: 52.9s\tremaining: 57.1s\n",
      "481:\tlearn: 1.0757458\ttotal: 53s\tremaining: 57s\n",
      "482:\tlearn: 1.0754074\ttotal: 53.1s\tremaining: 56.9s\n",
      "483:\tlearn: 1.0751251\ttotal: 53.2s\tremaining: 56.8s\n",
      "484:\tlearn: 1.0749249\ttotal: 53.3s\tremaining: 56.6s\n",
      "485:\tlearn: 1.0747429\ttotal: 53.4s\tremaining: 56.5s\n",
      "486:\tlearn: 1.0745244\ttotal: 53.5s\tremaining: 56.4s\n",
      "487:\tlearn: 1.0742057\ttotal: 53.6s\tremaining: 56.3s\n",
      "488:\tlearn: 1.0738069\ttotal: 53.7s\tremaining: 56.1s\n",
      "489:\tlearn: 1.0735728\ttotal: 53.8s\tremaining: 56s\n",
      "490:\tlearn: 1.0734519\ttotal: 53.9s\tremaining: 55.9s\n",
      "491:\tlearn: 1.0732478\ttotal: 54s\tremaining: 55.8s\n",
      "492:\tlearn: 1.0727397\ttotal: 54.1s\tremaining: 55.7s\n",
      "493:\tlearn: 1.0725149\ttotal: 54.2s\tremaining: 55.5s\n",
      "494:\tlearn: 1.0723887\ttotal: 54.3s\tremaining: 55.4s\n",
      "495:\tlearn: 1.0719789\ttotal: 54.4s\tremaining: 55.2s\n",
      "496:\tlearn: 1.0718387\ttotal: 54.5s\tremaining: 55.1s\n",
      "497:\tlearn: 1.0716035\ttotal: 54.5s\tremaining: 55s\n",
      "498:\tlearn: 1.0715062\ttotal: 54.7s\tremaining: 54.9s\n",
      "499:\tlearn: 1.0713891\ttotal: 54.7s\tremaining: 54.7s\n",
      "500:\tlearn: 1.0710582\ttotal: 54.9s\tremaining: 54.6s\n",
      "501:\tlearn: 1.0707816\ttotal: 54.9s\tremaining: 54.5s\n",
      "502:\tlearn: 1.0705983\ttotal: 55s\tremaining: 54.3s\n",
      "503:\tlearn: 1.0702385\ttotal: 55.1s\tremaining: 54.2s\n",
      "504:\tlearn: 1.0700156\ttotal: 55.2s\tremaining: 54.1s\n",
      "505:\tlearn: 1.0697412\ttotal: 55.3s\tremaining: 54s\n",
      "506:\tlearn: 1.0696242\ttotal: 55.4s\tremaining: 53.9s\n",
      "507:\tlearn: 1.0694039\ttotal: 55.5s\tremaining: 53.7s\n",
      "508:\tlearn: 1.0692843\ttotal: 55.6s\tremaining: 53.6s\n",
      "509:\tlearn: 1.0691515\ttotal: 55.7s\tremaining: 53.5s\n",
      "510:\tlearn: 1.0689704\ttotal: 55.8s\tremaining: 53.4s\n",
      "511:\tlearn: 1.0687583\ttotal: 55.9s\tremaining: 53.3s\n",
      "512:\tlearn: 1.0686690\ttotal: 56s\tremaining: 53.1s\n",
      "513:\tlearn: 1.0684751\ttotal: 56.1s\tremaining: 53s\n",
      "514:\tlearn: 1.0683297\ttotal: 56.2s\tremaining: 52.9s\n",
      "515:\tlearn: 1.0680728\ttotal: 56.3s\tremaining: 52.8s\n",
      "516:\tlearn: 1.0679546\ttotal: 56.3s\tremaining: 52.6s\n",
      "517:\tlearn: 1.0678541\ttotal: 56.4s\tremaining: 52.5s\n",
      "518:\tlearn: 1.0675871\ttotal: 56.6s\tremaining: 52.4s\n",
      "519:\tlearn: 1.0672552\ttotal: 56.7s\tremaining: 52.3s\n",
      "520:\tlearn: 1.0668855\ttotal: 56.7s\tremaining: 52.2s\n",
      "521:\tlearn: 1.0667965\ttotal: 56.9s\tremaining: 52.1s\n",
      "522:\tlearn: 1.0663131\ttotal: 57s\tremaining: 52s\n",
      "523:\tlearn: 1.0660362\ttotal: 57s\tremaining: 51.8s\n",
      "524:\tlearn: 1.0658699\ttotal: 57.1s\tremaining: 51.7s\n",
      "525:\tlearn: 1.0657542\ttotal: 57.2s\tremaining: 51.6s\n",
      "526:\tlearn: 1.0655861\ttotal: 57.3s\tremaining: 51.5s\n",
      "527:\tlearn: 1.0652969\ttotal: 57.4s\tremaining: 51.3s\n",
      "528:\tlearn: 1.0649174\ttotal: 57.5s\tremaining: 51.2s\n",
      "529:\tlearn: 1.0647528\ttotal: 57.6s\tremaining: 51.1s\n",
      "530:\tlearn: 1.0644859\ttotal: 57.7s\tremaining: 50.9s\n",
      "531:\tlearn: 1.0643156\ttotal: 57.8s\tremaining: 50.8s\n",
      "532:\tlearn: 1.0641138\ttotal: 57.9s\tremaining: 50.7s\n",
      "533:\tlearn: 1.0640242\ttotal: 58s\tremaining: 50.6s\n",
      "534:\tlearn: 1.0635824\ttotal: 58.1s\tremaining: 50.5s\n",
      "535:\tlearn: 1.0634164\ttotal: 58.1s\tremaining: 50.3s\n",
      "536:\tlearn: 1.0631387\ttotal: 58.2s\tremaining: 50.2s\n",
      "537:\tlearn: 1.0629716\ttotal: 58.3s\tremaining: 50.1s\n",
      "538:\tlearn: 1.0628947\ttotal: 58.4s\tremaining: 50s\n",
      "539:\tlearn: 1.0625569\ttotal: 58.5s\tremaining: 49.9s\n",
      "540:\tlearn: 1.0622451\ttotal: 58.6s\tremaining: 49.7s\n",
      "541:\tlearn: 1.0620114\ttotal: 58.7s\tremaining: 49.6s\n",
      "542:\tlearn: 1.0617553\ttotal: 58.8s\tremaining: 49.4s\n",
      "543:\tlearn: 1.0616094\ttotal: 58.8s\tremaining: 49.3s\n",
      "544:\tlearn: 1.0614779\ttotal: 59s\tremaining: 49.2s\n",
      "545:\tlearn: 1.0612795\ttotal: 59s\tremaining: 49.1s\n",
      "546:\tlearn: 1.0610074\ttotal: 59.1s\tremaining: 49s\n",
      "547:\tlearn: 1.0607801\ttotal: 59.2s\tremaining: 48.8s\n",
      "548:\tlearn: 1.0604968\ttotal: 59.2s\tremaining: 48.6s\n",
      "549:\tlearn: 1.0603661\ttotal: 59.3s\tremaining: 48.5s\n",
      "550:\tlearn: 1.0602437\ttotal: 59.5s\tremaining: 48.4s\n",
      "551:\tlearn: 1.0600947\ttotal: 59.5s\tremaining: 48.3s\n",
      "552:\tlearn: 1.0596823\ttotal: 59.6s\tremaining: 48.2s\n",
      "553:\tlearn: 1.0595372\ttotal: 59.7s\tremaining: 48.1s\n",
      "554:\tlearn: 1.0593228\ttotal: 59.8s\tremaining: 47.9s\n",
      "555:\tlearn: 1.0590182\ttotal: 59.9s\tremaining: 47.8s\n",
      "556:\tlearn: 1.0586034\ttotal: 60s\tremaining: 47.7s\n",
      "557:\tlearn: 1.0584872\ttotal: 1m\tremaining: 47.6s\n",
      "558:\tlearn: 1.0582650\ttotal: 1m\tremaining: 47.5s\n",
      "559:\tlearn: 1.0578382\ttotal: 1m\tremaining: 47.3s\n",
      "560:\tlearn: 1.0575825\ttotal: 1m\tremaining: 47.2s\n",
      "561:\tlearn: 1.0574566\ttotal: 1m\tremaining: 47.1s\n",
      "562:\tlearn: 1.0572526\ttotal: 1m\tremaining: 47s\n",
      "563:\tlearn: 1.0571340\ttotal: 1m\tremaining: 46.9s\n",
      "564:\tlearn: 1.0570584\ttotal: 1m\tremaining: 46.8s\n",
      "565:\tlearn: 1.0569081\ttotal: 1m\tremaining: 46.6s\n",
      "566:\tlearn: 1.0565420\ttotal: 1m\tremaining: 46.5s\n",
      "567:\tlearn: 1.0563367\ttotal: 1m 1s\tremaining: 46.4s\n",
      "568:\tlearn: 1.0561149\ttotal: 1m 1s\tremaining: 46.3s\n",
      "569:\tlearn: 1.0558873\ttotal: 1m 1s\tremaining: 46.2s\n",
      "570:\tlearn: 1.0557294\ttotal: 1m 1s\tremaining: 46s\n",
      "571:\tlearn: 1.0552632\ttotal: 1m 1s\tremaining: 45.9s\n",
      "572:\tlearn: 1.0551265\ttotal: 1m 1s\tremaining: 45.7s\n",
      "573:\tlearn: 1.0550049\ttotal: 1m 1s\tremaining: 45.6s\n",
      "574:\tlearn: 1.0548361\ttotal: 1m 1s\tremaining: 45.5s\n",
      "575:\tlearn: 1.0545091\ttotal: 1m 1s\tremaining: 45.4s\n",
      "576:\tlearn: 1.0541786\ttotal: 1m 1s\tremaining: 45.3s\n",
      "577:\tlearn: 1.0540373\ttotal: 1m 1s\tremaining: 45.2s\n",
      "578:\tlearn: 1.0536749\ttotal: 1m 1s\tremaining: 45s\n",
      "579:\tlearn: 1.0532438\ttotal: 1m 2s\tremaining: 44.9s\n",
      "580:\tlearn: 1.0529919\ttotal: 1m 2s\tremaining: 44.8s\n",
      "581:\tlearn: 1.0528520\ttotal: 1m 2s\tremaining: 44.7s\n",
      "582:\tlearn: 1.0525625\ttotal: 1m 2s\tremaining: 44.6s\n",
      "583:\tlearn: 1.0523593\ttotal: 1m 2s\tremaining: 44.5s\n",
      "584:\tlearn: 1.0520421\ttotal: 1m 2s\tremaining: 44.4s\n",
      "585:\tlearn: 1.0519293\ttotal: 1m 2s\tremaining: 44.3s\n",
      "586:\tlearn: 1.0518082\ttotal: 1m 2s\tremaining: 44.2s\n",
      "587:\tlearn: 1.0517411\ttotal: 1m 2s\tremaining: 44.1s\n",
      "588:\tlearn: 1.0515246\ttotal: 1m 3s\tremaining: 44s\n",
      "589:\tlearn: 1.0513575\ttotal: 1m 3s\tremaining: 43.9s\n",
      "590:\tlearn: 1.0511705\ttotal: 1m 3s\tremaining: 43.7s\n",
      "591:\tlearn: 1.0510170\ttotal: 1m 3s\tremaining: 43.6s\n",
      "592:\tlearn: 1.0506887\ttotal: 1m 3s\tremaining: 43.5s\n",
      "593:\tlearn: 1.0505759\ttotal: 1m 3s\tremaining: 43.4s\n",
      "594:\tlearn: 1.0503153\ttotal: 1m 3s\tremaining: 43.3s\n",
      "595:\tlearn: 1.0501264\ttotal: 1m 3s\tremaining: 43.2s\n",
      "596:\tlearn: 1.0498699\ttotal: 1m 3s\tremaining: 43.1s\n",
      "597:\tlearn: 1.0496092\ttotal: 1m 3s\tremaining: 43s\n",
      "598:\tlearn: 1.0494241\ttotal: 1m 4s\tremaining: 42.9s\n",
      "599:\tlearn: 1.0490434\ttotal: 1m 4s\tremaining: 42.8s\n",
      "600:\tlearn: 1.0489667\ttotal: 1m 4s\tremaining: 42.6s\n",
      "601:\tlearn: 1.0487232\ttotal: 1m 4s\tremaining: 42.5s\n",
      "602:\tlearn: 1.0486039\ttotal: 1m 4s\tremaining: 42.4s\n",
      "603:\tlearn: 1.0483986\ttotal: 1m 4s\tremaining: 42.2s\n",
      "604:\tlearn: 1.0481389\ttotal: 1m 4s\tremaining: 42.1s\n",
      "605:\tlearn: 1.0479628\ttotal: 1m 4s\tremaining: 42s\n",
      "606:\tlearn: 1.0478068\ttotal: 1m 4s\tremaining: 41.9s\n",
      "607:\tlearn: 1.0476890\ttotal: 1m 4s\tremaining: 41.8s\n",
      "608:\tlearn: 1.0476050\ttotal: 1m 4s\tremaining: 41.7s\n",
      "609:\tlearn: 1.0474659\ttotal: 1m 5s\tremaining: 41.6s\n",
      "610:\tlearn: 1.0473007\ttotal: 1m 5s\tremaining: 41.5s\n",
      "611:\tlearn: 1.0471348\ttotal: 1m 5s\tremaining: 41.4s\n",
      "612:\tlearn: 1.0468853\ttotal: 1m 5s\tremaining: 41.2s\n",
      "613:\tlearn: 1.0468120\ttotal: 1m 5s\tremaining: 41.1s\n",
      "614:\tlearn: 1.0465746\ttotal: 1m 5s\tremaining: 41s\n",
      "615:\tlearn: 1.0462777\ttotal: 1m 5s\tremaining: 40.9s\n",
      "616:\tlearn: 1.0460582\ttotal: 1m 5s\tremaining: 40.8s\n",
      "617:\tlearn: 1.0460141\ttotal: 1m 5s\tremaining: 40.7s\n",
      "618:\tlearn: 1.0458651\ttotal: 1m 5s\tremaining: 40.6s\n",
      "619:\tlearn: 1.0455958\ttotal: 1m 6s\tremaining: 40.5s\n",
      "620:\tlearn: 1.0454235\ttotal: 1m 6s\tremaining: 40.4s\n",
      "621:\tlearn: 1.0451455\ttotal: 1m 6s\tremaining: 40.3s\n",
      "622:\tlearn: 1.0448756\ttotal: 1m 6s\tremaining: 40.2s\n",
      "623:\tlearn: 1.0446869\ttotal: 1m 6s\tremaining: 40.1s\n",
      "624:\tlearn: 1.0445518\ttotal: 1m 6s\tremaining: 40s\n",
      "625:\tlearn: 1.0443828\ttotal: 1m 6s\tremaining: 39.9s\n",
      "626:\tlearn: 1.0441141\ttotal: 1m 6s\tremaining: 39.8s\n",
      "627:\tlearn: 1.0438814\ttotal: 1m 7s\tremaining: 39.7s\n",
      "628:\tlearn: 1.0435824\ttotal: 1m 7s\tremaining: 39.6s\n",
      "629:\tlearn: 1.0432634\ttotal: 1m 7s\tremaining: 39.5s\n",
      "630:\tlearn: 1.0431684\ttotal: 1m 7s\tremaining: 39.4s\n",
      "631:\tlearn: 1.0429144\ttotal: 1m 7s\tremaining: 39.3s\n",
      "632:\tlearn: 1.0425248\ttotal: 1m 7s\tremaining: 39.1s\n",
      "633:\tlearn: 1.0422839\ttotal: 1m 7s\tremaining: 39s\n",
      "634:\tlearn: 1.0420914\ttotal: 1m 7s\tremaining: 38.9s\n",
      "635:\tlearn: 1.0419179\ttotal: 1m 7s\tremaining: 38.7s\n",
      "636:\tlearn: 1.0417678\ttotal: 1m 7s\tremaining: 38.6s\n",
      "637:\tlearn: 1.0415142\ttotal: 1m 7s\tremaining: 38.5s\n",
      "638:\tlearn: 1.0413054\ttotal: 1m 7s\tremaining: 38.4s\n",
      "639:\tlearn: 1.0410495\ttotal: 1m 8s\tremaining: 38.3s\n",
      "640:\tlearn: 1.0407743\ttotal: 1m 8s\tremaining: 38.2s\n",
      "641:\tlearn: 1.0405249\ttotal: 1m 8s\tremaining: 38.1s\n",
      "642:\tlearn: 1.0404049\ttotal: 1m 8s\tremaining: 38s\n",
      "643:\tlearn: 1.0401221\ttotal: 1m 8s\tremaining: 37.8s\n",
      "644:\tlearn: 1.0400120\ttotal: 1m 8s\tremaining: 37.7s\n",
      "645:\tlearn: 1.0398195\ttotal: 1m 8s\tremaining: 37.6s\n",
      "646:\tlearn: 1.0395539\ttotal: 1m 8s\tremaining: 37.5s\n",
      "647:\tlearn: 1.0392414\ttotal: 1m 8s\tremaining: 37.3s\n",
      "648:\tlearn: 1.0390443\ttotal: 1m 8s\tremaining: 37.2s\n",
      "649:\tlearn: 1.0387448\ttotal: 1m 8s\tremaining: 37.1s\n",
      "650:\tlearn: 1.0386040\ttotal: 1m 9s\tremaining: 37s\n",
      "651:\tlearn: 1.0385095\ttotal: 1m 9s\tremaining: 36.9s\n",
      "652:\tlearn: 1.0384099\ttotal: 1m 9s\tremaining: 36.8s\n",
      "653:\tlearn: 1.0380623\ttotal: 1m 9s\tremaining: 36.7s\n",
      "654:\tlearn: 1.0377719\ttotal: 1m 9s\tremaining: 36.5s\n",
      "655:\tlearn: 1.0374043\ttotal: 1m 9s\tremaining: 36.4s\n",
      "656:\tlearn: 1.0372190\ttotal: 1m 9s\tremaining: 36.3s\n",
      "657:\tlearn: 1.0369364\ttotal: 1m 9s\tremaining: 36.2s\n",
      "658:\tlearn: 1.0366730\ttotal: 1m 9s\tremaining: 36.1s\n",
      "659:\tlearn: 1.0362732\ttotal: 1m 9s\tremaining: 36s\n",
      "660:\tlearn: 1.0361775\ttotal: 1m 9s\tremaining: 35.8s\n",
      "661:\tlearn: 1.0359898\ttotal: 1m 10s\tremaining: 35.7s\n",
      "662:\tlearn: 1.0358933\ttotal: 1m 10s\tremaining: 35.7s\n",
      "663:\tlearn: 1.0356873\ttotal: 1m 10s\tremaining: 35.6s\n",
      "664:\tlearn: 1.0353839\ttotal: 1m 10s\tremaining: 35.5s\n",
      "665:\tlearn: 1.0352391\ttotal: 1m 10s\tremaining: 35.4s\n",
      "666:\tlearn: 1.0350806\ttotal: 1m 10s\tremaining: 35.3s\n",
      "667:\tlearn: 1.0348508\ttotal: 1m 10s\tremaining: 35.1s\n",
      "668:\tlearn: 1.0347117\ttotal: 1m 10s\tremaining: 35s\n",
      "669:\tlearn: 1.0345685\ttotal: 1m 10s\tremaining: 34.9s\n",
      "670:\tlearn: 1.0343336\ttotal: 1m 10s\tremaining: 34.8s\n",
      "671:\tlearn: 1.0341492\ttotal: 1m 11s\tremaining: 34.7s\n",
      "672:\tlearn: 1.0338318\ttotal: 1m 11s\tremaining: 34.6s\n",
      "673:\tlearn: 1.0337284\ttotal: 1m 11s\tremaining: 34.5s\n",
      "674:\tlearn: 1.0336161\ttotal: 1m 11s\tremaining: 34.4s\n",
      "675:\tlearn: 1.0331983\ttotal: 1m 11s\tremaining: 34.3s\n",
      "676:\tlearn: 1.0330764\ttotal: 1m 11s\tremaining: 34.2s\n",
      "677:\tlearn: 1.0327815\ttotal: 1m 11s\tremaining: 34.1s\n",
      "678:\tlearn: 1.0327115\ttotal: 1m 11s\tremaining: 34s\n",
      "679:\tlearn: 1.0324809\ttotal: 1m 12s\tremaining: 33.9s\n",
      "680:\tlearn: 1.0321721\ttotal: 1m 12s\tremaining: 33.8s\n",
      "681:\tlearn: 1.0319447\ttotal: 1m 12s\tremaining: 33.7s\n",
      "682:\tlearn: 1.0317573\ttotal: 1m 12s\tremaining: 33.6s\n",
      "683:\tlearn: 1.0316415\ttotal: 1m 12s\tremaining: 33.5s\n",
      "684:\tlearn: 1.0314580\ttotal: 1m 12s\tremaining: 33.4s\n",
      "685:\tlearn: 1.0312108\ttotal: 1m 12s\tremaining: 33.3s\n",
      "686:\tlearn: 1.0310077\ttotal: 1m 12s\tremaining: 33.1s\n",
      "687:\tlearn: 1.0307379\ttotal: 1m 12s\tremaining: 33s\n",
      "688:\tlearn: 1.0304105\ttotal: 1m 12s\tremaining: 32.9s\n",
      "689:\tlearn: 1.0303476\ttotal: 1m 13s\tremaining: 32.8s\n",
      "690:\tlearn: 1.0301097\ttotal: 1m 13s\tremaining: 32.7s\n",
      "691:\tlearn: 1.0298629\ttotal: 1m 13s\tremaining: 32.6s\n",
      "692:\tlearn: 1.0296724\ttotal: 1m 13s\tremaining: 32.4s\n",
      "693:\tlearn: 1.0294375\ttotal: 1m 13s\tremaining: 32.3s\n",
      "694:\tlearn: 1.0293465\ttotal: 1m 13s\tremaining: 32.2s\n",
      "695:\tlearn: 1.0291794\ttotal: 1m 13s\tremaining: 32.1s\n",
      "696:\tlearn: 1.0289424\ttotal: 1m 13s\tremaining: 32s\n",
      "697:\tlearn: 1.0288324\ttotal: 1m 13s\tremaining: 31.9s\n",
      "698:\tlearn: 1.0287224\ttotal: 1m 13s\tremaining: 31.8s\n",
      "699:\tlearn: 1.0284684\ttotal: 1m 13s\tremaining: 31.7s\n",
      "700:\tlearn: 1.0281044\ttotal: 1m 14s\tremaining: 31.6s\n",
      "701:\tlearn: 1.0278276\ttotal: 1m 14s\tremaining: 31.5s\n",
      "702:\tlearn: 1.0276534\ttotal: 1m 14s\tremaining: 31.4s\n",
      "703:\tlearn: 1.0275571\ttotal: 1m 14s\tremaining: 31.3s\n",
      "704:\tlearn: 1.0273231\ttotal: 1m 14s\tremaining: 31.2s\n",
      "705:\tlearn: 1.0271119\ttotal: 1m 14s\tremaining: 31.1s\n",
      "706:\tlearn: 1.0269370\ttotal: 1m 14s\tremaining: 30.9s\n",
      "707:\tlearn: 1.0268456\ttotal: 1m 14s\tremaining: 30.8s\n",
      "708:\tlearn: 1.0264513\ttotal: 1m 14s\tremaining: 30.7s\n",
      "709:\tlearn: 1.0262210\ttotal: 1m 14s\tremaining: 30.6s\n",
      "710:\tlearn: 1.0259623\ttotal: 1m 14s\tremaining: 30.5s\n",
      "711:\tlearn: 1.0258510\ttotal: 1m 15s\tremaining: 30.4s\n",
      "712:\tlearn: 1.0255074\ttotal: 1m 15s\tremaining: 30.2s\n",
      "713:\tlearn: 1.0251759\ttotal: 1m 15s\tremaining: 30.1s\n",
      "714:\tlearn: 1.0250524\ttotal: 1m 15s\tremaining: 30s\n",
      "715:\tlearn: 1.0248793\ttotal: 1m 15s\tremaining: 29.9s\n",
      "716:\tlearn: 1.0245686\ttotal: 1m 15s\tremaining: 29.8s\n",
      "717:\tlearn: 1.0243546\ttotal: 1m 15s\tremaining: 29.7s\n",
      "718:\tlearn: 1.0239594\ttotal: 1m 15s\tremaining: 29.6s\n",
      "719:\tlearn: 1.0237243\ttotal: 1m 15s\tremaining: 29.5s\n",
      "720:\tlearn: 1.0235058\ttotal: 1m 15s\tremaining: 29.3s\n",
      "721:\tlearn: 1.0233661\ttotal: 1m 15s\tremaining: 29.2s\n",
      "722:\tlearn: 1.0231176\ttotal: 1m 15s\tremaining: 29.1s\n",
      "723:\tlearn: 1.0228460\ttotal: 1m 16s\tremaining: 29s\n",
      "724:\tlearn: 1.0227306\ttotal: 1m 16s\tremaining: 28.9s\n",
      "725:\tlearn: 1.0225357\ttotal: 1m 16s\tremaining: 28.8s\n",
      "726:\tlearn: 1.0223585\ttotal: 1m 16s\tremaining: 28.7s\n",
      "727:\tlearn: 1.0222892\ttotal: 1m 16s\tremaining: 28.6s\n",
      "728:\tlearn: 1.0221216\ttotal: 1m 16s\tremaining: 28.5s\n",
      "729:\tlearn: 1.0219959\ttotal: 1m 16s\tremaining: 28.4s\n",
      "730:\tlearn: 1.0218277\ttotal: 1m 16s\tremaining: 28.3s\n",
      "731:\tlearn: 1.0216483\ttotal: 1m 16s\tremaining: 28.2s\n",
      "732:\tlearn: 1.0214430\ttotal: 1m 17s\tremaining: 28.1s\n",
      "733:\tlearn: 1.0211622\ttotal: 1m 17s\tremaining: 27.9s\n",
      "734:\tlearn: 1.0208615\ttotal: 1m 17s\tremaining: 27.8s\n",
      "735:\tlearn: 1.0207912\ttotal: 1m 17s\tremaining: 27.7s\n",
      "736:\tlearn: 1.0204942\ttotal: 1m 17s\tremaining: 27.6s\n",
      "737:\tlearn: 1.0204078\ttotal: 1m 17s\tremaining: 27.5s\n",
      "738:\tlearn: 1.0203375\ttotal: 1m 17s\tremaining: 27.4s\n",
      "739:\tlearn: 1.0201677\ttotal: 1m 17s\tremaining: 27.3s\n",
      "740:\tlearn: 1.0199903\ttotal: 1m 17s\tremaining: 27.2s\n",
      "741:\tlearn: 1.0197697\ttotal: 1m 17s\tremaining: 27.1s\n",
      "742:\tlearn: 1.0195517\ttotal: 1m 17s\tremaining: 27s\n",
      "743:\tlearn: 1.0191575\ttotal: 1m 18s\tremaining: 26.9s\n",
      "744:\tlearn: 1.0188878\ttotal: 1m 18s\tremaining: 26.7s\n",
      "745:\tlearn: 1.0188432\ttotal: 1m 18s\tremaining: 26.6s\n",
      "746:\tlearn: 1.0185961\ttotal: 1m 18s\tremaining: 26.5s\n",
      "747:\tlearn: 1.0183299\ttotal: 1m 18s\tremaining: 26.4s\n",
      "748:\tlearn: 1.0181282\ttotal: 1m 18s\tremaining: 26.3s\n",
      "749:\tlearn: 1.0179744\ttotal: 1m 18s\tremaining: 26.2s\n",
      "750:\tlearn: 1.0178399\ttotal: 1m 18s\tremaining: 26.1s\n",
      "751:\tlearn: 1.0177220\ttotal: 1m 18s\tremaining: 26s\n",
      "752:\tlearn: 1.0174909\ttotal: 1m 18s\tremaining: 25.8s\n",
      "753:\tlearn: 1.0172974\ttotal: 1m 18s\tremaining: 25.7s\n",
      "754:\tlearn: 1.0171017\ttotal: 1m 19s\tremaining: 25.6s\n",
      "755:\tlearn: 1.0168824\ttotal: 1m 19s\tremaining: 25.5s\n",
      "756:\tlearn: 1.0166299\ttotal: 1m 19s\tremaining: 25.4s\n",
      "757:\tlearn: 1.0165384\ttotal: 1m 19s\tremaining: 25.3s\n",
      "758:\tlearn: 1.0164227\ttotal: 1m 19s\tremaining: 25.2s\n",
      "759:\tlearn: 1.0161198\ttotal: 1m 19s\tremaining: 25.1s\n",
      "760:\tlearn: 1.0159376\ttotal: 1m 19s\tremaining: 25s\n",
      "761:\tlearn: 1.0157939\ttotal: 1m 19s\tremaining: 24.9s\n",
      "762:\tlearn: 1.0157132\ttotal: 1m 19s\tremaining: 24.7s\n",
      "763:\tlearn: 1.0156624\ttotal: 1m 19s\tremaining: 24.6s\n",
      "764:\tlearn: 1.0154555\ttotal: 1m 19s\tremaining: 24.5s\n",
      "765:\tlearn: 1.0153287\ttotal: 1m 19s\tremaining: 24.4s\n",
      "766:\tlearn: 1.0152550\ttotal: 1m 19s\tremaining: 24.3s\n",
      "767:\tlearn: 1.0150604\ttotal: 1m 20s\tremaining: 24.2s\n",
      "768:\tlearn: 1.0149156\ttotal: 1m 20s\tremaining: 24.1s\n",
      "769:\tlearn: 1.0148195\ttotal: 1m 20s\tremaining: 24s\n",
      "770:\tlearn: 1.0147456\ttotal: 1m 20s\tremaining: 23.9s\n",
      "771:\tlearn: 1.0146393\ttotal: 1m 20s\tremaining: 23.8s\n",
      "772:\tlearn: 1.0145172\ttotal: 1m 20s\tremaining: 23.7s\n",
      "773:\tlearn: 1.0144049\ttotal: 1m 20s\tremaining: 23.5s\n",
      "774:\tlearn: 1.0142535\ttotal: 1m 20s\tremaining: 23.4s\n",
      "775:\tlearn: 1.0141062\ttotal: 1m 20s\tremaining: 23.3s\n",
      "776:\tlearn: 1.0139397\ttotal: 1m 20s\tremaining: 23.2s\n",
      "777:\tlearn: 1.0138230\ttotal: 1m 20s\tremaining: 23.1s\n",
      "778:\tlearn: 1.0136783\ttotal: 1m 21s\tremaining: 23s\n",
      "779:\tlearn: 1.0134146\ttotal: 1m 21s\tremaining: 22.9s\n",
      "780:\tlearn: 1.0133048\ttotal: 1m 21s\tremaining: 22.8s\n",
      "781:\tlearn: 1.0130761\ttotal: 1m 21s\tremaining: 22.7s\n",
      "782:\tlearn: 1.0127925\ttotal: 1m 21s\tremaining: 22.6s\n",
      "783:\tlearn: 1.0126600\ttotal: 1m 21s\tremaining: 22.5s\n",
      "784:\tlearn: 1.0124944\ttotal: 1m 21s\tremaining: 22.4s\n",
      "785:\tlearn: 1.0123193\ttotal: 1m 21s\tremaining: 22.3s\n",
      "786:\tlearn: 1.0121364\ttotal: 1m 21s\tremaining: 22.1s\n",
      "787:\tlearn: 1.0119927\ttotal: 1m 21s\tremaining: 22s\n",
      "788:\tlearn: 1.0119416\ttotal: 1m 22s\tremaining: 21.9s\n",
      "789:\tlearn: 1.0118475\ttotal: 1m 22s\tremaining: 21.8s\n",
      "790:\tlearn: 1.0116775\ttotal: 1m 22s\tremaining: 21.7s\n",
      "791:\tlearn: 1.0116091\ttotal: 1m 22s\tremaining: 21.6s\n",
      "792:\tlearn: 1.0114817\ttotal: 1m 22s\tremaining: 21.5s\n",
      "793:\tlearn: 1.0113925\ttotal: 1m 22s\tremaining: 21.4s\n",
      "794:\tlearn: 1.0113413\ttotal: 1m 22s\tremaining: 21.3s\n",
      "795:\tlearn: 1.0111211\ttotal: 1m 22s\tremaining: 21.2s\n",
      "796:\tlearn: 1.0110306\ttotal: 1m 22s\tremaining: 21.1s\n",
      "797:\tlearn: 1.0108626\ttotal: 1m 22s\tremaining: 21s\n",
      "798:\tlearn: 1.0106555\ttotal: 1m 22s\tremaining: 20.8s\n",
      "799:\tlearn: 1.0105475\ttotal: 1m 22s\tremaining: 20.7s\n",
      "800:\tlearn: 1.0103752\ttotal: 1m 23s\tremaining: 20.6s\n",
      "801:\tlearn: 1.0101297\ttotal: 1m 23s\tremaining: 20.5s\n",
      "802:\tlearn: 1.0099339\ttotal: 1m 23s\tremaining: 20.4s\n",
      "803:\tlearn: 1.0098880\ttotal: 1m 23s\tremaining: 20.3s\n",
      "804:\tlearn: 1.0096450\ttotal: 1m 23s\tremaining: 20.2s\n",
      "805:\tlearn: 1.0093558\ttotal: 1m 23s\tremaining: 20.1s\n",
      "806:\tlearn: 1.0091562\ttotal: 1m 23s\tremaining: 20s\n",
      "807:\tlearn: 1.0090319\ttotal: 1m 23s\tremaining: 19.9s\n",
      "808:\tlearn: 1.0089055\ttotal: 1m 23s\tremaining: 19.8s\n",
      "809:\tlearn: 1.0087280\ttotal: 1m 23s\tremaining: 19.7s\n",
      "810:\tlearn: 1.0085595\ttotal: 1m 23s\tremaining: 19.6s\n",
      "811:\tlearn: 1.0084537\ttotal: 1m 23s\tremaining: 19.4s\n",
      "812:\tlearn: 1.0083918\ttotal: 1m 24s\tremaining: 19.3s\n",
      "813:\tlearn: 1.0082222\ttotal: 1m 24s\tremaining: 19.2s\n",
      "814:\tlearn: 1.0080970\ttotal: 1m 24s\tremaining: 19.1s\n",
      "815:\tlearn: 1.0079296\ttotal: 1m 24s\tremaining: 19s\n",
      "816:\tlearn: 1.0078165\ttotal: 1m 24s\tremaining: 18.9s\n",
      "817:\tlearn: 1.0076289\ttotal: 1m 24s\tremaining: 18.8s\n",
      "818:\tlearn: 1.0074487\ttotal: 1m 24s\tremaining: 18.7s\n",
      "819:\tlearn: 1.0072088\ttotal: 1m 24s\tremaining: 18.6s\n",
      "820:\tlearn: 1.0069790\ttotal: 1m 24s\tremaining: 18.5s\n",
      "821:\tlearn: 1.0068715\ttotal: 1m 24s\tremaining: 18.4s\n",
      "822:\tlearn: 1.0066571\ttotal: 1m 24s\tremaining: 18.3s\n",
      "823:\tlearn: 1.0062960\ttotal: 1m 25s\tremaining: 18.2s\n",
      "824:\tlearn: 1.0060315\ttotal: 1m 25s\tremaining: 18.1s\n",
      "825:\tlearn: 1.0059398\ttotal: 1m 25s\tremaining: 17.9s\n",
      "826:\tlearn: 1.0055253\ttotal: 1m 25s\tremaining: 17.8s\n",
      "827:\tlearn: 1.0053591\ttotal: 1m 25s\tremaining: 17.7s\n",
      "828:\tlearn: 1.0051583\ttotal: 1m 25s\tremaining: 17.6s\n",
      "829:\tlearn: 1.0047555\ttotal: 1m 25s\tremaining: 17.5s\n",
      "830:\tlearn: 1.0046497\ttotal: 1m 25s\tremaining: 17.4s\n",
      "831:\tlearn: 1.0045222\ttotal: 1m 25s\tremaining: 17.3s\n",
      "832:\tlearn: 1.0044378\ttotal: 1m 25s\tremaining: 17.2s\n",
      "833:\tlearn: 1.0041943\ttotal: 1m 25s\tremaining: 17.1s\n",
      "834:\tlearn: 1.0039177\ttotal: 1m 25s\tremaining: 17s\n",
      "835:\tlearn: 1.0038423\ttotal: 1m 26s\tremaining: 16.9s\n",
      "836:\tlearn: 1.0036312\ttotal: 1m 26s\tremaining: 16.8s\n",
      "837:\tlearn: 1.0033954\ttotal: 1m 26s\tremaining: 16.7s\n",
      "838:\tlearn: 1.0032973\ttotal: 1m 26s\tremaining: 16.5s\n",
      "839:\tlearn: 1.0032292\ttotal: 1m 26s\tremaining: 16.4s\n",
      "840:\tlearn: 1.0031593\ttotal: 1m 26s\tremaining: 16.3s\n",
      "841:\tlearn: 1.0030559\ttotal: 1m 26s\tremaining: 16.2s\n",
      "842:\tlearn: 1.0028452\ttotal: 1m 26s\tremaining: 16.1s\n",
      "843:\tlearn: 1.0027269\ttotal: 1m 26s\tremaining: 16s\n",
      "844:\tlearn: 1.0025525\ttotal: 1m 26s\tremaining: 15.9s\n",
      "845:\tlearn: 1.0023116\ttotal: 1m 26s\tremaining: 15.8s\n",
      "846:\tlearn: 1.0020627\ttotal: 1m 26s\tremaining: 15.7s\n",
      "847:\tlearn: 1.0017607\ttotal: 1m 27s\tremaining: 15.6s\n",
      "848:\tlearn: 1.0016781\ttotal: 1m 27s\tremaining: 15.5s\n",
      "849:\tlearn: 1.0013582\ttotal: 1m 27s\tremaining: 15.4s\n",
      "850:\tlearn: 1.0012805\ttotal: 1m 27s\tremaining: 15.3s\n",
      "851:\tlearn: 1.0011513\ttotal: 1m 27s\tremaining: 15.2s\n",
      "852:\tlearn: 1.0008969\ttotal: 1m 27s\tremaining: 15.1s\n",
      "853:\tlearn: 1.0007480\ttotal: 1m 27s\tremaining: 15s\n",
      "854:\tlearn: 1.0004410\ttotal: 1m 27s\tremaining: 14.9s\n",
      "855:\tlearn: 1.0002535\ttotal: 1m 27s\tremaining: 14.8s\n",
      "856:\tlearn: 1.0000991\ttotal: 1m 27s\tremaining: 14.7s\n",
      "857:\tlearn: 1.0000100\ttotal: 1m 27s\tremaining: 14.6s\n",
      "858:\tlearn: 0.9998067\ttotal: 1m 28s\tremaining: 14.5s\n",
      "859:\tlearn: 0.9997112\ttotal: 1m 28s\tremaining: 14.3s\n",
      "860:\tlearn: 0.9996431\ttotal: 1m 28s\tremaining: 14.2s\n",
      "861:\tlearn: 0.9995842\ttotal: 1m 28s\tremaining: 14.1s\n",
      "862:\tlearn: 0.9995117\ttotal: 1m 28s\tremaining: 14s\n",
      "863:\tlearn: 0.9994443\ttotal: 1m 28s\tremaining: 13.9s\n",
      "864:\tlearn: 0.9993488\ttotal: 1m 28s\tremaining: 13.8s\n",
      "865:\tlearn: 0.9992036\ttotal: 1m 28s\tremaining: 13.7s\n",
      "866:\tlearn: 0.9991545\ttotal: 1m 28s\tremaining: 13.6s\n",
      "867:\tlearn: 0.9990922\ttotal: 1m 28s\tremaining: 13.5s\n",
      "868:\tlearn: 0.9990282\ttotal: 1m 28s\tremaining: 13.4s\n",
      "869:\tlearn: 0.9987478\ttotal: 1m 28s\tremaining: 13.3s\n",
      "870:\tlearn: 0.9985711\ttotal: 1m 29s\tremaining: 13.2s\n",
      "871:\tlearn: 0.9983275\ttotal: 1m 29s\tremaining: 13.1s\n",
      "872:\tlearn: 0.9982145\ttotal: 1m 29s\tremaining: 13s\n",
      "873:\tlearn: 0.9980671\ttotal: 1m 29s\tremaining: 12.9s\n",
      "874:\tlearn: 0.9978243\ttotal: 1m 29s\tremaining: 12.8s\n",
      "875:\tlearn: 0.9976379\ttotal: 1m 29s\tremaining: 12.7s\n",
      "876:\tlearn: 0.9974466\ttotal: 1m 29s\tremaining: 12.6s\n",
      "877:\tlearn: 0.9972808\ttotal: 1m 29s\tremaining: 12.5s\n",
      "878:\tlearn: 0.9969730\ttotal: 1m 29s\tremaining: 12.4s\n",
      "879:\tlearn: 0.9966070\ttotal: 1m 29s\tremaining: 12.3s\n",
      "880:\tlearn: 0.9963861\ttotal: 1m 29s\tremaining: 12.1s\n",
      "881:\tlearn: 0.9961817\ttotal: 1m 29s\tremaining: 12s\n",
      "882:\tlearn: 0.9959103\ttotal: 1m 30s\tremaining: 11.9s\n",
      "883:\tlearn: 0.9957918\ttotal: 1m 30s\tremaining: 11.8s\n",
      "884:\tlearn: 0.9957288\ttotal: 1m 30s\tremaining: 11.7s\n",
      "885:\tlearn: 0.9954187\ttotal: 1m 30s\tremaining: 11.6s\n",
      "886:\tlearn: 0.9952959\ttotal: 1m 30s\tremaining: 11.5s\n",
      "887:\tlearn: 0.9950097\ttotal: 1m 30s\tremaining: 11.4s\n",
      "888:\tlearn: 0.9948206\ttotal: 1m 30s\tremaining: 11.3s\n",
      "889:\tlearn: 0.9946285\ttotal: 1m 30s\tremaining: 11.2s\n",
      "890:\tlearn: 0.9943602\ttotal: 1m 30s\tremaining: 11.1s\n",
      "891:\tlearn: 0.9942513\ttotal: 1m 30s\tremaining: 11s\n",
      "892:\tlearn: 0.9940699\ttotal: 1m 30s\tremaining: 10.9s\n",
      "893:\tlearn: 0.9937515\ttotal: 1m 30s\tremaining: 10.8s\n",
      "894:\tlearn: 0.9934252\ttotal: 1m 30s\tremaining: 10.7s\n",
      "895:\tlearn: 0.9932563\ttotal: 1m 31s\tremaining: 10.6s\n",
      "896:\tlearn: 0.9931350\ttotal: 1m 31s\tremaining: 10.5s\n",
      "897:\tlearn: 0.9930766\ttotal: 1m 31s\tremaining: 10.4s\n",
      "898:\tlearn: 0.9929222\ttotal: 1m 31s\tremaining: 10.3s\n",
      "899:\tlearn: 0.9928910\ttotal: 1m 31s\tremaining: 10.2s\n",
      "900:\tlearn: 0.9927390\ttotal: 1m 31s\tremaining: 10.1s\n",
      "901:\tlearn: 0.9925466\ttotal: 1m 31s\tremaining: 9.97s\n",
      "902:\tlearn: 0.9923226\ttotal: 1m 31s\tremaining: 9.86s\n",
      "903:\tlearn: 0.9920980\ttotal: 1m 31s\tremaining: 9.76s\n",
      "904:\tlearn: 0.9917804\ttotal: 1m 32s\tremaining: 9.66s\n",
      "905:\tlearn: 0.9915673\ttotal: 1m 32s\tremaining: 9.55s\n",
      "906:\tlearn: 0.9914642\ttotal: 1m 32s\tremaining: 9.45s\n",
      "907:\tlearn: 0.9913703\ttotal: 1m 32s\tremaining: 9.35s\n",
      "908:\tlearn: 0.9911219\ttotal: 1m 32s\tremaining: 9.25s\n",
      "909:\tlearn: 0.9908181\ttotal: 1m 32s\tremaining: 9.14s\n",
      "910:\tlearn: 0.9905771\ttotal: 1m 32s\tremaining: 9.04s\n",
      "911:\tlearn: 0.9904296\ttotal: 1m 32s\tremaining: 8.94s\n",
      "912:\tlearn: 0.9902890\ttotal: 1m 32s\tremaining: 8.83s\n",
      "913:\tlearn: 0.9900504\ttotal: 1m 32s\tremaining: 8.73s\n",
      "914:\tlearn: 0.9897202\ttotal: 1m 32s\tremaining: 8.63s\n",
      "915:\tlearn: 0.9895973\ttotal: 1m 32s\tremaining: 8.52s\n",
      "916:\tlearn: 0.9894426\ttotal: 1m 33s\tremaining: 8.42s\n",
      "917:\tlearn: 0.9893494\ttotal: 1m 33s\tremaining: 8.32s\n",
      "918:\tlearn: 0.9892469\ttotal: 1m 33s\tremaining: 8.22s\n",
      "919:\tlearn: 0.9891549\ttotal: 1m 33s\tremaining: 8.11s\n",
      "920:\tlearn: 0.9890876\ttotal: 1m 33s\tremaining: 8.01s\n",
      "921:\tlearn: 0.9888414\ttotal: 1m 33s\tremaining: 7.91s\n",
      "922:\tlearn: 0.9886696\ttotal: 1m 33s\tremaining: 7.8s\n",
      "923:\tlearn: 0.9885999\ttotal: 1m 33s\tremaining: 7.7s\n",
      "924:\tlearn: 0.9884952\ttotal: 1m 33s\tremaining: 7.6s\n",
      "925:\tlearn: 0.9883126\ttotal: 1m 33s\tremaining: 7.5s\n",
      "926:\tlearn: 0.9881244\ttotal: 1m 33s\tremaining: 7.39s\n",
      "927:\tlearn: 0.9879564\ttotal: 1m 33s\tremaining: 7.29s\n",
      "928:\tlearn: 0.9877323\ttotal: 1m 34s\tremaining: 7.19s\n",
      "929:\tlearn: 0.9875051\ttotal: 1m 34s\tremaining: 7.08s\n",
      "930:\tlearn: 0.9872740\ttotal: 1m 34s\tremaining: 6.98s\n",
      "931:\tlearn: 0.9871031\ttotal: 1m 34s\tremaining: 6.87s\n",
      "932:\tlearn: 0.9869605\ttotal: 1m 34s\tremaining: 6.77s\n",
      "933:\tlearn: 0.9868476\ttotal: 1m 34s\tremaining: 6.67s\n",
      "934:\tlearn: 0.9866785\ttotal: 1m 34s\tremaining: 6.57s\n",
      "935:\tlearn: 0.9863228\ttotal: 1m 34s\tremaining: 6.46s\n",
      "936:\tlearn: 0.9860866\ttotal: 1m 34s\tremaining: 6.36s\n",
      "937:\tlearn: 0.9860281\ttotal: 1m 34s\tremaining: 6.26s\n",
      "938:\tlearn: 0.9858726\ttotal: 1m 34s\tremaining: 6.16s\n",
      "939:\tlearn: 0.9856524\ttotal: 1m 34s\tremaining: 6.05s\n",
      "940:\tlearn: 0.9855540\ttotal: 1m 34s\tremaining: 5.95s\n",
      "941:\tlearn: 0.9854130\ttotal: 1m 34s\tremaining: 5.85s\n",
      "942:\tlearn: 0.9852817\ttotal: 1m 35s\tremaining: 5.75s\n",
      "943:\tlearn: 0.9851738\ttotal: 1m 35s\tremaining: 5.64s\n",
      "944:\tlearn: 0.9850238\ttotal: 1m 35s\tremaining: 5.54s\n",
      "945:\tlearn: 0.9847854\ttotal: 1m 35s\tremaining: 5.44s\n",
      "946:\tlearn: 0.9846756\ttotal: 1m 35s\tremaining: 5.34s\n",
      "947:\tlearn: 0.9845164\ttotal: 1m 35s\tremaining: 5.24s\n",
      "948:\tlearn: 0.9843463\ttotal: 1m 35s\tremaining: 5.14s\n",
      "949:\tlearn: 0.9842180\ttotal: 1m 35s\tremaining: 5.04s\n",
      "950:\tlearn: 0.9841447\ttotal: 1m 35s\tremaining: 4.93s\n",
      "951:\tlearn: 0.9840452\ttotal: 1m 35s\tremaining: 4.83s\n",
      "952:\tlearn: 0.9838884\ttotal: 1m 35s\tremaining: 4.73s\n",
      "953:\tlearn: 0.9837537\ttotal: 1m 36s\tremaining: 4.63s\n",
      "954:\tlearn: 0.9836097\ttotal: 1m 36s\tremaining: 4.53s\n",
      "955:\tlearn: 0.9834686\ttotal: 1m 36s\tremaining: 4.43s\n",
      "956:\tlearn: 0.9833326\ttotal: 1m 36s\tremaining: 4.33s\n",
      "957:\tlearn: 0.9832703\ttotal: 1m 36s\tremaining: 4.23s\n",
      "958:\tlearn: 0.9831356\ttotal: 1m 36s\tremaining: 4.12s\n",
      "959:\tlearn: 0.9828215\ttotal: 1m 36s\tremaining: 4.02s\n",
      "960:\tlearn: 0.9827022\ttotal: 1m 36s\tremaining: 3.92s\n",
      "961:\tlearn: 0.9825637\ttotal: 1m 36s\tremaining: 3.82s\n",
      "962:\tlearn: 0.9823347\ttotal: 1m 36s\tremaining: 3.72s\n",
      "963:\tlearn: 0.9822778\ttotal: 1m 36s\tremaining: 3.62s\n",
      "964:\tlearn: 0.9820662\ttotal: 1m 36s\tremaining: 3.52s\n",
      "965:\tlearn: 0.9819582\ttotal: 1m 37s\tremaining: 3.41s\n",
      "966:\tlearn: 0.9817070\ttotal: 1m 37s\tremaining: 3.31s\n",
      "967:\tlearn: 0.9816069\ttotal: 1m 37s\tremaining: 3.21s\n",
      "968:\tlearn: 0.9814356\ttotal: 1m 37s\tremaining: 3.11s\n",
      "969:\tlearn: 0.9813122\ttotal: 1m 37s\tremaining: 3.01s\n",
      "970:\tlearn: 0.9810908\ttotal: 1m 37s\tremaining: 2.91s\n",
      "971:\tlearn: 0.9809859\ttotal: 1m 37s\tremaining: 2.81s\n",
      "972:\tlearn: 0.9807437\ttotal: 1m 37s\tremaining: 2.71s\n",
      "973:\tlearn: 0.9806884\ttotal: 1m 37s\tremaining: 2.61s\n",
      "974:\tlearn: 0.9804737\ttotal: 1m 37s\tremaining: 2.5s\n",
      "975:\tlearn: 0.9803218\ttotal: 1m 37s\tremaining: 2.4s\n",
      "976:\tlearn: 0.9800742\ttotal: 1m 37s\tremaining: 2.31s\n",
      "977:\tlearn: 0.9799098\ttotal: 1m 38s\tremaining: 2.21s\n",
      "978:\tlearn: 0.9798661\ttotal: 1m 38s\tremaining: 2.1s\n",
      "979:\tlearn: 0.9796090\ttotal: 1m 38s\tremaining: 2s\n",
      "980:\tlearn: 0.9795155\ttotal: 1m 38s\tremaining: 1.9s\n",
      "981:\tlearn: 0.9793467\ttotal: 1m 38s\tremaining: 1.8s\n",
      "982:\tlearn: 0.9790967\ttotal: 1m 38s\tremaining: 1.7s\n",
      "983:\tlearn: 0.9789977\ttotal: 1m 38s\tremaining: 1.6s\n",
      "984:\tlearn: 0.9786853\ttotal: 1m 38s\tremaining: 1.5s\n",
      "985:\tlearn: 0.9785594\ttotal: 1m 38s\tremaining: 1.4s\n",
      "986:\tlearn: 0.9783070\ttotal: 1m 38s\tremaining: 1.3s\n",
      "987:\tlearn: 0.9782419\ttotal: 1m 38s\tremaining: 1.2s\n",
      "988:\tlearn: 0.9781863\ttotal: 1m 39s\tremaining: 1.1s\n",
      "989:\tlearn: 0.9780493\ttotal: 1m 39s\tremaining: 1s\n",
      "990:\tlearn: 0.9778971\ttotal: 1m 39s\tremaining: 901ms\n",
      "991:\tlearn: 0.9777457\ttotal: 1m 39s\tremaining: 801ms\n",
      "992:\tlearn: 0.9775378\ttotal: 1m 39s\tremaining: 701ms\n",
      "993:\tlearn: 0.9774107\ttotal: 1m 39s\tremaining: 600ms\n",
      "994:\tlearn: 0.9771611\ttotal: 1m 39s\tremaining: 500ms\n",
      "995:\tlearn: 0.9769206\ttotal: 1m 39s\tremaining: 400ms\n",
      "996:\tlearn: 0.9767591\ttotal: 1m 39s\tremaining: 300ms\n",
      "997:\tlearn: 0.9766771\ttotal: 1m 39s\tremaining: 200ms\n",
      "998:\tlearn: 0.9764188\ttotal: 1m 39s\tremaining: 100ms\n",
      "999:\tlearn: 0.9763096\ttotal: 1m 40s\tremaining: 0us\n"
     ]
    },
    {
     "data": {
      "text/plain": "<catboost.core.CatBoostClassifier at 0x16a47d6d0>"
     },
     "execution_count": 40,
     "metadata": {},
     "output_type": "execute_result"
    }
   ],
   "source": [
    "%time\n",
    "\n",
    "clf = CatBoostClassifier(random_state=42)\n",
    "\n",
    "clf.fit(X_train, y_train)"
   ],
   "metadata": {
    "collapsed": false,
    "ExecuteTime": {
     "end_time": "2023-10-11T13:43:19.924905Z",
     "start_time": "2023-10-11T13:41:39.307491Z"
    }
   }
  },
  {
   "cell_type": "code",
   "execution_count": 41,
   "outputs": [],
   "source": [
    "y_preds = clf.predict(X_test)"
   ],
   "metadata": {
    "collapsed": false,
    "ExecuteTime": {
     "end_time": "2023-10-11T13:43:20.000695Z",
     "start_time": "2023-10-11T13:43:19.960625Z"
    }
   }
  },
  {
   "cell_type": "markdown",
   "source": [
    "Metrics for ML model."
   ],
   "metadata": {
    "collapsed": false
   }
  },
  {
   "cell_type": "code",
   "execution_count": 42,
   "outputs": [
    {
     "name": "stdout",
     "output_type": "stream",
     "text": [
      "              precision    recall  f1-score   support\n",
      "\n",
      "         MYA       0.58      0.43      0.49       962\n",
      "         MYB       0.62      0.73      0.67      2473\n",
      "         MYC       0.53      0.54      0.53      1635\n",
      "         MYD       0.45      0.57      0.50       849\n",
      "         MYE       0.32      0.20      0.25       303\n",
      "         MYF       0.00      0.00      0.00        27\n",
      "     NONPACK       0.69      0.78      0.73      1287\n",
      "     STRETCH       0.44      0.31      0.36       579\n",
      "         YMA       0.49      0.11      0.18       162\n",
      "         YMC       0.34      0.23      0.27       177\n",
      "         YME       0.25      0.07      0.11        14\n",
      "         YMF       0.24      0.09      0.13        69\n",
      "         YMG       0.38      0.10      0.15        52\n",
      "         YML       0.32      0.15      0.20        54\n",
      "         YMW       0.50      1.00      0.67         1\n",
      "\n",
      "    accuracy                           0.57      8644\n",
      "   macro avg       0.41      0.35      0.35      8644\n",
      "weighted avg       0.55      0.57      0.55      8644\n"
     ]
    },
    {
     "name": "stderr",
     "output_type": "stream",
     "text": [
      "/Users/alan/opt/anaconda3/envs/global/lib/python3.11/site-packages/sklearn/metrics/_classification.py:2555: UserWarning: labels size, 15, does not match size of target_names, 16\n",
      "  warnings.warn(\n"
     ]
    }
   ],
   "source": [
    "\n",
    "print(classification_report(y_test, y_preds, labels=np.unique(y_test), target_names=ord_encoder.categories_[0], zero_division=0))"
   ],
   "metadata": {
    "collapsed": false,
    "ExecuteTime": {
     "end_time": "2023-10-11T13:43:20.056602Z",
     "start_time": "2023-10-11T13:43:20.011680Z"
    }
   }
  },
  {
   "cell_type": "markdown",
   "source": [
    "Metrics for recommendation system."
   ],
   "metadata": {
    "collapsed": false
   }
  },
  {
   "cell_type": "code",
   "execution_count": 43,
   "outputs": [
    {
     "name": "stdout",
     "output_type": "stream",
     "text": [
      "              precision    recall  f1-score   support\n",
      "\n",
      "         MYA       0.42      0.50      0.46       962\n",
      "         MYB       0.59      0.20      0.30      2473\n",
      "         MYC       0.48      0.24      0.32      1635\n",
      "         MYD       0.46      0.21      0.29       849\n",
      "         MYE       0.25      0.14      0.18       303\n",
      "         MYF       0.02      0.26      0.03        27\n",
      "     NONPACK       0.79      0.60      0.68      1287\n",
      "     STRETCH       0.51      0.12      0.19       579\n",
      "         YMA       0.08      0.57      0.14       162\n",
      "         YMC       0.10      0.42      0.17       177\n",
      "         YME       0.02      0.29      0.04        14\n",
      "         YMF       0.06      0.33      0.10        69\n",
      "         YMG       0.04      0.31      0.07        52\n",
      "         YML       0.03      0.09      0.04        54\n",
      "         YMW       0.00      0.00      0.00         1\n",
      "\n",
      "   micro avg       0.33      0.31      0.32      8644\n",
      "   macro avg       0.26      0.29      0.20      8644\n",
      "weighted avg       0.51      0.31      0.35      8644\n"
     ]
    },
    {
     "name": "stderr",
     "output_type": "stream",
     "text": [
      "/Users/alan/opt/anaconda3/envs/global/lib/python3.11/site-packages/sklearn/metrics/_classification.py:2555: UserWarning: labels size, 15, does not match size of target_names, 16\n",
      "  warnings.warn(\n"
     ]
    }
   ],
   "source": [
    "print(classification_report(y_test, y_rec_algo_test, labels=np.unique(y_test), target_names=ord_encoder.categories_[0]))"
   ],
   "metadata": {
    "collapsed": false,
    "ExecuteTime": {
     "end_time": "2023-10-11T13:43:20.122111Z",
     "start_time": "2023-10-11T13:43:20.081518Z"
    }
   }
  },
  {
   "cell_type": "markdown",
   "source": [
    "We can see that simple baseline ML model can improve current recommendation algorithm. \n",
    "\n",
    "**Further improvements:**\n",
    "- Optimize targets: for the same groups of items we can choose the most optimal (small) package.\n",
    "- Generate more features\n"
   ],
   "metadata": {
    "collapsed": false
   }
  }
 ],
 "metadata": {
  "language_info": {
   "codemirror_mode": {
    "name": "ipython",
    "version": 2
   },
   "file_extension": ".py",
   "mimetype": "text/x-python",
   "name": "python",
   "nbconvert_exporter": "python",
   "pygments_lexer": "ipython2",
   "version": "2.7.6"
  },
  "kernelspec": {
   "name": "global",
   "language": "python",
   "display_name": "global"
  }
 },
 "nbformat": 4,
 "nbformat_minor": 0
}
